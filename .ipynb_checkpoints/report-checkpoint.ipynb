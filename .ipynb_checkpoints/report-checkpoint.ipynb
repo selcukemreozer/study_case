{
 "cells": [
  {
   "cell_type": "markdown",
   "id": "95f4ec7b-6dd8-4d23-a107-e8428cdb31a7",
   "metadata": {},
   "source": [
    "Github Commits Dataset Review"
   ]
  },
  {
   "cell_type": "code",
   "execution_count": 3,
   "id": "9f5dd7e7-27c1-4d95-8829-8cec8dcf118e",
   "metadata": {},
   "outputs": [],
   "source": [
    "# Libraries\n",
    "import altair as alt\n",
    "import pandas as pd"
   ]
  },
  {
   "cell_type": "markdown",
   "id": "5578fa21-e31c-45eb-8e85-9eab694aee4f",
   "metadata": {},
   "source": [
    "To review the data set, First of all we need some basic libraries. These are:<br><br>\n",
    "1.Altair _(for visualization)_<br>\n",
    "2.Pandas _(for data analysis and prepare data sets)_"
   ]
  },
  {
   "cell_type": "markdown",
   "id": "da9035b5-3a72-4e85-836d-1aec336a1adf",
   "metadata": {},
   "source": [
    "---"
   ]
  },
  {
   "cell_type": "code",
   "execution_count": 51,
   "id": "36f6e019-a209-40ba-a942-a3709bd1cb81",
   "metadata": {
    "scrolled": true
   },
   "outputs": [],
   "source": [
    "# connect to bigquery\n",
    "import json\n",
    "from google.oauth2 import service_account\n",
    "from google.cloud import bigquery\n",
    "\n",
    "path = '/Users/selcu/Desktop/bruin/bruin-hiring-1b27c94e981a.json'\n",
    "\n",
    "with open(path, 'r') as f:\n",
    "    json_key_file = json.load(f)\n",
    "    \n",
    "credentials = service_account.Credentials.from_service_account_info(json_key_file)\n",
    "\n",
    "client = bigquery.Client(credentials=credentials, project=credentials.project_id)\n",
    "datasets = list(client.list_datasets())\n"
   ]
  },
  {
   "cell_type": "markdown",
   "id": "b2518265-4dbe-4143-9c41-3ab4ce29d22c",
   "metadata": {},
   "source": [
    "In order **to connect bigquery platform**, we need credentials"
   ]
  },
  {
   "cell_type": "markdown",
   "id": "95ddbbbc-d9c3-4561-8d3a-d0fd42bf6f36",
   "metadata": {},
   "source": [
    "---"
   ]
  },
  {
   "cell_type": "markdown",
   "id": "a66e8998-c773-4caa-bf70-9e04ab7b7880",
   "metadata": {},
   "source": [
    "Before starting there is an important article about why pie charts should not be used:\n",
    "https://theconversation.com/heres-why-you-should-almost-never-use-a-pie-chart-for-your-data-214576#:~:text=The%20pie%20chart's%20circularity%20means%20the%20areas%20lack%20a%20common%20reference%20point.&text=Pie%20charts%20also%20do%20badly,of%20categories%20in%20one%20pie."
   ]
  },
  {
   "cell_type": "raw",
   "id": "b137e7cf-deb5-41d2-b503-dc4267c5e6c4",
   "metadata": {},
   "source": [
    "Warning! Pie charts can be okay when there are just a few categories and the percentages are dissimilar, for example with one large and one small category."
   ]
  },
  {
   "cell_type": "markdown",
   "id": "18fb8ef1-84cd-4c4a-959c-5452d14c0697",
   "metadata": {},
   "source": [
    "---\n"
   ]
  },
  {
   "cell_type": "markdown",
   "id": "c0052805-057e-4b88-b452-23537676f1c1",
   "metadata": {},
   "source": [
    "#### Most Popular Repos"
   ]
  },
  {
   "cell_type": "markdown",
   "id": "e7183daa-cd1f-4128-b838-3827b07ffd83",
   "metadata": {},
   "source": [
    "By using the Dataset, we can detect the most popular repos with sql queries."
   ]
  },
  {
   "cell_type": "code",
   "execution_count": 34,
   "id": "69f02629-6908-4e76-aad7-c1112148919f",
   "metadata": {
    "tags": []
   },
   "outputs": [],
   "source": [
    "query = \"\"\"\n",
    "SELECT\n",
    "    repo_name as `repo name`,\n",
    "    COUNT(*) as counter\n",
    "FROM\n",
    "    `bruin-hiring.github_repos.sample_commits`\n",
    "GROUP BY\n",
    "    `repo name`\n",
    "ORDER BY\n",
    "    counter\n",
    "\n",
    "\"\"\"\n",
    "query_job = client.query(query)\n",
    "result = query_job.result()"
   ]
  },
  {
   "cell_type": "markdown",
   "id": "19b25657-09d8-4bf7-b94c-14459ea2ea23",
   "metadata": {},
   "source": [
    "---"
   ]
  },
  {
   "cell_type": "markdown",
   "id": "e5017ba1-fb3e-4ade-be53-889b3f43f211",
   "metadata": {},
   "source": [
    "After query(above code), we need to create a data frame to visualize these data."
   ]
  },
  {
   "cell_type": "code",
   "execution_count": 36,
   "id": "2ef36a5f-af84-4386-b3a3-c16a4c524778",
   "metadata": {
    "tags": []
   },
   "outputs": [],
   "source": [
    "x_axis = [] # axis\n",
    "y_axis = []\n",
    "\n",
    "for row in result:\n",
    "    x_axis.append(row[0])\n",
    "    y_axis.append(row[1])\n",
    "\n",
    "df = pd.DataFrame({'repo name':x_axis,'count of repos':y_axis})"
   ]
  },
  {
   "cell_type": "code",
   "execution_count": 57,
   "id": "68164384-be87-4729-ae24-020caaf9b45c",
   "metadata": {
    "tags": []
   },
   "outputs": [
    {
     "data": {
      "text/html": [
       "<div>\n",
       "<style scoped>\n",
       "    .dataframe tbody tr th:only-of-type {\n",
       "        vertical-align: middle;\n",
       "    }\n",
       "\n",
       "    .dataframe tbody tr th {\n",
       "        vertical-align: top;\n",
       "    }\n",
       "\n",
       "    .dataframe thead th {\n",
       "        text-align: right;\n",
       "    }\n",
       "</style>\n",
       "<table border=\"1\" class=\"dataframe\">\n",
       "  <thead>\n",
       "    <tr style=\"text-align: right;\">\n",
       "      <th></th>\n",
       "      <th>repo name</th>\n",
       "      <th>count of repos</th>\n",
       "    </tr>\n",
       "  </thead>\n",
       "  <tbody>\n",
       "    <tr>\n",
       "      <th>0</th>\n",
       "      <td>tensorflow/tensorflow</td>\n",
       "      <td>5253</td>\n",
       "    </tr>\n",
       "    <tr>\n",
       "      <th>1</th>\n",
       "      <td>facebook/react</td>\n",
       "      <td>6875</td>\n",
       "    </tr>\n",
       "    <tr>\n",
       "      <th>2</th>\n",
       "      <td>Microsoft/vscode</td>\n",
       "      <td>6909</td>\n",
       "    </tr>\n",
       "    <tr>\n",
       "      <th>3</th>\n",
       "      <td>twbs/bootstrap</td>\n",
       "      <td>11777</td>\n",
       "    </tr>\n",
       "    <tr>\n",
       "      <th>4</th>\n",
       "      <td>apple/swift</td>\n",
       "      <td>38891</td>\n",
       "    </tr>\n",
       "    <tr>\n",
       "      <th>5</th>\n",
       "      <td>torvalds/linux</td>\n",
       "      <td>602604</td>\n",
       "    </tr>\n",
       "  </tbody>\n",
       "</table>\n",
       "</div>"
      ],
      "text/plain": [
       "               repo name  count of repos\n",
       "0  tensorflow/tensorflow            5253\n",
       "1         facebook/react            6875\n",
       "2       Microsoft/vscode            6909\n",
       "3         twbs/bootstrap           11777\n",
       "4            apple/swift           38891\n",
       "5         torvalds/linux          602604"
      ]
     },
     "execution_count": 57,
     "metadata": {},
     "output_type": "execute_result"
    }
   ],
   "source": [
    "# dataframe\n",
    "df"
   ]
  },
  {
   "cell_type": "code",
   "execution_count": 48,
   "id": "dd176983-f60c-4632-bd48-3cbe3af16701",
   "metadata": {
    "tags": []
   },
   "outputs": [
    {
     "name": "stderr",
     "output_type": "stream",
     "text": [
      "/Users/selcu/opt/anaconda3/lib/python3.10/site-packages/altair/utils/core.py:395: FutureWarning: the convert_dtype parameter is deprecated and will be removed in a future version.  Do ``ser.astype(object).apply()`` instead if you want ``convert_dtype=False``.\n",
      "  col = df[col_name].apply(to_list_if_array, convert_dtype=False)\n"
     ]
    },
    {
     "data": {
      "text/html": [
       "\n",
       "<style>\n",
       "  #altair-viz-02301a2c59734309b58622398e3babaa.vega-embed {\n",
       "    width: 100%;\n",
       "    display: flex;\n",
       "  }\n",
       "\n",
       "  #altair-viz-02301a2c59734309b58622398e3babaa.vega-embed details,\n",
       "  #altair-viz-02301a2c59734309b58622398e3babaa.vega-embed details summary {\n",
       "    position: relative;\n",
       "  }\n",
       "</style>\n",
       "<div id=\"altair-viz-02301a2c59734309b58622398e3babaa\"></div>\n",
       "<script type=\"text/javascript\">\n",
       "  var VEGA_DEBUG = (typeof VEGA_DEBUG == \"undefined\") ? {} : VEGA_DEBUG;\n",
       "  (function(spec, embedOpt){\n",
       "    let outputDiv = document.currentScript.previousElementSibling;\n",
       "    if (outputDiv.id !== \"altair-viz-02301a2c59734309b58622398e3babaa\") {\n",
       "      outputDiv = document.getElementById(\"altair-viz-02301a2c59734309b58622398e3babaa\");\n",
       "    }\n",
       "    const paths = {\n",
       "      \"vega\": \"https://cdn.jsdelivr.net/npm/vega@5?noext\",\n",
       "      \"vega-lib\": \"https://cdn.jsdelivr.net/npm/vega-lib?noext\",\n",
       "      \"vega-lite\": \"https://cdn.jsdelivr.net/npm/vega-lite@5.8.0?noext\",\n",
       "      \"vega-embed\": \"https://cdn.jsdelivr.net/npm/vega-embed@6?noext\",\n",
       "    };\n",
       "\n",
       "    function maybeLoadScript(lib, version) {\n",
       "      var key = `${lib.replace(\"-\", \"\")}_version`;\n",
       "      return (VEGA_DEBUG[key] == version) ?\n",
       "        Promise.resolve(paths[lib]) :\n",
       "        new Promise(function(resolve, reject) {\n",
       "          var s = document.createElement('script');\n",
       "          document.getElementsByTagName(\"head\")[0].appendChild(s);\n",
       "          s.async = true;\n",
       "          s.onload = () => {\n",
       "            VEGA_DEBUG[key] = version;\n",
       "            return resolve(paths[lib]);\n",
       "          };\n",
       "          s.onerror = () => reject(`Error loading script: ${paths[lib]}`);\n",
       "          s.src = paths[lib];\n",
       "        });\n",
       "    }\n",
       "\n",
       "    function showError(err) {\n",
       "      outputDiv.innerHTML = `<div class=\"error\" style=\"color:red;\">${err}</div>`;\n",
       "      throw err;\n",
       "    }\n",
       "\n",
       "    function displayChart(vegaEmbed) {\n",
       "      vegaEmbed(outputDiv, spec, embedOpt)\n",
       "        .catch(err => showError(`Javascript Error: ${err.message}<br>This usually means there's a typo in your chart specification. See the javascript console for the full traceback.`));\n",
       "    }\n",
       "\n",
       "    if(typeof define === \"function\" && define.amd) {\n",
       "      requirejs.config({paths});\n",
       "      require([\"vega-embed\"], displayChart, err => showError(`Error loading script: ${err.message}`));\n",
       "    } else {\n",
       "      maybeLoadScript(\"vega\", \"5\")\n",
       "        .then(() => maybeLoadScript(\"vega-lite\", \"5.8.0\"))\n",
       "        .then(() => maybeLoadScript(\"vega-embed\", \"6\"))\n",
       "        .catch(showError)\n",
       "        .then(() => displayChart(vegaEmbed));\n",
       "    }\n",
       "  })({\"config\": {\"view\": {\"continuousWidth\": 300, \"continuousHeight\": 300}}, \"data\": {\"name\": \"data-4a934cacc0e54dc1a640d495c64cac64\"}, \"mark\": {\"type\": \"bar\"}, \"encoding\": {\"x\": {\"field\": \"repo name\", \"sort\": \"-y\", \"type\": \"nominal\"}, \"y\": {\"field\": \"count of repos\", \"type\": \"quantitative\"}}, \"$schema\": \"https://vega.github.io/schema/vega-lite/v5.8.0.json\", \"datasets\": {\"data-4a934cacc0e54dc1a640d495c64cac64\": [{\"repo name\": \"tensorflow/tensorflow\", \"count of repos\": 5253}, {\"repo name\": \"facebook/react\", \"count of repos\": 6875}, {\"repo name\": \"Microsoft/vscode\", \"count of repos\": 6909}, {\"repo name\": \"twbs/bootstrap\", \"count of repos\": 11777}, {\"repo name\": \"apple/swift\", \"count of repos\": 38891}, {\"repo name\": \"torvalds/linux\", \"count of repos\": 602604}]}}, {\"mode\": \"vega-lite\"});\n",
       "</script>"
      ],
      "text/plain": [
       "alt.Chart(...)"
      ]
     },
     "execution_count": 48,
     "metadata": {},
     "output_type": "execute_result"
    }
   ],
   "source": [
    "alt.Chart(df).mark_bar().encode(x=alt.X('repo name',).sort('-y'),y=alt.Y('count of repos'))"
   ]
  },
  {
   "cell_type": "code",
   "execution_count": null,
   "id": "e3a2c761-6a20-4cf6-ab6d-8a35f7228d65",
   "metadata": {},
   "outputs": [],
   "source": []
  },
  {
   "cell_type": "code",
   "execution_count": null,
   "id": "2ecd6c0d-e9ea-448c-a28d-462bdff5dd85",
   "metadata": {},
   "outputs": [],
   "source": []
  }
 ],
 "metadata": {
  "kernelspec": {
   "display_name": "Python 3 (ipykernel)",
   "language": "python",
   "name": "python3"
  },
  "language_info": {
   "codemirror_mode": {
    "name": "ipython",
    "version": 3
   },
   "file_extension": ".py",
   "mimetype": "text/x-python",
   "name": "python",
   "nbconvert_exporter": "python",
   "pygments_lexer": "ipython3",
   "version": "3.10.13"
  }
 },
 "nbformat": 4,
 "nbformat_minor": 5
}
