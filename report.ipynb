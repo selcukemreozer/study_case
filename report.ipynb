{
 "cells": [
  {
   "cell_type": "markdown",
   "id": "95f4ec7b-6dd8-4d23-a107-e8428cdb31a7",
   "metadata": {},
   "source": [
    "## Github The Most Popular Repos Dataset Review"
   ]
  },
  {
   "cell_type": "code",
   "execution_count": 4,
   "id": "9f5dd7e7-27c1-4d95-8829-8cec8dcf118e",
   "metadata": {},
   "outputs": [],
   "source": [
    "# Libraries\n",
    "import altair as alt\n",
    "import pandas as pd"
   ]
  },
  {
   "cell_type": "markdown",
   "id": "5578fa21-e31c-45eb-8e85-9eab694aee4f",
   "metadata": {},
   "source": [
    "To review the data set, First of all we need some basic libraries. These are:<br><br>\n",
    "1.**Altair** _(for visualization)_<br>\n",
    "2.**Pandas** _(for data analysis and prepare data sets)_"
   ]
  },
  {
   "cell_type": "markdown",
   "id": "da9035b5-3a72-4e85-836d-1aec336a1adf",
   "metadata": {},
   "source": [
    "---"
   ]
  },
  {
   "cell_type": "markdown",
   "id": "b2518265-4dbe-4143-9c41-3ab4ce29d22c",
   "metadata": {},
   "source": [
    "In order **to connect bigquery platform**, we need credentials"
   ]
  },
  {
   "cell_type": "code",
   "execution_count": 13,
   "id": "36f6e019-a209-40ba-a942-a3709bd1cb81",
   "metadata": {
    "scrolled": true
   },
   "outputs": [],
   "source": [
    "# connect to bigquery\n",
    "import json\n",
    "from google.oauth2 import service_account\n",
    "from google.cloud import bigquery\n",
    "\n",
    "path = '/Users/selcu/Desktop/İş Güç/bruin/bruin-hiring-1b27c94e981a.json'\n",
    "\n",
    "with open(path, 'r') as f:\n",
    "    json_key_file = json.load(f)\n",
    "    \n",
    "credentials = service_account.Credentials.from_service_account_info(json_key_file)\n",
    "\n",
    "client = bigquery.Client(credentials=credentials, project=credentials.project_id)\n",
    "datasets = list(client.list_datasets())\n"
   ]
  },
  {
   "cell_type": "markdown",
   "id": "95ddbbbc-d9c3-4561-8d3a-d0fd42bf6f36",
   "metadata": {},
   "source": [
    "---"
   ]
  },
  {
   "cell_type": "markdown",
   "id": "a66e8998-c773-4caa-bf70-9e04ab7b7880",
   "metadata": {},
   "source": [
    "Before starting there is an important article about why pie charts should not be used:\n",
    "https://theconversation.com/heres-why-you-should-almost-never-use-a-pie-chart-for-your-data-214576#:~:text=The%20pie%20chart's%20circularity%20means%20the%20areas%20lack%20a%20common%20reference%20point.&text=Pie%20charts%20also%20do%20badly,of%20categories%20in%20one%20pie."
   ]
  },
  {
   "cell_type": "raw",
   "id": "b137e7cf-deb5-41d2-b503-dc4267c5e6c4",
   "metadata": {},
   "source": [
    "Warning! Pie charts can be okay when there are just a few categories and the percentages are dissimilar, for example with one large and one small category."
   ]
  },
  {
   "attachments": {
    "ad43e3ce-0477-4a06-ad71-1e2257f6c3fa.png": {
     "image/png": "[encoded data removed]"
    }
   },
   "cell_type": "markdown",
   "id": "a9eaeb81-0417-4dfa-a3de-6b06a5505376",
   "metadata": {},
   "source": [
    "![image.png](attachment:ad43e3ce-0477-4a06-ad71-1e2257f6c3fa.png)"
   ]
  },
  {
   "cell_type": "markdown",
   "id": "18fb8ef1-84cd-4c4a-959c-5452d14c0697",
   "metadata": {},
   "source": [
    "---\n",
    "---\n"
   ]
  },
  {
   "cell_type": "markdown",
   "id": "c0052805-057e-4b88-b452-23537676f1c1",
   "metadata": {},
   "source": [
    "### Most Popular Repos"
   ]
  },
  {
   "cell_type": "markdown",
   "id": "e7183daa-cd1f-4128-b838-3827b07ffd83",
   "metadata": {},
   "source": [
    "By using the Dataset, we can detect the most popular repos with sql queries."
   ]
  },
  {
   "cell_type": "code",
   "execution_count": 25,
   "id": "69f02629-6908-4e76-aad7-c1112148919f",
   "metadata": {
    "tags": []
   },
   "outputs": [],
   "source": [
    "query = \"\"\"\n",
    "SELECT\n",
    "    repo_name as `repo name`,\n",
    "    COUNT(*) as counter\n",
    "FROM\n",
    "    `bruin-hiring.github_repos.sample_commits`\n",
    "GROUP BY\n",
    "    `repo name`\n",
    "ORDER BY\n",
    "    counter\n",
    "\n",
    "\"\"\"\n",
    "query_job = client.query(query)\n",
    "result = query_job.result()"
   ]
  },
  {
   "cell_type": "code",
   "execution_count": 26,
   "id": "1fa525b1-ee9c-43e5-8ac2-ed27003ce052",
   "metadata": {
    "tags": []
   },
   "outputs": [
    {
     "name": "stdout",
     "output_type": "stream",
     "text": [
      "<google.cloud.bigquery.table.RowIterator object at 0x13d3c7ca0>\n"
     ]
    }
   ],
   "source": [
    "print(result)"
   ]
  },
  {
   "cell_type": "markdown",
   "id": "19b25657-09d8-4bf7-b94c-14459ea2ea23",
   "metadata": {},
   "source": [
    "---"
   ]
  },
  {
   "cell_type": "markdown",
   "id": "e5017ba1-fb3e-4ade-be53-889b3f43f211",
   "metadata": {},
   "source": [
    "After query(above code), we need to create a data frame to visualize these data."
   ]
  },
  {
   "cell_type": "code",
   "execution_count": 18,
   "id": "2ef36a5f-af84-4386-b3a3-c16a4c524778",
   "metadata": {
    "tags": []
   },
   "outputs": [],
   "source": [
    "x_axis = [] # axis\n",
    "y_axis = []\n",
    "\n",
    "for row in result:\n",
    "    x_axis.append(row[0])\n",
    "    y_axis.append(row[1])\n",
    "\n",
    "df = pd.DataFrame({'repo name':x_axis,'count of repos':y_axis})"
   ]
  },
  {
   "cell_type": "code",
   "execution_count": 57,
   "id": "68164384-be87-4729-ae24-020caaf9b45c",
   "metadata": {
    "tags": []
   },
   "outputs": [
    {
     "data": {
      "text/html": [
       "<div>\n",
       "<style scoped>\n",
       "    .dataframe tbody tr th:only-of-type {\n",
       "        vertical-align: middle;\n",
       "    }\n",
       "\n",
       "    .dataframe tbody tr th {\n",
       "        vertical-align: top;\n",
       "    }\n",
       "\n",
       "    .dataframe thead th {\n",
       "        text-align: right;\n",
       "    }\n",
       "</style>\n",
       "<table border=\"1\" class=\"dataframe\">\n",
       "  <thead>\n",
       "    <tr style=\"text-align: right;\">\n",
       "      <th></th>\n",
       "      <th>repo name</th>\n",
       "      <th>count of repos</th>\n",
       "    </tr>\n",
       "  </thead>\n",
       "  <tbody>\n",
       "    <tr>\n",
       "      <th>0</th>\n",
       "      <td>tensorflow/tensorflow</td>\n",
       "      <td>5253</td>\n",
       "    </tr>\n",
       "    <tr>\n",
       "      <th>1</th>\n",
       "      <td>facebook/react</td>\n",
       "      <td>6875</td>\n",
       "    </tr>\n",
       "    <tr>\n",
       "      <th>2</th>\n",
       "      <td>Microsoft/vscode</td>\n",
       "      <td>6909</td>\n",
       "    </tr>\n",
       "    <tr>\n",
       "      <th>3</th>\n",
       "      <td>twbs/bootstrap</td>\n",
       "      <td>11777</td>\n",
       "    </tr>\n",
       "    <tr>\n",
       "      <th>4</th>\n",
       "      <td>apple/swift</td>\n",
       "      <td>38891</td>\n",
       "    </tr>\n",
       "    <tr>\n",
       "      <th>5</th>\n",
       "      <td>torvalds/linux</td>\n",
       "      <td>602604</td>\n",
       "    </tr>\n",
       "  </tbody>\n",
       "</table>\n",
       "</div>"
      ],
      "text/plain": [
       "               repo name  count of repos\n",
       "0  tensorflow/tensorflow            5253\n",
       "1         facebook/react            6875\n",
       "2       Microsoft/vscode            6909\n",
       "3         twbs/bootstrap           11777\n",
       "4            apple/swift           38891\n",
       "5         torvalds/linux          602604"
      ]
     },
     "execution_count": 57,
     "metadata": {},
     "output_type": "execute_result"
    }
   ],
   "source": [
    "# dataframe\n",
    "df"
   ]
  },
  {
   "cell_type": "markdown",
   "id": "d92ce3da-131c-4e78-9656-e29bd7cef76d",
   "metadata": {},
   "source": [
    "---"
   ]
  },
  {
   "cell_type": "markdown",
   "id": "cf1b2f8a-ab97-4c44-8766-63bc150e8a52",
   "metadata": {},
   "source": [
    "Here dataset is ready for visualizing. Now we can create a chart."
   ]
  },
  {
   "cell_type": "markdown",
   "id": "ac72f472-44ba-4469-8502-fde3c1003e92",
   "metadata": {},
   "source": [
    "`.sort()` for sorting"
   ]
  },
  {
   "cell_type": "code",
   "execution_count": 64,
   "id": "dd176983-f60c-4632-bd48-3cbe3af16701",
   "metadata": {
    "tags": []
   },
   "outputs": [
    {
     "name": "stderr",
     "output_type": "stream",
     "text": [
      "/Users/selcu/opt/anaconda3/lib/python3.10/site-packages/altair/utils/core.py:395: FutureWarning: the convert_dtype parameter is deprecated and will be removed in a future version.  Do ``ser.astype(object).apply()`` instead if you want ``convert_dtype=False``.\n",
      "  col = df[col_name].apply(to_list_if_array, convert_dtype=False)\n"
     ]
    },
    {
     "data": {
      "text/html": [
       "\n",
       "<style>\n",
       "  #altair-viz-af6e2b66223b4fba975e9e08beb2c058.vega-embed {\n",
       "    width: 100%;\n",
       "    display: flex;\n",
       "  }\n",
       "\n",
       "  #altair-viz-af6e2b66223b4fba975e9e08beb2c058.vega-embed details,\n",
       "  #altair-viz-af6e2b66223b4fba975e9e08beb2c058.vega-embed details summary {\n",
       "    position: relative;\n",
       "  }\n",
       "</style>\n",
       "<div id=\"altair-viz-af6e2b66223b4fba975e9e08beb2c058\"></div>\n",
       "<script type=\"text/javascript\">\n",
       "  var VEGA_DEBUG = (typeof VEGA_DEBUG == \"undefined\") ? {} : VEGA_DEBUG;\n",
       "  (function(spec, embedOpt){\n",
       "    let outputDiv = document.currentScript.previousElementSibling;\n",
       "    if (outputDiv.id !== \"altair-viz-af6e2b66223b4fba975e9e08beb2c058\") {\n",
       "      outputDiv = document.getElementById(\"altair-viz-af6e2b66223b4fba975e9e08beb2c058\");\n",
       "    }\n",
       "    const paths = {\n",
       "      \"vega\": \"https://cdn.jsdelivr.net/npm/vega@5?noext\",\n",
       "      \"vega-lib\": \"https://cdn.jsdelivr.net/npm/vega-lib?noext\",\n",
       "      \"vega-lite\": \"https://cdn.jsdelivr.net/npm/vega-lite@5.8.0?noext\",\n",
       "      \"vega-embed\": \"https://cdn.jsdelivr.net/npm/vega-embed@6?noext\",\n",
       "    };\n",
       "\n",
       "    function maybeLoadScript(lib, version) {\n",
       "      var key = `${lib.replace(\"-\", \"\")}_version`;\n",
       "      return (VEGA_DEBUG[key] == version) ?\n",
       "        Promise.resolve(paths[lib]) :\n",
       "        new Promise(function(resolve, reject) {\n",
       "          var s = document.createElement('script');\n",
       "          document.getElementsByTagName(\"head\")[0].appendChild(s);\n",
       "          s.async = true;\n",
       "          s.onload = () => {\n",
       "            VEGA_DEBUG[key] = version;\n",
       "            return resolve(paths[lib]);\n",
       "          };\n",
       "          s.onerror = () => reject(`Error loading script: ${paths[lib]}`);\n",
       "          s.src = paths[lib];\n",
       "        });\n",
       "    }\n",
       "\n",
       "    function showError(err) {\n",
       "      outputDiv.innerHTML = `<div class=\"error\" style=\"color:red;\">${err}</div>`;\n",
       "      throw err;\n",
       "    }\n",
       "\n",
       "    function displayChart(vegaEmbed) {\n",
       "      vegaEmbed(outputDiv, spec, embedOpt)\n",
       "        .catch(err => showError(`Javascript Error: ${err.message}<br>This usually means there's a typo in your chart specification. See the javascript console for the full traceback.`));\n",
       "    }\n",
       "\n",
       "    if(typeof define === \"function\" && define.amd) {\n",
       "      requirejs.config({paths});\n",
       "      require([\"vega-embed\"], displayChart, err => showError(`Error loading script: ${err.message}`));\n",
       "    } else {\n",
       "      maybeLoadScript(\"vega\", \"5\")\n",
       "        .then(() => maybeLoadScript(\"vega-lite\", \"5.8.0\"))\n",
       "        .then(() => maybeLoadScript(\"vega-embed\", \"6\"))\n",
       "        .catch(showError)\n",
       "        .then(() => displayChart(vegaEmbed));\n",
       "    }\n",
       "  })({\"config\": {\"view\": {\"continuousWidth\": 300, \"continuousHeight\": 300}}, \"data\": {\"name\": \"data-4a934cacc0e54dc1a640d495c64cac64\"}, \"mark\": {\"type\": \"bar\"}, \"encoding\": {\"x\": {\"field\": \"repo name\", \"sort\": \"-y\", \"type\": \"nominal\"}, \"y\": {\"field\": \"count of repos\", \"type\": \"quantitative\"}}, \"$schema\": \"https://vega.github.io/schema/vega-lite/v5.8.0.json\", \"datasets\": {\"data-4a934cacc0e54dc1a640d495c64cac64\": [{\"repo name\": \"tensorflow/tensorflow\", \"count of repos\": 5253}, {\"repo name\": \"facebook/react\", \"count of repos\": 6875}, {\"repo name\": \"Microsoft/vscode\", \"count of repos\": 6909}, {\"repo name\": \"twbs/bootstrap\", \"count of repos\": 11777}, {\"repo name\": \"apple/swift\", \"count of repos\": 38891}, {\"repo name\": \"torvalds/linux\", \"count of repos\": 602604}]}}, {\"mode\": \"vega-lite\"});\n",
       "</script>"
      ],
      "text/plain": [
       "alt.Chart(...)"
      ]
     },
     "execution_count": 64,
     "metadata": {},
     "output_type": "execute_result"
    }
   ],
   "source": [
    "alt.Chart(df).mark_bar().encode(\n",
    "    \n",
    "    x=alt.X('repo name',).sort('-y'),\n",
    "    y=alt.Y('count of repos')\n",
    "    \n",
    ")"
   ]
  },
  {
   "cell_type": "markdown",
   "id": "9a8f85c8-8aa2-4223-b359-71d02a221271",
   "metadata": {},
   "source": [
    "---\n",
    "---"
   ]
  },
  {
   "cell_type": "markdown",
   "id": "990e59f0-6655-4eda-b27b-a706696238f5",
   "metadata": {},
   "source": [
    "### The Top Contributors"
   ]
  },
  {
   "cell_type": "markdown",
   "id": "98aed438-25da-4187-bfd2-cd6d5768fb1d",
   "metadata": {},
   "source": [
    "SQL Code To Get Contrubitor Data"
   ]
  },
  {
   "cell_type": "code",
   "execution_count": null,
   "id": "9282ac6c-b64d-4c03-9545-74cd35c9dc24",
   "metadata": {},
   "outputs": [],
   "source": [
    "query = \"\"\"\n",
    "SELECT \n",
    "    committer.name as name,\n",
    "    COUNT(*) as `number of commits`\n",
    "FROM \n",
    "    `bruin-hiring.github_repos.sample_commits`\n",
    "\n",
    "\"\"\""
   ]
  },
  {
   "cell_type": "markdown",
   "id": "db5c9505-8fec-449f-a19a-6f9625c8278b",
   "metadata": {},
   "source": [
    "The detail is that People might have the same name. To prevent this mistake we should check \n",
    "mail address(unique)."
   ]
  },
  {
   "cell_type": "markdown",
   "id": "e9edb8fb-5e58-46f7-a794-5218ef31e6cb",
   "metadata": {},
   "source": [
    "for instance, a mail address: ` fe08d3c717adf2ae63592e4c9aec6e3e404d8e3e@davemloft.net `"
   ]
  },
  {
   "cell_type": "markdown",
   "id": "2d06ddb7-48b4-41eb-b646-adaacec2e7b1",
   "metadata": {},
   "source": [
    "The second detail is that a person can have more than one mail address and these mail address have the same name when person is the same. "
   ]
  },
  {
   "cell_type": "markdown",
   "id": "1db92c46-cbbe-4de3-a1c7-6c9722c93592",
   "metadata": {},
   "source": [
    "69652caca27c8b940640ad396ab71f93cacec34f@woody.linux-foundation.org \n",
    "69652caca27c8b940640ad396ab71f93cacec34f@g5.osdl.org \n",
    "69652caca27c8b940640ad396ab71f93cacec34f@linux-foundation.org "
   ]
  },
  {
   "cell_type": "markdown",
   "id": "a28e170f-075e-448b-a32d-2130f606c6fa",
   "metadata": {},
   "source": [
    "We can notice that before `@` sign, these code are the same, we should be careful about here."
   ]
  },
  {
   "cell_type": "markdown",
   "id": "8f13042b-421d-454d-882b-7ad280cbdfeb",
   "metadata": {},
   "source": [
    "##### we 2 options to make this,\n",
    "\n",
    "The First option is:\n",
    "    Prepare new `SQL code` to obtain a new query"
   ]
  },
  {
   "cell_type": "code",
   "execution_count": 154,
   "id": "66503698-d6bf-4c04-9e9c-a3b4e95e96b9",
   "metadata": {},
   "outputs": [],
   "source": [
    "query2 = \"\"\"    \n",
    "    SELECT\n",
    "        CONCAT(committer.name, ' ', substr(committer.email,1,40)) as name,\n",
    "        COUNT(*) as counter\n",
    "    FROM\n",
    "        bruin-hiring.github_repos.sample_commits\n",
    "    GROUP BY\n",
    "        name\n",
    "    ORDER BY\n",
    "        counter\n",
    "\"\"\""
   ]
  },
  {
   "cell_type": "markdown",
   "id": "a4ee888c-927d-41bc-ab96-d28af490dc5e",
   "metadata": {},
   "source": [
    "The Second option is:\n",
    "    Write a `pandas code` **to group the same mail** address(without domain) and name."
   ]
  },
  {
   "cell_type": "code",
   "execution_count": 149,
   "id": "9bfa6f85-0d1e-40e0-96c3-d334486942b6",
   "metadata": {
    "tags": []
   },
   "outputs": [],
   "source": [
    "query = \"\"\"\n",
    "SELECT \n",
    "    committer.name,\n",
    "    committer.email,\n",
    "    COUNT(*) as counter\n",
    "FROM\n",
    "     `bruin-hiring.github_repos.sample_commits`\n",
    "GROUP BY\n",
    "    committer.name,\n",
    "    committer.email\n",
    "ORDER BY\n",
    "    counter desc\n",
    "LIMIT\n",
    "    10\n",
    "\"\"\"\n",
    "\n",
    "query_job = client.query(query)\n",
    "result = query_job.result()"
   ]
  },
  {
   "cell_type": "markdown",
   "id": "4e4969b6-4cec-4fd6-844b-b12c2b353c8d",
   "metadata": {},
   "source": [
    "_Building DataFrame_"
   ]
  },
  {
   "cell_type": "code",
   "execution_count": 151,
   "id": "90ffb8bf-d528-48d6-9459-da1c078e232a",
   "metadata": {
    "tags": []
   },
   "outputs": [],
   "source": [
    "x_axis = []\n",
    "y_axis = []\n",
    "\n",
    "for row in result:\n",
    "    x_axis.append(row[0]+' '+row[1][:40])\n",
    "    y_axis.append(row[2])\n",
    "\n"
   ]
  },
  {
   "cell_type": "code",
   "execution_count": 152,
   "id": "96eaebb5-e0b4-45c8-8b2a-2932ac0fd224",
   "metadata": {
    "tags": []
   },
   "outputs": [
    {
     "data": {
      "text/html": [
       "<div>\n",
       "<style scoped>\n",
       "    .dataframe tbody tr th:only-of-type {\n",
       "        vertical-align: middle;\n",
       "    }\n",
       "\n",
       "    .dataframe tbody tr th {\n",
       "        vertical-align: top;\n",
       "    }\n",
       "\n",
       "    .dataframe thead th {\n",
       "        text-align: right;\n",
       "    }\n",
       "</style>\n",
       "<table border=\"1\" class=\"dataframe\">\n",
       "  <thead>\n",
       "    <tr style=\"text-align: right;\">\n",
       "      <th></th>\n",
       "      <th>name of contributor</th>\n",
       "      <th>number of cont</th>\n",
       "    </tr>\n",
       "  </thead>\n",
       "  <tbody>\n",
       "    <tr>\n",
       "      <th>0</th>\n",
       "      <td>David S. Miller fe08d3c717adf2ae63592e4c9aec6e...</td>\n",
       "      <td>49523</td>\n",
       "    </tr>\n",
       "    <tr>\n",
       "      <th>1</th>\n",
       "      <td>Linus Torvalds 69652caca27c8b940640ad396ab71f9...</td>\n",
       "      <td>40480</td>\n",
       "    </tr>\n",
       "    <tr>\n",
       "      <th>2</th>\n",
       "      <td>Greg Kroah-Hartman 4645f7897fd33786a2ee1264d59...</td>\n",
       "      <td>37969</td>\n",
       "    </tr>\n",
       "    <tr>\n",
       "      <th>3</th>\n",
       "      <td>Greg Kroah-Hartman 4645f7897fd33786a2ee1264d59...</td>\n",
       "      <td>19605</td>\n",
       "    </tr>\n",
       "    <tr>\n",
       "      <th>4</th>\n",
       "      <td>John W. Linville 2a53bac7a5d324865ef46ec4c38b2...</td>\n",
       "      <td>18875</td>\n",
       "    </tr>\n",
       "    <tr>\n",
       "      <th>5</th>\n",
       "      <td>Mauro Carvalho Chehab ad86ba2154032c9f55743a19...</td>\n",
       "      <td>13372</td>\n",
       "    </tr>\n",
       "    <tr>\n",
       "      <th>6</th>\n",
       "      <td>Ingo Molnar 9dbbbf0688fedc85ad4da37637f1a64b8c...</td>\n",
       "      <td>13311</td>\n",
       "    </tr>\n",
       "    <tr>\n",
       "      <th>7</th>\n",
       "      <td>Linus Torvalds 69652caca27c8b940640ad396ab71f9...</td>\n",
       "      <td>12197</td>\n",
       "    </tr>\n",
       "    <tr>\n",
       "      <th>8</th>\n",
       "      <td>Linus Torvalds 69652caca27c8b940640ad396ab71f9...</td>\n",
       "      <td>8928</td>\n",
       "    </tr>\n",
       "    <tr>\n",
       "      <th>9</th>\n",
       "      <td>Takashi Iwai 4596b3305151c7ee743192a95d394341e...</td>\n",
       "      <td>8661</td>\n",
       "    </tr>\n",
       "  </tbody>\n",
       "</table>\n",
       "</div>"
      ],
      "text/plain": [
       "                                 name of contributor  number of cont\n",
       "0  David S. Miller fe08d3c717adf2ae63592e4c9aec6e...           49523\n",
       "1  Linus Torvalds 69652caca27c8b940640ad396ab71f9...           40480\n",
       "2  Greg Kroah-Hartman 4645f7897fd33786a2ee1264d59...           37969\n",
       "3  Greg Kroah-Hartman 4645f7897fd33786a2ee1264d59...           19605\n",
       "4  John W. Linville 2a53bac7a5d324865ef46ec4c38b2...           18875\n",
       "5  Mauro Carvalho Chehab ad86ba2154032c9f55743a19...           13372\n",
       "6  Ingo Molnar 9dbbbf0688fedc85ad4da37637f1a64b8c...           13311\n",
       "7  Linus Torvalds 69652caca27c8b940640ad396ab71f9...           12197\n",
       "8  Linus Torvalds 69652caca27c8b940640ad396ab71f9...            8928\n",
       "9  Takashi Iwai 4596b3305151c7ee743192a95d394341e...            8661"
      ]
     },
     "execution_count": 152,
     "metadata": {},
     "output_type": "execute_result"
    }
   ],
   "source": [
    "df = pd.DataFrame({'name of contributor':x_axis,'number of cont':y_axis})\n",
    "df"
   ]
  },
  {
   "cell_type": "markdown",
   "id": "74739e60-e966-43e6-825c-00b63a00e0c3",
   "metadata": {},
   "source": [
    "Here we have a problem. There is more than one Linus Torvalds with the same mail code. To group these rows:"
   ]
  },
  {
   "cell_type": "code",
   "execution_count": 157,
   "id": "54b1e219-588b-4c37-bede-50c6ded480ec",
   "metadata": {
    "tags": []
   },
   "outputs": [],
   "source": [
    "df2 = df.groupby('name of contributor')['number of cont'].sum().reset_index()"
   ]
  },
  {
   "cell_type": "code",
   "execution_count": 159,
   "id": "0328f89f-fc9d-44b1-ad4d-7b644359d0c2",
   "metadata": {
    "tags": []
   },
   "outputs": [],
   "source": [
    "df2 = pd.DataFrame(df2)"
   ]
  },
  {
   "cell_type": "code",
   "execution_count": 161,
   "id": "1a0dbcb2-6fb7-4a9c-9eda-e64bdfa9ddc3",
   "metadata": {
    "tags": []
   },
   "outputs": [
    {
     "data": {
      "text/html": [
       "<div>\n",
       "<style scoped>\n",
       "    .dataframe tbody tr th:only-of-type {\n",
       "        vertical-align: middle;\n",
       "    }\n",
       "\n",
       "    .dataframe tbody tr th {\n",
       "        vertical-align: top;\n",
       "    }\n",
       "\n",
       "    .dataframe thead th {\n",
       "        text-align: right;\n",
       "    }\n",
       "</style>\n",
       "<table border=\"1\" class=\"dataframe\">\n",
       "  <thead>\n",
       "    <tr style=\"text-align: right;\">\n",
       "      <th></th>\n",
       "      <th>name of contributor</th>\n",
       "      <th>number of cont</th>\n",
       "    </tr>\n",
       "  </thead>\n",
       "  <tbody>\n",
       "    <tr>\n",
       "      <th>0</th>\n",
       "      <td>David S. Miller fe08d3c717adf2ae63592e4c9aec6e...</td>\n",
       "      <td>49523</td>\n",
       "    </tr>\n",
       "    <tr>\n",
       "      <th>1</th>\n",
       "      <td>Greg Kroah-Hartman 4645f7897fd33786a2ee1264d59...</td>\n",
       "      <td>57574</td>\n",
       "    </tr>\n",
       "    <tr>\n",
       "      <th>2</th>\n",
       "      <td>Ingo Molnar 9dbbbf0688fedc85ad4da37637f1a64b8c...</td>\n",
       "      <td>13311</td>\n",
       "    </tr>\n",
       "    <tr>\n",
       "      <th>3</th>\n",
       "      <td>John W. Linville 2a53bac7a5d324865ef46ec4c38b2...</td>\n",
       "      <td>18875</td>\n",
       "    </tr>\n",
       "    <tr>\n",
       "      <th>4</th>\n",
       "      <td>Linus Torvalds 69652caca27c8b940640ad396ab71f9...</td>\n",
       "      <td>61605</td>\n",
       "    </tr>\n",
       "    <tr>\n",
       "      <th>5</th>\n",
       "      <td>Mauro Carvalho Chehab ad86ba2154032c9f55743a19...</td>\n",
       "      <td>13372</td>\n",
       "    </tr>\n",
       "    <tr>\n",
       "      <th>6</th>\n",
       "      <td>Takashi Iwai 4596b3305151c7ee743192a95d394341e...</td>\n",
       "      <td>8661</td>\n",
       "    </tr>\n",
       "  </tbody>\n",
       "</table>\n",
       "</div>"
      ],
      "text/plain": [
       "                                 name of contributor  number of cont\n",
       "0  David S. Miller fe08d3c717adf2ae63592e4c9aec6e...           49523\n",
       "1  Greg Kroah-Hartman 4645f7897fd33786a2ee1264d59...           57574\n",
       "2  Ingo Molnar 9dbbbf0688fedc85ad4da37637f1a64b8c...           13311\n",
       "3  John W. Linville 2a53bac7a5d324865ef46ec4c38b2...           18875\n",
       "4  Linus Torvalds 69652caca27c8b940640ad396ab71f9...           61605\n",
       "5  Mauro Carvalho Chehab ad86ba2154032c9f55743a19...           13372\n",
       "6  Takashi Iwai 4596b3305151c7ee743192a95d394341e...            8661"
      ]
     },
     "execution_count": 161,
     "metadata": {},
     "output_type": "execute_result"
    }
   ],
   "source": [
    "df2"
   ]
  },
  {
   "cell_type": "code",
   "execution_count": 136,
   "id": "46b75850-e526-4a74-a023-a0086a5408f7",
   "metadata": {
    "tags": []
   },
   "outputs": [],
   "source": [
    "df['number of cont.'] = [int(each) for each in df['number of cont']]"
   ]
  },
  {
   "cell_type": "code",
   "execution_count": 138,
   "id": "3779cbaf-4b72-4460-8e06-ef7834e5afab",
   "metadata": {
    "tags": []
   },
   "outputs": [
    {
     "data": {
      "text/plain": [
       "numpy.int64"
      ]
     },
     "execution_count": 138,
     "metadata": {},
     "output_type": "execute_result"
    }
   ],
   "source": [
    "type(df['number of cont.'][1])"
   ]
  },
  {
   "cell_type": "markdown",
   "id": "3e2917ac-fa6d-43f1-9855-dcb82444b789",
   "metadata": {},
   "source": [
    "_Visualizing_"
   ]
  },
  {
   "cell_type": "code",
   "execution_count": 163,
   "id": "868950bb-5b87-4d64-8508-b7af101d9233",
   "metadata": {
    "tags": []
   },
   "outputs": [
    {
     "data": {
      "text/html": [
       "<div>\n",
       "<style scoped>\n",
       "    .dataframe tbody tr th:only-of-type {\n",
       "        vertical-align: middle;\n",
       "    }\n",
       "\n",
       "    .dataframe tbody tr th {\n",
       "        vertical-align: top;\n",
       "    }\n",
       "\n",
       "    .dataframe thead th {\n",
       "        text-align: right;\n",
       "    }\n",
       "</style>\n",
       "<table border=\"1\" class=\"dataframe\">\n",
       "  <thead>\n",
       "    <tr style=\"text-align: right;\">\n",
       "      <th></th>\n",
       "      <th>name of contributor</th>\n",
       "      <th>number of cont</th>\n",
       "    </tr>\n",
       "  </thead>\n",
       "  <tbody>\n",
       "    <tr>\n",
       "      <th>0</th>\n",
       "      <td>David S. Miller fe08d3c717adf2ae63592e4c9aec6e...</td>\n",
       "      <td>49523</td>\n",
       "    </tr>\n",
       "    <tr>\n",
       "      <th>1</th>\n",
       "      <td>Linus Torvalds 69652caca27c8b940640ad396ab71f9...</td>\n",
       "      <td>40480</td>\n",
       "    </tr>\n",
       "    <tr>\n",
       "      <th>2</th>\n",
       "      <td>Greg Kroah-Hartman 4645f7897fd33786a2ee1264d59...</td>\n",
       "      <td>37969</td>\n",
       "    </tr>\n",
       "    <tr>\n",
       "      <th>3</th>\n",
       "      <td>Greg Kroah-Hartman 4645f7897fd33786a2ee1264d59...</td>\n",
       "      <td>19605</td>\n",
       "    </tr>\n",
       "    <tr>\n",
       "      <th>4</th>\n",
       "      <td>John W. Linville 2a53bac7a5d324865ef46ec4c38b2...</td>\n",
       "      <td>18875</td>\n",
       "    </tr>\n",
       "    <tr>\n",
       "      <th>5</th>\n",
       "      <td>Mauro Carvalho Chehab ad86ba2154032c9f55743a19...</td>\n",
       "      <td>13372</td>\n",
       "    </tr>\n",
       "    <tr>\n",
       "      <th>6</th>\n",
       "      <td>Ingo Molnar 9dbbbf0688fedc85ad4da37637f1a64b8c...</td>\n",
       "      <td>13311</td>\n",
       "    </tr>\n",
       "    <tr>\n",
       "      <th>7</th>\n",
       "      <td>Linus Torvalds 69652caca27c8b940640ad396ab71f9...</td>\n",
       "      <td>12197</td>\n",
       "    </tr>\n",
       "    <tr>\n",
       "      <th>8</th>\n",
       "      <td>Linus Torvalds 69652caca27c8b940640ad396ab71f9...</td>\n",
       "      <td>8928</td>\n",
       "    </tr>\n",
       "    <tr>\n",
       "      <th>9</th>\n",
       "      <td>Takashi Iwai 4596b3305151c7ee743192a95d394341e...</td>\n",
       "      <td>8661</td>\n",
       "    </tr>\n",
       "  </tbody>\n",
       "</table>\n",
       "</div>"
      ],
      "text/plain": [
       "                                 name of contributor  number of cont\n",
       "0  David S. Miller fe08d3c717adf2ae63592e4c9aec6e...           49523\n",
       "1  Linus Torvalds 69652caca27c8b940640ad396ab71f9...           40480\n",
       "2  Greg Kroah-Hartman 4645f7897fd33786a2ee1264d59...           37969\n",
       "3  Greg Kroah-Hartman 4645f7897fd33786a2ee1264d59...           19605\n",
       "4  John W. Linville 2a53bac7a5d324865ef46ec4c38b2...           18875\n",
       "5  Mauro Carvalho Chehab ad86ba2154032c9f55743a19...           13372\n",
       "6  Ingo Molnar 9dbbbf0688fedc85ad4da37637f1a64b8c...           13311\n",
       "7  Linus Torvalds 69652caca27c8b940640ad396ab71f9...           12197\n",
       "8  Linus Torvalds 69652caca27c8b940640ad396ab71f9...            8928\n",
       "9  Takashi Iwai 4596b3305151c7ee743192a95d394341e...            8661"
      ]
     },
     "execution_count": 163,
     "metadata": {},
     "output_type": "execute_result"
    }
   ],
   "source": [
    "df"
   ]
  },
  {
   "cell_type": "code",
   "execution_count": 169,
   "id": "e36f44ba-ed97-4cff-979a-13a6e76e5817",
   "metadata": {
    "tags": []
   },
   "outputs": [
    {
     "name": "stderr",
     "output_type": "stream",
     "text": [
      "/Users/selcu/opt/anaconda3/lib/python3.10/site-packages/altair/utils/core.py:395: FutureWarning: the convert_dtype parameter is deprecated and will be removed in a future version.  Do ``ser.astype(object).apply()`` instead if you want ``convert_dtype=False``.\n",
      "  col = df[col_name].apply(to_list_if_array, convert_dtype=False)\n"
     ]
    },
    {
     "data": {
      "text/html": [
       "\n",
       "<style>\n",
       "  #altair-viz-f19c2ae1ec0a48aba0676611dec84291.vega-embed {\n",
       "    width: 100%;\n",
       "    display: flex;\n",
       "  }\n",
       "\n",
       "  #altair-viz-f19c2ae1ec0a48aba0676611dec84291.vega-embed details,\n",
       "  #altair-viz-f19c2ae1ec0a48aba0676611dec84291.vega-embed details summary {\n",
       "    position: relative;\n",
       "  }\n",
       "</style>\n",
       "<div id=\"altair-viz-f19c2ae1ec0a48aba0676611dec84291\"></div>\n",
       "<script type=\"text/javascript\">\n",
       "  var VEGA_DEBUG = (typeof VEGA_DEBUG == \"undefined\") ? {} : VEGA_DEBUG;\n",
       "  (function(spec, embedOpt){\n",
       "    let outputDiv = document.currentScript.previousElementSibling;\n",
       "    if (outputDiv.id !== \"altair-viz-f19c2ae1ec0a48aba0676611dec84291\") {\n",
       "      outputDiv = document.getElementById(\"altair-viz-f19c2ae1ec0a48aba0676611dec84291\");\n",
       "    }\n",
       "    const paths = {\n",
       "      \"vega\": \"https://cdn.jsdelivr.net/npm/vega@5?noext\",\n",
       "      \"vega-lib\": \"https://cdn.jsdelivr.net/npm/vega-lib?noext\",\n",
       "      \"vega-lite\": \"https://cdn.jsdelivr.net/npm/vega-lite@5.8.0?noext\",\n",
       "      \"vega-embed\": \"https://cdn.jsdelivr.net/npm/vega-embed@6?noext\",\n",
       "    };\n",
       "\n",
       "    function maybeLoadScript(lib, version) {\n",
       "      var key = `${lib.replace(\"-\", \"\")}_version`;\n",
       "      return (VEGA_DEBUG[key] == version) ?\n",
       "        Promise.resolve(paths[lib]) :\n",
       "        new Promise(function(resolve, reject) {\n",
       "          var s = document.createElement('script');\n",
       "          document.getElementsByTagName(\"head\")[0].appendChild(s);\n",
       "          s.async = true;\n",
       "          s.onload = () => {\n",
       "            VEGA_DEBUG[key] = version;\n",
       "            return resolve(paths[lib]);\n",
       "          };\n",
       "          s.onerror = () => reject(`Error loading script: ${paths[lib]}`);\n",
       "          s.src = paths[lib];\n",
       "        });\n",
       "    }\n",
       "\n",
       "    function showError(err) {\n",
       "      outputDiv.innerHTML = `<div class=\"error\" style=\"color:red;\">${err}</div>`;\n",
       "      throw err;\n",
       "    }\n",
       "\n",
       "    function displayChart(vegaEmbed) {\n",
       "      vegaEmbed(outputDiv, spec, embedOpt)\n",
       "        .catch(err => showError(`Javascript Error: ${err.message}<br>This usually means there's a typo in your chart specification. See the javascript console for the full traceback.`));\n",
       "    }\n",
       "\n",
       "    if(typeof define === \"function\" && define.amd) {\n",
       "      requirejs.config({paths});\n",
       "      require([\"vega-embed\"], displayChart, err => showError(`Error loading script: ${err.message}`));\n",
       "    } else {\n",
       "      maybeLoadScript(\"vega\", \"5\")\n",
       "        .then(() => maybeLoadScript(\"vega-lite\", \"5.8.0\"))\n",
       "        .then(() => maybeLoadScript(\"vega-embed\", \"6\"))\n",
       "        .catch(showError)\n",
       "        .then(() => displayChart(vegaEmbed));\n",
       "    }\n",
       "  })({\"config\": {\"view\": {\"continuousWidth\": 300, \"continuousHeight\": 300}}, \"data\": {\"name\": \"data-929aa6e8d387b867f7d87fa6ec19100a\"}, \"mark\": {\"type\": \"bar\"}, \"encoding\": {\"x\": {\"field\": \"name of contributor\", \"sort\": \"-y\", \"type\": \"nominal\"}, \"y\": {\"field\": \"number of cont\", \"type\": \"quantitative\"}}, \"$schema\": \"https://vega.github.io/schema/vega-lite/v5.8.0.json\", \"datasets\": {\"data-929aa6e8d387b867f7d87fa6ec19100a\": [{\"name of contributor\": \"David S. Miller fe08d3c717adf2ae63592e4c9aec6e3e404d8e3e\", \"number of cont\": 49523}, {\"name of contributor\": \"Greg Kroah-Hartman 4645f7897fd33786a2ee1264d590b3c400559d85\", \"number of cont\": 57574}, {\"name of contributor\": \"Ingo Molnar 9dbbbf0688fedc85ad4da37637f1a64b8c718ee2\", \"number of cont\": 13311}, {\"name of contributor\": \"John W. Linville 2a53bac7a5d324865ef46ec4c38b2c0fba1456b4\", \"number of cont\": 18875}, {\"name of contributor\": \"Linus Torvalds 69652caca27c8b940640ad396ab71f93cacec34f\", \"number of cont\": 61605}, {\"name of contributor\": \"Mauro Carvalho Chehab ad86ba2154032c9f55743a190faa2459a9d61d42\", \"number of cont\": 13372}, {\"name of contributor\": \"Takashi Iwai 4596b3305151c7ee743192a95d394341e3d3b644\", \"number of cont\": 8661}]}}, {\"mode\": \"vega-lite\"});\n",
       "</script>"
      ],
      "text/plain": [
       "alt.Chart(...)"
      ]
     },
     "execution_count": 169,
     "metadata": {},
     "output_type": "execute_result"
    }
   ],
   "source": [
    "alt.Chart(df2).mark_bar().encode(\n",
    "    x=alt.X('name of contributor').sort('-y'),\n",
    "    y=alt.Y('number of cont'))\n",
    "\n",
    "\n"
   ]
  },
  {
   "cell_type": "markdown",
   "id": "cf2922d0-6c07-4b04-b0a0-a878cad24c94",
   "metadata": {},
   "source": [
    "we have used local parts to detect that people are the same or different."
   ]
  }
 ],
 "metadata": {
  "kernelspec": {
   "display_name": "Python 3 (ipykernel)",
   "language": "python",
   "name": "python3"
  },
  "language_info": {
   "codemirror_mode": {
    "name": "ipython",
    "version": 3
   },
   "file_extension": ".py",
   "mimetype": "text/x-python",
   "name": "python",
   "nbconvert_exporter": "python",
   "pygments_lexer": "ipython3",
   "version": "3.10.13"
  }
 },
 "nbformat": 4,
 "nbformat_minor": 5
}
