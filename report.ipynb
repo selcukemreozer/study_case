{
 "cells": [
  {
   "cell_type": "markdown",
   "id": "a70f4f7d-afed-48bb-91c0-caacd13b1e71",
   "metadata": {},
   "source": [
    "## The Report of Study Case\n",
    "written by Selcuk Emre Ozer\n"
   ]
  },
  {
   "cell_type": "markdown",
   "id": "9a38f546-18c4-4ae3-86e0-2f8f534f7797",
   "metadata": {},
   "source": [
    "___"
   ]
  },
  {
   "cell_type": "markdown",
   "id": "2314b9a0-a889-4cbb-aec3-73743926feaf",
   "metadata": {},
   "source": [
    "This report is written to show deficiencies of study case."
   ]
  },
  {
   "cell_type": "markdown",
   "id": "7f54eb36-faa7-4388-a7be-341f4fd951f7",
   "metadata": {},
   "source": [
    "___"
   ]
  },
  {
   "cell_type": "markdown",
   "id": "4f852f03-43bd-4465-9fc7-78d65b6cbcd1",
   "metadata": {},
   "source": [
    "Deficiencies are going to be reviewed in 2 titles."
   ]
  },
  {
   "cell_type": "markdown",
   "id": "1262b2f5-f8a2-470a-ba6f-c6d5c38233da",
   "metadata": {},
   "source": [
    "### Titles:\n",
    "* SQL Deficincies\n",
    "* Altair Deficincies"
   ]
  },
  {
   "cell_type": "code",
   "execution_count": 35,
   "id": "7c2e6106-da22-48a2-8ff0-8440801b5b1e",
   "metadata": {
    "tags": []
   },
   "outputs": [],
   "source": [
    "# Libraries\n",
    "import pandas as pd\n",
    "import altair as alt"
   ]
  },
  {
   "cell_type": "code",
   "execution_count": 42,
   "id": "67897152-d4fe-4c31-888f-4d22938e9a31",
   "metadata": {
    "tags": []
   },
   "outputs": [],
   "source": [
    "# connect to bigquery\n",
    "import json\n",
    "from google.oauth2 import service_account\n",
    "from google.cloud import bigquery\n",
    "\n",
    "path = '/Users/selcu/Desktop/bruin/bruin-hiring-1b27c94e981a.json'\n",
    "\n",
    "with open(path, 'r') as f:\n",
    "    json_key_file = json.load(f)\n",
    "    \n",
    "credentials = service_account.Credentials.from_service_account_info(json_key_file)\n",
    "\n",
    "client = bigquery.Client(credentials=credentials, project=credentials.project_id)"
   ]
  },
  {
   "cell_type": "markdown",
   "id": "68fca57f-e09a-4367-8066-14d79b7b462a",
   "metadata": {},
   "source": [
    "___"
   ]
  },
  {
   "cell_type": "markdown",
   "id": "0b230bcc-afa4-487e-8e9c-d944655115fe",
   "metadata": {
    "tags": []
   },
   "source": [
    "### Question 2"
   ]
  },
  {
   "cell_type": "markdown",
   "id": "fbab1cc3-8a51-4562-88f8-018cce705646",
   "metadata": {},
   "source": [
    "In the study case, I got help from AI tools(ChatGPT). In this situation I could not learn basic of SQL properly. You can check the SQL deficincies which I have improved below this part."
   ]
  },
  {
   "cell_type": "markdown",
   "id": "346b7de6-6e4e-49df-ab20-8eeabc3908dd",
   "metadata": {
    "tags": []
   },
   "source": [
    "#### SQL Part"
   ]
  },
  {
   "cell_type": "code",
   "execution_count": null,
   "id": "a69e99e8-aea1-45fa-8c77-191946809521",
   "metadata": {
    "tags": []
   },
   "outputs": [],
   "source": [
    "# QUESTION 2: Who are the top contributors?\n",
    "# mistake is to prefer name to count top contrubitors?\n",
    "\n",
    "SELECT \n",
    "    committer.name, <-------MISTAKE\n",
    "    COUNT(*) as counter\n",
    "\n",
    "FROM \n",
    "    table\n",
    "GROUP BY \n",
    "    committer.name\n",
    "ORDER BY \n",
    "    counter desc\n",
    "LIMIT 10"
   ]
  },
  {
   "cell_type": "markdown",
   "id": "12d79385-adc1-4790-9613-ced18471e72a",
   "metadata": {},
   "source": [
    "People might have the same name, so to find top contributors properly, even though they have the same name, we should prefer a unique feature for each contrubitors. It is mail address. Each people has their own unique email address."
   ]
  },
  {
   "cell_type": "markdown",
   "id": "a486b52b-3276-4139-80e6-9c94695ef774",
   "metadata": {},
   "source": [
    "##### Correct SQL Code"
   ]
  },
  {
   "cell_type": "code",
   "execution_count": 417,
   "id": "d617bf96-e6f0-4696-8acd-ec3725327f4b",
   "metadata": {
    "tags": []
   },
   "outputs": [],
   "source": [
    "query = \"\"\"\n",
    "SELECT \n",
    "    committer.name,\n",
    "    committer.email,  -- CORRECT PREFERENCE\n",
    "    COUNT(*) as mail_counter\n",
    "FROM\n",
    "     `bruin-hiring.github_repos.sample_commits`\n",
    "GROUP BY\n",
    "    committer.name,\n",
    "    committer.email\n",
    "ORDER BY\n",
    "    mail_counter desc\n",
    "LIMIT\n",
    "    10\n",
    "\"\"\"\n",
    "query_job = client.query(query)\n",
    "results = query_job.result()"
   ]
  },
  {
   "cell_type": "code",
   "execution_count": 419,
   "id": "51460b44-e84e-4f5d-baa0-e4e7fcadeb5a",
   "metadata": {
    "collapsed": true,
    "jupyter": {
     "outputs_hidden": true
    },
    "tags": []
   },
   "outputs": [
    {
     "name": "stdout",
     "output_type": "stream",
     "text": [
      "RESULTS:\n",
      "_______\n",
      "\n",
      "49523 David S. Miller -> fe08d3c717adf2ae63592e4c9aec6e3e404d8e3e@davemloft.net \n",
      "\n",
      "40480 Linus Torvalds -> 69652caca27c8b940640ad396ab71f93cacec34f@linux-foundation.org \n",
      "\n",
      "37969 Greg Kroah-Hartman -> 4645f7897fd33786a2ee1264d590b3c400559d85@linuxfoundation.org \n",
      "\n",
      "19605 Greg Kroah-Hartman -> 4645f7897fd33786a2ee1264d590b3c400559d85@suse.de \n",
      "\n",
      "18875 John W. Linville -> 2a53bac7a5d324865ef46ec4c38b2c0fba1456b4@tuxdriver.com \n",
      "\n",
      "13372 Mauro Carvalho Chehab -> ad86ba2154032c9f55743a190faa2459a9d61d42@redhat.com \n",
      "\n",
      "13311 Ingo Molnar -> 9dbbbf0688fedc85ad4da37637f1a64b8c718ee2@elte.hu \n",
      "\n",
      "12197 Linus Torvalds -> 69652caca27c8b940640ad396ab71f93cacec34f@g5.osdl.org \n",
      "\n",
      "8928 Linus Torvalds -> 69652caca27c8b940640ad396ab71f93cacec34f@woody.linux-foundation.org \n",
      "\n",
      "8661 Takashi Iwai -> 4596b3305151c7ee743192a95d394341e3d3b644@suse.de \n",
      "\n"
     ]
    }
   ],
   "source": [
    "x2 = [] # for chart, creating x and y axis lists\n",
    "y2 = []\n",
    "\n",
    "\n",
    "print(\"RESULTS:\\n_______\\n\")\n",
    "\n",
    "for row in results:\n",
    "    x2.append(row[0]+' '+row[1][40:])\n",
    "    y2.append(row[2])\n",
    "    print(row[2],row[0],'->' , row[1],'\\n')\n"
   ]
  },
  {
   "cell_type": "markdown",
   "id": "405774ba-e68c-467b-b544-95a64d9e84ae",
   "metadata": {},
   "source": [
    "You can see there is more than one Linus Torvalds"
   ]
  },
  {
   "cell_type": "markdown",
   "id": "f6bf505c-4dce-46c8-8d40-8fa3589c38bf",
   "metadata": {},
   "source": [
    "___"
   ]
  },
  {
   "cell_type": "code",
   "execution_count": 423,
   "id": "3f75c370-b1c6-4d35-a936-863c0b24c58e",
   "metadata": {
    "tags": []
   },
   "outputs": [
    {
     "name": "stderr",
     "output_type": "stream",
     "text": [
      "/Users/selcu/opt/anaconda3/lib/python3.10/site-packages/altair/utils/core.py:395: FutureWarning: the convert_dtype parameter is deprecated and will be removed in a future version.  Do ``ser.astype(object).apply()`` instead if you want ``convert_dtype=False``.\n",
      "  col = df[col_name].apply(to_list_if_array, convert_dtype=False)\n"
     ]
    },
    {
     "data": {
      "text/html": [
       "\n",
       "<style>\n",
       "  #altair-viz-06852c2ba45d48b0b8e137d46292fe8f.vega-embed {\n",
       "    width: 100%;\n",
       "    display: flex;\n",
       "  }\n",
       "\n",
       "  #altair-viz-06852c2ba45d48b0b8e137d46292fe8f.vega-embed details,\n",
       "  #altair-viz-06852c2ba45d48b0b8e137d46292fe8f.vega-embed details summary {\n",
       "    position: relative;\n",
       "  }\n",
       "</style>\n",
       "<div id=\"altair-viz-06852c2ba45d48b0b8e137d46292fe8f\"></div>\n",
       "<script type=\"text/javascript\">\n",
       "  var VEGA_DEBUG = (typeof VEGA_DEBUG == \"undefined\") ? {} : VEGA_DEBUG;\n",
       "  (function(spec, embedOpt){\n",
       "    let outputDiv = document.currentScript.previousElementSibling;\n",
       "    if (outputDiv.id !== \"altair-viz-06852c2ba45d48b0b8e137d46292fe8f\") {\n",
       "      outputDiv = document.getElementById(\"altair-viz-06852c2ba45d48b0b8e137d46292fe8f\");\n",
       "    }\n",
       "    const paths = {\n",
       "      \"vega\": \"https://cdn.jsdelivr.net/npm/vega@5?noext\",\n",
       "      \"vega-lib\": \"https://cdn.jsdelivr.net/npm/vega-lib?noext\",\n",
       "      \"vega-lite\": \"https://cdn.jsdelivr.net/npm/vega-lite@5.8.0?noext\",\n",
       "      \"vega-embed\": \"https://cdn.jsdelivr.net/npm/vega-embed@6?noext\",\n",
       "    };\n",
       "\n",
       "    function maybeLoadScript(lib, version) {\n",
       "      var key = `${lib.replace(\"-\", \"\")}_version`;\n",
       "      return (VEGA_DEBUG[key] == version) ?\n",
       "        Promise.resolve(paths[lib]) :\n",
       "        new Promise(function(resolve, reject) {\n",
       "          var s = document.createElement('script');\n",
       "          document.getElementsByTagName(\"head\")[0].appendChild(s);\n",
       "          s.async = true;\n",
       "          s.onload = () => {\n",
       "            VEGA_DEBUG[key] = version;\n",
       "            return resolve(paths[lib]);\n",
       "          };\n",
       "          s.onerror = () => reject(`Error loading script: ${paths[lib]}`);\n",
       "          s.src = paths[lib];\n",
       "        });\n",
       "    }\n",
       "\n",
       "    function showError(err) {\n",
       "      outputDiv.innerHTML = `<div class=\"error\" style=\"color:red;\">${err}</div>`;\n",
       "      throw err;\n",
       "    }\n",
       "\n",
       "    function displayChart(vegaEmbed) {\n",
       "      vegaEmbed(outputDiv, spec, embedOpt)\n",
       "        .catch(err => showError(`Javascript Error: ${err.message}<br>This usually means there's a typo in your chart specification. See the javascript console for the full traceback.`));\n",
       "    }\n",
       "\n",
       "    if(typeof define === \"function\" && define.amd) {\n",
       "      requirejs.config({paths});\n",
       "      require([\"vega-embed\"], displayChart, err => showError(`Error loading script: ${err.message}`));\n",
       "    } else {\n",
       "      maybeLoadScript(\"vega\", \"5\")\n",
       "        .then(() => maybeLoadScript(\"vega-lite\", \"5.8.0\"))\n",
       "        .then(() => maybeLoadScript(\"vega-embed\", \"6\"))\n",
       "        .catch(showError)\n",
       "        .then(() => displayChart(vegaEmbed));\n",
       "    }\n",
       "  })({\"config\": {\"view\": {\"continuousWidth\": 300, \"continuousHeight\": 300}}, \"data\": {\"name\": \"data-d5984975833a2db2aeecd99724c10dbd\"}, \"mark\": {\"type\": \"bar\"}, \"encoding\": {\"color\": {\"condition\": {\"test\": \"(datum.contributors === 'Mark Brown')\", \"value\": \"orange\"}, \"value\": \"steelblue\"}, \"x\": {\"field\": \"contributors\", \"type\": \"nominal\"}, \"y\": {\"field\": \"number of contribution\", \"type\": \"quantitative\"}}, \"width\": 400, \"$schema\": \"https://vega.github.io/schema/vega-lite/v5.8.0.json\", \"datasets\": {\"data-d5984975833a2db2aeecd99724c10dbd\": [{\"contributors\": \"David S. Miller @davemloft.net\", \"number of contribution\": 49523}, {\"contributors\": \"Linus Torvalds @linux-foundation.org\", \"number of contribution\": 40480}, {\"contributors\": \"Greg Kroah-Hartman @linuxfoundation.org\", \"number of contribution\": 37969}, {\"contributors\": \"Greg Kroah-Hartman @suse.de\", \"number of contribution\": 19605}, {\"contributors\": \"John W. Linville @tuxdriver.com\", \"number of contribution\": 18875}, {\"contributors\": \"Mauro Carvalho Chehab @redhat.com\", \"number of contribution\": 13372}, {\"contributors\": \"Ingo Molnar @elte.hu\", \"number of contribution\": 13311}, {\"contributors\": \"Linus Torvalds @g5.osdl.org\", \"number of contribution\": 12197}, {\"contributors\": \"Linus Torvalds @woody.linux-foundation.org\", \"number of contribution\": 8928}, {\"contributors\": \"Takashi Iwai @suse.de\", \"number of contribution\": 8661}]}}, {\"mode\": \"vega-lite\"});\n",
       "</script>"
      ],
      "text/plain": [
       "alt.Chart(...)"
      ]
     },
     "execution_count": 423,
     "metadata": {},
     "output_type": "execute_result"
    }
   ],
   "source": [
    "#### Altair Part(with mistakes)\n",
    "df2 = pd.DataFrame({'contributors':x2,'number of contribution':y2})\n",
    "\n",
    "alt.Chart(df2).mark_bar().encode(x = 'contributors', y = 'number of contribution',\n",
    "                                color = alt.condition(\n",
    "                                alt.datum.contributors == 'Mark Brown',\n",
    "                                alt.value('orange'),\n",
    "                                alt.value('steelblue')\n",
    "                                )).properties(width=400)"
   ]
  },
  {
   "cell_type": "markdown",
   "id": "1bdfb589-9691-408c-9be0-b281a786210e",
   "metadata": {},
   "source": [
    "#### Altair Part"
   ]
  },
  {
   "cell_type": "markdown",
   "id": "10b7fa25-7d63-43cc-9e47-d69fb7ae655b",
   "metadata": {},
   "source": [
    "You can see in new code, top cont. list does not include 'Mark Brown' as name. Because this Altair part is static and this is not convinent for changeable data cases. To fix this code >"
   ]
  },
  {
   "cell_type": "code",
   "execution_count": 427,
   "id": "a291aef6-ee5c-48a4-bdf0-dd1dd9150f13",
   "metadata": {
    "tags": []
   },
   "outputs": [
    {
     "name": "stderr",
     "output_type": "stream",
     "text": [
      "/Users/selcu/opt/anaconda3/lib/python3.10/site-packages/altair/utils/core.py:395: FutureWarning: the convert_dtype parameter is deprecated and will be removed in a future version.  Do ``ser.astype(object).apply()`` instead if you want ``convert_dtype=False``.\n",
      "  col = df[col_name].apply(to_list_if_array, convert_dtype=False)\n"
     ]
    },
    {
     "data": {
      "text/html": [
       "\n",
       "<style>\n",
       "  #altair-viz-c13174c8c151485d95b9b067727a8480.vega-embed {\n",
       "    width: 100%;\n",
       "    display: flex;\n",
       "  }\n",
       "\n",
       "  #altair-viz-c13174c8c151485d95b9b067727a8480.vega-embed details,\n",
       "  #altair-viz-c13174c8c151485d95b9b067727a8480.vega-embed details summary {\n",
       "    position: relative;\n",
       "  }\n",
       "</style>\n",
       "<div id=\"altair-viz-c13174c8c151485d95b9b067727a8480\"></div>\n",
       "<script type=\"text/javascript\">\n",
       "  var VEGA_DEBUG = (typeof VEGA_DEBUG == \"undefined\") ? {} : VEGA_DEBUG;\n",
       "  (function(spec, embedOpt){\n",
       "    let outputDiv = document.currentScript.previousElementSibling;\n",
       "    if (outputDiv.id !== \"altair-viz-c13174c8c151485d95b9b067727a8480\") {\n",
       "      outputDiv = document.getElementById(\"altair-viz-c13174c8c151485d95b9b067727a8480\");\n",
       "    }\n",
       "    const paths = {\n",
       "      \"vega\": \"https://cdn.jsdelivr.net/npm/vega@5?noext\",\n",
       "      \"vega-lib\": \"https://cdn.jsdelivr.net/npm/vega-lib?noext\",\n",
       "      \"vega-lite\": \"https://cdn.jsdelivr.net/npm/vega-lite@5.8.0?noext\",\n",
       "      \"vega-embed\": \"https://cdn.jsdelivr.net/npm/vega-embed@6?noext\",\n",
       "    };\n",
       "\n",
       "    function maybeLoadScript(lib, version) {\n",
       "      var key = `${lib.replace(\"-\", \"\")}_version`;\n",
       "      return (VEGA_DEBUG[key] == version) ?\n",
       "        Promise.resolve(paths[lib]) :\n",
       "        new Promise(function(resolve, reject) {\n",
       "          var s = document.createElement('script');\n",
       "          document.getElementsByTagName(\"head\")[0].appendChild(s);\n",
       "          s.async = true;\n",
       "          s.onload = () => {\n",
       "            VEGA_DEBUG[key] = version;\n",
       "            return resolve(paths[lib]);\n",
       "          };\n",
       "          s.onerror = () => reject(`Error loading script: ${paths[lib]}`);\n",
       "          s.src = paths[lib];\n",
       "        });\n",
       "    }\n",
       "\n",
       "    function showError(err) {\n",
       "      outputDiv.innerHTML = `<div class=\"error\" style=\"color:red;\">${err}</div>`;\n",
       "      throw err;\n",
       "    }\n",
       "\n",
       "    function displayChart(vegaEmbed) {\n",
       "      vegaEmbed(outputDiv, spec, embedOpt)\n",
       "        .catch(err => showError(`Javascript Error: ${err.message}<br>This usually means there's a typo in your chart specification. See the javascript console for the full traceback.`));\n",
       "    }\n",
       "\n",
       "    if(typeof define === \"function\" && define.amd) {\n",
       "      requirejs.config({paths});\n",
       "      require([\"vega-embed\"], displayChart, err => showError(`Error loading script: ${err.message}`));\n",
       "    } else {\n",
       "      maybeLoadScript(\"vega\", \"5\")\n",
       "        .then(() => maybeLoadScript(\"vega-lite\", \"5.8.0\"))\n",
       "        .then(() => maybeLoadScript(\"vega-embed\", \"6\"))\n",
       "        .catch(showError)\n",
       "        .then(() => displayChart(vegaEmbed));\n",
       "    }\n",
       "  })({\"config\": {\"view\": {\"continuousWidth\": 300, \"continuousHeight\": 300}}, \"data\": {\"name\": \"data-d5984975833a2db2aeecd99724c10dbd\"}, \"mark\": {\"type\": \"bar\"}, \"encoding\": {\"color\": {\"condition\": {\"test\": \"(datum.contributors === 'David S. Miller @davemloft.net')\", \"value\": \"orange\"}, \"value\": \"steelblue\"}, \"x\": {\"field\": \"contributors\", \"type\": \"nominal\"}, \"y\": {\"field\": \"number of contribution\", \"type\": \"quantitative\"}}, \"width\": 400, \"$schema\": \"https://vega.github.io/schema/vega-lite/v5.8.0.json\", \"datasets\": {\"data-d5984975833a2db2aeecd99724c10dbd\": [{\"contributors\": \"David S. Miller @davemloft.net\", \"number of contribution\": 49523}, {\"contributors\": \"Linus Torvalds @linux-foundation.org\", \"number of contribution\": 40480}, {\"contributors\": \"Greg Kroah-Hartman @linuxfoundation.org\", \"number of contribution\": 37969}, {\"contributors\": \"Greg Kroah-Hartman @suse.de\", \"number of contribution\": 19605}, {\"contributors\": \"John W. Linville @tuxdriver.com\", \"number of contribution\": 18875}, {\"contributors\": \"Mauro Carvalho Chehab @redhat.com\", \"number of contribution\": 13372}, {\"contributors\": \"Ingo Molnar @elte.hu\", \"number of contribution\": 13311}, {\"contributors\": \"Linus Torvalds @g5.osdl.org\", \"number of contribution\": 12197}, {\"contributors\": \"Linus Torvalds @woody.linux-foundation.org\", \"number of contribution\": 8928}, {\"contributors\": \"Takashi Iwai @suse.de\", \"number of contribution\": 8661}]}}, {\"mode\": \"vega-lite\"});\n",
       "</script>"
      ],
      "text/plain": [
       "alt.Chart(...)"
      ]
     },
     "execution_count": 427,
     "metadata": {},
     "output_type": "execute_result"
    }
   ],
   "source": [
    "#### Altair Fixed Part\n",
    "max_index = df2['number of contribution'].idxmax() # max index\n",
    "\n",
    "alt.Chart(df2).mark_bar().encode(x = 'contributors', y = 'number of contribution',\n",
    "                                color = alt.condition(\n",
    "                                alt.datum.contributors == df2['contributors'][max_index],\n",
    "                                alt.value('orange'),\n",
    "                                alt.value('steelblue')\n",
    "                                )).properties(width=400)"
   ]
  },
  {
   "cell_type": "markdown",
   "id": "78a39277-0294-4475-aa34-8bd486ffd497",
   "metadata": {},
   "source": [
    "In addition to sort these data.<br>\n",
    "(Detail is alternative using :<br>\n",
    "    encode(x = 'contributors'... -> useless structure<br>\n",
    "    encode(x = alt.X('contributors')... -> to add sorting\n",
    ")"
   ]
  },
  {
   "cell_type": "code",
   "execution_count": 430,
   "id": "b22af848-5e17-4496-acd9-86c6acbb2ccf",
   "metadata": {
    "tags": []
   },
   "outputs": [
    {
     "name": "stderr",
     "output_type": "stream",
     "text": [
      "/Users/selcu/opt/anaconda3/lib/python3.10/site-packages/altair/utils/core.py:395: FutureWarning: the convert_dtype parameter is deprecated and will be removed in a future version.  Do ``ser.astype(object).apply()`` instead if you want ``convert_dtype=False``.\n",
      "  col = df[col_name].apply(to_list_if_array, convert_dtype=False)\n"
     ]
    },
    {
     "data": {
      "text/html": [
       "\n",
       "<style>\n",
       "  #altair-viz-6a5b0d771be24679a8d7d2b1fe8cbbd8.vega-embed {\n",
       "    width: 100%;\n",
       "    display: flex;\n",
       "  }\n",
       "\n",
       "  #altair-viz-6a5b0d771be24679a8d7d2b1fe8cbbd8.vega-embed details,\n",
       "  #altair-viz-6a5b0d771be24679a8d7d2b1fe8cbbd8.vega-embed details summary {\n",
       "    position: relative;\n",
       "  }\n",
       "</style>\n",
       "<div id=\"altair-viz-6a5b0d771be24679a8d7d2b1fe8cbbd8\"></div>\n",
       "<script type=\"text/javascript\">\n",
       "  var VEGA_DEBUG = (typeof VEGA_DEBUG == \"undefined\") ? {} : VEGA_DEBUG;\n",
       "  (function(spec, embedOpt){\n",
       "    let outputDiv = document.currentScript.previousElementSibling;\n",
       "    if (outputDiv.id !== \"altair-viz-6a5b0d771be24679a8d7d2b1fe8cbbd8\") {\n",
       "      outputDiv = document.getElementById(\"altair-viz-6a5b0d771be24679a8d7d2b1fe8cbbd8\");\n",
       "    }\n",
       "    const paths = {\n",
       "      \"vega\": \"https://cdn.jsdelivr.net/npm/vega@5?noext\",\n",
       "      \"vega-lib\": \"https://cdn.jsdelivr.net/npm/vega-lib?noext\",\n",
       "      \"vega-lite\": \"https://cdn.jsdelivr.net/npm/vega-lite@5.8.0?noext\",\n",
       "      \"vega-embed\": \"https://cdn.jsdelivr.net/npm/vega-embed@6?noext\",\n",
       "    };\n",
       "\n",
       "    function maybeLoadScript(lib, version) {\n",
       "      var key = `${lib.replace(\"-\", \"\")}_version`;\n",
       "      return (VEGA_DEBUG[key] == version) ?\n",
       "        Promise.resolve(paths[lib]) :\n",
       "        new Promise(function(resolve, reject) {\n",
       "          var s = document.createElement('script');\n",
       "          document.getElementsByTagName(\"head\")[0].appendChild(s);\n",
       "          s.async = true;\n",
       "          s.onload = () => {\n",
       "            VEGA_DEBUG[key] = version;\n",
       "            return resolve(paths[lib]);\n",
       "          };\n",
       "          s.onerror = () => reject(`Error loading script: ${paths[lib]}`);\n",
       "          s.src = paths[lib];\n",
       "        });\n",
       "    }\n",
       "\n",
       "    function showError(err) {\n",
       "      outputDiv.innerHTML = `<div class=\"error\" style=\"color:red;\">${err}</div>`;\n",
       "      throw err;\n",
       "    }\n",
       "\n",
       "    function displayChart(vegaEmbed) {\n",
       "      vegaEmbed(outputDiv, spec, embedOpt)\n",
       "        .catch(err => showError(`Javascript Error: ${err.message}<br>This usually means there's a typo in your chart specification. See the javascript console for the full traceback.`));\n",
       "    }\n",
       "\n",
       "    if(typeof define === \"function\" && define.amd) {\n",
       "      requirejs.config({paths});\n",
       "      require([\"vega-embed\"], displayChart, err => showError(`Error loading script: ${err.message}`));\n",
       "    } else {\n",
       "      maybeLoadScript(\"vega\", \"5\")\n",
       "        .then(() => maybeLoadScript(\"vega-lite\", \"5.8.0\"))\n",
       "        .then(() => maybeLoadScript(\"vega-embed\", \"6\"))\n",
       "        .catch(showError)\n",
       "        .then(() => displayChart(vegaEmbed));\n",
       "    }\n",
       "  })({\"config\": {\"view\": {\"continuousWidth\": 300, \"continuousHeight\": 300}}, \"data\": {\"name\": \"data-d5984975833a2db2aeecd99724c10dbd\"}, \"mark\": {\"type\": \"bar\"}, \"encoding\": {\"color\": {\"condition\": {\"test\": \"(datum.contributors === 'David S. Miller @davemloft.net')\", \"value\": \"orange\"}, \"value\": \"steelblue\"}, \"x\": {\"field\": \"contributors\", \"sort\": \"-y\", \"type\": \"nominal\"}, \"y\": {\"field\": \"number of contribution\", \"type\": \"quantitative\"}}, \"width\": 400, \"$schema\": \"https://vega.github.io/schema/vega-lite/v5.8.0.json\", \"datasets\": {\"data-d5984975833a2db2aeecd99724c10dbd\": [{\"contributors\": \"David S. Miller @davemloft.net\", \"number of contribution\": 49523}, {\"contributors\": \"Linus Torvalds @linux-foundation.org\", \"number of contribution\": 40480}, {\"contributors\": \"Greg Kroah-Hartman @linuxfoundation.org\", \"number of contribution\": 37969}, {\"contributors\": \"Greg Kroah-Hartman @suse.de\", \"number of contribution\": 19605}, {\"contributors\": \"John W. Linville @tuxdriver.com\", \"number of contribution\": 18875}, {\"contributors\": \"Mauro Carvalho Chehab @redhat.com\", \"number of contribution\": 13372}, {\"contributors\": \"Ingo Molnar @elte.hu\", \"number of contribution\": 13311}, {\"contributors\": \"Linus Torvalds @g5.osdl.org\", \"number of contribution\": 12197}, {\"contributors\": \"Linus Torvalds @woody.linux-foundation.org\", \"number of contribution\": 8928}, {\"contributors\": \"Takashi Iwai @suse.de\", \"number of contribution\": 8661}]}}, {\"mode\": \"vega-lite\"});\n",
       "</script>"
      ],
      "text/plain": [
       "alt.Chart(...)"
      ]
     },
     "execution_count": 430,
     "metadata": {},
     "output_type": "execute_result"
    }
   ],
   "source": [
    "#### In addition\n",
    "max_index = df2['number of contribution'].idxmax() # max index\n",
    "\n",
    "alt.Chart(df2).mark_bar().encode(x = alt.X('contributors').sort('-y'),\n",
    "                                 y =alt.Y('number of contribution'),\n",
    "                                color = alt.condition(\n",
    "                                alt.datum.contributors == df2['contributors'][max_index],\n",
    "                                alt.value('orange'),\n",
    "                                alt.value('steelblue')\n",
    "                                )).properties(width=400)"
   ]
  },
  {
   "cell_type": "markdown",
   "id": "d7d70f96-b758-4fda-8648-573c40932e77",
   "metadata": {},
   "source": [
    "---"
   ]
  },
  {
   "cell_type": "markdown",
   "id": "9f762871-e420-4b09-a57a-77bee59298b8",
   "metadata": {
    "tags": []
   },
   "source": [
    "### Question 3"
   ]
  },
  {
   "cell_type": "markdown",
   "id": "692ea1b3-14be-410f-8723-255caad5a9cf",
   "metadata": {},
   "source": [
    "3- Are there any developer contributing to more than 1 repos?\n"
   ]
  },
  {
   "cell_type": "markdown",
   "id": "7c807e43-6bb7-40ea-8bc1-d48f0bff42b4",
   "metadata": {},
   "source": [
    "#### SQL Part"
   ]
  },
  {
   "cell_type": "code",
   "execution_count": null,
   "id": "7ed97493-da73-4004-92f9-a7ed4d663232",
   "metadata": {},
   "outputs": [],
   "source": [
    "\"\"\"\n",
    "CREATE TABLE bruin-hiring.cdt_selcukemreozer.q3 AS\n",
    "    WITH developer_contribute as (\n",
    "    SELECT\n",
    "      committer.name as name,\n",
    "      COUNT(DISTINCT repo_name) as repo_count\n",
    "    FROM `github_repos.sample_commits`\n",
    "    GROUP BY\n",
    "      name\n",
    "    )\n",
    "    SELECT\n",
    "      developer_contribute.name as name,\n",
    "      developer_contribute.repo_count as repo_count\n",
    "    FROM developer_contribute\n",
    "    WHERE\n",
    "      repo_count > 1;\n",
    "\"\"\""
   ]
  },
  {
   "cell_type": "markdown",
   "id": "86b073cc-64be-4497-9634-045028b5fb8b",
   "metadata": {},
   "source": [
    "This part works correctly but it can be shorter"
   ]
  },
  {
   "cell_type": "code",
   "execution_count": null,
   "id": "22763d85-f2c5-494e-9192-98ec39491a22",
   "metadata": {
    "tags": []
   },
   "outputs": [],
   "source": [
    "\"\"\"\n",
    "CREATE OR REPLACE TABLE bruin-hiring.cdt_selcukemreozer.q3 as\n",
    "SELECT\n",
    "    committer.name as name,\n",
    "    COUNT(DISTINCT repo_name) as repo_count\n",
    "FROM \n",
    "    `github_repos.sample_commits`\n",
    "GROUP BY \n",
    "    name\n",
    "HAVING -- using of having provides a shorter query\n",
    "    repo_count > 1\n",
    "ORDER BY \n",
    "    repo_count DESC\n",
    "\"\"\""
   ]
  },
  {
   "cell_type": "markdown",
   "id": "a3179541-8494-41b5-be3a-356031b180cf",
   "metadata": {},
   "source": [
    "The result is the same but query is shorter."
   ]
  },
  {
   "cell_type": "markdown",
   "id": "f2aff785-e7f4-49d8-bd5f-d8651f5607f6",
   "metadata": {},
   "source": [
    "#### Altair part"
   ]
  },
  {
   "cell_type": "code",
   "execution_count": 382,
   "id": "63e51df6-c32a-4da3-b8b4-9ce66a715040",
   "metadata": {
    "tags": []
   },
   "outputs": [
    {
     "name": "stdout",
     "output_type": "stream",
     "text": [
      "data is ready!\n"
     ]
    }
   ],
   "source": [
    "query = \"\"\"\n",
    "SELECT \n",
    "    *\n",
    "FROM\n",
    "    bruin-hiring.cdt_selcukemreozer.q3;\n",
    "\"\"\"\n",
    "query_job = client.query(query)\n",
    "results = query_job.result()\n",
    "\n",
    "\n",
    "x3 = [] # for chart, creating x and y axis lists\n",
    "y3 = []\n",
    "\n",
    "for row in results:\n",
    "    x3.append(row[0])\n",
    "    y3.append(row[1])\n",
    "print(\"data is ready!\")"
   ]
  },
  {
   "cell_type": "code",
   "execution_count": 396,
   "id": "28a00f1b-c840-42db-99c8-fca87df32216",
   "metadata": {
    "tags": []
   },
   "outputs": [
    {
     "name": "stderr",
     "output_type": "stream",
     "text": [
      "/Users/selcu/opt/anaconda3/lib/python3.10/site-packages/altair/utils/core.py:395: FutureWarning: the convert_dtype parameter is deprecated and will be removed in a future version.  Do ``ser.astype(object).apply()`` instead if you want ``convert_dtype=False``.\n",
      "  col = df[col_name].apply(to_list_if_array, convert_dtype=False)\n"
     ]
    },
    {
     "data": {
      "text/html": [
       "\n",
       "<style>\n",
       "  #altair-viz-b5e1cfec8fe94ad4910f383aa041726f.vega-embed {\n",
       "    width: 100%;\n",
       "    display: flex;\n",
       "  }\n",
       "\n",
       "  #altair-viz-b5e1cfec8fe94ad4910f383aa041726f.vega-embed details,\n",
       "  #altair-viz-b5e1cfec8fe94ad4910f383aa041726f.vega-embed details summary {\n",
       "    position: relative;\n",
       "  }\n",
       "</style>\n",
       "<div id=\"altair-viz-b5e1cfec8fe94ad4910f383aa041726f\"></div>\n",
       "<script type=\"text/javascript\">\n",
       "  var VEGA_DEBUG = (typeof VEGA_DEBUG == \"undefined\") ? {} : VEGA_DEBUG;\n",
       "  (function(spec, embedOpt){\n",
       "    let outputDiv = document.currentScript.previousElementSibling;\n",
       "    if (outputDiv.id !== \"altair-viz-b5e1cfec8fe94ad4910f383aa041726f\") {\n",
       "      outputDiv = document.getElementById(\"altair-viz-b5e1cfec8fe94ad4910f383aa041726f\");\n",
       "    }\n",
       "    const paths = {\n",
       "      \"vega\": \"https://cdn.jsdelivr.net/npm/vega@5?noext\",\n",
       "      \"vega-lib\": \"https://cdn.jsdelivr.net/npm/vega-lib?noext\",\n",
       "      \"vega-lite\": \"https://cdn.jsdelivr.net/npm/vega-lite@5.8.0?noext\",\n",
       "      \"vega-embed\": \"https://cdn.jsdelivr.net/npm/vega-embed@6?noext\",\n",
       "    };\n",
       "\n",
       "    function maybeLoadScript(lib, version) {\n",
       "      var key = `${lib.replace(\"-\", \"\")}_version`;\n",
       "      return (VEGA_DEBUG[key] == version) ?\n",
       "        Promise.resolve(paths[lib]) :\n",
       "        new Promise(function(resolve, reject) {\n",
       "          var s = document.createElement('script');\n",
       "          document.getElementsByTagName(\"head\")[0].appendChild(s);\n",
       "          s.async = true;\n",
       "          s.onload = () => {\n",
       "            VEGA_DEBUG[key] = version;\n",
       "            return resolve(paths[lib]);\n",
       "          };\n",
       "          s.onerror = () => reject(`Error loading script: ${paths[lib]}`);\n",
       "          s.src = paths[lib];\n",
       "        });\n",
       "    }\n",
       "\n",
       "    function showError(err) {\n",
       "      outputDiv.innerHTML = `<div class=\"error\" style=\"color:red;\">${err}</div>`;\n",
       "      throw err;\n",
       "    }\n",
       "\n",
       "    function displayChart(vegaEmbed) {\n",
       "      vegaEmbed(outputDiv, spec, embedOpt)\n",
       "        .catch(err => showError(`Javascript Error: ${err.message}<br>This usually means there's a typo in your chart specification. See the javascript console for the full traceback.`));\n",
       "    }\n",
       "\n",
       "    if(typeof define === \"function\" && define.amd) {\n",
       "      requirejs.config({paths});\n",
       "      require([\"vega-embed\"], displayChart, err => showError(`Error loading script: ${err.message}`));\n",
       "    } else {\n",
       "      maybeLoadScript(\"vega\", \"5\")\n",
       "        .then(() => maybeLoadScript(\"vega-lite\", \"5.8.0\"))\n",
       "        .then(() => maybeLoadScript(\"vega-embed\", \"6\"))\n",
       "        .catch(showError)\n",
       "        .then(() => displayChart(vegaEmbed));\n",
       "    }\n",
       "  })({\"config\": {\"view\": {\"continuousWidth\": 300, \"continuousHeight\": 300}}, \"data\": {\"name\": \"data-e717f24636d61bbff7ab449faacc61c5\"}, \"mark\": {\"type\": \"bar\"}, \"encoding\": {\"x\": {\"field\": \"name\", \"type\": \"nominal\"}, \"y\": {\"field\": \"number of diffirent repos\", \"type\": \"quantitative\"}}, \"$schema\": \"https://vega.github.io/schema/vega-lite/v5.8.0.json\", \"datasets\": {\"data-e717f24636d61bbff7ab449faacc61c5\": [{\"name\": \"GitHub\", \"number of diffirent repos\": 4}, {\"name\": \"Prayag Verma\", \"number of diffirent repos\": 3}, {\"name\": \"Max F. Albrecht\", \"number of diffirent repos\": 2}, {\"name\": \"James Friend\", \"number of diffirent repos\": 2}, {\"name\": \"Chris Rebert\", \"number of diffirent repos\": 2}, {\"name\": \"Anton Blanchard\", \"number of diffirent repos\": 2}, {\"name\": \"Jack Zhang\", \"number of diffirent repos\": 2}, {\"name\": \"Kevin Robinson\", \"number of diffirent repos\": 2}, {\"name\": \"Henry Wong\", \"number of diffirent repos\": 2}, {\"name\": \"iamchenxin\", \"number of diffirent repos\": 2}, {\"name\": \"Andrey Popp\", \"number of diffirent repos\": 2}, {\"name\": \"Justas Brazauskas\", \"number of diffirent repos\": 2}, {\"name\": \"Christian\", \"number of diffirent repos\": 2}, {\"name\": \"Steve Baker\", \"number of diffirent repos\": 2}, {\"name\": \"Baraa Hamodi\", \"number of diffirent repos\": 2}, {\"name\": \"Jody McIntyre\", \"number of diffirent repos\": 2}, {\"name\": \"Greg Roodt\", \"number of diffirent repos\": 2}, {\"name\": \"Daniel Man\\u00e9\", \"number of diffirent repos\": 2}, {\"name\": \"Max\", \"number of diffirent repos\": 2}, {\"name\": \"Alex\", \"number of diffirent repos\": 2}, {\"name\": \"Basarat Ali Syed\", \"number of diffirent repos\": 2}, {\"name\": \"Peter Blazejewicz\", \"number of diffirent repos\": 2}, {\"name\": \"Joshua Anderson\", \"number of diffirent repos\": 2}, {\"name\": \"PatrickJS\", \"number of diffirent repos\": 2}, {\"name\": \"James\", \"number of diffirent repos\": 2}, {\"name\": \"Richard\", \"number of diffirent repos\": 2}, {\"name\": \"Julian Viereck\", \"number of diffirent repos\": 2}, {\"name\": \"Pascal Borreli\", \"number of diffirent repos\": 2}]}}, {\"mode\": \"vega-lite\"});\n",
       "</script>"
      ],
      "text/plain": [
       "alt.Chart(...)"
      ]
     },
     "execution_count": 396,
     "metadata": {},
     "output_type": "execute_result"
    }
   ],
   "source": [
    "df = pd.DataFrame({'name':x3,'number of diffirent repos':y3})\n",
    "alt.Chart(df).mark_bar().encode(x='name',y='number of diffirent repos')"
   ]
  },
  {
   "cell_type": "markdown",
   "id": "4d7a6fb1-fa23-47f5-8883-55dedb783e85",
   "metadata": {},
   "source": [
    "Above code there is an unaesthetic view, to fix that(sort):"
   ]
  },
  {
   "cell_type": "code",
   "execution_count": 390,
   "id": "faeecf6a-8528-44b4-b0e4-044880d939c9",
   "metadata": {
    "tags": []
   },
   "outputs": [
    {
     "name": "stderr",
     "output_type": "stream",
     "text": [
      "/Users/selcu/opt/anaconda3/lib/python3.10/site-packages/altair/utils/core.py:395: FutureWarning: the convert_dtype parameter is deprecated and will be removed in a future version.  Do ``ser.astype(object).apply()`` instead if you want ``convert_dtype=False``.\n",
      "  col = df[col_name].apply(to_list_if_array, convert_dtype=False)\n"
     ]
    },
    {
     "data": {
      "text/html": [
       "\n",
       "<style>\n",
       "  #altair-viz-72ebca1a5a51406d938c9d17eb40ea28.vega-embed {\n",
       "    width: 100%;\n",
       "    display: flex;\n",
       "  }\n",
       "\n",
       "  #altair-viz-72ebca1a5a51406d938c9d17eb40ea28.vega-embed details,\n",
       "  #altair-viz-72ebca1a5a51406d938c9d17eb40ea28.vega-embed details summary {\n",
       "    position: relative;\n",
       "  }\n",
       "</style>\n",
       "<div id=\"altair-viz-72ebca1a5a51406d938c9d17eb40ea28\"></div>\n",
       "<script type=\"text/javascript\">\n",
       "  var VEGA_DEBUG = (typeof VEGA_DEBUG == \"undefined\") ? {} : VEGA_DEBUG;\n",
       "  (function(spec, embedOpt){\n",
       "    let outputDiv = document.currentScript.previousElementSibling;\n",
       "    if (outputDiv.id !== \"altair-viz-72ebca1a5a51406d938c9d17eb40ea28\") {\n",
       "      outputDiv = document.getElementById(\"altair-viz-72ebca1a5a51406d938c9d17eb40ea28\");\n",
       "    }\n",
       "    const paths = {\n",
       "      \"vega\": \"https://cdn.jsdelivr.net/npm/vega@5?noext\",\n",
       "      \"vega-lib\": \"https://cdn.jsdelivr.net/npm/vega-lib?noext\",\n",
       "      \"vega-lite\": \"https://cdn.jsdelivr.net/npm/vega-lite@5.8.0?noext\",\n",
       "      \"vega-embed\": \"https://cdn.jsdelivr.net/npm/vega-embed@6?noext\",\n",
       "    };\n",
       "\n",
       "    function maybeLoadScript(lib, version) {\n",
       "      var key = `${lib.replace(\"-\", \"\")}_version`;\n",
       "      return (VEGA_DEBUG[key] == version) ?\n",
       "        Promise.resolve(paths[lib]) :\n",
       "        new Promise(function(resolve, reject) {\n",
       "          var s = document.createElement('script');\n",
       "          document.getElementsByTagName(\"head\")[0].appendChild(s);\n",
       "          s.async = true;\n",
       "          s.onload = () => {\n",
       "            VEGA_DEBUG[key] = version;\n",
       "            return resolve(paths[lib]);\n",
       "          };\n",
       "          s.onerror = () => reject(`Error loading script: ${paths[lib]}`);\n",
       "          s.src = paths[lib];\n",
       "        });\n",
       "    }\n",
       "\n",
       "    function showError(err) {\n",
       "      outputDiv.innerHTML = `<div class=\"error\" style=\"color:red;\">${err}</div>`;\n",
       "      throw err;\n",
       "    }\n",
       "\n",
       "    function displayChart(vegaEmbed) {\n",
       "      vegaEmbed(outputDiv, spec, embedOpt)\n",
       "        .catch(err => showError(`Javascript Error: ${err.message}<br>This usually means there's a typo in your chart specification. See the javascript console for the full traceback.`));\n",
       "    }\n",
       "\n",
       "    if(typeof define === \"function\" && define.amd) {\n",
       "      requirejs.config({paths});\n",
       "      require([\"vega-embed\"], displayChart, err => showError(`Error loading script: ${err.message}`));\n",
       "    } else {\n",
       "      maybeLoadScript(\"vega\", \"5\")\n",
       "        .then(() => maybeLoadScript(\"vega-lite\", \"5.8.0\"))\n",
       "        .then(() => maybeLoadScript(\"vega-embed\", \"6\"))\n",
       "        .catch(showError)\n",
       "        .then(() => displayChart(vegaEmbed));\n",
       "    }\n",
       "  })({\"config\": {\"view\": {\"continuousWidth\": 300, \"continuousHeight\": 300}}, \"data\": {\"name\": \"data-e717f24636d61bbff7ab449faacc61c5\"}, \"mark\": {\"type\": \"bar\"}, \"encoding\": {\"x\": {\"field\": \"name\", \"sort\": \"-y\", \"type\": \"nominal\"}, \"y\": {\"field\": \"number of diffirent repos\", \"type\": \"quantitative\"}}, \"$schema\": \"https://vega.github.io/schema/vega-lite/v5.8.0.json\", \"datasets\": {\"data-e717f24636d61bbff7ab449faacc61c5\": [{\"name\": \"GitHub\", \"number of diffirent repos\": 4}, {\"name\": \"Prayag Verma\", \"number of diffirent repos\": 3}, {\"name\": \"Max F. Albrecht\", \"number of diffirent repos\": 2}, {\"name\": \"James Friend\", \"number of diffirent repos\": 2}, {\"name\": \"Chris Rebert\", \"number of diffirent repos\": 2}, {\"name\": \"Anton Blanchard\", \"number of diffirent repos\": 2}, {\"name\": \"Jack Zhang\", \"number of diffirent repos\": 2}, {\"name\": \"Kevin Robinson\", \"number of diffirent repos\": 2}, {\"name\": \"Henry Wong\", \"number of diffirent repos\": 2}, {\"name\": \"iamchenxin\", \"number of diffirent repos\": 2}, {\"name\": \"Andrey Popp\", \"number of diffirent repos\": 2}, {\"name\": \"Justas Brazauskas\", \"number of diffirent repos\": 2}, {\"name\": \"Christian\", \"number of diffirent repos\": 2}, {\"name\": \"Steve Baker\", \"number of diffirent repos\": 2}, {\"name\": \"Baraa Hamodi\", \"number of diffirent repos\": 2}, {\"name\": \"Jody McIntyre\", \"number of diffirent repos\": 2}, {\"name\": \"Greg Roodt\", \"number of diffirent repos\": 2}, {\"name\": \"Daniel Man\\u00e9\", \"number of diffirent repos\": 2}, {\"name\": \"Max\", \"number of diffirent repos\": 2}, {\"name\": \"Alex\", \"number of diffirent repos\": 2}, {\"name\": \"Basarat Ali Syed\", \"number of diffirent repos\": 2}, {\"name\": \"Peter Blazejewicz\", \"number of diffirent repos\": 2}, {\"name\": \"Joshua Anderson\", \"number of diffirent repos\": 2}, {\"name\": \"PatrickJS\", \"number of diffirent repos\": 2}, {\"name\": \"James\", \"number of diffirent repos\": 2}, {\"name\": \"Richard\", \"number of diffirent repos\": 2}, {\"name\": \"Julian Viereck\", \"number of diffirent repos\": 2}, {\"name\": \"Pascal Borreli\", \"number of diffirent repos\": 2}]}}, {\"mode\": \"vega-lite\"});\n",
       "</script>"
      ],
      "text/plain": [
       "alt.Chart(...)"
      ]
     },
     "execution_count": 390,
     "metadata": {},
     "output_type": "execute_result"
    }
   ],
   "source": [
    "alt.Chart(df).mark_bar().encode(x=alt.X('name').sort('-y'),y=alt.Y('number of diffirent repos'))"
   ]
  },
  {
   "cell_type": "markdown",
   "id": "4da72b2a-6de0-44e9-93be-815f3620b885",
   "metadata": {},
   "source": [
    "---"
   ]
  },
  {
   "cell_type": "markdown",
   "id": "7a8b26a6-3ba7-42e3-aefe-7879b3d60603",
   "metadata": {},
   "source": [
    "Question 4 has the same problem with Question 3"
   ]
  },
  {
   "cell_type": "markdown",
   "id": "156348a5-64f1-4137-9993-98dfe0b58150",
   "metadata": {},
   "source": [
    "---"
   ]
  },
  {
   "cell_type": "markdown",
   "id": "f0f91cfe-035f-49b0-a33e-cc5106e7a736",
   "metadata": {
    "tags": []
   },
   "source": [
    "### Question 5"
   ]
  },
  {
   "cell_type": "markdown",
   "id": "7b92259f-d1dc-4e65-b59c-3ef38225485f",
   "metadata": {},
   "source": [
    "Number of commits per day"
   ]
  },
  {
   "cell_type": "code",
   "execution_count": 441,
   "id": "c1a6fa0c-0513-46f9-b5be-d30bfd6cdab3",
   "metadata": {
    "tags": []
   },
   "outputs": [
    {
     "name": "stdout",
     "output_type": "stream",
     "text": [
      "query is ready\n"
     ]
    }
   ],
   "source": [
    "query = \"\"\"\n",
    "SELECT \n",
    "    *\n",
    "FROM\n",
    "    bruin-hiring.cdt_selcukemreozer.q5\n",
    "\"\"\"\n",
    "\n",
    "query_job = client.query(query)\n",
    "results = query_job.result()\n",
    "\n",
    "x5 = [] # for chart, creating x and y axis lists\n",
    "y5 = []\n",
    "\n",
    "\n",
    "for row in results:\n",
    "    x5.append(row[0])\n",
    "    y5.append(row[1])\n",
    "print('query is ready')"
   ]
  },
  {
   "cell_type": "code",
   "execution_count": 496,
   "id": "8917938e-eb53-49ce-bbf2-1276f637359b",
   "metadata": {
    "tags": []
   },
   "outputs": [],
   "source": [
    "df5 = pd.DataFrame({'date':x5,'number of commits':y5})\n",
    "df5[\"date\"] = pd.to_datetime(df5[\"date\"])"
   ]
  },
  {
   "cell_type": "markdown",
   "id": "1ab05de5-6efb-4a24-b46b-fde30e7a984f",
   "metadata": {},
   "source": [
    "Above code line, the point is that date should not be a string type, to is scale by altair library. It must be date type. (.to_datetime())"
   ]
  },
  {
   "cell_type": "code",
   "execution_count": 472,
   "id": "883055be-efe2-404a-8bd8-34629a841a8d",
   "metadata": {
    "tags": []
   },
   "outputs": [],
   "source": [
    "# an example using\n",
    "data = ['01-01-2023']\n",
    "df_date = pd.DataFrame({'date_string': data})\n",
    "\n",
    "df_date['date'] = pd.to_datetime(df_date['date_string'], format='%d-%m-%Y')\n"
   ]
  },
  {
   "cell_type": "code",
   "execution_count": 470,
   "id": "4d9a5f6a-8530-4e5d-b7e6-ee487ed62905",
   "metadata": {
    "tags": []
   },
   "outputs": [
    {
     "data": {
      "text/html": [
       "<div>\n",
       "<style scoped>\n",
       "    .dataframe tbody tr th:only-of-type {\n",
       "        vertical-align: middle;\n",
       "    }\n",
       "\n",
       "    .dataframe tbody tr th {\n",
       "        vertical-align: top;\n",
       "    }\n",
       "\n",
       "    .dataframe thead th {\n",
       "        text-align: right;\n",
       "    }\n",
       "</style>\n",
       "<table border=\"1\" class=\"dataframe\">\n",
       "  <thead>\n",
       "    <tr style=\"text-align: right;\">\n",
       "      <th></th>\n",
       "      <th>date_string</th>\n",
       "      <th>date</th>\n",
       "    </tr>\n",
       "  </thead>\n",
       "  <tbody>\n",
       "    <tr>\n",
       "      <th>0</th>\n",
       "      <td>01-01-2023</td>\n",
       "      <td>2023-01-01</td>\n",
       "    </tr>\n",
       "  </tbody>\n",
       "</table>\n",
       "</div>"
      ],
      "text/plain": [
       "  date_string       date\n",
       "0  01-01-2023 2023-01-01"
      ]
     },
     "execution_count": 470,
     "metadata": {},
     "output_type": "execute_result"
    }
   ],
   "source": [
    "df_date"
   ]
  },
  {
   "cell_type": "code",
   "execution_count": 541,
   "id": "962842ed-473c-4c39-92d1-6a8cc97442fa",
   "metadata": {
    "tags": []
   },
   "outputs": [
    {
     "data": {
      "text/html": [
       "\n",
       "<style>\n",
       "  #altair-viz-90bc4bcb615c4f5997264c287dcffe9d.vega-embed {\n",
       "    width: 100%;\n",
       "    display: flex;\n",
       "  }\n",
       "\n",
       "  #altair-viz-90bc4bcb615c4f5997264c287dcffe9d.vega-embed details,\n",
       "  #altair-viz-90bc4bcb615c4f5997264c287dcffe9d.vega-embed details summary {\n",
       "    position: relative;\n",
       "  }\n",
       "</style>\n",
       "<div id=\"altair-viz-90bc4bcb615c4f5997264c287dcffe9d\"></div>\n",
       "<script type=\"text/javascript\">\n",
       "  var VEGA_DEBUG = (typeof VEGA_DEBUG == \"undefined\") ? {} : VEGA_DEBUG;\n",
       "  (function(spec, embedOpt){\n",
       "    let outputDiv = document.currentScript.previousElementSibling;\n",
       "    if (outputDiv.id !== \"altair-viz-90bc4bcb615c4f5997264c287dcffe9d\") {\n",
       "      outputDiv = document.getElementById(\"altair-viz-90bc4bcb615c4f5997264c287dcffe9d\");\n",
       "    }\n",
       "    const paths = {\n",
       "      \"vega\": \"https://cdn.jsdelivr.net/npm/vega@5?noext\",\n",
       "      \"vega-lib\": \"https://cdn.jsdelivr.net/npm/vega-lib?noext\",\n",
       "      \"vega-lite\": \"https://cdn.jsdelivr.net/npm/vega-lite@5.8.0?noext\",\n",
       "      \"vega-embed\": \"https://cdn.jsdelivr.net/npm/vega-embed@6?noext\",\n",
       "    };\n",
       "\n",
       "    function maybeLoadScript(lib, version) {\n",
       "      var key = `${lib.replace(\"-\", \"\")}_version`;\n",
       "      return (VEGA_DEBUG[key] == version) ?\n",
       "        Promise.resolve(paths[lib]) :\n",
       "        new Promise(function(resolve, reject) {\n",
       "          var s = document.createElement('script');\n",
       "          document.getElementsByTagName(\"head\")[0].appendChild(s);\n",
       "          s.async = true;\n",
       "          s.onload = () => {\n",
       "            VEGA_DEBUG[key] = version;\n",
       "            return resolve(paths[lib]);\n",
       "          };\n",
       "          s.onerror = () => reject(`Error loading script: ${paths[lib]}`);\n",
       "          s.src = paths[lib];\n",
       "        });\n",
       "    }\n",
       "\n",
       "    function showError(err) {\n",
       "      outputDiv.innerHTML = `<div class=\"error\" style=\"color:red;\">${err}</div>`;\n",
       "      throw err;\n",
       "    }\n",
       "\n",
       "    function displayChart(vegaEmbed) {\n",
       "      vegaEmbed(outputDiv, spec, embedOpt)\n",
       "        .catch(err => showError(`Javascript Error: ${err.message}<br>This usually means there's a typo in your chart specification. See the javascript console for the full traceback.`));\n",
       "    }\n",
       "\n",
       "    if(typeof define === \"function\" && define.amd) {\n",
       "      requirejs.config({paths});\n",
       "      require([\"vega-embed\"], displayChart, err => showError(`Error loading script: ${err.message}`));\n",
       "    } else {\n",
       "      maybeLoadScript(\"vega\", \"5\")\n",
       "        .then(() => maybeLoadScript(\"vega-lite\", \"5.8.0\"))\n",
       "        .then(() => maybeLoadScript(\"vega-embed\", \"6\"))\n",
       "        .catch(showError)\n",
       "        .then(() => displayChart(vegaEmbed));\n",
       "    }\n",
       "  })({\"config\": {\"view\": {\"continuousWidth\": 300, \"continuousHeight\": 300}}, \"data\": {\"name\": \"data-5da9fc73c4bbcc2e0dab57568fc8fa77\"}, \"mark\": {\"type\": \"point\"}, \"encoding\": {\"x\": {\"field\": \"date\", \"type\": \"temporal\"}, \"y\": {\"field\": \"number of commits\", \"type\": \"quantitative\"}}, \"width\": 1200, \"$schema\": \"https://vega.github.io/schema/vega-lite/v5.8.0.json\", \"datasets\": {\"data-5da9fc73c4bbcc2e0dab57568fc8fa77\": [{\"date\": \"2008-01-28T00:00:00\", \"number of commits\": 1924}, {\"date\": \"2007-10-10T00:00:00\", \"number of commits\": 1424}, {\"date\": \"2008-01-30T00:00:00\", \"number of commits\": 1378}, {\"date\": \"2008-01-25T00:00:00\", \"number of commits\": 1148}, {\"date\": \"2009-04-03T00:00:00\", \"number of commits\": 1147}, {\"date\": \"2008-04-17T00:00:00\", \"number of commits\": 1133}, {\"date\": \"2008-04-24T00:00:00\", \"number of commits\": 939}, {\"date\": \"2009-03-30T00:00:00\", \"number of commits\": 938}, {\"date\": \"2007-10-16T00:00:00\", \"number of commits\": 928}, {\"date\": \"2014-10-20T00:00:00\", \"number of commits\": 913}, {\"date\": \"2009-06-16T00:00:00\", \"number of commits\": 900}, {\"date\": \"2009-09-15T00:00:00\", \"number of commits\": 874}, {\"date\": \"2009-01-06T00:00:00\", \"number of commits\": 867}, {\"date\": \"2007-10-12T00:00:00\", \"number of commits\": 866}, {\"date\": \"2015-11-16T00:00:00\", \"number of commits\": 852}, {\"date\": \"2010-10-21T00:00:00\", \"number of commits\": 843}, {\"date\": \"2014-05-23T00:00:00\", \"number of commits\": 840}, {\"date\": \"2015-09-29T00:00:00\", \"number of commits\": 812}, {\"date\": \"2013-06-17T00:00:00\", \"number of commits\": 755}, {\"date\": \"2008-02-01T00:00:00\", \"number of commits\": 746}, {\"date\": \"2006-09-26T00:00:00\", \"number of commits\": 738}, {\"date\": \"2006-12-07T00:00:00\", \"number of commits\": 738}, {\"date\": \"2010-05-11T00:00:00\", \"number of commits\": 736}, {\"date\": \"2015-10-13T00:00:00\", \"number of commits\": 716}, {\"date\": \"2016-03-11T00:00:00\", \"number of commits\": 703}, {\"date\": \"2010-08-02T00:00:00\", \"number of commits\": 692}, {\"date\": \"2016-02-24T00:00:00\", \"number of commits\": 690}, {\"date\": \"2016-02-29T00:00:00\", \"number of commits\": 686}, {\"date\": \"2016-02-08T00:00:00\", \"number of commits\": 682}, {\"date\": \"2006-01-09T00:00:00\", \"number of commits\": 681}, {\"date\": \"2008-02-08T00:00:00\", \"number of commits\": 673}, {\"date\": \"2008-04-29T00:00:00\", \"number of commits\": 664}, {\"date\": \"2007-05-08T00:00:00\", \"number of commits\": 660}, {\"date\": \"2013-09-26T00:00:00\", \"number of commits\": 650}, {\"date\": \"2009-03-24T00:00:00\", \"number of commits\": 650}, {\"date\": \"2010-02-26T00:00:00\", \"number of commits\": 638}, {\"date\": \"2012-11-21T00:00:00\", \"number of commits\": 633}, {\"date\": \"2014-10-29T00:00:00\", \"number of commits\": 627}, {\"date\": \"2014-05-16T00:00:00\", \"number of commits\": 624}, {\"date\": \"2013-03-18T00:00:00\", \"number of commits\": 622}, {\"date\": \"2010-05-18T00:00:00\", \"number of commits\": 616}, {\"date\": \"2015-12-18T00:00:00\", \"number of commits\": 613}, {\"date\": \"2015-12-21T00:00:00\", \"number of commits\": 612}, {\"date\": \"2016-05-13T00:00:00\", \"number of commits\": 606}, {\"date\": \"2009-12-16T00:00:00\", \"number of commits\": 606}, {\"date\": \"2014-03-17T00:00:00\", \"number of commits\": 603}, {\"date\": \"2015-12-03T00:00:00\", \"number of commits\": 602}, {\"date\": \"2008-12-29T00:00:00\", \"number of commits\": 602}, {\"date\": \"2013-04-08T00:00:00\", \"number of commits\": 602}, {\"date\": \"2016-03-03T00:00:00\", \"number of commits\": 600}, {\"date\": \"2009-09-23T00:00:00\", \"number of commits\": 599}, {\"date\": \"2014-06-19T00:00:00\", \"number of commits\": 596}, {\"date\": \"2006-06-26T00:00:00\", \"number of commits\": 596}, {\"date\": \"2013-07-03T00:00:00\", \"number of commits\": 594}, {\"date\": \"2014-07-18T00:00:00\", \"number of commits\": 594}, {\"date\": \"2008-10-16T00:00:00\", \"number of commits\": 594}, {\"date\": \"2009-12-11T00:00:00\", \"number of commits\": 590}, {\"date\": \"2014-09-24T00:00:00\", \"number of commits\": 581}, {\"date\": \"2016-02-03T00:00:00\", \"number of commits\": 579}, {\"date\": \"2013-08-22T00:00:00\", \"number of commits\": 578}, {\"date\": \"2014-07-08T00:00:00\", \"number of commits\": 575}, {\"date\": \"2011-07-27T00:00:00\", \"number of commits\": 575}, {\"date\": \"2014-09-08T00:00:00\", \"number of commits\": 574}, {\"date\": \"2015-12-15T00:00:00\", \"number of commits\": 572}, {\"date\": \"2014-04-14T00:00:00\", \"number of commits\": 569}, {\"date\": \"2016-02-26T00:00:00\", \"number of commits\": 568}, {\"date\": \"2012-05-14T00:00:00\", \"number of commits\": 568}, {\"date\": \"2010-05-19T00:00:00\", \"number of commits\": 568}, {\"date\": \"2016-01-11T00:00:00\", \"number of commits\": 568}, {\"date\": \"2007-10-17T00:00:00\", \"number of commits\": 566}, {\"date\": \"2007-04-26T00:00:00\", \"number of commits\": 564}, {\"date\": \"2016-04-29T00:00:00\", \"number of commits\": 563}, {\"date\": \"2016-04-13T00:00:00\", \"number of commits\": 560}, {\"date\": \"2008-09-25T00:00:00\", \"number of commits\": 560}, {\"date\": \"2015-04-03T00:00:00\", \"number of commits\": 557}, {\"date\": \"2011-05-25T00:00:00\", \"number of commits\": 557}, {\"date\": \"2014-02-18T00:00:00\", \"number of commits\": 556}, {\"date\": \"2010-08-05T00:00:00\", \"number of commits\": 556}, {\"date\": \"2015-12-22T00:00:00\", \"number of commits\": 555}, {\"date\": \"2011-03-23T00:00:00\", \"number of commits\": 555}, {\"date\": \"2014-07-10T00:00:00\", \"number of commits\": 554}, {\"date\": \"2016-04-26T00:00:00\", \"number of commits\": 549}, {\"date\": \"2014-11-24T00:00:00\", \"number of commits\": 546}, {\"date\": \"2013-03-15T00:00:00\", \"number of commits\": 546}, {\"date\": \"2008-10-13T00:00:00\", \"number of commits\": 540}, {\"date\": \"2016-04-28T00:00:00\", \"number of commits\": 540}, {\"date\": \"2015-01-27T00:00:00\", \"number of commits\": 539}, {\"date\": \"2016-02-25T00:00:00\", \"number of commits\": 538}, {\"date\": \"2014-07-09T00:00:00\", \"number of commits\": 538}, {\"date\": \"2010-10-28T00:00:00\", \"number of commits\": 535}, {\"date\": \"2012-06-05T00:00:00\", \"number of commits\": 534}, {\"date\": \"2010-10-22T00:00:00\", \"number of commits\": 530}, {\"date\": \"2010-08-10T00:00:00\", \"number of commits\": 528}, {\"date\": \"2006-09-27T00:00:00\", \"number of commits\": 527}, {\"date\": \"2014-03-04T00:00:00\", \"number of commits\": 526}, {\"date\": \"2006-03-20T00:00:00\", \"number of commits\": 526}, {\"date\": \"2015-05-08T00:00:00\", \"number of commits\": 525}, {\"date\": \"2016-03-14T00:00:00\", \"number of commits\": 524}, {\"date\": \"2015-05-19T00:00:00\", \"number of commits\": 523}, {\"date\": \"2013-09-11T00:00:00\", \"number of commits\": 523}, {\"date\": \"2016-03-28T00:00:00\", \"number of commits\": 523}, {\"date\": \"2009-01-29T00:00:00\", \"number of commits\": 523}, {\"date\": \"2015-04-02T00:00:00\", \"number of commits\": 522}, {\"date\": \"2012-11-08T00:00:00\", \"number of commits\": 522}, {\"date\": \"2012-10-01T00:00:00\", \"number of commits\": 522}, {\"date\": \"2005-10-28T00:00:00\", \"number of commits\": 521}, {\"date\": \"2009-01-07T00:00:00\", \"number of commits\": 519}, {\"date\": \"2012-05-09T00:00:00\", \"number of commits\": 515}, {\"date\": \"2012-11-28T00:00:00\", \"number of commits\": 511}, {\"date\": \"2011-05-19T00:00:00\", \"number of commits\": 511}, {\"date\": \"2013-12-18T00:00:00\", \"number of commits\": 511}, {\"date\": \"2016-03-10T00:00:00\", \"number of commits\": 510}, {\"date\": \"2016-03-08T00:00:00\", \"number of commits\": 509}, {\"date\": \"2014-02-13T00:00:00\", \"number of commits\": 505}, {\"date\": \"2014-03-07T00:00:00\", \"number of commits\": 504}, {\"date\": \"2016-03-02T00:00:00\", \"number of commits\": 504}, {\"date\": \"2015-08-28T00:00:00\", \"number of commits\": 504}, {\"date\": \"2014-07-22T00:00:00\", \"number of commits\": 503}, {\"date\": \"2016-03-09T00:00:00\", \"number of commits\": 503}, {\"date\": \"2016-05-20T00:00:00\", \"number of commits\": 502}, {\"date\": \"2010-10-24T00:00:00\", \"number of commits\": 501}, {\"date\": \"2009-06-17T00:00:00\", \"number of commits\": 500}, {\"date\": \"2013-08-30T00:00:00\", \"number of commits\": 499}, {\"date\": \"2011-03-14T00:00:00\", \"number of commits\": 495}, {\"date\": \"2008-07-24T00:00:00\", \"number of commits\": 494}, {\"date\": \"2016-03-01T00:00:00\", \"number of commits\": 493}, {\"date\": \"2015-12-14T00:00:00\", \"number of commits\": 492}, {\"date\": \"2013-03-25T00:00:00\", \"number of commits\": 491}, {\"date\": \"2013-04-09T00:00:00\", \"number of commits\": 491}, {\"date\": \"2014-09-16T00:00:00\", \"number of commits\": 490}, {\"date\": \"2010-03-04T00:00:00\", \"number of commits\": 490}, {\"date\": \"2013-10-11T00:00:00\", \"number of commits\": 489}, {\"date\": \"2006-12-08T00:00:00\", \"number of commits\": 489}, {\"date\": \"2015-05-31T00:00:00\", \"number of commits\": 488}, {\"date\": \"2007-07-11T00:00:00\", \"number of commits\": 488}, {\"date\": \"2013-11-08T00:00:00\", \"number of commits\": 487}, {\"date\": \"2014-11-26T00:00:00\", \"number of commits\": 485}, {\"date\": \"2016-03-31T00:00:00\", \"number of commits\": 485}, {\"date\": \"2016-04-19T00:00:00\", \"number of commits\": 485}, {\"date\": \"2014-07-23T00:00:00\", \"number of commits\": 484}, {\"date\": \"2013-07-23T00:00:00\", \"number of commits\": 484}, {\"date\": \"2016-02-18T00:00:00\", \"number of commits\": 482}, {\"date\": \"2015-08-05T00:00:00\", \"number of commits\": 482}, {\"date\": \"2006-12-03T00:00:00\", \"number of commits\": 481}, {\"date\": \"2013-12-19T00:00:00\", \"number of commits\": 480}, {\"date\": \"2013-04-30T00:00:00\", \"number of commits\": 480}, {\"date\": \"2016-02-16T00:00:00\", \"number of commits\": 479}, {\"date\": \"2014-06-04T00:00:00\", \"number of commits\": 478}, {\"date\": \"2007-07-16T00:00:00\", \"number of commits\": 478}, {\"date\": \"2016-01-07T00:00:00\", \"number of commits\": 477}, {\"date\": \"2016-04-05T00:00:00\", \"number of commits\": 476}, {\"date\": \"2016-02-23T00:00:00\", \"number of commits\": 474}, {\"date\": \"2015-12-04T00:00:00\", \"number of commits\": 474}, {\"date\": \"2013-05-02T00:00:00\", \"number of commits\": 474}, {\"date\": \"2015-03-02T00:00:00\", \"number of commits\": 474}, {\"date\": \"2013-08-12T00:00:00\", \"number of commits\": 474}, {\"date\": \"2009-06-19T00:00:00\", \"number of commits\": 474}, {\"date\": \"2014-12-03T00:00:00\", \"number of commits\": 473}, {\"date\": \"2016-04-15T00:00:00\", \"number of commits\": 472}, {\"date\": \"2008-04-28T00:00:00\", \"number of commits\": 472}, {\"date\": \"2006-06-25T00:00:00\", \"number of commits\": 472}, {\"date\": \"2011-05-20T00:00:00\", \"number of commits\": 471}, {\"date\": \"2008-10-17T00:00:00\", \"number of commits\": 471}, {\"date\": \"2010-05-17T00:00:00\", \"number of commits\": 470}, {\"date\": \"2014-11-07T00:00:00\", \"number of commits\": 469}, {\"date\": \"2013-12-09T00:00:00\", \"number of commits\": 468}, {\"date\": \"2016-02-10T00:00:00\", \"number of commits\": 468}, {\"date\": \"2013-01-07T00:00:00\", \"number of commits\": 468}, {\"date\": \"2015-01-22T00:00:00\", \"number of commits\": 467}, {\"date\": \"2016-02-19T00:00:00\", \"number of commits\": 467}, {\"date\": \"2016-02-09T00:00:00\", \"number of commits\": 466}, {\"date\": \"2016-02-12T00:00:00\", \"number of commits\": 466}, {\"date\": \"2005-10-29T00:00:00\", \"number of commits\": 465}, {\"date\": \"2014-09-03T00:00:00\", \"number of commits\": 464}, {\"date\": \"2014-07-16T00:00:00\", \"number of commits\": 464}, {\"date\": \"2013-12-17T00:00:00\", \"number of commits\": 464}, {\"date\": \"2008-02-07T00:00:00\", \"number of commits\": 464}, {\"date\": \"2007-10-11T00:00:00\", \"number of commits\": 463}, {\"date\": \"2016-05-02T00:00:00\", \"number of commits\": 461}, {\"date\": \"2014-11-03T00:00:00\", \"number of commits\": 460}, {\"date\": \"2016-05-09T00:00:00\", \"number of commits\": 460}, {\"date\": \"2014-11-04T00:00:00\", \"number of commits\": 460}, {\"date\": \"2013-10-09T00:00:00\", \"number of commits\": 460}, {\"date\": \"2014-04-03T00:00:00\", \"number of commits\": 459}, {\"date\": \"2016-05-11T00:00:00\", \"number of commits\": 459}, {\"date\": \"2011-05-11T00:00:00\", \"number of commits\": 458}, {\"date\": \"2007-04-27T00:00:00\", \"number of commits\": 458}, {\"date\": \"2014-05-22T00:00:00\", \"number of commits\": 457}, {\"date\": \"2012-07-17T00:00:00\", \"number of commits\": 457}, {\"date\": \"2016-01-25T00:00:00\", \"number of commits\": 456}, {\"date\": \"2006-09-22T00:00:00\", \"number of commits\": 455}, {\"date\": \"2012-09-24T00:00:00\", \"number of commits\": 454}, {\"date\": \"2012-07-06T00:00:00\", \"number of commits\": 454}, {\"date\": \"2015-03-26T00:00:00\", \"number of commits\": 453}, {\"date\": \"2010-05-20T00:00:00\", \"number of commits\": 452}, {\"date\": \"2016-05-05T00:00:00\", \"number of commits\": 451}, {\"date\": \"2016-03-17T00:00:00\", \"number of commits\": 450}, {\"date\": \"2014-01-08T00:00:00\", \"number of commits\": 450}, {\"date\": \"2006-01-06T00:00:00\", \"number of commits\": 450}, {\"date\": \"2016-04-25T00:00:00\", \"number of commits\": 449}, {\"date\": \"2014-01-22T00:00:00\", \"number of commits\": 449}, {\"date\": \"2014-05-19T00:00:00\", \"number of commits\": 448}, {\"date\": \"2016-05-10T00:00:00\", \"number of commits\": 448}, {\"date\": \"2009-12-15T00:00:00\", \"number of commits\": 447}, {\"date\": \"2014-03-19T00:00:00\", \"number of commits\": 445}, {\"date\": \"2015-10-14T00:00:00\", \"number of commits\": 444}, {\"date\": \"2015-08-17T00:00:00\", \"number of commits\": 440}, {\"date\": \"2015-12-17T00:00:00\", \"number of commits\": 440}, {\"date\": \"2013-08-14T00:00:00\", \"number of commits\": 440}, {\"date\": \"2009-04-07T00:00:00\", \"number of commits\": 439}, {\"date\": \"2016-05-03T00:00:00\", \"number of commits\": 439}, {\"date\": \"2016-02-22T00:00:00\", \"number of commits\": 438}, {\"date\": \"2014-11-06T00:00:00\", \"number of commits\": 438}, {\"date\": \"2013-11-13T00:00:00\", \"number of commits\": 438}, {\"date\": \"2005-11-07T00:00:00\", \"number of commits\": 437}, {\"date\": \"2011-01-13T00:00:00\", \"number of commits\": 436}, {\"date\": \"2016-02-17T00:00:00\", \"number of commits\": 435}, {\"date\": \"2015-12-10T00:00:00\", \"number of commits\": 434}, {\"date\": \"2005-11-09T00:00:00\", \"number of commits\": 434}, {\"date\": \"2016-04-14T00:00:00\", \"number of commits\": 433}, {\"date\": \"2015-07-23T00:00:00\", \"number of commits\": 433}, {\"date\": \"2015-06-02T00:00:00\", \"number of commits\": 432}, {\"date\": \"2015-12-08T00:00:00\", \"number of commits\": 432}, {\"date\": \"2011-08-24T00:00:00\", \"number of commits\": 430}, {\"date\": \"2016-02-20T00:00:00\", \"number of commits\": 430}, {\"date\": \"2012-09-06T00:00:00\", \"number of commits\": 429}, {\"date\": \"2015-06-03T00:00:00\", \"number of commits\": 429}, {\"date\": \"2014-07-31T00:00:00\", \"number of commits\": 429}, {\"date\": \"2015-07-06T00:00:00\", \"number of commits\": 428}, {\"date\": \"2007-07-18T00:00:00\", \"number of commits\": 427}, {\"date\": \"2014-02-07T00:00:00\", \"number of commits\": 426}, {\"date\": \"2015-04-01T00:00:00\", \"number of commits\": 425}, {\"date\": \"2013-12-10T00:00:00\", \"number of commits\": 425}, {\"date\": \"2016-05-17T00:00:00\", \"number of commits\": 425}, {\"date\": \"2012-11-15T00:00:00\", \"number of commits\": 424}, {\"date\": \"2014-11-20T00:00:00\", \"number of commits\": 423}, {\"date\": \"2014-01-07T00:00:00\", \"number of commits\": 423}, {\"date\": \"2009-09-19T00:00:00\", \"number of commits\": 423}, {\"date\": \"2016-01-21T00:00:00\", \"number of commits\": 423}, {\"date\": \"2006-03-21T00:00:00\", \"number of commits\": 423}, {\"date\": \"2014-05-27T00:00:00\", \"number of commits\": 421}, {\"date\": \"2009-09-10T00:00:00\", \"number of commits\": 421}, {\"date\": \"2009-12-05T00:00:00\", \"number of commits\": 421}, {\"date\": \"2008-07-20T00:00:00\", \"number of commits\": 419}, {\"date\": \"2007-02-09T00:00:00\", \"number of commits\": 418}, {\"date\": \"2013-04-03T00:00:00\", \"number of commits\": 417}, {\"date\": \"2011-08-23T00:00:00\", \"number of commits\": 417}, {\"date\": \"2008-07-15T00:00:00\", \"number of commits\": 417}, {\"date\": \"2015-03-16T00:00:00\", \"number of commits\": 416}, {\"date\": \"2015-04-10T00:00:00\", \"number of commits\": 416}, {\"date\": \"2014-09-02T00:00:00\", \"number of commits\": 415}, {\"date\": \"2013-10-29T00:00:00\", \"number of commits\": 415}, {\"date\": \"2014-02-14T00:00:00\", \"number of commits\": 415}, {\"date\": \"2015-01-28T00:00:00\", \"number of commits\": 414}, {\"date\": \"2016-04-20T00:00:00\", \"number of commits\": 414}, {\"date\": \"2007-07-20T00:00:00\", \"number of commits\": 414}, {\"date\": \"2015-03-31T00:00:00\", \"number of commits\": 412}, {\"date\": \"2014-05-05T00:00:00\", \"number of commits\": 412}, {\"date\": \"2014-03-20T00:00:00\", \"number of commits\": 412}, {\"date\": \"2015-02-26T00:00:00\", \"number of commits\": 412}, {\"date\": \"2014-10-28T00:00:00\", \"number of commits\": 411}, {\"date\": \"2013-06-27T00:00:00\", \"number of commits\": 411}, {\"date\": \"2014-01-13T00:00:00\", \"number of commits\": 411}, {\"date\": \"2014-07-17T00:00:00\", \"number of commits\": 410}, {\"date\": \"2016-03-15T00:00:00\", \"number of commits\": 410}, {\"date\": \"2015-12-16T00:00:00\", \"number of commits\": 409}, {\"date\": \"2014-07-30T00:00:00\", \"number of commits\": 409}, {\"date\": \"2015-12-07T00:00:00\", \"number of commits\": 409}, {\"date\": \"2014-03-11T00:00:00\", \"number of commits\": 409}, {\"date\": \"2015-02-02T00:00:00\", \"number of commits\": 408}, {\"date\": \"2014-09-11T00:00:00\", \"number of commits\": 407}, {\"date\": \"2013-08-05T00:00:00\", \"number of commits\": 406}, {\"date\": \"2014-05-21T00:00:00\", \"number of commits\": 406}, {\"date\": \"2012-09-26T00:00:00\", \"number of commits\": 406}, {\"date\": \"2013-07-01T00:00:00\", \"number of commits\": 406}, {\"date\": \"2015-12-23T00:00:00\", \"number of commits\": 405}, {\"date\": \"2015-07-17T00:00:00\", \"number of commits\": 405}, {\"date\": \"2016-01-06T00:00:00\", \"number of commits\": 404}, {\"date\": \"2015-04-08T00:00:00\", \"number of commits\": 404}, {\"date\": \"2014-03-05T00:00:00\", \"number of commits\": 403}, {\"date\": \"2011-10-31T00:00:00\", \"number of commits\": 403}, {\"date\": \"2014-03-26T00:00:00\", \"number of commits\": 403}, {\"date\": \"2008-07-08T00:00:00\", \"number of commits\": 402}, {\"date\": \"2009-12-03T00:00:00\", \"number of commits\": 402}, {\"date\": \"2008-07-25T00:00:00\", \"number of commits\": 402}, {\"date\": \"2011-01-12T00:00:00\", \"number of commits\": 401}, {\"date\": \"2008-12-30T00:00:00\", \"number of commits\": 401}, {\"date\": \"2014-09-09T00:00:00\", \"number of commits\": 400}, {\"date\": \"2013-04-29T00:00:00\", \"number of commits\": 400}, {\"date\": \"2014-05-28T00:00:00\", \"number of commits\": 399}, {\"date\": \"2013-09-25T00:00:00\", \"number of commits\": 399}, {\"date\": \"2015-03-23T00:00:00\", \"number of commits\": 398}, {\"date\": \"2008-02-06T00:00:00\", \"number of commits\": 398}, {\"date\": \"2012-07-09T00:00:00\", \"number of commits\": 397}, {\"date\": \"2013-02-05T00:00:00\", \"number of commits\": 397}, {\"date\": \"2014-05-14T00:00:00\", \"number of commits\": 396}, {\"date\": \"2014-10-27T00:00:00\", \"number of commits\": 396}, {\"date\": \"2013-09-04T00:00:00\", \"number of commits\": 396}, {\"date\": \"2016-05-04T00:00:00\", \"number of commits\": 395}, {\"date\": \"2010-05-10T00:00:00\", \"number of commits\": 395}, {\"date\": \"2014-07-21T00:00:00\", \"number of commits\": 394}, {\"date\": \"2015-03-03T00:00:00\", \"number of commits\": 394}, {\"date\": \"2014-08-07T00:00:00\", \"number of commits\": 394}, {\"date\": \"2014-02-28T00:00:00\", \"number of commits\": 394}, {\"date\": \"2014-11-12T00:00:00\", \"number of commits\": 393}, {\"date\": \"2014-01-24T00:00:00\", \"number of commits\": 393}, {\"date\": \"2014-09-23T00:00:00\", \"number of commits\": 392}, {\"date\": \"2012-05-15T00:00:00\", \"number of commits\": 392}, {\"date\": \"2016-05-06T00:00:00\", \"number of commits\": 391}, {\"date\": \"2013-07-29T00:00:00\", \"number of commits\": 391}, {\"date\": \"2013-10-16T00:00:00\", \"number of commits\": 391}, {\"date\": \"2006-01-03T00:00:00\", \"number of commits\": 391}, {\"date\": \"2006-09-29T00:00:00\", \"number of commits\": 391}, {\"date\": \"2015-05-27T00:00:00\", \"number of commits\": 390}, {\"date\": \"2014-06-27T00:00:00\", \"number of commits\": 390}, {\"date\": \"2013-06-12T00:00:00\", \"number of commits\": 390}, {\"date\": \"2007-07-12T00:00:00\", \"number of commits\": 389}, {\"date\": \"2014-09-19T00:00:00\", \"number of commits\": 389}, {\"date\": \"2015-10-02T00:00:00\", \"number of commits\": 388}, {\"date\": \"2013-12-03T00:00:00\", \"number of commits\": 388}, {\"date\": \"2015-02-23T00:00:00\", \"number of commits\": 387}, {\"date\": \"2015-01-09T00:00:00\", \"number of commits\": 386}, {\"date\": \"2013-08-21T00:00:00\", \"number of commits\": 386}, {\"date\": \"2008-02-05T00:00:00\", \"number of commits\": 386}, {\"date\": \"2012-11-27T00:00:00\", \"number of commits\": 386}, {\"date\": \"2016-04-21T00:00:00\", \"number of commits\": 386}, {\"date\": \"2015-09-30T00:00:00\", \"number of commits\": 385}, {\"date\": \"2015-02-03T00:00:00\", \"number of commits\": 385}, {\"date\": \"2013-06-24T00:00:00\", \"number of commits\": 385}, {\"date\": \"2015-06-01T00:00:00\", \"number of commits\": 385}, {\"date\": \"2016-01-04T00:00:00\", \"number of commits\": 385}, {\"date\": \"2012-07-31T00:00:00\", \"number of commits\": 385}, {\"date\": \"2010-03-02T00:00:00\", \"number of commits\": 385}, {\"date\": \"2010-05-21T00:00:00\", \"number of commits\": 385}, {\"date\": \"2013-10-01T00:00:00\", \"number of commits\": 384}, {\"date\": \"2011-03-21T00:00:00\", \"number of commits\": 384}, {\"date\": \"2009-06-11T00:00:00\", \"number of commits\": 384}, {\"date\": \"2014-07-15T00:00:00\", \"number of commits\": 384}, {\"date\": \"2015-05-13T00:00:00\", \"number of commits\": 382}, {\"date\": \"2014-04-24T00:00:00\", \"number of commits\": 381}, {\"date\": \"2015-03-20T00:00:00\", \"number of commits\": 381}, {\"date\": \"2012-10-24T00:00:00\", \"number of commits\": 381}, {\"date\": \"2012-05-08T00:00:00\", \"number of commits\": 380}, {\"date\": \"2015-01-12T00:00:00\", \"number of commits\": 380}, {\"date\": \"2016-03-04T00:00:00\", \"number of commits\": 380}, {\"date\": \"2010-07-27T00:00:00\", \"number of commits\": 379}, {\"date\": \"2009-06-12T00:00:00\", \"number of commits\": 379}, {\"date\": \"2005-06-22T00:00:00\", \"number of commits\": 379}, {\"date\": \"2009-01-08T00:00:00\", \"number of commits\": 378}, {\"date\": \"2016-04-12T00:00:00\", \"number of commits\": 377}, {\"date\": \"2013-04-11T00:00:00\", \"number of commits\": 377}, {\"date\": \"2013-12-11T00:00:00\", \"number of commits\": 377}, {\"date\": \"2005-09-05T00:00:00\", \"number of commits\": 377}, {\"date\": \"2016-03-12T00:00:00\", \"number of commits\": 377}, {\"date\": \"2014-05-15T00:00:00\", \"number of commits\": 376}, {\"date\": \"2012-03-06T00:00:00\", \"number of commits\": 376}, {\"date\": \"2007-05-09T00:00:00\", \"number of commits\": 376}, {\"date\": \"2014-11-19T00:00:00\", \"number of commits\": 375}, {\"date\": \"2015-12-13T00:00:00\", \"number of commits\": 375}, {\"date\": \"2015-10-04T00:00:00\", \"number of commits\": 375}, {\"date\": \"2010-10-26T00:00:00\", \"number of commits\": 374}, {\"date\": \"2013-07-25T00:00:00\", \"number of commits\": 374}, {\"date\": \"2015-11-30T00:00:00\", \"number of commits\": 374}, {\"date\": \"2015-01-15T00:00:00\", \"number of commits\": 373}, {\"date\": \"2012-05-16T00:00:00\", \"number of commits\": 372}, {\"date\": \"2015-08-07T00:00:00\", \"number of commits\": 372}, {\"date\": \"2016-02-11T00:00:00\", \"number of commits\": 372}, {\"date\": \"2013-02-20T00:00:00\", \"number of commits\": 371}, {\"date\": \"2013-09-30T00:00:00\", \"number of commits\": 371}, {\"date\": \"2012-03-08T00:00:00\", \"number of commits\": 371}, {\"date\": \"2012-11-16T00:00:00\", \"number of commits\": 370}, {\"date\": \"2015-09-14T00:00:00\", \"number of commits\": 370}, {\"date\": \"2011-03-15T00:00:00\", \"number of commits\": 370}, {\"date\": \"2014-01-28T00:00:00\", \"number of commits\": 370}, {\"date\": \"2014-04-22T00:00:00\", \"number of commits\": 369}, {\"date\": \"2011-07-05T00:00:00\", \"number of commits\": 369}, {\"date\": \"2013-10-25T00:00:00\", \"number of commits\": 369}, {\"date\": \"2015-10-21T00:00:00\", \"number of commits\": 368}, {\"date\": \"2014-11-21T00:00:00\", \"number of commits\": 368}, {\"date\": \"2014-05-13T00:00:00\", \"number of commits\": 368}, {\"date\": \"2015-06-04T00:00:00\", \"number of commits\": 367}, {\"date\": \"2016-01-12T00:00:00\", \"number of commits\": 367}, {\"date\": \"2014-03-18T00:00:00\", \"number of commits\": 366}, {\"date\": \"2015-10-01T00:00:00\", \"number of commits\": 366}, {\"date\": \"2015-05-11T00:00:00\", \"number of commits\": 366}, {\"date\": \"2015-06-25T00:00:00\", \"number of commits\": 366}, {\"date\": \"2014-10-14T00:00:00\", \"number of commits\": 366}, {\"date\": \"2013-10-17T00:00:00\", \"number of commits\": 366}, {\"date\": \"2012-10-09T00:00:00\", \"number of commits\": 365}, {\"date\": \"2013-04-01T00:00:00\", \"number of commits\": 365}, {\"date\": \"2013-05-28T00:00:00\", \"number of commits\": 365}, {\"date\": \"2013-02-08T00:00:00\", \"number of commits\": 365}, {\"date\": \"2012-11-13T00:00:00\", \"number of commits\": 365}, {\"date\": \"2009-02-27T00:00:00\", \"number of commits\": 365}, {\"date\": \"2005-09-09T00:00:00\", \"number of commits\": 365}, {\"date\": \"2007-05-11T00:00:00\", \"number of commits\": 365}, {\"date\": \"2014-04-07T00:00:00\", \"number of commits\": 364}, {\"date\": \"2015-03-25T00:00:00\", \"number of commits\": 363}, {\"date\": \"2015-03-24T00:00:00\", \"number of commits\": 362}, {\"date\": \"2015-08-11T00:00:00\", \"number of commits\": 362}, {\"date\": \"2015-03-04T00:00:00\", \"number of commits\": 362}, {\"date\": \"2015-07-15T00:00:00\", \"number of commits\": 362}, {\"date\": \"2012-09-27T00:00:00\", \"number of commits\": 362}, {\"date\": \"2009-06-10T00:00:00\", \"number of commits\": 362}, {\"date\": \"2015-04-15T00:00:00\", \"number of commits\": 362}, {\"date\": \"2014-12-11T00:00:00\", \"number of commits\": 361}, {\"date\": \"2011-01-14T00:00:00\", \"number of commits\": 361}, {\"date\": \"2015-04-27T00:00:00\", \"number of commits\": 360}, {\"date\": \"2012-09-17T00:00:00\", \"number of commits\": 360}, {\"date\": \"2014-08-30T00:00:00\", \"number of commits\": 360}, {\"date\": \"2015-03-10T00:00:00\", \"number of commits\": 359}, {\"date\": \"2015-12-09T00:00:00\", \"number of commits\": 359}, {\"date\": \"2013-09-03T00:00:00\", \"number of commits\": 359}, {\"date\": \"2012-01-04T00:00:00\", \"number of commits\": 359}, {\"date\": \"2007-10-18T00:00:00\", \"number of commits\": 359}, {\"date\": \"2008-07-14T00:00:00\", \"number of commits\": 359}, {\"date\": \"2013-12-20T00:00:00\", \"number of commits\": 358}, {\"date\": \"2013-08-27T00:00:00\", \"number of commits\": 358}, {\"date\": \"2016-01-27T00:00:00\", \"number of commits\": 358}, {\"date\": \"2016-03-16T00:00:00\", \"number of commits\": 358}, {\"date\": \"2008-07-26T00:00:00\", \"number of commits\": 358}, {\"date\": \"2007-07-19T00:00:00\", \"number of commits\": 358}, {\"date\": \"2014-01-06T00:00:00\", \"number of commits\": 357}, {\"date\": \"2015-07-29T00:00:00\", \"number of commits\": 357}, {\"date\": \"2013-05-30T00:00:00\", \"number of commits\": 357}, {\"date\": \"2012-09-21T00:00:00\", \"number of commits\": 357}, {\"date\": \"2008-10-10T00:00:00\", \"number of commits\": 356}, {\"date\": \"2014-11-10T00:00:00\", \"number of commits\": 356}, {\"date\": \"2013-07-24T00:00:00\", \"number of commits\": 356}, {\"date\": \"2008-04-30T00:00:00\", \"number of commits\": 356}, {\"date\": \"2016-01-05T00:00:00\", \"number of commits\": 355}, {\"date\": \"2015-07-27T00:00:00\", \"number of commits\": 355}, {\"date\": \"2013-02-13T00:00:00\", \"number of commits\": 355}, {\"date\": \"2011-03-10T00:00:00\", \"number of commits\": 355}, {\"date\": \"2013-06-20T00:00:00\", \"number of commits\": 355}, {\"date\": \"2014-01-14T00:00:00\", \"number of commits\": 355}, {\"date\": \"2016-01-15T00:00:00\", \"number of commits\": 355}, {\"date\": \"2016-02-15T00:00:00\", \"number of commits\": 355}, {\"date\": \"2016-03-22T00:00:00\", \"number of commits\": 354}, {\"date\": \"2015-03-06T00:00:00\", \"number of commits\": 354}, {\"date\": \"2015-12-01T00:00:00\", \"number of commits\": 353}, {\"date\": \"2010-05-27T00:00:00\", \"number of commits\": 353}, {\"date\": \"2015-09-13T00:00:00\", \"number of commits\": 353}, {\"date\": \"2015-01-29T00:00:00\", \"number of commits\": 352}, {\"date\": \"2012-03-22T00:00:00\", \"number of commits\": 352}, {\"date\": \"2015-12-11T00:00:00\", \"number of commits\": 352}, {\"date\": \"2011-03-22T00:00:00\", \"number of commits\": 352}, {\"date\": \"2013-07-26T00:00:00\", \"number of commits\": 352}, {\"date\": \"2014-05-06T00:00:00\", \"number of commits\": 351}, {\"date\": \"2015-07-16T00:00:00\", \"number of commits\": 351}, {\"date\": \"2014-12-09T00:00:00\", \"number of commits\": 350}, {\"date\": \"2008-04-18T00:00:00\", \"number of commits\": 350}, {\"date\": \"2008-10-12T00:00:00\", \"number of commits\": 350}, {\"date\": \"2012-07-20T00:00:00\", \"number of commits\": 350}, {\"date\": \"2011-07-26T00:00:00\", \"number of commits\": 349}, {\"date\": \"2010-03-01T00:00:00\", \"number of commits\": 349}, {\"date\": \"2014-02-17T00:00:00\", \"number of commits\": 349}, {\"date\": \"2015-11-17T00:00:00\", \"number of commits\": 348}, {\"date\": \"2015-08-04T00:00:00\", \"number of commits\": 348}, {\"date\": \"2015-11-03T00:00:00\", \"number of commits\": 348}, {\"date\": \"2009-12-04T00:00:00\", \"number of commits\": 348}, {\"date\": \"2013-06-18T00:00:00\", \"number of commits\": 348}, {\"date\": \"2012-11-14T00:00:00\", \"number of commits\": 348}, {\"date\": \"2015-07-21T00:00:00\", \"number of commits\": 348}, {\"date\": \"2014-02-04T00:00:00\", \"number of commits\": 348}, {\"date\": \"2014-08-01T00:00:00\", \"number of commits\": 348}, {\"date\": \"2010-07-26T00:00:00\", \"number of commits\": 347}, {\"date\": \"2015-04-14T00:00:00\", \"number of commits\": 347}, {\"date\": \"2016-01-29T00:00:00\", \"number of commits\": 347}, {\"date\": \"2013-10-15T00:00:00\", \"number of commits\": 346}, {\"date\": \"2015-10-09T00:00:00\", \"number of commits\": 346}, {\"date\": \"2015-05-18T00:00:00\", \"number of commits\": 346}, {\"date\": \"2015-10-22T00:00:00\", \"number of commits\": 346}, {\"date\": \"2015-08-10T00:00:00\", \"number of commits\": 346}, {\"date\": \"2014-08-08T00:00:00\", \"number of commits\": 346}, {\"date\": \"2014-01-09T00:00:00\", \"number of commits\": 346}, {\"date\": \"2012-10-05T00:00:00\", \"number of commits\": 346}, {\"date\": \"2010-10-25T00:00:00\", \"number of commits\": 346}, {\"date\": \"2008-10-23T00:00:00\", \"number of commits\": 346}, {\"date\": \"2014-09-26T00:00:00\", \"number of commits\": 346}, {\"date\": \"2013-12-04T00:00:00\", \"number of commits\": 345}, {\"date\": \"2014-02-12T00:00:00\", \"number of commits\": 345}, {\"date\": \"2014-07-03T00:00:00\", \"number of commits\": 345}, {\"date\": \"2015-11-23T00:00:00\", \"number of commits\": 345}, {\"date\": \"2013-01-25T00:00:00\", \"number of commits\": 345}, {\"date\": \"2013-06-03T00:00:00\", \"number of commits\": 344}, {\"date\": \"2013-10-14T00:00:00\", \"number of commits\": 344}, {\"date\": \"2013-01-24T00:00:00\", \"number of commits\": 343}, {\"date\": \"2013-10-10T00:00:00\", \"number of commits\": 343}, {\"date\": \"2011-02-23T00:00:00\", \"number of commits\": 343}, {\"date\": \"2014-10-30T00:00:00\", \"number of commits\": 343}, {\"date\": \"2014-08-16T00:00:00\", \"number of commits\": 343}, {\"date\": \"2007-02-11T00:00:00\", \"number of commits\": 343}, {\"date\": \"2013-08-07T00:00:00\", \"number of commits\": 342}, {\"date\": \"2006-03-23T00:00:00\", \"number of commits\": 342}, {\"date\": \"2013-08-13T00:00:00\", \"number of commits\": 341}, {\"date\": \"2011-03-11T00:00:00\", \"number of commits\": 341}, {\"date\": \"2014-04-28T00:00:00\", \"number of commits\": 341}, {\"date\": \"2013-08-19T00:00:00\", \"number of commits\": 341}, {\"date\": \"2012-03-05T00:00:00\", \"number of commits\": 340}, {\"date\": \"2009-09-22T00:00:00\", \"number of commits\": 340}, {\"date\": \"2006-01-12T00:00:00\", \"number of commits\": 340}, {\"date\": \"2014-01-03T00:00:00\", \"number of commits\": 340}, {\"date\": \"2015-07-31T00:00:00\", \"number of commits\": 339}, {\"date\": \"2016-03-29T00:00:00\", \"number of commits\": 339}, {\"date\": \"2013-02-06T00:00:00\", \"number of commits\": 339}, {\"date\": \"2014-04-16T00:00:00\", \"number of commits\": 338}, {\"date\": \"2014-05-30T00:00:00\", \"number of commits\": 338}, {\"date\": \"2015-06-11T00:00:00\", \"number of commits\": 338}, {\"date\": \"2015-03-27T00:00:00\", \"number of commits\": 338}, {\"date\": \"2012-11-20T00:00:00\", \"number of commits\": 338}, {\"date\": \"2012-10-30T00:00:00\", \"number of commits\": 338}, {\"date\": \"2012-06-20T00:00:00\", \"number of commits\": 338}, {\"date\": \"2014-07-07T00:00:00\", \"number of commits\": 338}, {\"date\": \"2008-07-16T00:00:00\", \"number of commits\": 338}, {\"date\": \"2008-01-31T00:00:00\", \"number of commits\": 338}, {\"date\": \"2013-09-17T00:00:00\", \"number of commits\": 338}, {\"date\": \"2006-03-27T00:00:00\", \"number of commits\": 338}, {\"date\": \"2015-03-17T00:00:00\", \"number of commits\": 337}, {\"date\": \"2014-09-22T00:00:00\", \"number of commits\": 337}, {\"date\": \"2012-01-24T00:00:00\", \"number of commits\": 337}, {\"date\": \"2016-04-07T00:00:00\", \"number of commits\": 337}, {\"date\": \"2012-03-19T00:00:00\", \"number of commits\": 337}, {\"date\": \"2012-12-18T00:00:00\", \"number of commits\": 337}, {\"date\": \"2007-07-17T00:00:00\", \"number of commits\": 337}, {\"date\": \"2007-07-10T00:00:00\", \"number of commits\": 337}, {\"date\": \"2012-02-09T00:00:00\", \"number of commits\": 336}, {\"date\": \"2009-01-05T00:00:00\", \"number of commits\": 336}, {\"date\": \"2015-11-19T00:00:00\", \"number of commits\": 335}, {\"date\": \"2013-12-02T00:00:00\", \"number of commits\": 335}, {\"date\": \"2016-03-30T00:00:00\", \"number of commits\": 335}, {\"date\": \"2013-12-06T00:00:00\", \"number of commits\": 334}, {\"date\": \"2012-04-10T00:00:00\", \"number of commits\": 334}, {\"date\": \"2015-05-20T00:00:00\", \"number of commits\": 334}, {\"date\": \"2014-02-25T00:00:00\", \"number of commits\": 334}, {\"date\": \"2016-04-11T00:00:00\", \"number of commits\": 334}, {\"date\": \"2016-03-18T00:00:00\", \"number of commits\": 334}, {\"date\": \"2012-02-24T00:00:00\", \"number of commits\": 333}, {\"date\": \"2015-10-16T00:00:00\", \"number of commits\": 333}, {\"date\": \"2014-02-03T00:00:00\", \"number of commits\": 333}, {\"date\": \"2010-08-04T00:00:00\", \"number of commits\": 333}, {\"date\": \"2009-12-09T00:00:00\", \"number of commits\": 333}, {\"date\": \"2013-08-20T00:00:00\", \"number of commits\": 333}, {\"date\": \"2008-12-31T00:00:00\", \"number of commits\": 332}, {\"date\": \"2015-10-08T00:00:00\", \"number of commits\": 331}, {\"date\": \"2013-01-28T00:00:00\", \"number of commits\": 331}, {\"date\": \"2016-02-01T00:00:00\", \"number of commits\": 331}, {\"date\": \"2011-03-17T00:00:00\", \"number of commits\": 331}, {\"date\": \"2015-01-13T00:00:00\", \"number of commits\": 330}, {\"date\": \"2014-03-13T00:00:00\", \"number of commits\": 330}, {\"date\": \"2007-05-02T00:00:00\", \"number of commits\": 330}, {\"date\": \"2014-06-06T00:00:00\", \"number of commits\": 329}, {\"date\": \"2009-03-27T00:00:00\", \"number of commits\": 329}, {\"date\": \"2014-06-11T00:00:00\", \"number of commits\": 329}, {\"date\": \"2015-05-12T00:00:00\", \"number of commits\": 328}, {\"date\": \"2014-05-29T00:00:00\", \"number of commits\": 328}, {\"date\": \"2008-07-28T00:00:00\", \"number of commits\": 328}, {\"date\": \"2009-03-13T00:00:00\", \"number of commits\": 328}, {\"date\": \"2013-11-25T00:00:00\", \"number of commits\": 327}, {\"date\": \"2014-04-30T00:00:00\", \"number of commits\": 327}, {\"date\": \"2013-01-17T00:00:00\", \"number of commits\": 327}, {\"date\": \"2012-05-22T00:00:00\", \"number of commits\": 327}, {\"date\": \"2011-11-08T00:00:00\", \"number of commits\": 327}, {\"date\": \"2016-05-25T00:00:00\", \"number of commits\": 327}, {\"date\": \"2008-07-22T00:00:00\", \"number of commits\": 327}, {\"date\": \"2012-10-22T00:00:00\", \"number of commits\": 327}, {\"date\": \"2014-10-02T00:00:00\", \"number of commits\": 326}, {\"date\": \"2012-09-04T00:00:00\", \"number of commits\": 326}, {\"date\": \"2013-12-12T00:00:00\", \"number of commits\": 325}, {\"date\": \"2013-10-31T00:00:00\", \"number of commits\": 325}, {\"date\": \"2010-07-28T00:00:00\", \"number of commits\": 325}, {\"date\": \"2008-10-20T00:00:00\", \"number of commits\": 325}, {\"date\": \"2012-09-05T00:00:00\", \"number of commits\": 325}, {\"date\": \"2015-10-27T00:00:00\", \"number of commits\": 325}, {\"date\": \"2014-01-15T00:00:00\", \"number of commits\": 325}, {\"date\": \"2013-04-04T00:00:00\", \"number of commits\": 324}, {\"date\": \"2015-11-20T00:00:00\", \"number of commits\": 324}, {\"date\": \"2014-08-04T00:00:00\", \"number of commits\": 324}, {\"date\": \"2013-10-18T00:00:00\", \"number of commits\": 324}, {\"date\": \"2010-08-09T00:00:00\", \"number of commits\": 324}, {\"date\": \"2015-03-12T00:00:00\", \"number of commits\": 323}, {\"date\": \"2009-06-18T00:00:00\", \"number of commits\": 323}, {\"date\": \"2013-02-15T00:00:00\", \"number of commits\": 323}, {\"date\": \"2007-10-19T00:00:00\", \"number of commits\": 323}, {\"date\": \"2015-01-23T00:00:00\", \"number of commits\": 322}, {\"date\": \"2012-07-11T00:00:00\", \"number of commits\": 322}, {\"date\": \"2016-04-08T00:00:00\", \"number of commits\": 322}, {\"date\": \"2014-09-25T00:00:00\", \"number of commits\": 321}, {\"date\": \"2015-11-18T00:00:00\", \"number of commits\": 321}, {\"date\": \"2014-11-05T00:00:00\", \"number of commits\": 321}, {\"date\": \"2011-10-14T00:00:00\", \"number of commits\": 321}, {\"date\": \"2014-05-20T00:00:00\", \"number of commits\": 319}, {\"date\": \"2012-05-12T00:00:00\", \"number of commits\": 319}, {\"date\": \"2010-12-16T00:00:00\", \"number of commits\": 319}, {\"date\": \"2014-04-18T00:00:00\", \"number of commits\": 319}, {\"date\": \"2013-01-10T00:00:00\", \"number of commits\": 318}, {\"date\": \"2016-01-08T00:00:00\", \"number of commits\": 318}, {\"date\": \"2015-06-08T00:00:00\", \"number of commits\": 317}, {\"date\": \"2012-02-13T00:00:00\", \"number of commits\": 317}, {\"date\": \"2014-06-18T00:00:00\", \"number of commits\": 317}, {\"date\": \"2013-03-07T00:00:00\", \"number of commits\": 317}, {\"date\": \"2015-01-21T00:00:00\", \"number of commits\": 316}, {\"date\": \"2011-08-29T00:00:00\", \"number of commits\": 316}, {\"date\": \"2009-09-17T00:00:00\", \"number of commits\": 315}, {\"date\": \"2013-05-16T00:00:00\", \"number of commits\": 315}, {\"date\": \"2011-10-24T00:00:00\", \"number of commits\": 315}, {\"date\": \"2012-09-11T00:00:00\", \"number of commits\": 314}, {\"date\": \"2013-10-30T00:00:00\", \"number of commits\": 314}, {\"date\": \"2015-02-13T00:00:00\", \"number of commits\": 314}, {\"date\": \"2005-08-29T00:00:00\", \"number of commits\": 314}, {\"date\": \"2015-01-25T00:00:00\", \"number of commits\": 314}, {\"date\": \"2015-03-18T00:00:00\", \"number of commits\": 313}, {\"date\": \"2012-09-10T00:00:00\", \"number of commits\": 313}, {\"date\": \"2015-03-11T00:00:00\", \"number of commits\": 313}, {\"date\": \"2013-01-16T00:00:00\", \"number of commits\": 313}, {\"date\": \"2011-01-21T00:00:00\", \"number of commits\": 313}, {\"date\": \"2014-03-10T00:00:00\", \"number of commits\": 312}, {\"date\": \"2014-11-25T00:00:00\", \"number of commits\": 312}, {\"date\": \"2014-03-06T00:00:00\", \"number of commits\": 312}, {\"date\": \"2012-04-18T00:00:00\", \"number of commits\": 312}, {\"date\": \"2014-02-27T00:00:00\", \"number of commits\": 312}, {\"date\": \"2016-03-07T00:00:00\", \"number of commits\": 312}, {\"date\": \"2012-11-30T00:00:00\", \"number of commits\": 312}, {\"date\": \"2012-04-09T00:00:00\", \"number of commits\": 311}, {\"date\": \"2015-08-13T00:00:00\", \"number of commits\": 311}, {\"date\": \"2006-10-04T00:00:00\", \"number of commits\": 311}, {\"date\": \"2006-03-22T00:00:00\", \"number of commits\": 310}, {\"date\": \"2014-02-20T00:00:00\", \"number of commits\": 310}, {\"date\": \"2013-03-21T00:00:00\", \"number of commits\": 310}, {\"date\": \"2015-05-28T00:00:00\", \"number of commits\": 310}, {\"date\": \"2015-10-26T00:00:00\", \"number of commits\": 310}, {\"date\": \"2013-08-01T00:00:00\", \"number of commits\": 310}, {\"date\": \"2015-06-18T00:00:00\", \"number of commits\": 309}, {\"date\": \"2014-11-13T00:00:00\", \"number of commits\": 309}, {\"date\": \"2011-08-22T00:00:00\", \"number of commits\": 309}, {\"date\": \"2012-03-26T00:00:00\", \"number of commits\": 309}, {\"date\": \"2015-06-12T00:00:00\", \"number of commits\": 309}, {\"date\": \"2010-08-03T00:00:00\", \"number of commits\": 309}, {\"date\": \"2011-01-31T00:00:00\", \"number of commits\": 309}, {\"date\": \"2011-01-10T00:00:00\", \"number of commits\": 309}, {\"date\": \"2013-06-04T00:00:00\", \"number of commits\": 309}, {\"date\": \"2012-03-20T00:00:00\", \"number of commits\": 308}, {\"date\": \"2014-08-26T00:00:00\", \"number of commits\": 308}, {\"date\": \"2013-03-04T00:00:00\", \"number of commits\": 308}, {\"date\": \"2014-04-25T00:00:00\", \"number of commits\": 308}, {\"date\": \"2013-04-17T00:00:00\", \"number of commits\": 308}, {\"date\": \"2007-02-07T00:00:00\", \"number of commits\": 308}, {\"date\": \"2012-07-30T00:00:00\", \"number of commits\": 308}, {\"date\": \"2014-07-25T00:00:00\", \"number of commits\": 307}, {\"date\": \"2015-03-13T00:00:00\", \"number of commits\": 307}, {\"date\": \"2015-10-17T00:00:00\", \"number of commits\": 307}, {\"date\": \"2011-12-08T00:00:00\", \"number of commits\": 307}, {\"date\": \"2015-02-12T00:00:00\", \"number of commits\": 307}, {\"date\": \"2014-03-12T00:00:00\", \"number of commits\": 307}, {\"date\": \"2013-02-22T00:00:00\", \"number of commits\": 307}, {\"date\": \"2014-01-23T00:00:00\", \"number of commits\": 307}, {\"date\": \"2011-11-11T00:00:00\", \"number of commits\": 306}, {\"date\": \"2014-04-23T00:00:00\", \"number of commits\": 306}, {\"date\": \"2012-01-05T00:00:00\", \"number of commits\": 306}, {\"date\": \"2011-05-24T00:00:00\", \"number of commits\": 306}, {\"date\": \"2013-08-23T00:00:00\", \"number of commits\": 306}, {\"date\": \"2012-09-13T00:00:00\", \"number of commits\": 306}, {\"date\": \"2013-06-28T00:00:00\", \"number of commits\": 306}, {\"date\": \"2015-02-04T00:00:00\", \"number of commits\": 305}, {\"date\": \"2013-11-12T00:00:00\", \"number of commits\": 305}, {\"date\": \"2007-07-09T00:00:00\", \"number of commits\": 305}, {\"date\": \"2013-10-03T00:00:00\", \"number of commits\": 305}, {\"date\": \"2016-04-06T00:00:00\", \"number of commits\": 305}, {\"date\": \"2015-11-25T00:00:00\", \"number of commits\": 304}, {\"date\": \"2013-08-09T00:00:00\", \"number of commits\": 304}, {\"date\": \"2013-11-06T00:00:00\", \"number of commits\": 304}, {\"date\": \"2012-05-11T00:00:00\", \"number of commits\": 304}, {\"date\": \"2011-06-07T00:00:00\", \"number of commits\": 304}, {\"date\": \"2011-09-06T00:00:00\", \"number of commits\": 304}, {\"date\": \"2010-05-25T00:00:00\", \"number of commits\": 304}, {\"date\": \"2013-01-18T00:00:00\", \"number of commits\": 303}, {\"date\": \"2015-04-07T00:00:00\", \"number of commits\": 303}, {\"date\": \"2014-06-10T00:00:00\", \"number of commits\": 303}, {\"date\": \"2007-10-15T00:00:00\", \"number of commits\": 303}, {\"date\": \"2015-07-24T00:00:00\", \"number of commits\": 303}, {\"date\": \"2013-04-05T00:00:00\", \"number of commits\": 303}, {\"date\": \"2012-09-14T00:00:00\", \"number of commits\": 303}, {\"date\": \"2007-07-22T00:00:00\", \"number of commits\": 303}, {\"date\": \"2015-09-23T00:00:00\", \"number of commits\": 302}, {\"date\": \"2015-06-16T00:00:00\", \"number of commits\": 302}, {\"date\": \"2008-04-25T00:00:00\", \"number of commits\": 302}, {\"date\": \"2013-10-28T00:00:00\", \"number of commits\": 302}, {\"date\": \"2013-03-12T00:00:00\", \"number of commits\": 301}, {\"date\": \"2010-08-11T00:00:00\", \"number of commits\": 301}, {\"date\": \"2011-11-01T00:00:00\", \"number of commits\": 301}, {\"date\": \"2012-06-01T00:00:00\", \"number of commits\": 301}, {\"date\": \"2008-04-27T00:00:00\", \"number of commits\": 301}, {\"date\": \"2007-02-21T00:00:00\", \"number of commits\": 301}, {\"date\": \"2011-07-07T00:00:00\", \"number of commits\": 300}, {\"date\": \"2015-10-23T00:00:00\", \"number of commits\": 300}, {\"date\": \"2014-08-05T00:00:00\", \"number of commits\": 300}, {\"date\": \"2015-06-19T00:00:00\", \"number of commits\": 300}, {\"date\": \"2016-05-12T00:00:00\", \"number of commits\": 300}, {\"date\": \"2014-07-11T00:00:00\", \"number of commits\": 300}, {\"date\": \"2013-02-24T00:00:00\", \"number of commits\": 300}, {\"date\": \"2011-12-13T00:00:00\", \"number of commits\": 299}, {\"date\": \"2013-06-26T00:00:00\", \"number of commits\": 299}, {\"date\": \"2015-06-10T00:00:00\", \"number of commits\": 299}, {\"date\": \"2013-07-30T00:00:00\", \"number of commits\": 299}, {\"date\": \"2013-12-16T00:00:00\", \"number of commits\": 299}, {\"date\": \"2008-10-14T00:00:00\", \"number of commits\": 299}, {\"date\": \"2015-01-20T00:00:00\", \"number of commits\": 298}, {\"date\": \"2014-11-14T00:00:00\", \"number of commits\": 298}, {\"date\": \"2009-10-07T00:00:00\", \"number of commits\": 298}, {\"date\": \"2012-12-03T00:00:00\", \"number of commits\": 298}, {\"date\": \"2013-08-29T00:00:00\", \"number of commits\": 297}, {\"date\": \"2006-02-01T00:00:00\", \"number of commits\": 297}, {\"date\": \"2015-09-08T00:00:00\", \"number of commits\": 296}, {\"date\": \"2011-07-08T00:00:00\", \"number of commits\": 296}, {\"date\": \"2014-07-28T00:00:00\", \"number of commits\": 296}, {\"date\": \"2013-08-06T00:00:00\", \"number of commits\": 296}, {\"date\": \"2013-02-28T00:00:00\", \"number of commits\": 296}, {\"date\": \"2016-03-23T00:00:00\", \"number of commits\": 295}, {\"date\": \"2013-04-02T00:00:00\", \"number of commits\": 295}, {\"date\": \"2011-05-10T00:00:00\", \"number of commits\": 295}, {\"date\": \"2015-08-12T00:00:00\", \"number of commits\": 295}, {\"date\": \"2010-02-17T00:00:00\", \"number of commits\": 294}, {\"date\": \"2011-09-20T00:00:00\", \"number of commits\": 294}, {\"date\": \"2011-07-20T00:00:00\", \"number of commits\": 294}, {\"date\": \"2015-06-23T00:00:00\", \"number of commits\": 293}, {\"date\": \"2013-08-28T00:00:00\", \"number of commits\": 293}, {\"date\": \"2012-05-17T00:00:00\", \"number of commits\": 293}, {\"date\": \"2015-08-14T00:00:00\", \"number of commits\": 293}, {\"date\": \"2007-05-07T00:00:00\", \"number of commits\": 293}, {\"date\": \"2014-01-17T00:00:00\", \"number of commits\": 292}, {\"date\": \"2013-02-11T00:00:00\", \"number of commits\": 292}, {\"date\": \"2010-11-15T00:00:00\", \"number of commits\": 292}, {\"date\": \"2015-02-17T00:00:00\", \"number of commits\": 292}, {\"date\": \"2012-03-23T00:00:00\", \"number of commits\": 292}, {\"date\": \"2011-07-03T00:00:00\", \"number of commits\": 292}, {\"date\": \"2015-11-06T00:00:00\", \"number of commits\": 291}, {\"date\": \"2014-05-12T00:00:00\", \"number of commits\": 291}, {\"date\": \"2013-01-22T00:00:00\", \"number of commits\": 291}, {\"date\": \"2014-06-20T00:00:00\", \"number of commits\": 291}, {\"date\": \"2015-06-22T00:00:00\", \"number of commits\": 290}, {\"date\": \"2011-12-06T00:00:00\", \"number of commits\": 290}, {\"date\": \"2012-07-19T00:00:00\", \"number of commits\": 290}, {\"date\": \"2006-06-28T00:00:00\", \"number of commits\": 290}, {\"date\": \"2015-07-14T00:00:00\", \"number of commits\": 290}, {\"date\": \"2014-02-24T00:00:00\", \"number of commits\": 289}, {\"date\": \"2013-06-05T00:00:00\", \"number of commits\": 289}, {\"date\": \"2008-04-19T00:00:00\", \"number of commits\": 289}, {\"date\": \"2015-05-15T00:00:00\", \"number of commits\": 289}, {\"date\": \"2006-01-10T00:00:00\", \"number of commits\": 289}, {\"date\": \"2015-10-25T00:00:00\", \"number of commits\": 289}, {\"date\": \"2011-01-07T00:00:00\", \"number of commits\": 288}, {\"date\": \"2014-10-10T00:00:00\", \"number of commits\": 288}, {\"date\": \"2006-10-03T00:00:00\", \"number of commits\": 288}, {\"date\": \"2015-08-18T00:00:00\", \"number of commits\": 287}, {\"date\": \"2014-06-02T00:00:00\", \"number of commits\": 287}, {\"date\": \"2012-01-09T00:00:00\", \"number of commits\": 287}, {\"date\": \"2012-12-11T00:00:00\", \"number of commits\": 287}, {\"date\": \"2016-02-04T00:00:00\", \"number of commits\": 287}, {\"date\": \"2013-06-25T00:00:00\", \"number of commits\": 287}, {\"date\": \"2009-12-10T00:00:00\", \"number of commits\": 287}, {\"date\": \"2013-03-11T00:00:00\", \"number of commits\": 287}, {\"date\": \"2009-08-14T00:00:00\", \"number of commits\": 287}, {\"date\": \"2013-07-31T00:00:00\", \"number of commits\": 286}, {\"date\": \"2013-12-05T00:00:00\", \"number of commits\": 286}, {\"date\": \"2011-09-16T00:00:00\", \"number of commits\": 286}, {\"date\": \"2013-01-30T00:00:00\", \"number of commits\": 286}, {\"date\": \"2015-10-12T00:00:00\", \"number of commits\": 286}, {\"date\": \"2015-05-09T00:00:00\", \"number of commits\": 286}, {\"date\": \"2014-09-29T00:00:00\", \"number of commits\": 285}, {\"date\": \"2012-09-20T00:00:00\", \"number of commits\": 285}, {\"date\": \"2014-03-31T00:00:00\", \"number of commits\": 285}, {\"date\": \"2014-12-02T00:00:00\", \"number of commits\": 285}, {\"date\": \"2015-04-17T00:00:00\", \"number of commits\": 285}, {\"date\": \"2011-08-25T00:00:00\", \"number of commits\": 284}, {\"date\": \"2013-03-26T00:00:00\", \"number of commits\": 284}, {\"date\": \"2014-03-03T00:00:00\", \"number of commits\": 284}, {\"date\": \"2015-09-17T00:00:00\", \"number of commits\": 284}, {\"date\": \"2015-10-19T00:00:00\", \"number of commits\": 283}, {\"date\": \"2015-10-15T00:00:00\", \"number of commits\": 283}, {\"date\": \"2012-07-24T00:00:00\", \"number of commits\": 283}, {\"date\": \"2015-10-28T00:00:00\", \"number of commits\": 283}, {\"date\": \"2012-05-20T00:00:00\", \"number of commits\": 283}, {\"date\": \"2013-06-13T00:00:00\", \"number of commits\": 283}, {\"date\": \"2015-11-26T00:00:00\", \"number of commits\": 283}, {\"date\": \"2015-03-07T00:00:00\", \"number of commits\": 283}, {\"date\": \"2012-03-07T00:00:00\", \"number of commits\": 282}, {\"date\": \"2015-03-19T00:00:00\", \"number of commits\": 282}, {\"date\": \"2015-09-22T00:00:00\", \"number of commits\": 282}, {\"date\": \"2009-04-22T00:00:00\", \"number of commits\": 282}, {\"date\": \"2015-05-05T00:00:00\", \"number of commits\": 281}, {\"date\": \"2013-11-26T00:00:00\", \"number of commits\": 281}, {\"date\": \"2015-11-24T00:00:00\", \"number of commits\": 281}, {\"date\": \"2015-05-29T00:00:00\", \"number of commits\": 281}, {\"date\": \"2016-03-25T00:00:00\", \"number of commits\": 281}, {\"date\": \"2010-12-21T00:00:00\", \"number of commits\": 281}, {\"date\": \"2012-01-11T00:00:00\", \"number of commits\": 281}, {\"date\": \"2008-02-29T00:00:00\", \"number of commits\": 281}, {\"date\": \"2015-05-04T00:00:00\", \"number of commits\": 281}, {\"date\": \"2006-06-23T00:00:00\", \"number of commits\": 281}, {\"date\": \"2016-01-28T00:00:00\", \"number of commits\": 281}, {\"date\": \"2015-04-13T00:00:00\", \"number of commits\": 280}, {\"date\": \"2012-10-26T00:00:00\", \"number of commits\": 280}, {\"date\": \"2010-10-08T00:00:00\", \"number of commits\": 280}, {\"date\": \"2012-05-03T00:00:00\", \"number of commits\": 280}, {\"date\": \"2014-09-30T00:00:00\", \"number of commits\": 279}, {\"date\": \"2014-06-17T00:00:00\", \"number of commits\": 279}, {\"date\": \"2012-11-01T00:00:00\", \"number of commits\": 279}, {\"date\": \"2013-04-18T00:00:00\", \"number of commits\": 279}, {\"date\": \"2012-03-28T00:00:00\", \"number of commits\": 279}, {\"date\": \"2014-04-01T00:00:00\", \"number of commits\": 279}, {\"date\": \"2015-09-21T00:00:00\", \"number of commits\": 278}, {\"date\": \"2014-11-11T00:00:00\", \"number of commits\": 278}, {\"date\": \"2014-05-07T00:00:00\", \"number of commits\": 278}, {\"date\": \"2013-01-31T00:00:00\", \"number of commits\": 278}, {\"date\": \"2011-04-05T00:00:00\", \"number of commits\": 278}, {\"date\": \"2014-01-16T00:00:00\", \"number of commits\": 278}, {\"date\": \"2013-06-19T00:00:00\", \"number of commits\": 278}, {\"date\": \"2013-03-06T00:00:00\", \"number of commits\": 278}, {\"date\": \"2013-08-26T00:00:00\", \"number of commits\": 278}, {\"date\": \"2014-08-21T00:00:00\", \"number of commits\": 277}, {\"date\": \"2014-11-17T00:00:00\", \"number of commits\": 277}, {\"date\": \"2012-09-18T00:00:00\", \"number of commits\": 277}, {\"date\": \"2014-03-14T00:00:00\", \"number of commits\": 277}, {\"date\": \"2011-05-17T00:00:00\", \"number of commits\": 277}, {\"date\": \"2015-07-22T00:00:00\", \"number of commits\": 276}, {\"date\": \"2014-05-26T00:00:00\", \"number of commits\": 276}, {\"date\": \"2015-01-19T00:00:00\", \"number of commits\": 276}, {\"date\": \"2016-04-27T00:00:00\", \"number of commits\": 276}, {\"date\": \"2011-06-28T00:00:00\", \"number of commits\": 276}, {\"date\": \"2015-06-26T00:00:00\", \"number of commits\": 275}, {\"date\": \"2015-10-07T00:00:00\", \"number of commits\": 275}, {\"date\": \"2015-05-07T00:00:00\", \"number of commits\": 275}, {\"date\": \"2013-10-24T00:00:00\", \"number of commits\": 275}, {\"date\": \"2014-09-17T00:00:00\", \"number of commits\": 275}, {\"date\": \"2013-02-04T00:00:00\", \"number of commits\": 275}, {\"date\": \"2011-05-27T00:00:00\", \"number of commits\": 275}, {\"date\": \"2016-04-01T00:00:00\", \"number of commits\": 275}, {\"date\": \"2011-12-21T00:00:00\", \"number of commits\": 274}, {\"date\": \"2013-09-01T00:00:00\", \"number of commits\": 274}, {\"date\": \"2014-02-26T00:00:00\", \"number of commits\": 274}, {\"date\": \"2013-10-07T00:00:00\", \"number of commits\": 274}, {\"date\": \"2013-08-15T00:00:00\", \"number of commits\": 274}, {\"date\": \"2012-03-12T00:00:00\", \"number of commits\": 273}, {\"date\": \"2013-03-27T00:00:00\", \"number of commits\": 273}, {\"date\": \"2012-04-12T00:00:00\", \"number of commits\": 273}, {\"date\": \"2013-02-14T00:00:00\", \"number of commits\": 273}, {\"date\": \"2013-09-16T00:00:00\", \"number of commits\": 273}, {\"date\": \"2013-01-29T00:00:00\", \"number of commits\": 273}, {\"date\": \"2012-01-06T00:00:00\", \"number of commits\": 273}, {\"date\": \"2014-06-24T00:00:00\", \"number of commits\": 272}, {\"date\": \"2013-01-21T00:00:00\", \"number of commits\": 272}, {\"date\": \"2016-01-26T00:00:00\", \"number of commits\": 272}, {\"date\": \"2015-12-02T00:00:00\", \"number of commits\": 272}, {\"date\": \"2015-08-26T00:00:00\", \"number of commits\": 272}, {\"date\": \"2006-09-23T00:00:00\", \"number of commits\": 272}, {\"date\": \"2008-10-09T00:00:00\", \"number of commits\": 272}, {\"date\": \"2007-02-13T00:00:00\", \"number of commits\": 272}, {\"date\": \"2015-09-04T00:00:00\", \"number of commits\": 271}, {\"date\": \"2013-01-12T00:00:00\", \"number of commits\": 271}, {\"date\": \"2014-05-25T00:00:00\", \"number of commits\": 271}, {\"date\": \"2016-05-21T00:00:00\", \"number of commits\": 270}, {\"date\": \"2010-11-18T00:00:00\", \"number of commits\": 270}, {\"date\": \"2014-02-11T00:00:00\", \"number of commits\": 270}, {\"date\": \"2016-01-13T00:00:00\", \"number of commits\": 270}, {\"date\": \"2016-04-04T00:00:00\", \"number of commits\": 270}, {\"date\": \"2016-02-07T00:00:00\", \"number of commits\": 270}, {\"date\": \"2015-01-17T00:00:00\", \"number of commits\": 269}, {\"date\": \"2014-12-08T00:00:00\", \"number of commits\": 269}, {\"date\": \"2011-09-11T00:00:00\", \"number of commits\": 269}, {\"date\": \"2009-01-30T00:00:00\", \"number of commits\": 268}, {\"date\": \"2009-03-26T00:00:00\", \"number of commits\": 268}, {\"date\": \"2013-04-25T00:00:00\", \"number of commits\": 267}, {\"date\": \"2012-08-23T00:00:00\", \"number of commits\": 267}, {\"date\": \"2015-01-26T00:00:00\", \"number of commits\": 267}, {\"date\": \"2010-12-22T00:00:00\", \"number of commits\": 267}, {\"date\": \"2011-10-13T00:00:00\", \"number of commits\": 266}, {\"date\": \"2011-12-20T00:00:00\", \"number of commits\": 266}, {\"date\": \"2012-04-23T00:00:00\", \"number of commits\": 266}, {\"date\": \"2015-09-24T00:00:00\", \"number of commits\": 266}, {\"date\": \"2016-05-24T00:00:00\", \"number of commits\": 265}, {\"date\": \"2010-09-24T00:00:00\", \"number of commits\": 265}, {\"date\": \"2015-05-22T00:00:00\", \"number of commits\": 265}, {\"date\": \"2009-09-24T00:00:00\", \"number of commits\": 265}, {\"date\": \"2010-02-24T00:00:00\", \"number of commits\": 265}, {\"date\": \"2015-04-29T00:00:00\", \"number of commits\": 264}, {\"date\": \"2014-06-05T00:00:00\", \"number of commits\": 264}, {\"date\": \"2011-11-15T00:00:00\", \"number of commits\": 264}, {\"date\": \"2010-10-18T00:00:00\", \"number of commits\": 264}, {\"date\": \"2014-10-24T00:00:00\", \"number of commits\": 264}, {\"date\": \"2015-03-09T00:00:00\", \"number of commits\": 264}, {\"date\": \"2013-05-01T00:00:00\", \"number of commits\": 264}, {\"date\": \"2012-08-16T00:00:00\", \"number of commits\": 263}, {\"date\": \"2012-06-25T00:00:00\", \"number of commits\": 263}, {\"date\": \"2015-10-20T00:00:00\", \"number of commits\": 263}, {\"date\": \"2009-07-10T00:00:00\", \"number of commits\": 263}, {\"date\": \"2011-11-02T00:00:00\", \"number of commits\": 262}, {\"date\": \"2015-01-30T00:00:00\", \"number of commits\": 262}, {\"date\": \"2012-04-24T00:00:00\", \"number of commits\": 262}, {\"date\": \"2013-07-15T00:00:00\", \"number of commits\": 262}, {\"date\": \"2012-02-21T00:00:00\", \"number of commits\": 262}, {\"date\": \"2015-04-30T00:00:00\", \"number of commits\": 262}, {\"date\": \"2010-03-12T00:00:00\", \"number of commits\": 262}, {\"date\": \"2010-10-05T00:00:00\", \"number of commits\": 262}, {\"date\": \"2015-08-27T00:00:00\", \"number of commits\": 262}, {\"date\": \"2006-12-10T00:00:00\", \"number of commits\": 262}, {\"date\": \"2014-07-24T00:00:00\", \"number of commits\": 261}, {\"date\": \"2016-04-22T00:00:00\", \"number of commits\": 261}, {\"date\": \"2012-10-25T00:00:00\", \"number of commits\": 261}, {\"date\": \"2010-12-29T00:00:00\", \"number of commits\": 261}, {\"date\": \"2012-03-13T00:00:00\", \"number of commits\": 261}, {\"date\": \"2008-07-09T00:00:00\", \"number of commits\": 261}, {\"date\": \"2015-01-16T00:00:00\", \"number of commits\": 260}, {\"date\": \"2013-01-03T00:00:00\", \"number of commits\": 260}, {\"date\": \"2011-11-27T00:00:00\", \"number of commits\": 260}, {\"date\": \"2011-05-26T00:00:00\", \"number of commits\": 260}, {\"date\": \"2008-01-26T00:00:00\", \"number of commits\": 260}, {\"date\": \"2012-05-21T00:00:00\", \"number of commits\": 259}, {\"date\": \"2014-12-04T00:00:00\", \"number of commits\": 259}, {\"date\": \"2014-09-15T00:00:00\", \"number of commits\": 259}, {\"date\": \"2013-04-23T00:00:00\", \"number of commits\": 259}, {\"date\": \"2008-07-21T00:00:00\", \"number of commits\": 259}, {\"date\": \"2013-11-14T00:00:00\", \"number of commits\": 259}, {\"date\": \"2016-03-24T00:00:00\", \"number of commits\": 259}, {\"date\": \"2009-04-01T00:00:00\", \"number of commits\": 259}, {\"date\": \"2005-06-25T00:00:00\", \"number of commits\": 259}, {\"date\": \"2015-01-08T00:00:00\", \"number of commits\": 258}, {\"date\": \"2008-07-10T00:00:00\", \"number of commits\": 258}, {\"date\": \"2006-03-31T00:00:00\", \"number of commits\": 258}, {\"date\": \"2015-07-01T00:00:00\", \"number of commits\": 258}, {\"date\": \"2011-01-19T00:00:00\", \"number of commits\": 258}, {\"date\": \"2013-09-24T00:00:00\", \"number of commits\": 257}, {\"date\": \"2012-11-09T00:00:00\", \"number of commits\": 257}, {\"date\": \"2014-09-10T00:00:00\", \"number of commits\": 257}, {\"date\": \"2007-02-12T00:00:00\", \"number of commits\": 257}, {\"date\": \"2016-06-03T00:00:00\", \"number of commits\": 256}, {\"date\": \"2013-05-29T00:00:00\", \"number of commits\": 256}, {\"date\": \"2010-09-21T00:00:00\", \"number of commits\": 256}, {\"date\": \"2012-07-23T00:00:00\", \"number of commits\": 256}, {\"date\": \"2015-03-30T00:00:00\", \"number of commits\": 256}, {\"date\": \"2014-02-09T00:00:00\", \"number of commits\": 256}, {\"date\": \"2014-01-20T00:00:00\", \"number of commits\": 255}, {\"date\": \"2013-06-21T00:00:00\", \"number of commits\": 255}, {\"date\": \"2011-07-21T00:00:00\", \"number of commits\": 255}, {\"date\": \"2012-08-01T00:00:00\", \"number of commits\": 254}, {\"date\": \"2011-09-21T00:00:00\", \"number of commits\": 254}, {\"date\": \"2009-11-11T00:00:00\", \"number of commits\": 254}, {\"date\": \"2008-10-30T00:00:00\", \"number of commits\": 254}, {\"date\": \"2009-12-17T00:00:00\", \"number of commits\": 254}, {\"date\": \"2015-07-20T00:00:00\", \"number of commits\": 254}, {\"date\": \"2009-08-20T00:00:00\", \"number of commits\": 254}, {\"date\": \"2014-07-29T00:00:00\", \"number of commits\": 253}, {\"date\": \"2015-02-05T00:00:00\", \"number of commits\": 253}, {\"date\": \"2015-06-17T00:00:00\", \"number of commits\": 253}, {\"date\": \"2012-09-12T00:00:00\", \"number of commits\": 253}, {\"date\": \"2016-02-02T00:00:00\", \"number of commits\": 253}, {\"date\": \"2015-10-05T00:00:00\", \"number of commits\": 253}, {\"date\": \"2009-09-12T00:00:00\", \"number of commits\": 253}, {\"date\": \"2012-08-17T00:00:00\", \"number of commits\": 253}, {\"date\": \"2013-05-21T00:00:00\", \"number of commits\": 253}, {\"date\": \"2013-01-11T00:00:00\", \"number of commits\": 253}, {\"date\": \"2015-11-11T00:00:00\", \"number of commits\": 252}, {\"date\": \"2013-06-14T00:00:00\", \"number of commits\": 252}, {\"date\": \"2015-09-03T00:00:00\", \"number of commits\": 252}, {\"date\": \"2010-05-14T00:00:00\", \"number of commits\": 252}, {\"date\": \"2015-09-15T00:00:00\", \"number of commits\": 252}, {\"date\": \"2016-03-05T00:00:00\", \"number of commits\": 251}, {\"date\": \"2016-04-30T00:00:00\", \"number of commits\": 251}, {\"date\": \"2009-07-24T00:00:00\", \"number of commits\": 251}, {\"date\": \"2012-06-13T00:00:00\", \"number of commits\": 251}, {\"date\": \"2014-07-12T00:00:00\", \"number of commits\": 251}, {\"date\": \"2015-10-06T00:00:00\", \"number of commits\": 251}, {\"date\": \"2014-08-14T00:00:00\", \"number of commits\": 251}, {\"date\": \"2013-06-06T00:00:00\", \"number of commits\": 251}, {\"date\": \"2013-11-07T00:00:00\", \"number of commits\": 250}, {\"date\": \"2013-06-10T00:00:00\", \"number of commits\": 250}, {\"date\": \"2016-01-20T00:00:00\", \"number of commits\": 250}, {\"date\": \"2013-02-01T00:00:00\", \"number of commits\": 250}, {\"date\": \"2015-08-25T00:00:00\", \"number of commits\": 250}, {\"date\": \"2009-10-29T00:00:00\", \"number of commits\": 250}, {\"date\": \"2013-10-21T00:00:00\", \"number of commits\": 250}, {\"date\": \"2011-05-23T00:00:00\", \"number of commits\": 250}, {\"date\": \"2013-04-12T00:00:00\", \"number of commits\": 250}, {\"date\": \"2013-09-23T00:00:00\", \"number of commits\": 250}, {\"date\": \"2011-07-22T00:00:00\", \"number of commits\": 249}, {\"date\": \"2015-05-24T00:00:00\", \"number of commits\": 249}, {\"date\": \"2005-09-07T00:00:00\", \"number of commits\": 249}, {\"date\": \"2016-01-16T00:00:00\", \"number of commits\": 248}, {\"date\": \"2012-10-15T00:00:00\", \"number of commits\": 248}, {\"date\": \"2013-05-31T00:00:00\", \"number of commits\": 248}, {\"date\": \"2014-05-09T00:00:00\", \"number of commits\": 248}, {\"date\": \"2014-08-19T00:00:00\", \"number of commits\": 248}, {\"date\": \"2012-03-21T00:00:00\", \"number of commits\": 247}, {\"date\": \"2011-03-03T00:00:00\", \"number of commits\": 247}, {\"date\": \"2016-05-27T00:00:00\", \"number of commits\": 247}, {\"date\": \"2014-05-08T00:00:00\", \"number of commits\": 246}, {\"date\": \"2012-06-06T00:00:00\", \"number of commits\": 246}, {\"date\": \"2012-05-29T00:00:00\", \"number of commits\": 246}, {\"date\": \"2013-10-08T00:00:00\", \"number of commits\": 246}, {\"date\": \"2015-01-06T00:00:00\", \"number of commits\": 246}, {\"date\": \"2012-10-03T00:00:00\", \"number of commits\": 246}, {\"date\": \"2014-11-18T00:00:00\", \"number of commits\": 245}, {\"date\": \"2015-05-26T00:00:00\", \"number of commits\": 245}, {\"date\": \"2008-10-15T00:00:00\", \"number of commits\": 245}, {\"date\": \"2006-03-24T00:00:00\", \"number of commits\": 245}, {\"date\": \"2014-06-26T00:00:00\", \"number of commits\": 245}, {\"date\": \"2015-08-06T00:00:00\", \"number of commits\": 244}, {\"date\": \"2013-11-15T00:00:00\", \"number of commits\": 244}, {\"date\": \"2013-03-20T00:00:00\", \"number of commits\": 244}, {\"date\": \"2012-09-19T00:00:00\", \"number of commits\": 244}, {\"date\": \"2012-04-19T00:00:00\", \"number of commits\": 244}, {\"date\": \"2013-10-23T00:00:00\", \"number of commits\": 244}, {\"date\": \"2010-05-06T00:00:00\", \"number of commits\": 244}, {\"date\": \"2007-07-31T00:00:00\", \"number of commits\": 244}, {\"date\": \"2012-11-19T00:00:00\", \"number of commits\": 243}, {\"date\": \"2014-04-15T00:00:00\", \"number of commits\": 242}, {\"date\": \"2014-10-03T00:00:00\", \"number of commits\": 242}, {\"date\": \"2010-10-23T00:00:00\", \"number of commits\": 242}, {\"date\": \"2012-11-26T00:00:00\", \"number of commits\": 242}, {\"date\": \"2008-10-31T00:00:00\", \"number of commits\": 242}, {\"date\": \"2006-04-11T00:00:00\", \"number of commits\": 242}, {\"date\": \"2014-06-25T00:00:00\", \"number of commits\": 241}, {\"date\": \"2012-02-27T00:00:00\", \"number of commits\": 241}, {\"date\": \"2012-12-06T00:00:00\", \"number of commits\": 241}, {\"date\": \"2016-03-21T00:00:00\", \"number of commits\": 241}, {\"date\": \"2009-04-06T00:00:00\", \"number of commits\": 241}, {\"date\": \"2009-10-27T00:00:00\", \"number of commits\": 241}, {\"date\": \"2012-01-27T00:00:00\", \"number of commits\": 240}, {\"date\": \"2014-12-22T00:00:00\", \"number of commits\": 240}, {\"date\": \"2011-09-15T00:00:00\", \"number of commits\": 240}, {\"date\": \"2012-12-12T00:00:00\", \"number of commits\": 240}, {\"date\": \"2012-07-10T00:00:00\", \"number of commits\": 240}, {\"date\": \"2009-06-15T00:00:00\", \"number of commits\": 240}, {\"date\": \"2013-07-22T00:00:00\", \"number of commits\": 240}, {\"date\": \"2016-05-26T00:00:00\", \"number of commits\": 240}, {\"date\": \"2013-07-09T00:00:00\", \"number of commits\": 239}, {\"date\": \"2014-06-03T00:00:00\", \"number of commits\": 239}, {\"date\": \"2016-01-14T00:00:00\", \"number of commits\": 239}, {\"date\": \"2015-04-22T00:00:00\", \"number of commits\": 239}, {\"date\": \"2012-08-15T00:00:00\", \"number of commits\": 238}, {\"date\": \"2014-02-21T00:00:00\", \"number of commits\": 238}, {\"date\": \"2011-07-12T00:00:00\", \"number of commits\": 238}, {\"date\": \"2013-05-06T00:00:00\", \"number of commits\": 238}, {\"date\": \"2012-06-12T00:00:00\", \"number of commits\": 237}, {\"date\": \"2014-08-28T00:00:00\", \"number of commits\": 237}, {\"date\": \"2012-12-20T00:00:00\", \"number of commits\": 237}, {\"date\": \"2010-09-08T00:00:00\", \"number of commits\": 237}, {\"date\": \"2011-11-24T00:00:00\", \"number of commits\": 237}, {\"date\": \"2011-01-05T00:00:00\", \"number of commits\": 237}, {\"date\": \"2014-03-28T00:00:00\", \"number of commits\": 237}, {\"date\": \"2006-12-04T00:00:00\", \"number of commits\": 237}, {\"date\": \"2016-02-05T00:00:00\", \"number of commits\": 236}, {\"date\": \"2011-04-13T00:00:00\", \"number of commits\": 236}, {\"date\": \"2013-04-15T00:00:00\", \"number of commits\": 236}, {\"date\": \"2011-12-12T00:00:00\", \"number of commits\": 235}, {\"date\": \"2014-03-09T00:00:00\", \"number of commits\": 235}, {\"date\": \"2015-05-06T00:00:00\", \"number of commits\": 235}, {\"date\": \"2014-12-12T00:00:00\", \"number of commits\": 235}, {\"date\": \"2016-05-18T00:00:00\", \"number of commits\": 235}, {\"date\": \"2011-01-11T00:00:00\", \"number of commits\": 235}, {\"date\": \"2012-04-13T00:00:00\", \"number of commits\": 235}, {\"date\": \"2015-06-15T00:00:00\", \"number of commits\": 235}, {\"date\": \"2012-02-14T00:00:00\", \"number of commits\": 235}, {\"date\": \"2014-01-10T00:00:00\", \"number of commits\": 235}, {\"date\": \"2012-10-17T00:00:00\", \"number of commits\": 234}, {\"date\": \"2008-11-26T00:00:00\", \"number of commits\": 234}, {\"date\": \"2014-08-25T00:00:00\", \"number of commits\": 234}, {\"date\": \"2007-10-23T00:00:00\", \"number of commits\": 234}, {\"date\": \"2015-02-24T00:00:00\", \"number of commits\": 234}, {\"date\": \"2012-05-10T00:00:00\", \"number of commits\": 234}, {\"date\": \"2013-08-18T00:00:00\", \"number of commits\": 234}, {\"date\": \"2011-03-28T00:00:00\", \"number of commits\": 234}, {\"date\": \"2013-03-05T00:00:00\", \"number of commits\": 233}, {\"date\": \"2015-01-14T00:00:00\", \"number of commits\": 233}, {\"date\": \"2009-03-31T00:00:00\", \"number of commits\": 233}, {\"date\": \"2012-04-25T00:00:00\", \"number of commits\": 233}, {\"date\": \"2012-10-29T00:00:00\", \"number of commits\": 232}, {\"date\": \"2010-11-30T00:00:00\", \"number of commits\": 232}, {\"date\": \"2014-02-10T00:00:00\", \"number of commits\": 232}, {\"date\": \"2012-12-10T00:00:00\", \"number of commits\": 232}, {\"date\": \"2008-04-26T00:00:00\", \"number of commits\": 232}, {\"date\": \"2008-09-03T00:00:00\", \"number of commits\": 232}, {\"date\": \"2011-02-17T00:00:00\", \"number of commits\": 231}, {\"date\": \"2011-05-03T00:00:00\", \"number of commits\": 231}, {\"date\": \"2013-11-11T00:00:00\", \"number of commits\": 231}, {\"date\": \"2012-07-12T00:00:00\", \"number of commits\": 231}, {\"date\": \"2016-04-18T00:00:00\", \"number of commits\": 231}, {\"date\": \"2005-10-31T00:00:00\", \"number of commits\": 231}, {\"date\": \"2006-06-29T00:00:00\", \"number of commits\": 231}, {\"date\": \"2008-05-23T00:00:00\", \"number of commits\": 231}, {\"date\": \"2012-02-06T00:00:00\", \"number of commits\": 230}, {\"date\": \"2011-02-18T00:00:00\", \"number of commits\": 230}, {\"date\": \"2014-07-01T00:00:00\", \"number of commits\": 230}, {\"date\": \"2012-09-28T00:00:00\", \"number of commits\": 230}, {\"date\": \"2013-12-31T00:00:00\", \"number of commits\": 230}, {\"date\": \"2011-10-04T00:00:00\", \"number of commits\": 229}, {\"date\": \"2015-08-20T00:00:00\", \"number of commits\": 229}, {\"date\": \"2012-01-26T00:00:00\", \"number of commits\": 229}, {\"date\": \"2011-11-04T00:00:00\", \"number of commits\": 229}, {\"date\": \"2013-12-13T00:00:00\", \"number of commits\": 229}, {\"date\": \"2011-10-19T00:00:00\", \"number of commits\": 229}, {\"date\": \"2010-08-24T00:00:00\", \"number of commits\": 229}, {\"date\": \"2008-10-22T00:00:00\", \"number of commits\": 229}, {\"date\": \"2015-12-28T00:00:00\", \"number of commits\": 229}, {\"date\": \"2013-09-05T00:00:00\", \"number of commits\": 229}, {\"date\": \"2013-05-17T00:00:00\", \"number of commits\": 229}, {\"date\": \"2014-03-15T00:00:00\", \"number of commits\": 229}, {\"date\": \"2015-12-12T00:00:00\", \"number of commits\": 228}, {\"date\": \"2012-12-13T00:00:00\", \"number of commits\": 228}, {\"date\": \"2012-06-11T00:00:00\", \"number of commits\": 228}, {\"date\": \"2012-04-30T00:00:00\", \"number of commits\": 228}, {\"date\": \"2016-02-06T00:00:00\", \"number of commits\": 228}, {\"date\": \"2013-08-16T00:00:00\", \"number of commits\": 228}, {\"date\": \"2006-03-25T00:00:00\", \"number of commits\": 228}, {\"date\": \"2014-10-01T00:00:00\", \"number of commits\": 227}, {\"date\": \"2011-09-30T00:00:00\", \"number of commits\": 227}, {\"date\": \"2016-01-22T00:00:00\", \"number of commits\": 227}, {\"date\": \"2009-06-23T00:00:00\", \"number of commits\": 227}, {\"date\": \"2011-07-13T00:00:00\", \"number of commits\": 226}, {\"date\": \"2014-02-05T00:00:00\", \"number of commits\": 226}, {\"date\": \"2006-06-21T00:00:00\", \"number of commits\": 226}, {\"date\": \"2015-09-18T00:00:00\", \"number of commits\": 226}, {\"date\": \"2006-12-02T00:00:00\", \"number of commits\": 226}, {\"date\": \"2015-07-30T00:00:00\", \"number of commits\": 225}, {\"date\": \"2014-06-30T00:00:00\", \"number of commits\": 225}, {\"date\": \"2015-08-03T00:00:00\", \"number of commits\": 225}, {\"date\": \"2016-06-02T00:00:00\", \"number of commits\": 225}, {\"date\": \"2011-06-29T00:00:00\", \"number of commits\": 225}, {\"date\": \"2007-02-16T00:00:00\", \"number of commits\": 225}, {\"date\": \"2009-08-28T00:00:00\", \"number of commits\": 225}, {\"date\": \"2012-11-29T00:00:00\", \"number of commits\": 224}, {\"date\": \"2012-08-22T00:00:00\", \"number of commits\": 224}, {\"date\": \"2011-11-16T00:00:00\", \"number of commits\": 224}, {\"date\": \"2010-09-09T00:00:00\", \"number of commits\": 224}, {\"date\": \"2012-03-27T00:00:00\", \"number of commits\": 224}, {\"date\": \"2014-02-19T00:00:00\", \"number of commits\": 223}, {\"date\": \"2011-03-24T00:00:00\", \"number of commits\": 223}, {\"date\": \"2013-04-22T00:00:00\", \"number of commits\": 223}, {\"date\": \"2013-01-23T00:00:00\", \"number of commits\": 223}, {\"date\": \"2011-11-09T00:00:00\", \"number of commits\": 223}, {\"date\": \"2015-02-27T00:00:00\", \"number of commits\": 223}, {\"date\": \"2013-04-26T00:00:00\", \"number of commits\": 223}, {\"date\": \"2012-05-30T00:00:00\", \"number of commits\": 223}, {\"date\": \"2016-05-16T00:00:00\", \"number of commits\": 223}, {\"date\": \"2012-10-19T00:00:00\", \"number of commits\": 223}, {\"date\": \"2015-04-09T00:00:00\", \"number of commits\": 222}, {\"date\": \"2012-01-25T00:00:00\", \"number of commits\": 222}, {\"date\": \"2011-05-16T00:00:00\", \"number of commits\": 222}, {\"date\": \"2006-06-22T00:00:00\", \"number of commits\": 222}, {\"date\": \"2008-07-23T00:00:00\", \"number of commits\": 222}, {\"date\": \"2014-12-05T00:00:00\", \"number of commits\": 222}, {\"date\": \"2012-07-22T00:00:00\", \"number of commits\": 222}, {\"date\": \"2011-03-01T00:00:00\", \"number of commits\": 221}, {\"date\": \"2015-09-25T00:00:00\", \"number of commits\": 221}, {\"date\": \"2012-02-28T00:00:00\", \"number of commits\": 221}, {\"date\": \"2016-01-19T00:00:00\", \"number of commits\": 221}, {\"date\": \"2014-01-02T00:00:00\", \"number of commits\": 221}, {\"date\": \"2011-03-29T00:00:00\", \"number of commits\": 221}, {\"date\": \"2014-02-06T00:00:00\", \"number of commits\": 220}, {\"date\": \"2005-09-12T00:00:00\", \"number of commits\": 220}, {\"date\": \"2014-09-04T00:00:00\", \"number of commits\": 220}, {\"date\": \"2009-03-28T00:00:00\", \"number of commits\": 220}, {\"date\": \"2010-02-27T00:00:00\", \"number of commits\": 220}, {\"date\": \"2016-06-01T00:00:00\", \"number of commits\": 220}, {\"date\": \"2009-09-04T00:00:00\", \"number of commits\": 219}, {\"date\": \"2013-05-22T00:00:00\", \"number of commits\": 219}, {\"date\": \"2011-11-28T00:00:00\", \"number of commits\": 219}, {\"date\": \"2010-08-01T00:00:00\", \"number of commits\": 219}, {\"date\": \"2014-10-23T00:00:00\", \"number of commits\": 218}, {\"date\": \"2014-12-23T00:00:00\", \"number of commits\": 218}, {\"date\": \"2015-08-15T00:00:00\", \"number of commits\": 218}, {\"date\": \"2011-12-02T00:00:00\", \"number of commits\": 218}, {\"date\": \"2015-02-09T00:00:00\", \"number of commits\": 218}, {\"date\": \"2015-10-30T00:00:00\", \"number of commits\": 218}, {\"date\": \"2014-04-02T00:00:00\", \"number of commits\": 218}, {\"date\": \"2009-03-16T00:00:00\", \"number of commits\": 218}, {\"date\": \"2012-02-22T00:00:00\", \"number of commits\": 218}, {\"date\": \"2016-01-18T00:00:00\", \"number of commits\": 218}, {\"date\": \"2010-11-29T00:00:00\", \"number of commits\": 218}, {\"date\": \"2012-01-12T00:00:00\", \"number of commits\": 218}, {\"date\": \"2008-04-22T00:00:00\", \"number of commits\": 218}, {\"date\": \"2006-03-26T00:00:00\", \"number of commits\": 218}, {\"date\": \"2009-01-02T00:00:00\", \"number of commits\": 218}, {\"date\": \"2013-06-11T00:00:00\", \"number of commits\": 217}, {\"date\": \"2012-11-07T00:00:00\", \"number of commits\": 217}, {\"date\": \"2013-09-20T00:00:00\", \"number of commits\": 217}, {\"date\": \"2015-07-08T00:00:00\", \"number of commits\": 217}, {\"date\": \"2016-06-09T00:00:00\", \"number of commits\": 217}, {\"date\": \"2010-12-03T00:00:00\", \"number of commits\": 217}, {\"date\": \"2015-02-10T00:00:00\", \"number of commits\": 216}, {\"date\": \"2009-09-11T00:00:00\", \"number of commits\": 216}, {\"date\": \"2013-03-28T00:00:00\", \"number of commits\": 216}, {\"date\": \"2010-10-29T00:00:00\", \"number of commits\": 216}, {\"date\": \"2015-11-02T00:00:00\", \"number of commits\": 216}, {\"date\": \"2008-12-16T00:00:00\", \"number of commits\": 216}, {\"date\": \"2014-12-16T00:00:00\", \"number of commits\": 216}, {\"date\": \"2010-05-13T00:00:00\", \"number of commits\": 216}, {\"date\": \"2008-10-21T00:00:00\", \"number of commits\": 216}, {\"date\": \"2012-09-07T00:00:00\", \"number of commits\": 215}, {\"date\": \"2010-10-27T00:00:00\", \"number of commits\": 215}, {\"date\": \"2014-02-23T00:00:00\", \"number of commits\": 215}, {\"date\": \"2013-05-20T00:00:00\", \"number of commits\": 215}, {\"date\": \"2010-11-16T00:00:00\", \"number of commits\": 215}, {\"date\": \"2013-04-19T00:00:00\", \"number of commits\": 215}, {\"date\": \"2014-03-25T00:00:00\", \"number of commits\": 215}, {\"date\": \"2012-07-05T00:00:00\", \"number of commits\": 215}, {\"date\": \"2014-10-09T00:00:00\", \"number of commits\": 215}, {\"date\": \"2013-05-08T00:00:00\", \"number of commits\": 214}, {\"date\": \"2010-07-22T00:00:00\", \"number of commits\": 214}, {\"date\": \"2011-03-07T00:00:00\", \"number of commits\": 214}, {\"date\": \"2013-07-17T00:00:00\", \"number of commits\": 214}, {\"date\": \"2014-01-21T00:00:00\", \"number of commits\": 214}, {\"date\": \"2011-11-03T00:00:00\", \"number of commits\": 214}, {\"date\": \"2015-05-01T00:00:00\", \"number of commits\": 214}, {\"date\": \"2014-07-04T00:00:00\", \"number of commits\": 213}, {\"date\": \"2012-07-27T00:00:00\", \"number of commits\": 213}, {\"date\": \"2013-11-20T00:00:00\", \"number of commits\": 213}, {\"date\": \"2009-06-08T00:00:00\", \"number of commits\": 213}, {\"date\": \"2010-09-10T00:00:00\", \"number of commits\": 213}, {\"date\": \"2012-12-21T00:00:00\", \"number of commits\": 213}, {\"date\": \"2011-07-01T00:00:00\", \"number of commits\": 212}, {\"date\": \"2007-02-05T00:00:00\", \"number of commits\": 212}, {\"date\": \"2010-03-06T00:00:00\", \"number of commits\": 212}, {\"date\": \"2012-12-05T00:00:00\", \"number of commits\": 211}, {\"date\": \"2009-12-14T00:00:00\", \"number of commits\": 211}, {\"date\": \"2008-07-11T00:00:00\", \"number of commits\": 211}, {\"date\": \"2008-11-13T00:00:00\", \"number of commits\": 211}, {\"date\": \"2006-01-17T00:00:00\", \"number of commits\": 211}, {\"date\": \"2007-10-13T00:00:00\", \"number of commits\": 211}, {\"date\": \"2014-04-29T00:00:00\", \"number of commits\": 210}, {\"date\": \"2010-10-01T00:00:00\", \"number of commits\": 209}, {\"date\": \"2013-10-02T00:00:00\", \"number of commits\": 209}, {\"date\": \"2012-02-15T00:00:00\", \"number of commits\": 209}, {\"date\": \"2014-12-01T00:00:00\", \"number of commits\": 209}, {\"date\": \"2013-07-05T00:00:00\", \"number of commits\": 209}, {\"date\": \"2012-10-31T00:00:00\", \"number of commits\": 209}, {\"date\": \"2015-07-07T00:00:00\", \"number of commits\": 209}, {\"date\": \"2016-06-08T00:00:00\", \"number of commits\": 209}, {\"date\": \"2010-12-10T00:00:00\", \"number of commits\": 208}, {\"date\": \"2015-06-24T00:00:00\", \"number of commits\": 208}, {\"date\": \"2011-12-22T00:00:00\", \"number of commits\": 208}, {\"date\": \"2011-03-16T00:00:00\", \"number of commits\": 208}, {\"date\": \"2012-04-20T00:00:00\", \"number of commits\": 208}, {\"date\": \"2015-07-09T00:00:00\", \"number of commits\": 207}, {\"date\": \"2014-12-17T00:00:00\", \"number of commits\": 207}, {\"date\": \"2010-10-14T00:00:00\", \"number of commits\": 207}, {\"date\": \"2006-12-01T00:00:00\", \"number of commits\": 207}, {\"date\": \"2006-06-18T00:00:00\", \"number of commits\": 207}, {\"date\": \"2006-10-01T00:00:00\", \"number of commits\": 207}, {\"date\": \"2011-04-19T00:00:00\", \"number of commits\": 206}, {\"date\": \"2011-01-24T00:00:00\", \"number of commits\": 206}, {\"date\": \"2011-12-15T00:00:00\", \"number of commits\": 206}, {\"date\": \"2012-10-02T00:00:00\", \"number of commits\": 206}, {\"date\": \"2009-08-13T00:00:00\", \"number of commits\": 206}, {\"date\": \"2011-02-25T00:00:00\", \"number of commits\": 206}, {\"date\": \"2005-06-28T00:00:00\", \"number of commits\": 206}, {\"date\": \"2012-01-17T00:00:00\", \"number of commits\": 206}, {\"date\": \"2013-10-19T00:00:00\", \"number of commits\": 206}, {\"date\": \"2014-04-26T00:00:00\", \"number of commits\": 206}, {\"date\": \"2013-05-24T00:00:00\", \"number of commits\": 205}, {\"date\": \"2012-08-20T00:00:00\", \"number of commits\": 205}, {\"date\": \"2010-11-09T00:00:00\", \"number of commits\": 205}, {\"date\": \"2015-11-10T00:00:00\", \"number of commits\": 205}, {\"date\": \"2011-06-16T00:00:00\", \"number of commits\": 205}, {\"date\": \"2015-02-18T00:00:00\", \"number of commits\": 205}, {\"date\": \"2015-02-06T00:00:00\", \"number of commits\": 205}, {\"date\": \"2012-06-27T00:00:00\", \"number of commits\": 205}, {\"date\": \"2012-11-05T00:00:00\", \"number of commits\": 204}, {\"date\": \"2010-03-03T00:00:00\", \"number of commits\": 204}, {\"date\": \"2009-11-18T00:00:00\", \"number of commits\": 204}, {\"date\": \"2013-04-16T00:00:00\", \"number of commits\": 204}, {\"date\": \"2009-05-28T00:00:00\", \"number of commits\": 204}, {\"date\": \"2011-07-06T00:00:00\", \"number of commits\": 204}, {\"date\": \"2005-09-08T00:00:00\", \"number of commits\": 204}, {\"date\": \"2015-07-28T00:00:00\", \"number of commits\": 204}, {\"date\": \"2012-02-02T00:00:00\", \"number of commits\": 204}, {\"date\": \"2015-05-21T00:00:00\", \"number of commits\": 204}, {\"date\": \"2013-05-09T00:00:00\", \"number of commits\": 204}, {\"date\": \"2015-01-10T00:00:00\", \"number of commits\": 204}, {\"date\": \"2005-07-08T00:00:00\", \"number of commits\": 204}, {\"date\": \"2012-06-18T00:00:00\", \"number of commits\": 203}, {\"date\": \"2011-02-28T00:00:00\", \"number of commits\": 203}, {\"date\": \"2012-07-13T00:00:00\", \"number of commits\": 203}, {\"date\": \"2010-10-12T00:00:00\", \"number of commits\": 203}, {\"date\": \"2009-03-05T00:00:00\", \"number of commits\": 203}, {\"date\": \"2009-10-30T00:00:00\", \"number of commits\": 203}, {\"date\": \"2013-12-14T00:00:00\", \"number of commits\": 203}, {\"date\": \"2015-08-24T00:00:00\", \"number of commits\": 202}, {\"date\": \"2009-08-04T00:00:00\", \"number of commits\": 202}, {\"date\": \"2010-01-17T00:00:00\", \"number of commits\": 202}, {\"date\": \"2009-02-09T00:00:00\", \"number of commits\": 202}, {\"date\": \"2010-02-04T00:00:00\", \"number of commits\": 202}, {\"date\": \"2007-04-28T00:00:00\", \"number of commits\": 202}, {\"date\": \"2013-03-19T00:00:00\", \"number of commits\": 201}, {\"date\": \"2013-03-22T00:00:00\", \"number of commits\": 201}, {\"date\": \"2013-12-23T00:00:00\", \"number of commits\": 201}, {\"date\": \"2012-09-25T00:00:00\", \"number of commits\": 201}, {\"date\": \"2015-06-09T00:00:00\", \"number of commits\": 201}, {\"date\": \"2014-08-06T00:00:00\", \"number of commits\": 201}, {\"date\": \"2014-07-26T00:00:00\", \"number of commits\": 201}, {\"date\": \"2005-07-27T00:00:00\", \"number of commits\": 201}, {\"date\": \"2015-06-21T00:00:00\", \"number of commits\": 201}, {\"date\": \"2012-04-27T00:00:00\", \"number of commits\": 200}, {\"date\": \"2009-12-01T00:00:00\", \"number of commits\": 200}, {\"date\": \"2011-04-26T00:00:00\", \"number of commits\": 200}, {\"date\": \"2010-11-22T00:00:00\", \"number of commits\": 200}, {\"date\": \"2012-08-14T00:00:00\", \"number of commits\": 200}, {\"date\": \"2005-06-23T00:00:00\", \"number of commits\": 200}, {\"date\": \"2007-10-09T00:00:00\", \"number of commits\": 200}, {\"date\": \"2011-10-11T00:00:00\", \"number of commits\": 199}, {\"date\": \"2013-09-27T00:00:00\", \"number of commits\": 199}, {\"date\": \"2011-12-07T00:00:00\", \"number of commits\": 199}, {\"date\": \"2014-06-23T00:00:00\", \"number of commits\": 199}, {\"date\": \"2007-05-03T00:00:00\", \"number of commits\": 199}, {\"date\": \"2014-11-23T00:00:00\", \"number of commits\": 199}, {\"date\": \"2012-04-01T00:00:00\", \"number of commits\": 199}, {\"date\": \"2008-07-30T00:00:00\", \"number of commits\": 199}, {\"date\": \"2005-04-16T00:00:00\", \"number of commits\": 199}, {\"date\": \"2013-07-08T00:00:00\", \"number of commits\": 198}, {\"date\": \"2012-05-07T00:00:00\", \"number of commits\": 198}, {\"date\": \"2007-11-15T00:00:00\", \"number of commits\": 198}, {\"date\": \"2015-05-25T00:00:00\", \"number of commits\": 198}, {\"date\": \"2013-07-16T00:00:00\", \"number of commits\": 198}, {\"date\": \"2014-10-31T00:00:00\", \"number of commits\": 197}, {\"date\": \"2013-09-06T00:00:00\", \"number of commits\": 197}, {\"date\": \"2011-03-09T00:00:00\", \"number of commits\": 197}, {\"date\": \"2005-06-27T00:00:00\", \"number of commits\": 197}, {\"date\": \"2009-04-27T00:00:00\", \"number of commits\": 197}, {\"date\": \"2015-06-05T00:00:00\", \"number of commits\": 197}, {\"date\": \"2012-08-06T00:00:00\", \"number of commits\": 197}, {\"date\": \"2014-03-21T00:00:00\", \"number of commits\": 197}, {\"date\": \"2016-06-15T00:00:00\", \"number of commits\": 197}, {\"date\": \"2016-06-07T00:00:00\", \"number of commits\": 197}, {\"date\": \"2012-02-29T00:00:00\", \"number of commits\": 197}, {\"date\": \"2015-08-30T00:00:00\", \"number of commits\": 197}, {\"date\": \"2012-08-13T00:00:00\", \"number of commits\": 196}, {\"date\": \"2012-09-22T00:00:00\", \"number of commits\": 196}, {\"date\": \"2015-12-24T00:00:00\", \"number of commits\": 196}, {\"date\": \"2015-09-16T00:00:00\", \"number of commits\": 196}, {\"date\": \"2010-06-02T00:00:00\", \"number of commits\": 196}, {\"date\": \"2013-04-24T00:00:00\", \"number of commits\": 196}, {\"date\": \"2009-06-02T00:00:00\", \"number of commits\": 196}, {\"date\": \"2015-04-24T00:00:00\", \"number of commits\": 196}, {\"date\": \"2008-05-14T00:00:00\", \"number of commits\": 196}, {\"date\": \"2013-09-10T00:00:00\", \"number of commits\": 196}, {\"date\": \"2015-01-05T00:00:00\", \"number of commits\": 196}, {\"date\": \"2008-02-04T00:00:00\", \"number of commits\": 196}, {\"date\": \"2015-11-05T00:00:00\", \"number of commits\": 196}, {\"date\": \"2016-05-23T00:00:00\", \"number of commits\": 196}, {\"date\": \"2011-12-23T00:00:00\", \"number of commits\": 196}, {\"date\": \"2010-11-17T00:00:00\", \"number of commits\": 195}, {\"date\": \"2012-05-02T00:00:00\", \"number of commits\": 195}, {\"date\": \"2013-08-02T00:00:00\", \"number of commits\": 195}, {\"date\": \"2014-01-29T00:00:00\", \"number of commits\": 195}, {\"date\": \"2013-05-13T00:00:00\", \"number of commits\": 195}, {\"date\": \"2013-07-19T00:00:00\", \"number of commits\": 195}, {\"date\": \"2012-07-03T00:00:00\", \"number of commits\": 195}, {\"date\": \"2010-10-07T00:00:00\", \"number of commits\": 195}, {\"date\": \"2011-10-17T00:00:00\", \"number of commits\": 195}, {\"date\": \"2010-02-25T00:00:00\", \"number of commits\": 195}, {\"date\": \"2013-04-10T00:00:00\", \"number of commits\": 195}, {\"date\": \"2011-12-27T00:00:00\", \"number of commits\": 195}, {\"date\": \"2015-09-10T00:00:00\", \"number of commits\": 194}, {\"date\": \"2014-09-18T00:00:00\", \"number of commits\": 194}, {\"date\": \"2009-06-03T00:00:00\", \"number of commits\": 194}, {\"date\": \"2009-01-21T00:00:00\", \"number of commits\": 194}, {\"date\": \"2016-01-24T00:00:00\", \"number of commits\": 194}, {\"date\": \"2013-01-09T00:00:00\", \"number of commits\": 194}, {\"date\": \"2010-12-02T00:00:00\", \"number of commits\": 193}, {\"date\": \"2011-06-27T00:00:00\", \"number of commits\": 193}, {\"date\": \"2011-02-24T00:00:00\", \"number of commits\": 193}, {\"date\": \"2009-04-28T00:00:00\", \"number of commits\": 193}, {\"date\": \"2005-05-29T00:00:00\", \"number of commits\": 193}, {\"date\": \"2015-12-05T00:00:00\", \"number of commits\": 193}, {\"date\": \"2015-05-14T00:00:00\", \"number of commits\": 193}, {\"date\": \"2014-07-27T00:00:00\", \"number of commits\": 193}, {\"date\": \"2013-03-13T00:00:00\", \"number of commits\": 192}, {\"date\": \"2011-11-17T00:00:00\", \"number of commits\": 192}, {\"date\": \"2015-12-29T00:00:00\", \"number of commits\": 191}, {\"date\": \"2015-02-25T00:00:00\", \"number of commits\": 191}, {\"date\": \"2009-04-17T00:00:00\", \"number of commits\": 191}, {\"date\": \"2011-04-20T00:00:00\", \"number of commits\": 191}, {\"date\": \"2008-09-23T00:00:00\", \"number of commits\": 191}, {\"date\": \"2011-08-08T00:00:00\", \"number of commits\": 191}, {\"date\": \"2009-04-08T00:00:00\", \"number of commits\": 191}, {\"date\": \"2008-02-03T00:00:00\", \"number of commits\": 191}, {\"date\": \"2016-05-31T00:00:00\", \"number of commits\": 190}, {\"date\": \"2013-11-04T00:00:00\", \"number of commits\": 190}, {\"date\": \"2011-12-16T00:00:00\", \"number of commits\": 190}, {\"date\": \"2009-11-24T00:00:00\", \"number of commits\": 190}, {\"date\": \"2008-06-27T00:00:00\", \"number of commits\": 190}, {\"date\": \"2012-12-19T00:00:00\", \"number of commits\": 190}, {\"date\": \"2008-03-26T00:00:00\", \"number of commits\": 190}, {\"date\": \"2015-09-01T00:00:00\", \"number of commits\": 189}, {\"date\": \"2012-05-04T00:00:00\", \"number of commits\": 189}, {\"date\": \"2014-04-09T00:00:00\", \"number of commits\": 189}, {\"date\": \"2013-09-12T00:00:00\", \"number of commits\": 189}, {\"date\": \"2014-02-22T00:00:00\", \"number of commits\": 189}, {\"date\": \"2009-04-02T00:00:00\", \"number of commits\": 189}, {\"date\": \"2008-07-18T00:00:00\", \"number of commits\": 189}, {\"date\": \"2008-09-04T00:00:00\", \"number of commits\": 189}, {\"date\": \"2008-07-03T00:00:00\", \"number of commits\": 189}, {\"date\": \"2008-09-24T00:00:00\", \"number of commits\": 189}, {\"date\": \"2012-03-16T00:00:00\", \"number of commits\": 189}, {\"date\": \"2007-02-17T00:00:00\", \"number of commits\": 189}, {\"date\": \"2010-12-08T00:00:00\", \"number of commits\": 188}, {\"date\": \"2010-11-10T00:00:00\", \"number of commits\": 188}, {\"date\": \"2010-10-19T00:00:00\", \"number of commits\": 188}, {\"date\": \"2009-07-30T00:00:00\", \"number of commits\": 188}, {\"date\": \"2012-06-04T00:00:00\", \"number of commits\": 187}, {\"date\": \"2015-02-11T00:00:00\", \"number of commits\": 187}, {\"date\": \"2011-05-12T00:00:00\", \"number of commits\": 187}, {\"date\": \"2012-08-10T00:00:00\", \"number of commits\": 187}, {\"date\": \"2014-10-21T00:00:00\", \"number of commits\": 187}, {\"date\": \"2010-12-20T00:00:00\", \"number of commits\": 187}, {\"date\": \"2012-12-07T00:00:00\", \"number of commits\": 186}, {\"date\": \"2015-11-12T00:00:00\", \"number of commits\": 186}, {\"date\": \"2009-09-14T00:00:00\", \"number of commits\": 186}, {\"date\": \"2012-04-11T00:00:00\", \"number of commits\": 186}, {\"date\": \"2006-09-28T00:00:00\", \"number of commits\": 186}, {\"date\": \"2009-01-16T00:00:00\", \"number of commits\": 186}, {\"date\": \"2011-07-11T00:00:00\", \"number of commits\": 186}, {\"date\": \"2012-01-16T00:00:00\", \"number of commits\": 186}, {\"date\": \"2013-06-29T00:00:00\", \"number of commits\": 186}, {\"date\": \"2015-03-05T00:00:00\", \"number of commits\": 185}, {\"date\": \"2015-02-14T00:00:00\", \"number of commits\": 185}, {\"date\": \"2013-06-07T00:00:00\", \"number of commits\": 185}, {\"date\": \"2009-12-07T00:00:00\", \"number of commits\": 185}, {\"date\": \"2012-11-22T00:00:00\", \"number of commits\": 185}, {\"date\": \"2009-01-28T00:00:00\", \"number of commits\": 185}, {\"date\": \"2010-03-10T00:00:00\", \"number of commits\": 185}, {\"date\": \"2008-05-13T00:00:00\", \"number of commits\": 185}, {\"date\": \"2013-07-18T00:00:00\", \"number of commits\": 185}, {\"date\": \"2014-05-04T00:00:00\", \"number of commits\": 185}, {\"date\": \"2006-10-11T00:00:00\", \"number of commits\": 185}, {\"date\": \"2015-11-09T00:00:00\", \"number of commits\": 184}, {\"date\": \"2015-08-19T00:00:00\", \"number of commits\": 184}, {\"date\": \"2014-07-14T00:00:00\", \"number of commits\": 184}, {\"date\": \"2014-12-10T00:00:00\", \"number of commits\": 184}, {\"date\": \"2010-10-04T00:00:00\", \"number of commits\": 184}, {\"date\": \"2010-08-31T00:00:00\", \"number of commits\": 184}, {\"date\": \"2011-02-04T00:00:00\", \"number of commits\": 184}, {\"date\": \"2012-05-01T00:00:00\", \"number of commits\": 184}, {\"date\": \"2006-04-02T00:00:00\", \"number of commits\": 184}, {\"date\": \"2010-01-15T00:00:00\", \"number of commits\": 184}, {\"date\": \"2008-05-22T00:00:00\", \"number of commits\": 184}, {\"date\": \"2012-01-20T00:00:00\", \"number of commits\": 183}, {\"date\": \"2010-12-01T00:00:00\", \"number of commits\": 183}, {\"date\": \"2013-07-02T00:00:00\", \"number of commits\": 183}, {\"date\": \"2015-11-07T00:00:00\", \"number of commits\": 183}, {\"date\": \"2012-06-29T00:00:00\", \"number of commits\": 183}, {\"date\": \"2014-10-22T00:00:00\", \"number of commits\": 183}, {\"date\": \"2013-05-23T00:00:00\", \"number of commits\": 183}, {\"date\": \"2009-04-16T00:00:00\", \"number of commits\": 183}, {\"date\": \"2006-02-07T00:00:00\", \"number of commits\": 183}, {\"date\": \"2015-05-10T00:00:00\", \"number of commits\": 183}, {\"date\": \"2009-09-09T00:00:00\", \"number of commits\": 183}, {\"date\": \"2012-09-23T00:00:00\", \"number of commits\": 183}, {\"date\": \"2011-09-09T00:00:00\", \"number of commits\": 182}, {\"date\": \"2013-12-24T00:00:00\", \"number of commits\": 182}, {\"date\": \"2012-06-28T00:00:00\", \"number of commits\": 182}, {\"date\": \"2008-12-25T00:00:00\", \"number of commits\": 182}, {\"date\": \"2011-09-27T00:00:00\", \"number of commits\": 182}, {\"date\": \"2014-08-13T00:00:00\", \"number of commits\": 182}, {\"date\": \"2016-06-16T00:00:00\", \"number of commits\": 182}, {\"date\": \"2015-10-29T00:00:00\", \"number of commits\": 182}, {\"date\": \"2014-09-13T00:00:00\", \"number of commits\": 182}, {\"date\": \"2012-07-18T00:00:00\", \"number of commits\": 181}, {\"date\": \"2011-08-31T00:00:00\", \"number of commits\": 181}, {\"date\": \"2010-08-12T00:00:00\", \"number of commits\": 181}, {\"date\": \"2008-11-20T00:00:00\", \"number of commits\": 181}, {\"date\": \"2010-10-06T00:00:00\", \"number of commits\": 181}, {\"date\": \"2011-11-07T00:00:00\", \"number of commits\": 181}, {\"date\": \"2014-08-29T00:00:00\", \"number of commits\": 181}, {\"date\": \"2012-06-19T00:00:00\", \"number of commits\": 181}, {\"date\": \"2009-06-22T00:00:00\", \"number of commits\": 180}, {\"date\": \"2010-09-14T00:00:00\", \"number of commits\": 180}, {\"date\": \"2011-04-25T00:00:00\", \"number of commits\": 180}, {\"date\": \"2006-07-03T00:00:00\", \"number of commits\": 180}, {\"date\": \"2006-06-30T00:00:00\", \"number of commits\": 180}, {\"date\": \"2010-11-24T00:00:00\", \"number of commits\": 180}, {\"date\": \"2015-04-12T00:00:00\", \"number of commits\": 179}, {\"date\": \"2011-05-02T00:00:00\", \"number of commits\": 179}, {\"date\": \"2011-11-21T00:00:00\", \"number of commits\": 179}, {\"date\": \"2015-02-19T00:00:00\", \"number of commits\": 179}, {\"date\": \"2014-01-27T00:00:00\", \"number of commits\": 179}, {\"date\": \"2014-01-30T00:00:00\", \"number of commits\": 179}, {\"date\": \"2012-01-13T00:00:00\", \"number of commits\": 179}, {\"date\": \"2016-01-30T00:00:00\", \"number of commits\": 179}, {\"date\": \"2012-08-21T00:00:00\", \"number of commits\": 179}, {\"date\": \"2016-06-14T00:00:00\", \"number of commits\": 178}, {\"date\": \"2011-02-22T00:00:00\", \"number of commits\": 178}, {\"date\": \"2015-12-30T00:00:00\", \"number of commits\": 178}, {\"date\": \"2009-05-26T00:00:00\", \"number of commits\": 178}, {\"date\": \"2012-03-15T00:00:00\", \"number of commits\": 178}, {\"date\": \"2008-01-29T00:00:00\", \"number of commits\": 178}, {\"date\": \"2008-08-29T00:00:00\", \"number of commits\": 178}, {\"date\": \"2012-05-24T00:00:00\", \"number of commits\": 178}, {\"date\": \"2014-06-21T00:00:00\", \"number of commits\": 178}, {\"date\": \"2012-04-26T00:00:00\", \"number of commits\": 178}, {\"date\": \"2015-04-23T00:00:00\", \"number of commits\": 177}, {\"date\": \"2010-03-09T00:00:00\", \"number of commits\": 177}, {\"date\": \"2008-02-02T00:00:00\", \"number of commits\": 177}, {\"date\": \"2014-03-27T00:00:00\", \"number of commits\": 177}, {\"date\": \"2013-03-01T00:00:00\", \"number of commits\": 177}, {\"date\": \"2010-08-07T00:00:00\", \"number of commits\": 177}, {\"date\": \"2013-05-07T00:00:00\", \"number of commits\": 176}, {\"date\": \"2012-04-16T00:00:00\", \"number of commits\": 176}, {\"date\": \"2009-11-23T00:00:00\", \"number of commits\": 176}, {\"date\": \"2015-08-31T00:00:00\", \"number of commits\": 176}, {\"date\": \"2015-09-02T00:00:00\", \"number of commits\": 176}, {\"date\": \"2012-04-04T00:00:00\", \"number of commits\": 176}, {\"date\": \"2009-11-04T00:00:00\", \"number of commits\": 176}, {\"date\": \"2012-06-07T00:00:00\", \"number of commits\": 176}, {\"date\": \"2010-02-16T00:00:00\", \"number of commits\": 176}, {\"date\": \"2009-03-12T00:00:00\", \"number of commits\": 176}, {\"date\": \"2013-02-19T00:00:00\", \"number of commits\": 176}, {\"date\": \"2013-03-29T00:00:00\", \"number of commits\": 176}, {\"date\": \"2012-06-14T00:00:00\", \"number of commits\": 176}, {\"date\": \"2012-02-19T00:00:00\", \"number of commits\": 176}, {\"date\": \"2005-05-01T00:00:00\", \"number of commits\": 176}, {\"date\": \"2014-08-22T00:00:00\", \"number of commits\": 175}, {\"date\": \"2012-02-23T00:00:00\", \"number of commits\": 175}, {\"date\": \"2015-02-20T00:00:00\", \"number of commits\": 175}, {\"date\": \"2012-07-25T00:00:00\", \"number of commits\": 175}, {\"date\": \"2010-04-16T00:00:00\", \"number of commits\": 175}, {\"date\": \"2014-04-04T00:00:00\", \"number of commits\": 175}, {\"date\": \"2014-07-13T00:00:00\", \"number of commits\": 175}, {\"date\": \"2011-09-14T00:00:00\", \"number of commits\": 174}, {\"date\": \"2011-08-26T00:00:00\", \"number of commits\": 174}, {\"date\": \"2013-02-03T00:00:00\", \"number of commits\": 174}, {\"date\": \"2011-01-06T00:00:00\", \"number of commits\": 174}, {\"date\": \"2013-09-18T00:00:00\", \"number of commits\": 174}, {\"date\": \"2013-11-24T00:00:00\", \"number of commits\": 174}, {\"date\": \"2014-12-13T00:00:00\", \"number of commits\": 174}, {\"date\": \"2015-09-09T00:00:00\", \"number of commits\": 173}, {\"date\": \"2012-05-18T00:00:00\", \"number of commits\": 173}, {\"date\": \"2008-04-21T00:00:00\", \"number of commits\": 173}, {\"date\": \"2012-01-31T00:00:00\", \"number of commits\": 173}, {\"date\": \"2012-07-26T00:00:00\", \"number of commits\": 173}, {\"date\": \"2011-02-21T00:00:00\", \"number of commits\": 173}, {\"date\": \"2011-04-12T00:00:00\", \"number of commits\": 173}, {\"date\": \"2012-08-03T00:00:00\", \"number of commits\": 172}, {\"date\": \"2011-12-19T00:00:00\", \"number of commits\": 172}, {\"date\": \"2011-10-05T00:00:00\", \"number of commits\": 172}, {\"date\": \"2011-07-25T00:00:00\", \"number of commits\": 172}, {\"date\": \"2009-06-09T00:00:00\", \"number of commits\": 172}, {\"date\": \"2012-01-08T00:00:00\", \"number of commits\": 172}, {\"date\": \"2008-12-04T00:00:00\", \"number of commits\": 172}, {\"date\": \"2010-06-01T00:00:00\", \"number of commits\": 172}, {\"date\": \"2007-10-22T00:00:00\", \"number of commits\": 172}, {\"date\": \"2013-08-03T00:00:00\", \"number of commits\": 172}, {\"date\": \"2007-05-01T00:00:00\", \"number of commits\": 172}, {\"date\": \"2014-08-27T00:00:00\", \"number of commits\": 171}, {\"date\": \"2013-11-27T00:00:00\", \"number of commits\": 171}, {\"date\": \"2013-11-05T00:00:00\", \"number of commits\": 171}, {\"date\": \"2012-03-29T00:00:00\", \"number of commits\": 171}, {\"date\": \"2015-12-19T00:00:00\", \"number of commits\": 171}, {\"date\": \"2015-07-13T00:00:00\", \"number of commits\": 170}, {\"date\": \"2010-03-15T00:00:00\", \"number of commits\": 170}, {\"date\": \"2015-01-07T00:00:00\", \"number of commits\": 170}, {\"date\": \"2011-04-28T00:00:00\", \"number of commits\": 170}, {\"date\": \"2015-04-16T00:00:00\", \"number of commits\": 170}, {\"date\": \"2008-08-13T00:00:00\", \"number of commits\": 170}, {\"date\": \"2009-10-14T00:00:00\", \"number of commits\": 170}, {\"date\": \"2013-07-11T00:00:00\", \"number of commits\": 170}, {\"date\": \"2011-08-19T00:00:00\", \"number of commits\": 169}, {\"date\": \"2010-04-07T00:00:00\", \"number of commits\": 169}, {\"date\": \"2012-02-01T00:00:00\", \"number of commits\": 169}, {\"date\": \"2008-04-16T00:00:00\", \"number of commits\": 169}, {\"date\": \"2014-04-11T00:00:00\", \"number of commits\": 169}, {\"date\": \"2009-05-11T00:00:00\", \"number of commits\": 169}, {\"date\": \"2008-10-08T00:00:00\", \"number of commits\": 169}, {\"date\": \"2008-08-01T00:00:00\", \"number of commits\": 169}, {\"date\": \"2015-03-15T00:00:00\", \"number of commits\": 169}, {\"date\": \"2012-08-24T00:00:00\", \"number of commits\": 169}, {\"date\": \"2006-09-25T00:00:00\", \"number of commits\": 169}, {\"date\": \"2013-10-22T00:00:00\", \"number of commits\": 168}, {\"date\": \"2010-03-19T00:00:00\", \"number of commits\": 168}, {\"date\": \"2008-11-06T00:00:00\", \"number of commits\": 168}, {\"date\": \"2008-02-14T00:00:00\", \"number of commits\": 168}, {\"date\": \"2008-12-22T00:00:00\", \"number of commits\": 168}, {\"date\": \"2013-05-10T00:00:00\", \"number of commits\": 168}, {\"date\": \"2010-09-28T00:00:00\", \"number of commits\": 168}, {\"date\": \"2012-08-04T00:00:00\", \"number of commits\": 168}, {\"date\": \"2014-01-31T00:00:00\", \"number of commits\": 168}, {\"date\": \"2007-02-03T00:00:00\", \"number of commits\": 168}, {\"date\": \"2011-10-03T00:00:00\", \"number of commits\": 167}, {\"date\": \"2009-10-01T00:00:00\", \"number of commits\": 167}, {\"date\": \"2010-02-15T00:00:00\", \"number of commits\": 167}, {\"date\": \"2014-06-01T00:00:00\", \"number of commits\": 167}, {\"date\": \"2006-10-02T00:00:00\", \"number of commits\": 167}, {\"date\": \"2012-11-06T00:00:00\", \"number of commits\": 166}, {\"date\": \"2013-11-19T00:00:00\", \"number of commits\": 166}, {\"date\": \"2011-06-09T00:00:00\", \"number of commits\": 166}, {\"date\": \"2011-07-28T00:00:00\", \"number of commits\": 166}, {\"date\": \"2013-02-12T00:00:00\", \"number of commits\": 166}, {\"date\": \"2008-05-19T00:00:00\", \"number of commits\": 166}, {\"date\": \"2009-02-11T00:00:00\", \"number of commits\": 166}, {\"date\": \"2011-10-12T00:00:00\", \"number of commits\": 166}, {\"date\": \"2010-10-20T00:00:00\", \"number of commits\": 166}, {\"date\": \"2011-10-18T00:00:00\", \"number of commits\": 166}, {\"date\": \"2014-10-06T00:00:00\", \"number of commits\": 166}, {\"date\": \"2006-07-10T00:00:00\", \"number of commits\": 166}, {\"date\": \"2013-01-14T00:00:00\", \"number of commits\": 166}, {\"date\": \"2010-03-31T00:00:00\", \"number of commits\": 166}, {\"date\": \"2012-10-23T00:00:00\", \"number of commits\": 165}, {\"date\": \"2010-03-07T00:00:00\", \"number of commits\": 165}, {\"date\": \"2010-08-06T00:00:00\", \"number of commits\": 165}, {\"date\": \"2010-01-12T00:00:00\", \"number of commits\": 165}, {\"date\": \"2010-07-08T00:00:00\", \"number of commits\": 165}, {\"date\": \"2011-12-09T00:00:00\", \"number of commits\": 165}, {\"date\": \"2009-03-10T00:00:00\", \"number of commits\": 165}, {\"date\": \"2013-05-15T00:00:00\", \"number of commits\": 164}, {\"date\": \"2014-09-12T00:00:00\", \"number of commits\": 164}, {\"date\": \"2011-09-22T00:00:00\", \"number of commits\": 164}, {\"date\": \"2012-05-31T00:00:00\", \"number of commits\": 164}, {\"date\": \"2008-11-10T00:00:00\", \"number of commits\": 164}, {\"date\": \"2010-02-23T00:00:00\", \"number of commits\": 164}, {\"date\": \"2011-06-06T00:00:00\", \"number of commits\": 164}, {\"date\": \"2014-07-02T00:00:00\", \"number of commits\": 163}, {\"date\": \"2012-07-02T00:00:00\", \"number of commits\": 163}, {\"date\": \"2010-06-04T00:00:00\", \"number of commits\": 163}, {\"date\": \"2013-02-18T00:00:00\", \"number of commits\": 163}, {\"date\": \"2012-02-03T00:00:00\", \"number of commits\": 163}, {\"date\": \"2009-12-23T00:00:00\", \"number of commits\": 163}, {\"date\": \"2008-09-05T00:00:00\", \"number of commits\": 163}, {\"date\": \"2009-11-30T00:00:00\", \"number of commits\": 163}, {\"date\": \"2012-11-11T00:00:00\", \"number of commits\": 163}, {\"date\": \"2008-03-05T00:00:00\", \"number of commits\": 163}, {\"date\": \"2014-09-05T00:00:00\", \"number of commits\": 162}, {\"date\": \"2016-05-19T00:00:00\", \"number of commits\": 162}, {\"date\": \"2009-06-24T00:00:00\", \"number of commits\": 162}, {\"date\": \"2007-03-09T00:00:00\", \"number of commits\": 162}, {\"date\": \"2007-02-14T00:00:00\", \"number of commits\": 162}, {\"date\": \"2010-01-19T00:00:00\", \"number of commits\": 162}, {\"date\": \"2012-04-02T00:00:00\", \"number of commits\": 162}, {\"date\": \"2014-03-24T00:00:00\", \"number of commits\": 162}, {\"date\": \"2011-12-14T00:00:00\", \"number of commits\": 161}, {\"date\": \"2011-11-30T00:00:00\", \"number of commits\": 161}, {\"date\": \"2008-11-11T00:00:00\", \"number of commits\": 161}, {\"date\": \"2015-12-06T00:00:00\", \"number of commits\": 161}, {\"date\": \"2013-05-27T00:00:00\", \"number of commits\": 161}, {\"date\": \"2005-06-24T00:00:00\", \"number of commits\": 161}, {\"date\": \"2013-09-19T00:00:00\", \"number of commits\": 160}, {\"date\": \"2010-10-11T00:00:00\", \"number of commits\": 160}, {\"date\": \"2009-11-06T00:00:00\", \"number of commits\": 160}, {\"date\": \"2011-04-14T00:00:00\", \"number of commits\": 160}, {\"date\": \"2011-11-29T00:00:00\", \"number of commits\": 160}, {\"date\": \"2014-01-18T00:00:00\", \"number of commits\": 160}, {\"date\": \"2015-11-04T00:00:00\", \"number of commits\": 159}, {\"date\": \"2016-01-23T00:00:00\", \"number of commits\": 159}, {\"date\": \"2012-08-09T00:00:00\", \"number of commits\": 159}, {\"date\": \"2011-08-01T00:00:00\", \"number of commits\": 159}, {\"date\": \"2012-12-14T00:00:00\", \"number of commits\": 159}, {\"date\": \"2008-12-19T00:00:00\", \"number of commits\": 159}, {\"date\": \"2009-02-13T00:00:00\", \"number of commits\": 159}, {\"date\": \"2011-06-24T00:00:00\", \"number of commits\": 159}, {\"date\": \"2010-06-30T00:00:00\", \"number of commits\": 159}, {\"date\": \"2008-08-22T00:00:00\", \"number of commits\": 159}, {\"date\": \"2014-05-02T00:00:00\", \"number of commits\": 159}, {\"date\": \"2013-07-12T00:00:00\", \"number of commits\": 159}, {\"date\": \"2010-05-12T00:00:00\", \"number of commits\": 159}, {\"date\": \"2011-06-01T00:00:00\", \"number of commits\": 159}, {\"date\": \"2014-03-01T00:00:00\", \"number of commits\": 158}, {\"date\": \"2011-11-22T00:00:00\", \"number of commits\": 158}, {\"date\": \"2010-04-14T00:00:00\", \"number of commits\": 158}, {\"date\": \"2012-10-08T00:00:00\", \"number of commits\": 158}, {\"date\": \"2008-07-27T00:00:00\", \"number of commits\": 158}, {\"date\": \"2014-11-28T00:00:00\", \"number of commits\": 158}, {\"date\": \"2011-03-25T00:00:00\", \"number of commits\": 158}, {\"date\": \"2008-07-12T00:00:00\", \"number of commits\": 158}, {\"date\": \"2005-05-05T00:00:00\", \"number of commits\": 158}, {\"date\": \"2011-12-31T00:00:00\", \"number of commits\": 158}, {\"date\": \"2012-01-03T00:00:00\", \"number of commits\": 157}, {\"date\": \"2009-03-20T00:00:00\", \"number of commits\": 157}, {\"date\": \"2010-07-21T00:00:00\", \"number of commits\": 157}, {\"date\": \"2015-06-13T00:00:00\", \"number of commits\": 157}, {\"date\": \"2011-08-09T00:00:00\", \"number of commits\": 157}, {\"date\": \"2016-05-01T00:00:00\", \"number of commits\": 157}, {\"date\": \"2014-08-17T00:00:00\", \"number of commits\": 157}, {\"date\": \"2015-10-18T00:00:00\", \"number of commits\": 156}, {\"date\": \"2011-04-29T00:00:00\", \"number of commits\": 156}, {\"date\": \"2011-09-26T00:00:00\", \"number of commits\": 156}, {\"date\": \"2011-01-28T00:00:00\", \"number of commits\": 156}, {\"date\": \"2007-10-29T00:00:00\", \"number of commits\": 156}, {\"date\": \"2010-05-26T00:00:00\", \"number of commits\": 156}, {\"date\": \"2012-09-29T00:00:00\", \"number of commits\": 156}, {\"date\": \"2014-10-08T00:00:00\", \"number of commits\": 156}, {\"date\": \"2013-09-21T00:00:00\", \"number of commits\": 156}, {\"date\": \"2013-01-04T00:00:00\", \"number of commits\": 155}, {\"date\": \"2015-09-27T00:00:00\", \"number of commits\": 155}, {\"date\": \"2010-09-16T00:00:00\", \"number of commits\": 155}, {\"date\": \"2012-02-17T00:00:00\", \"number of commits\": 155}, {\"date\": \"2010-12-07T00:00:00\", \"number of commits\": 155}, {\"date\": \"2011-12-05T00:00:00\", \"number of commits\": 155}, {\"date\": \"2010-02-08T00:00:00\", \"number of commits\": 155}, {\"date\": \"2013-11-21T00:00:00\", \"number of commits\": 155}, {\"date\": \"2007-02-08T00:00:00\", \"number of commits\": 155}, {\"date\": \"2008-01-10T00:00:00\", \"number of commits\": 155}, {\"date\": \"2008-11-18T00:00:00\", \"number of commits\": 154}, {\"date\": \"2009-08-26T00:00:00\", \"number of commits\": 154}, {\"date\": \"2006-11-30T00:00:00\", \"number of commits\": 154}, {\"date\": \"2014-10-15T00:00:00\", \"number of commits\": 154}, {\"date\": \"2010-07-23T00:00:00\", \"number of commits\": 153}, {\"date\": \"2009-12-12T00:00:00\", \"number of commits\": 153}, {\"date\": \"2010-06-03T00:00:00\", \"number of commits\": 153}, {\"date\": \"2012-12-17T00:00:00\", \"number of commits\": 153}, {\"date\": \"2011-10-20T00:00:00\", \"number of commits\": 153}, {\"date\": \"2006-06-27T00:00:00\", \"number of commits\": 153}, {\"date\": \"2012-05-19T00:00:00\", \"number of commits\": 153}, {\"date\": \"2011-08-27T00:00:00\", \"number of commits\": 153}, {\"date\": \"2012-03-11T00:00:00\", \"number of commits\": 152}, {\"date\": \"2011-05-13T00:00:00\", \"number of commits\": 152}, {\"date\": \"2012-03-09T00:00:00\", \"number of commits\": 152}, {\"date\": \"2016-02-27T00:00:00\", \"number of commits\": 152}, {\"date\": \"2009-02-25T00:00:00\", \"number of commits\": 152}, {\"date\": \"2010-12-13T00:00:00\", \"number of commits\": 152}, {\"date\": \"2008-12-23T00:00:00\", \"number of commits\": 152}, {\"date\": \"2014-11-27T00:00:00\", \"number of commits\": 152}, {\"date\": \"2005-11-06T00:00:00\", \"number of commits\": 152}, {\"date\": \"2012-01-18T00:00:00\", \"number of commits\": 152}, {\"date\": \"2012-08-28T00:00:00\", \"number of commits\": 152}, {\"date\": \"2015-04-21T00:00:00\", \"number of commits\": 151}, {\"date\": \"2015-12-31T00:00:00\", \"number of commits\": 151}, {\"date\": \"2012-04-17T00:00:00\", \"number of commits\": 151}, {\"date\": \"2010-10-15T00:00:00\", \"number of commits\": 151}, {\"date\": \"2012-03-14T00:00:00\", \"number of commits\": 151}, {\"date\": \"2009-02-18T00:00:00\", \"number of commits\": 151}, {\"date\": \"2009-05-06T00:00:00\", \"number of commits\": 151}, {\"date\": \"2016-06-06T00:00:00\", \"number of commits\": 151}, {\"date\": \"2005-12-01T00:00:00\", \"number of commits\": 151}, {\"date\": \"2016-01-01T00:00:00\", \"number of commits\": 151}, {\"date\": \"2008-01-12T00:00:00\", \"number of commits\": 151}, {\"date\": \"2012-10-18T00:00:00\", \"number of commits\": 150}, {\"date\": \"2014-06-12T00:00:00\", \"number of commits\": 150}, {\"date\": \"2009-06-05T00:00:00\", \"number of commits\": 150}, {\"date\": \"2009-11-12T00:00:00\", \"number of commits\": 150}, {\"date\": \"2009-11-02T00:00:00\", \"number of commits\": 150}, {\"date\": \"2010-09-07T00:00:00\", \"number of commits\": 150}, {\"date\": \"2008-05-02T00:00:00\", \"number of commits\": 150}, {\"date\": \"2009-01-03T00:00:00\", \"number of commits\": 150}, {\"date\": \"2011-10-26T00:00:00\", \"number of commits\": 150}, {\"date\": \"2009-11-25T00:00:00\", \"number of commits\": 150}, {\"date\": \"2006-12-13T00:00:00\", \"number of commits\": 150}, {\"date\": \"2012-10-10T00:00:00\", \"number of commits\": 149}, {\"date\": \"2011-01-04T00:00:00\", \"number of commits\": 149}, {\"date\": \"2013-09-13T00:00:00\", \"number of commits\": 149}, {\"date\": \"2009-01-09T00:00:00\", \"number of commits\": 149}, {\"date\": \"2008-12-02T00:00:00\", \"number of commits\": 149}, {\"date\": \"2013-01-08T00:00:00\", \"number of commits\": 149}, {\"date\": \"2010-02-19T00:00:00\", \"number of commits\": 149}, {\"date\": \"2011-09-29T00:00:00\", \"number of commits\": 149}, {\"date\": \"2008-01-23T00:00:00\", \"number of commits\": 149}, {\"date\": \"2010-11-11T00:00:00\", \"number of commits\": 148}, {\"date\": \"2014-09-07T00:00:00\", \"number of commits\": 148}, {\"date\": \"2014-04-17T00:00:00\", \"number of commits\": 148}, {\"date\": \"2013-01-15T00:00:00\", \"number of commits\": 148}, {\"date\": \"2012-02-07T00:00:00\", \"number of commits\": 148}, {\"date\": \"2011-02-09T00:00:00\", \"number of commits\": 148}, {\"date\": \"2008-06-20T00:00:00\", \"number of commits\": 148}, {\"date\": \"2013-09-09T00:00:00\", \"number of commits\": 148}, {\"date\": \"2015-08-21T00:00:00\", \"number of commits\": 147}, {\"date\": \"2015-07-10T00:00:00\", \"number of commits\": 147}, {\"date\": \"2013-11-01T00:00:00\", \"number of commits\": 147}, {\"date\": \"2008-12-10T00:00:00\", \"number of commits\": 147}, {\"date\": \"2009-01-11T00:00:00\", \"number of commits\": 147}, {\"date\": \"2013-07-04T00:00:00\", \"number of commits\": 147}, {\"date\": \"2012-09-03T00:00:00\", \"number of commits\": 147}, {\"date\": \"2014-11-22T00:00:00\", \"number of commits\": 147}, {\"date\": \"2008-08-15T00:00:00\", \"number of commits\": 147}, {\"date\": \"2008-03-04T00:00:00\", \"number of commits\": 147}, {\"date\": \"2006-07-12T00:00:00\", \"number of commits\": 147}, {\"date\": \"2009-05-18T00:00:00\", \"number of commits\": 147}, {\"date\": \"2009-01-04T00:00:00\", \"number of commits\": 147}, {\"date\": \"2010-02-18T00:00:00\", \"number of commits\": 147}, {\"date\": \"2010-12-23T00:00:00\", \"number of commits\": 146}, {\"date\": \"2009-05-27T00:00:00\", \"number of commits\": 146}, {\"date\": \"2011-07-14T00:00:00\", \"number of commits\": 146}, {\"date\": \"2011-02-03T00:00:00\", \"number of commits\": 146}, {\"date\": \"2005-07-12T00:00:00\", \"number of commits\": 146}, {\"date\": \"2006-04-19T00:00:00\", \"number of commits\": 146}, {\"date\": \"2006-12-06T00:00:00\", \"number of commits\": 146}, {\"date\": \"2012-07-16T00:00:00\", \"number of commits\": 146}, {\"date\": \"2008-10-28T00:00:00\", \"number of commits\": 145}, {\"date\": \"2010-07-05T00:00:00\", \"number of commits\": 145}, {\"date\": \"2008-12-26T00:00:00\", \"number of commits\": 145}, {\"date\": \"2012-07-01T00:00:00\", \"number of commits\": 145}, {\"date\": \"2014-05-18T00:00:00\", \"number of commits\": 145}, {\"date\": \"2014-09-21T00:00:00\", \"number of commits\": 145}, {\"date\": \"2011-12-30T00:00:00\", \"number of commits\": 145}, {\"date\": \"2014-10-07T00:00:00\", \"number of commits\": 145}, {\"date\": \"2013-06-08T00:00:00\", \"number of commits\": 145}, {\"date\": \"2012-12-09T00:00:00\", \"number of commits\": 145}, {\"date\": \"2014-04-21T00:00:00\", \"number of commits\": 144}, {\"date\": \"2012-10-16T00:00:00\", \"number of commits\": 144}, {\"date\": \"2011-08-12T00:00:00\", \"number of commits\": 144}, {\"date\": \"2012-10-11T00:00:00\", \"number of commits\": 144}, {\"date\": \"2011-03-18T00:00:00\", \"number of commits\": 144}, {\"date\": \"2008-06-10T00:00:00\", \"number of commits\": 144}, {\"date\": \"2009-03-25T00:00:00\", \"number of commits\": 144}, {\"date\": \"2012-03-10T00:00:00\", \"number of commits\": 144}, {\"date\": \"2010-01-08T00:00:00\", \"number of commits\": 144}, {\"date\": \"2011-07-18T00:00:00\", \"number of commits\": 144}, {\"date\": \"2011-06-08T00:00:00\", \"number of commits\": 143}, {\"date\": \"2012-02-20T00:00:00\", \"number of commits\": 143}, {\"date\": \"2005-05-17T00:00:00\", \"number of commits\": 143}, {\"date\": \"2009-06-13T00:00:00\", \"number of commits\": 143}, {\"date\": \"2011-03-02T00:00:00\", \"number of commits\": 143}, {\"date\": \"2011-10-21T00:00:00\", \"number of commits\": 143}, {\"date\": \"2012-11-02T00:00:00\", \"number of commits\": 143}, {\"date\": \"2008-04-23T00:00:00\", \"number of commits\": 143}, {\"date\": \"2013-10-04T00:00:00\", \"number of commits\": 142}, {\"date\": \"2013-12-30T00:00:00\", \"number of commits\": 142}, {\"date\": \"2011-04-18T00:00:00\", \"number of commits\": 142}, {\"date\": \"2009-04-21T00:00:00\", \"number of commits\": 142}, {\"date\": \"2011-02-14T00:00:00\", \"number of commits\": 142}, {\"date\": \"2013-05-14T00:00:00\", \"number of commits\": 142}, {\"date\": \"2014-06-16T00:00:00\", \"number of commits\": 142}, {\"date\": \"2016-06-21T00:00:00\", \"number of commits\": 142}, {\"date\": \"2014-11-16T00:00:00\", \"number of commits\": 142}, {\"date\": \"2012-07-14T00:00:00\", \"number of commits\": 142}, {\"date\": \"2008-05-07T00:00:00\", \"number of commits\": 142}, {\"date\": \"2010-09-27T00:00:00\", \"number of commits\": 142}, {\"date\": \"2008-05-01T00:00:00\", \"number of commits\": 142}, {\"date\": \"2015-09-28T00:00:00\", \"number of commits\": 141}, {\"date\": \"2014-09-01T00:00:00\", \"number of commits\": 141}, {\"date\": \"2009-10-13T00:00:00\", \"number of commits\": 141}, {\"date\": \"2010-01-13T00:00:00\", \"number of commits\": 141}, {\"date\": \"2009-10-28T00:00:00\", \"number of commits\": 141}, {\"date\": \"2011-09-19T00:00:00\", \"number of commits\": 141}, {\"date\": \"2015-12-20T00:00:00\", \"number of commits\": 140}, {\"date\": \"2011-09-28T00:00:00\", \"number of commits\": 140}, {\"date\": \"2011-04-07T00:00:00\", \"number of commits\": 140}, {\"date\": \"2008-03-25T00:00:00\", \"number of commits\": 140}, {\"date\": \"2015-10-03T00:00:00\", \"number of commits\": 140}, {\"date\": \"2008-04-07T00:00:00\", \"number of commits\": 140}, {\"date\": \"2012-03-01T00:00:00\", \"number of commits\": 140}, {\"date\": \"2013-03-17T00:00:00\", \"number of commits\": 140}, {\"date\": \"2007-05-10T00:00:00\", \"number of commits\": 140}, {\"date\": \"2007-05-24T00:00:00\", \"number of commits\": 140}, {\"date\": \"2009-05-20T00:00:00\", \"number of commits\": 140}, {\"date\": \"2006-02-08T00:00:00\", \"number of commits\": 140}, {\"date\": \"2014-08-20T00:00:00\", \"number of commits\": 139}, {\"date\": \"2011-10-07T00:00:00\", \"number of commits\": 139}, {\"date\": \"2008-11-25T00:00:00\", \"number of commits\": 139}, {\"date\": \"2008-02-19T00:00:00\", \"number of commits\": 139}, {\"date\": \"2011-03-08T00:00:00\", \"number of commits\": 139}, {\"date\": \"2013-10-27T00:00:00\", \"number of commits\": 139}, {\"date\": \"2009-04-13T00:00:00\", \"number of commits\": 139}, {\"date\": \"2008-03-06T00:00:00\", \"number of commits\": 139}, {\"date\": \"2015-05-30T00:00:00\", \"number of commits\": 139}, {\"date\": \"2011-12-11T00:00:00\", \"number of commits\": 139}, {\"date\": \"2014-06-13T00:00:00\", \"number of commits\": 138}, {\"date\": \"2008-11-21T00:00:00\", \"number of commits\": 138}, {\"date\": \"2009-01-15T00:00:00\", \"number of commits\": 138}, {\"date\": \"2011-07-15T00:00:00\", \"number of commits\": 138}, {\"date\": \"2016-03-13T00:00:00\", \"number of commits\": 138}, {\"date\": \"2013-07-10T00:00:00\", \"number of commits\": 138}, {\"date\": \"2012-10-04T00:00:00\", \"number of commits\": 138}, {\"date\": \"2016-06-10T00:00:00\", \"number of commits\": 137}, {\"date\": \"2012-02-10T00:00:00\", \"number of commits\": 137}, {\"date\": \"2012-06-26T00:00:00\", \"number of commits\": 137}, {\"date\": \"2012-06-21T00:00:00\", \"number of commits\": 137}, {\"date\": \"2011-08-11T00:00:00\", \"number of commits\": 137}, {\"date\": \"2016-04-24T00:00:00\", \"number of commits\": 137}, {\"date\": \"2011-04-04T00:00:00\", \"number of commits\": 137}, {\"date\": \"2013-08-08T00:00:00\", \"number of commits\": 137}, {\"date\": \"2005-11-14T00:00:00\", \"number of commits\": 137}, {\"date\": \"2008-04-14T00:00:00\", \"number of commits\": 137}, {\"date\": \"2012-02-16T00:00:00\", \"number of commits\": 136}, {\"date\": \"2015-07-02T00:00:00\", \"number of commits\": 136}, {\"date\": \"2010-09-17T00:00:00\", \"number of commits\": 136}, {\"date\": \"2010-03-23T00:00:00\", \"number of commits\": 136}, {\"date\": \"2014-05-03T00:00:00\", \"number of commits\": 136}, {\"date\": \"2009-02-05T00:00:00\", \"number of commits\": 136}, {\"date\": \"2008-12-05T00:00:00\", \"number of commits\": 136}, {\"date\": \"2011-06-15T00:00:00\", \"number of commits\": 136}, {\"date\": \"2010-05-24T00:00:00\", \"number of commits\": 136}, {\"date\": \"2016-01-09T00:00:00\", \"number of commits\": 136}, {\"date\": \"2013-05-12T00:00:00\", \"number of commits\": 136}, {\"date\": \"2008-06-05T00:00:00\", \"number of commits\": 136}, {\"date\": \"2011-06-20T00:00:00\", \"number of commits\": 135}, {\"date\": \"2010-05-07T00:00:00\", \"number of commits\": 135}, {\"date\": \"2006-10-17T00:00:00\", \"number of commits\": 135}, {\"date\": \"2010-04-30T00:00:00\", \"number of commits\": 135}, {\"date\": \"2009-10-06T00:00:00\", \"number of commits\": 135}, {\"date\": \"2010-04-13T00:00:00\", \"number of commits\": 135}, {\"date\": \"2013-03-23T00:00:00\", \"number of commits\": 135}, {\"date\": \"2006-09-21T00:00:00\", \"number of commits\": 135}, {\"date\": \"2005-09-23T00:00:00\", \"number of commits\": 135}, {\"date\": \"2013-08-24T00:00:00\", \"number of commits\": 135}, {\"date\": \"2013-11-10T00:00:00\", \"number of commits\": 135}, {\"date\": \"2014-12-18T00:00:00\", \"number of commits\": 134}, {\"date\": \"2011-12-01T00:00:00\", \"number of commits\": 134}, {\"date\": \"2011-11-14T00:00:00\", \"number of commits\": 134}, {\"date\": \"2009-09-21T00:00:00\", \"number of commits\": 134}, {\"date\": \"2014-04-08T00:00:00\", \"number of commits\": 134}, {\"date\": \"2011-06-21T00:00:00\", \"number of commits\": 134}, {\"date\": \"2008-09-08T00:00:00\", \"number of commits\": 134}, {\"date\": \"2010-09-29T00:00:00\", \"number of commits\": 134}, {\"date\": \"2010-02-10T00:00:00\", \"number of commits\": 134}, {\"date\": \"2012-07-08T00:00:00\", \"number of commits\": 134}, {\"date\": \"2007-06-11T00:00:00\", \"number of commits\": 134}, {\"date\": \"2015-04-28T00:00:00\", \"number of commits\": 133}, {\"date\": \"2013-11-28T00:00:00\", \"number of commits\": 133}, {\"date\": \"2009-05-07T00:00:00\", \"number of commits\": 133}, {\"date\": \"2010-12-09T00:00:00\", \"number of commits\": 133}, {\"date\": \"2010-04-11T00:00:00\", \"number of commits\": 133}, {\"date\": \"2012-11-23T00:00:00\", \"number of commits\": 133}, {\"date\": \"2011-07-23T00:00:00\", \"number of commits\": 133}, {\"date\": \"2005-06-20T00:00:00\", \"number of commits\": 133}, {\"date\": \"2008-07-04T00:00:00\", \"number of commits\": 133}, {\"date\": \"2009-12-02T00:00:00\", \"number of commits\": 133}, {\"date\": \"2015-03-29T00:00:00\", \"number of commits\": 133}, {\"date\": \"2007-07-24T00:00:00\", \"number of commits\": 133}, {\"date\": \"2006-07-01T00:00:00\", \"number of commits\": 133}, {\"date\": \"2015-08-16T00:00:00\", \"number of commits\": 133}, {\"date\": \"2013-03-08T00:00:00\", \"number of commits\": 132}, {\"date\": \"2014-08-11T00:00:00\", \"number of commits\": 132}, {\"date\": \"2009-04-20T00:00:00\", \"number of commits\": 132}, {\"date\": \"2009-08-31T00:00:00\", \"number of commits\": 132}, {\"date\": \"2010-03-08T00:00:00\", \"number of commits\": 132}, {\"date\": \"2010-06-18T00:00:00\", \"number of commits\": 132}, {\"date\": \"2008-08-14T00:00:00\", \"number of commits\": 132}, {\"date\": \"2011-05-06T00:00:00\", \"number of commits\": 132}, {\"date\": \"2012-03-04T00:00:00\", \"number of commits\": 132}, {\"date\": \"2012-01-30T00:00:00\", \"number of commits\": 132}, {\"date\": \"2014-03-29T00:00:00\", \"number of commits\": 132}, {\"date\": \"2009-11-05T00:00:00\", \"number of commits\": 132}, {\"date\": \"2015-04-20T00:00:00\", \"number of commits\": 131}, {\"date\": \"2013-11-18T00:00:00\", \"number of commits\": 131}, {\"date\": \"2014-06-09T00:00:00\", \"number of commits\": 131}, {\"date\": \"2013-09-02T00:00:00\", \"number of commits\": 131}, {\"date\": \"2009-03-23T00:00:00\", \"number of commits\": 131}, {\"date\": \"2009-03-11T00:00:00\", \"number of commits\": 131}, {\"date\": \"2007-07-26T00:00:00\", \"number of commits\": 131}, {\"date\": \"2008-12-01T00:00:00\", \"number of commits\": 130}, {\"date\": \"2009-08-27T00:00:00\", \"number of commits\": 130}, {\"date\": \"2010-02-09T00:00:00\", \"number of commits\": 130}, {\"date\": \"2009-10-09T00:00:00\", \"number of commits\": 130}, {\"date\": \"2011-01-18T00:00:00\", \"number of commits\": 130}, {\"date\": \"2010-01-20T00:00:00\", \"number of commits\": 130}, {\"date\": \"2011-02-16T00:00:00\", \"number of commits\": 130}, {\"date\": \"2010-01-27T00:00:00\", \"number of commits\": 130}, {\"date\": \"2010-01-11T00:00:00\", \"number of commits\": 130}, {\"date\": \"2011-08-04T00:00:00\", \"number of commits\": 130}, {\"date\": \"2008-08-06T00:00:00\", \"number of commits\": 130}, {\"date\": \"2012-05-23T00:00:00\", \"number of commits\": 130}, {\"date\": \"2009-07-27T00:00:00\", \"number of commits\": 130}, {\"date\": \"2014-12-15T00:00:00\", \"number of commits\": 129}, {\"date\": \"2009-08-22T00:00:00\", \"number of commits\": 129}, {\"date\": \"2009-12-28T00:00:00\", \"number of commits\": 129}, {\"date\": \"2006-12-20T00:00:00\", \"number of commits\": 129}, {\"date\": \"2012-02-08T00:00:00\", \"number of commits\": 129}, {\"date\": \"2015-07-11T00:00:00\", \"number of commits\": 129}, {\"date\": \"2011-10-30T00:00:00\", \"number of commits\": 129}, {\"date\": \"2015-09-05T00:00:00\", \"number of commits\": 129}, {\"date\": \"2014-01-04T00:00:00\", \"number of commits\": 129}, {\"date\": \"2012-01-23T00:00:00\", \"number of commits\": 129}, {\"date\": \"2015-01-18T00:00:00\", \"number of commits\": 129}, {\"date\": \"2016-05-30T00:00:00\", \"number of commits\": 128}, {\"date\": \"2012-03-24T00:00:00\", \"number of commits\": 128}, {\"date\": \"2015-06-29T00:00:00\", \"number of commits\": 128}, {\"date\": \"2010-05-31T00:00:00\", \"number of commits\": 128}, {\"date\": \"2013-01-26T00:00:00\", \"number of commits\": 128}, {\"date\": \"2014-12-19T00:00:00\", \"number of commits\": 128}, {\"date\": \"2010-08-16T00:00:00\", \"number of commits\": 128}, {\"date\": \"2005-10-30T00:00:00\", \"number of commits\": 128}, {\"date\": \"2013-04-14T00:00:00\", \"number of commits\": 128}, {\"date\": \"2011-02-01T00:00:00\", \"number of commits\": 127}, {\"date\": \"2010-01-18T00:00:00\", \"number of commits\": 127}, {\"date\": \"2009-03-02T00:00:00\", \"number of commits\": 127}, {\"date\": \"2009-01-27T00:00:00\", \"number of commits\": 127}, {\"date\": \"2010-04-20T00:00:00\", \"number of commits\": 127}, {\"date\": \"2006-01-11T00:00:00\", \"number of commits\": 127}, {\"date\": \"2016-06-17T00:00:00\", \"number of commits\": 127}, {\"date\": \"2012-10-07T00:00:00\", \"number of commits\": 127}, {\"date\": \"2010-02-11T00:00:00\", \"number of commits\": 127}, {\"date\": \"2011-07-31T00:00:00\", \"number of commits\": 127}, {\"date\": \"2015-02-07T00:00:00\", \"number of commits\": 127}, {\"date\": \"2014-09-28T00:00:00\", \"number of commits\": 127}, {\"date\": \"2010-02-28T00:00:00\", \"number of commits\": 127}, {\"date\": \"2005-05-23T00:00:00\", \"number of commits\": 127}, {\"date\": \"2012-11-12T00:00:00\", \"number of commits\": 126}, {\"date\": \"2009-07-01T00:00:00\", \"number of commits\": 126}, {\"date\": \"2009-11-16T00:00:00\", \"number of commits\": 126}, {\"date\": \"2015-11-27T00:00:00\", \"number of commits\": 126}, {\"date\": \"2011-07-24T00:00:00\", \"number of commits\": 126}, {\"date\": \"2009-09-01T00:00:00\", \"number of commits\": 126}, {\"date\": \"2009-09-18T00:00:00\", \"number of commits\": 126}, {\"date\": \"2008-12-12T00:00:00\", \"number of commits\": 126}, {\"date\": \"2008-12-15T00:00:00\", \"number of commits\": 126}, {\"date\": \"2013-10-13T00:00:00\", \"number of commits\": 126}, {\"date\": \"2005-09-10T00:00:00\", \"number of commits\": 126}, {\"date\": \"2010-04-28T00:00:00\", \"number of commits\": 126}, {\"date\": \"2016-01-10T00:00:00\", \"number of commits\": 125}, {\"date\": \"2011-05-18T00:00:00\", \"number of commits\": 125}, {\"date\": \"2009-08-10T00:00:00\", \"number of commits\": 125}, {\"date\": \"2008-06-06T00:00:00\", \"number of commits\": 125}, {\"date\": \"2011-01-20T00:00:00\", \"number of commits\": 125}, {\"date\": \"2013-01-06T00:00:00\", \"number of commits\": 125}, {\"date\": \"2006-02-03T00:00:00\", \"number of commits\": 125}, {\"date\": \"2007-08-27T00:00:00\", \"number of commits\": 125}, {\"date\": \"2011-01-25T00:00:00\", \"number of commits\": 124}, {\"date\": \"2015-04-11T00:00:00\", \"number of commits\": 124}, {\"date\": \"2012-11-17T00:00:00\", \"number of commits\": 124}, {\"date\": \"2010-09-23T00:00:00\", \"number of commits\": 124}, {\"date\": \"2005-11-10T00:00:00\", \"number of commits\": 124}, {\"date\": \"2014-08-09T00:00:00\", \"number of commits\": 124}, {\"date\": \"2014-03-23T00:00:00\", \"number of commits\": 123}, {\"date\": \"2010-09-05T00:00:00\", \"number of commits\": 123}, {\"date\": \"2012-10-06T00:00:00\", \"number of commits\": 123}, {\"date\": \"2010-12-06T00:00:00\", \"number of commits\": 123}, {\"date\": \"2010-12-17T00:00:00\", \"number of commits\": 123}, {\"date\": \"2006-01-04T00:00:00\", \"number of commits\": 123}, {\"date\": \"2006-06-19T00:00:00\", \"number of commits\": 123}, {\"date\": \"2008-06-12T00:00:00\", \"number of commits\": 123}, {\"date\": \"2008-06-30T00:00:00\", \"number of commits\": 123}, {\"date\": \"2016-04-16T00:00:00\", \"number of commits\": 123}, {\"date\": \"2006-06-09T00:00:00\", \"number of commits\": 123}, {\"date\": \"2008-06-26T00:00:00\", \"number of commits\": 123}, {\"date\": \"2010-05-28T00:00:00\", \"number of commits\": 123}, {\"date\": \"2014-11-09T00:00:00\", \"number of commits\": 123}, {\"date\": \"2013-03-02T00:00:00\", \"number of commits\": 122}, {\"date\": \"2008-12-03T00:00:00\", \"number of commits\": 122}, {\"date\": \"2014-01-05T00:00:00\", \"number of commits\": 122}, {\"date\": \"2010-03-24T00:00:00\", \"number of commits\": 122}, {\"date\": \"2008-10-27T00:00:00\", \"number of commits\": 122}, {\"date\": \"2009-09-16T00:00:00\", \"number of commits\": 122}, {\"date\": \"2010-02-05T00:00:00\", \"number of commits\": 122}, {\"date\": \"2005-08-30T00:00:00\", \"number of commits\": 122}, {\"date\": \"2010-01-21T00:00:00\", \"number of commits\": 122}, {\"date\": \"2009-11-03T00:00:00\", \"number of commits\": 122}, {\"date\": \"2013-02-25T00:00:00\", \"number of commits\": 122}, {\"date\": \"2013-03-14T00:00:00\", \"number of commits\": 122}, {\"date\": \"2005-11-08T00:00:00\", \"number of commits\": 122}, {\"date\": \"2009-11-20T00:00:00\", \"number of commits\": 122}, {\"date\": \"2012-09-15T00:00:00\", \"number of commits\": 122}, {\"date\": \"2008-02-18T00:00:00\", \"number of commits\": 122}, {\"date\": \"2015-02-16T00:00:00\", \"number of commits\": 121}, {\"date\": \"2013-12-15T00:00:00\", \"number of commits\": 121}, {\"date\": \"2015-09-11T00:00:00\", \"number of commits\": 121}, {\"date\": \"2015-08-22T00:00:00\", \"number of commits\": 121}, {\"date\": \"2009-04-24T00:00:00\", \"number of commits\": 121}, {\"date\": \"2011-11-23T00:00:00\", \"number of commits\": 121}, {\"date\": \"2010-04-27T00:00:00\", \"number of commits\": 121}, {\"date\": \"2009-02-08T00:00:00\", \"number of commits\": 121}, {\"date\": \"2014-01-12T00:00:00\", \"number of commits\": 121}, {\"date\": \"2008-05-25T00:00:00\", \"number of commits\": 121}, {\"date\": \"2010-08-25T00:00:00\", \"number of commits\": 121}, {\"date\": \"2013-04-28T00:00:00\", \"number of commits\": 121}, {\"date\": \"2010-04-09T00:00:00\", \"number of commits\": 121}, {\"date\": \"2012-03-02T00:00:00\", \"number of commits\": 120}, {\"date\": \"2012-12-04T00:00:00\", \"number of commits\": 120}, {\"date\": \"2012-05-25T00:00:00\", \"number of commits\": 120}, {\"date\": \"2009-03-06T00:00:00\", \"number of commits\": 120}, {\"date\": \"2010-08-18T00:00:00\", \"number of commits\": 120}, {\"date\": \"2009-01-22T00:00:00\", \"number of commits\": 120}, {\"date\": \"2009-09-02T00:00:00\", \"number of commits\": 120}, {\"date\": \"2008-05-12T00:00:00\", \"number of commits\": 120}, {\"date\": \"2012-05-05T00:00:00\", \"number of commits\": 120}, {\"date\": \"2012-01-28T00:00:00\", \"number of commits\": 120}, {\"date\": \"2010-07-13T00:00:00\", \"number of commits\": 120}, {\"date\": \"2010-06-29T00:00:00\", \"number of commits\": 120}, {\"date\": \"2007-09-21T00:00:00\", \"number of commits\": 120}, {\"date\": \"2014-08-03T00:00:00\", \"number of commits\": 119}, {\"date\": \"2012-06-15T00:00:00\", \"number of commits\": 119}, {\"date\": \"2009-05-15T00:00:00\", \"number of commits\": 119}, {\"date\": \"2011-10-10T00:00:00\", \"number of commits\": 119}, {\"date\": \"2009-03-18T00:00:00\", \"number of commits\": 119}, {\"date\": \"2010-04-22T00:00:00\", \"number of commits\": 119}, {\"date\": \"2010-10-13T00:00:00\", \"number of commits\": 119}, {\"date\": \"2014-04-27T00:00:00\", \"number of commits\": 119}, {\"date\": \"2006-07-31T00:00:00\", \"number of commits\": 119}, {\"date\": \"2014-01-11T00:00:00\", \"number of commits\": 119}, {\"date\": \"2009-02-20T00:00:00\", \"number of commits\": 118}, {\"date\": \"2009-01-12T00:00:00\", \"number of commits\": 118}, {\"date\": \"2010-03-05T00:00:00\", \"number of commits\": 118}, {\"date\": \"2009-05-22T00:00:00\", \"number of commits\": 118}, {\"date\": \"2009-02-17T00:00:00\", \"number of commits\": 118}, {\"date\": \"2008-09-09T00:00:00\", \"number of commits\": 118}, {\"date\": \"2013-03-24T00:00:00\", \"number of commits\": 118}, {\"date\": \"2015-11-13T00:00:00\", \"number of commits\": 118}, {\"date\": \"2015-06-07T00:00:00\", \"number of commits\": 118}, {\"date\": \"2010-12-14T00:00:00\", \"number of commits\": 117}, {\"date\": \"2012-03-30T00:00:00\", \"number of commits\": 117}, {\"date\": \"2009-02-06T00:00:00\", \"number of commits\": 117}, {\"date\": \"2011-10-06T00:00:00\", \"number of commits\": 117}, {\"date\": \"2011-02-02T00:00:00\", \"number of commits\": 117}, {\"date\": \"2008-10-07T00:00:00\", \"number of commits\": 117}, {\"date\": \"2008-02-15T00:00:00\", \"number of commits\": 117}, {\"date\": \"2011-01-26T00:00:00\", \"number of commits\": 117}, {\"date\": \"2008-08-25T00:00:00\", \"number of commits\": 117}, {\"date\": \"2009-12-13T00:00:00\", \"number of commits\": 117}, {\"date\": \"2006-03-28T00:00:00\", \"number of commits\": 117}, {\"date\": \"2006-05-15T00:00:00\", \"number of commits\": 117}, {\"date\": \"2016-05-28T00:00:00\", \"number of commits\": 117}, {\"date\": \"2012-06-23T00:00:00\", \"number of commits\": 117}, {\"date\": \"2006-03-29T00:00:00\", \"number of commits\": 117}, {\"date\": \"2006-06-20T00:00:00\", \"number of commits\": 117}, {\"date\": \"2008-02-24T00:00:00\", \"number of commits\": 117}, {\"date\": \"2014-05-01T00:00:00\", \"number of commits\": 116}, {\"date\": \"2011-09-23T00:00:00\", \"number of commits\": 116}, {\"date\": \"2009-07-03T00:00:00\", \"number of commits\": 116}, {\"date\": \"2011-09-13T00:00:00\", \"number of commits\": 116}, {\"date\": \"2009-01-14T00:00:00\", \"number of commits\": 116}, {\"date\": \"2008-07-29T00:00:00\", \"number of commits\": 116}, {\"date\": \"2011-02-19T00:00:00\", \"number of commits\": 116}, {\"date\": \"2010-01-29T00:00:00\", \"number of commits\": 116}, {\"date\": \"2011-03-04T00:00:00\", \"number of commits\": 116}, {\"date\": \"2013-01-02T00:00:00\", \"number of commits\": 116}, {\"date\": \"2013-12-26T00:00:00\", \"number of commits\": 116}, {\"date\": \"2011-02-08T00:00:00\", \"number of commits\": 116}, {\"date\": \"2015-08-08T00:00:00\", \"number of commits\": 115}, {\"date\": \"2012-06-03T00:00:00\", \"number of commits\": 115}, {\"date\": \"2009-05-29T00:00:00\", \"number of commits\": 115}, {\"date\": \"2008-11-12T00:00:00\", \"number of commits\": 115}, {\"date\": \"2007-10-25T00:00:00\", \"number of commits\": 115}, {\"date\": \"2012-01-10T00:00:00\", \"number of commits\": 115}, {\"date\": \"2005-11-04T00:00:00\", \"number of commits\": 115}, {\"date\": \"2010-04-02T00:00:00\", \"number of commits\": 115}, {\"date\": \"2015-03-01T00:00:00\", \"number of commits\": 115}, {\"date\": \"2013-02-26T00:00:00\", \"number of commits\": 115}, {\"date\": \"2013-11-30T00:00:00\", \"number of commits\": 115}, {\"date\": \"2013-04-07T00:00:00\", \"number of commits\": 115}, {\"date\": \"2009-05-19T00:00:00\", \"number of commits\": 115}, {\"date\": \"2015-04-26T00:00:00\", \"number of commits\": 114}, {\"date\": \"2013-12-21T00:00:00\", \"number of commits\": 114}, {\"date\": \"2010-02-12T00:00:00\", \"number of commits\": 114}, {\"date\": \"2009-04-15T00:00:00\", \"number of commits\": 114}, {\"date\": \"2009-02-04T00:00:00\", \"number of commits\": 114}, {\"date\": \"2010-06-23T00:00:00\", \"number of commits\": 114}, {\"date\": \"2011-08-02T00:00:00\", \"number of commits\": 114}, {\"date\": \"2011-08-03T00:00:00\", \"number of commits\": 114}, {\"date\": \"2012-05-28T00:00:00\", \"number of commits\": 114}, {\"date\": \"2012-04-06T00:00:00\", \"number of commits\": 114}, {\"date\": \"2013-08-25T00:00:00\", \"number of commits\": 114}, {\"date\": \"2012-04-05T00:00:00\", \"number of commits\": 114}, {\"date\": \"2007-04-12T00:00:00\", \"number of commits\": 114}, {\"date\": \"2013-10-06T00:00:00\", \"number of commits\": 114}, {\"date\": \"2013-11-09T00:00:00\", \"number of commits\": 114}, {\"date\": \"2005-07-29T00:00:00\", \"number of commits\": 114}, {\"date\": \"2008-08-05T00:00:00\", \"number of commits\": 113}, {\"date\": \"2009-07-28T00:00:00\", \"number of commits\": 113}, {\"date\": \"2010-09-20T00:00:00\", \"number of commits\": 113}, {\"date\": \"2016-06-13T00:00:00\", \"number of commits\": 113}, {\"date\": \"2009-03-04T00:00:00\", \"number of commits\": 113}, {\"date\": \"2005-11-18T00:00:00\", \"number of commits\": 113}, {\"date\": \"2016-04-23T00:00:00\", \"number of commits\": 113}, {\"date\": \"2016-06-20T00:00:00\", \"number of commits\": 113}, {\"date\": \"2011-05-04T00:00:00\", \"number of commits\": 113}, {\"date\": \"2009-12-22T00:00:00\", \"number of commits\": 113}, {\"date\": \"2012-11-03T00:00:00\", \"number of commits\": 113}, {\"date\": \"2011-03-30T00:00:00\", \"number of commits\": 113}, {\"date\": \"2014-08-02T00:00:00\", \"number of commits\": 112}, {\"date\": \"2008-09-30T00:00:00\", \"number of commits\": 112}, {\"date\": \"2009-08-07T00:00:00\", \"number of commits\": 112}, {\"date\": \"2009-04-29T00:00:00\", \"number of commits\": 112}, {\"date\": \"2007-10-14T00:00:00\", \"number of commits\": 112}, {\"date\": \"2011-05-09T00:00:00\", \"number of commits\": 112}, {\"date\": \"2009-04-04T00:00:00\", \"number of commits\": 112}, {\"date\": \"2006-09-30T00:00:00\", \"number of commits\": 112}, {\"date\": \"2009-10-19T00:00:00\", \"number of commits\": 112}, {\"date\": \"2007-05-05T00:00:00\", \"number of commits\": 112}, {\"date\": \"2012-06-08T00:00:00\", \"number of commits\": 111}, {\"date\": \"2012-08-27T00:00:00\", \"number of commits\": 111}, {\"date\": \"2012-11-04T00:00:00\", \"number of commits\": 111}, {\"date\": \"2005-11-11T00:00:00\", \"number of commits\": 111}, {\"date\": \"2011-04-11T00:00:00\", \"number of commits\": 111}, {\"date\": \"2016-05-14T00:00:00\", \"number of commits\": 111}, {\"date\": \"2005-11-02T00:00:00\", \"number of commits\": 111}, {\"date\": \"2012-10-12T00:00:00\", \"number of commits\": 111}, {\"date\": \"2014-04-05T00:00:00\", \"number of commits\": 111}, {\"date\": \"2013-10-20T00:00:00\", \"number of commits\": 111}, {\"date\": \"2012-04-15T00:00:00\", \"number of commits\": 111}, {\"date\": \"2012-12-02T00:00:00\", \"number of commits\": 111}, {\"date\": \"2012-04-03T00:00:00\", \"number of commits\": 110}, {\"date\": \"2011-02-12T00:00:00\", \"number of commits\": 110}, {\"date\": \"2009-05-08T00:00:00\", \"number of commits\": 110}, {\"date\": \"2011-09-12T00:00:00\", \"number of commits\": 110}, {\"date\": \"2011-03-31T00:00:00\", \"number of commits\": 110}, {\"date\": \"2009-03-17T00:00:00\", \"number of commits\": 110}, {\"date\": \"2010-06-14T00:00:00\", \"number of commits\": 110}, {\"date\": \"2009-08-15T00:00:00\", \"number of commits\": 110}, {\"date\": \"2009-03-22T00:00:00\", \"number of commits\": 110}, {\"date\": \"2011-08-05T00:00:00\", \"number of commits\": 110}, {\"date\": \"2010-05-04T00:00:00\", \"number of commits\": 110}, {\"date\": \"2011-06-23T00:00:00\", \"number of commits\": 110}, {\"date\": \"2011-01-03T00:00:00\", \"number of commits\": 109}, {\"date\": \"2010-02-01T00:00:00\", \"number of commits\": 109}, {\"date\": \"2009-02-16T00:00:00\", \"number of commits\": 109}, {\"date\": \"2009-12-21T00:00:00\", \"number of commits\": 109}, {\"date\": \"2012-08-08T00:00:00\", \"number of commits\": 109}, {\"date\": \"2010-04-12T00:00:00\", \"number of commits\": 109}, {\"date\": \"2008-08-27T00:00:00\", \"number of commits\": 109}, {\"date\": \"2010-07-20T00:00:00\", \"number of commits\": 109}, {\"date\": \"2011-02-11T00:00:00\", \"number of commits\": 109}, {\"date\": \"2016-03-27T00:00:00\", \"number of commits\": 109}, {\"date\": \"2016-05-07T00:00:00\", \"number of commits\": 109}, {\"date\": \"2005-09-22T00:00:00\", \"number of commits\": 109}, {\"date\": \"2011-07-19T00:00:00\", \"number of commits\": 109}, {\"date\": \"2012-09-08T00:00:00\", \"number of commits\": 109}, {\"date\": \"2006-07-13T00:00:00\", \"number of commits\": 109}, {\"date\": \"2011-07-04T00:00:00\", \"number of commits\": 108}, {\"date\": \"2016-06-22T00:00:00\", \"number of commits\": 108}, {\"date\": \"2014-12-21T00:00:00\", \"number of commits\": 108}, {\"date\": \"2011-02-15T00:00:00\", \"number of commits\": 108}, {\"date\": \"2015-10-11T00:00:00\", \"number of commits\": 108}, {\"date\": \"2010-05-03T00:00:00\", \"number of commits\": 108}, {\"date\": \"2013-11-22T00:00:00\", \"number of commits\": 108}, {\"date\": \"2013-07-27T00:00:00\", \"number of commits\": 108}, {\"date\": \"2013-03-30T00:00:00\", \"number of commits\": 108}, {\"date\": \"2006-10-20T00:00:00\", \"number of commits\": 108}, {\"date\": \"2007-01-06T00:00:00\", \"number of commits\": 108}, {\"date\": \"2015-01-02T00:00:00\", \"number of commits\": 107}, {\"date\": \"2014-08-18T00:00:00\", \"number of commits\": 107}, {\"date\": \"2010-08-20T00:00:00\", \"number of commits\": 107}, {\"date\": \"2010-02-02T00:00:00\", \"number of commits\": 107}, {\"date\": \"2011-04-06T00:00:00\", \"number of commits\": 107}, {\"date\": \"2011-10-25T00:00:00\", \"number of commits\": 107}, {\"date\": \"2007-08-22T00:00:00\", \"number of commits\": 107}, {\"date\": \"2012-12-27T00:00:00\", \"number of commits\": 107}, {\"date\": \"2013-01-20T00:00:00\", \"number of commits\": 107}, {\"date\": \"2012-10-28T00:00:00\", \"number of commits\": 107}, {\"date\": \"2014-02-15T00:00:00\", \"number of commits\": 107}, {\"date\": \"2008-02-09T00:00:00\", \"number of commits\": 107}, {\"date\": \"2010-11-01T00:00:00\", \"number of commits\": 107}, {\"date\": \"2008-08-07T00:00:00\", \"number of commits\": 107}, {\"date\": \"2010-01-14T00:00:00\", \"number of commits\": 107}, {\"date\": \"2015-03-14T00:00:00\", \"number of commits\": 106}, {\"date\": \"2012-08-30T00:00:00\", \"number of commits\": 106}, {\"date\": \"2009-08-03T00:00:00\", \"number of commits\": 106}, {\"date\": \"2009-12-08T00:00:00\", \"number of commits\": 106}, {\"date\": \"2009-07-08T00:00:00\", \"number of commits\": 106}, {\"date\": \"2009-02-19T00:00:00\", \"number of commits\": 106}, {\"date\": \"2011-06-13T00:00:00\", \"number of commits\": 106}, {\"date\": \"2012-04-21T00:00:00\", \"number of commits\": 106}, {\"date\": \"2008-05-27T00:00:00\", \"number of commits\": 106}, {\"date\": \"2008-06-03T00:00:00\", \"number of commits\": 106}, {\"date\": \"2006-01-15T00:00:00\", \"number of commits\": 106}, {\"date\": \"2014-07-19T00:00:00\", \"number of commits\": 106}, {\"date\": \"2013-06-22T00:00:00\", \"number of commits\": 106}, {\"date\": \"2012-06-22T00:00:00\", \"number of commits\": 105}, {\"date\": \"2009-11-19T00:00:00\", \"number of commits\": 105}, {\"date\": \"2010-03-11T00:00:00\", \"number of commits\": 105}, {\"date\": \"2009-10-12T00:00:00\", \"number of commits\": 105}, {\"date\": \"2008-08-11T00:00:00\", \"number of commits\": 105}, {\"date\": \"2015-02-28T00:00:00\", \"number of commits\": 105}, {\"date\": \"2014-07-06T00:00:00\", \"number of commits\": 105}, {\"date\": \"2011-06-30T00:00:00\", \"number of commits\": 104}, {\"date\": \"2011-11-18T00:00:00\", \"number of commits\": 104}, {\"date\": \"2010-04-23T00:00:00\", \"number of commits\": 104}, {\"date\": \"2008-11-04T00:00:00\", \"number of commits\": 104}, {\"date\": \"2011-01-27T00:00:00\", \"number of commits\": 104}, {\"date\": \"2008-12-17T00:00:00\", \"number of commits\": 104}, {\"date\": \"2010-09-22T00:00:00\", \"number of commits\": 104}, {\"date\": \"2010-04-06T00:00:00\", \"number of commits\": 104}, {\"date\": \"2010-12-24T00:00:00\", \"number of commits\": 104}, {\"date\": \"2010-02-03T00:00:00\", \"number of commits\": 104}, {\"date\": \"2007-12-11T00:00:00\", \"number of commits\": 104}, {\"date\": \"2011-07-10T00:00:00\", \"number of commits\": 104}, {\"date\": \"2011-08-21T00:00:00\", \"number of commits\": 104}, {\"date\": \"2011-12-18T00:00:00\", \"number of commits\": 103}, {\"date\": \"2010-08-19T00:00:00\", \"number of commits\": 103}, {\"date\": \"2007-07-30T00:00:00\", \"number of commits\": 103}, {\"date\": \"2010-09-30T00:00:00\", \"number of commits\": 103}, {\"date\": \"2006-01-14T00:00:00\", \"number of commits\": 103}, {\"date\": \"2014-04-20T00:00:00\", \"number of commits\": 103}, {\"date\": \"2013-10-12T00:00:00\", \"number of commits\": 103}, {\"date\": \"2008-09-29T00:00:00\", \"number of commits\": 103}, {\"date\": \"2005-11-17T00:00:00\", \"number of commits\": 103}, {\"date\": \"2011-05-08T00:00:00\", \"number of commits\": 103}, {\"date\": \"2006-12-11T00:00:00\", \"number of commits\": 103}, {\"date\": \"2016-03-19T00:00:00\", \"number of commits\": 102}, {\"date\": \"2010-01-04T00:00:00\", \"number of commits\": 102}, {\"date\": \"2009-04-14T00:00:00\", \"number of commits\": 102}, {\"date\": \"2008-12-18T00:00:00\", \"number of commits\": 102}, {\"date\": \"2009-05-12T00:00:00\", \"number of commits\": 102}, {\"date\": \"2010-01-25T00:00:00\", \"number of commits\": 102}, {\"date\": \"2010-06-22T00:00:00\", \"number of commits\": 102}, {\"date\": \"2009-05-09T00:00:00\", \"number of commits\": 102}, {\"date\": \"2009-09-25T00:00:00\", \"number of commits\": 102}, {\"date\": \"2006-12-12T00:00:00\", \"number of commits\": 102}, {\"date\": \"2013-03-31T00:00:00\", \"number of commits\": 102}, {\"date\": \"2010-06-15T00:00:00\", \"number of commits\": 102}, {\"date\": \"2006-01-19T00:00:00\", \"number of commits\": 102}, {\"date\": \"2008-05-24T00:00:00\", \"number of commits\": 102}, {\"date\": \"2012-08-31T00:00:00\", \"number of commits\": 101}, {\"date\": \"2010-09-02T00:00:00\", \"number of commits\": 101}, {\"date\": \"2010-03-29T00:00:00\", \"number of commits\": 101}, {\"date\": \"2008-08-21T00:00:00\", \"number of commits\": 101}, {\"date\": \"2005-07-28T00:00:00\", \"number of commits\": 101}, {\"date\": \"2009-10-15T00:00:00\", \"number of commits\": 101}, {\"date\": \"2008-06-04T00:00:00\", \"number of commits\": 101}, {\"date\": \"2009-12-06T00:00:00\", \"number of commits\": 101}, {\"date\": \"2013-02-21T00:00:00\", \"number of commits\": 101}, {\"date\": \"2010-04-26T00:00:00\", \"number of commits\": 101}, {\"date\": \"2014-04-10T00:00:00\", \"number of commits\": 101}, {\"date\": \"2007-02-26T00:00:00\", \"number of commits\": 101}, {\"date\": \"2013-12-07T00:00:00\", \"number of commits\": 101}, {\"date\": \"2007-05-31T00:00:00\", \"number of commits\": 100}, {\"date\": \"2009-02-24T00:00:00\", \"number of commits\": 100}, {\"date\": \"2008-06-13T00:00:00\", \"number of commits\": 100}, {\"date\": \"2008-07-02T00:00:00\", \"number of commits\": 100}, {\"date\": \"2016-04-09T00:00:00\", \"number of commits\": 100}, {\"date\": \"2010-11-12T00:00:00\", \"number of commits\": 100}, {\"date\": \"2014-12-30T00:00:00\", \"number of commits\": 99}, {\"date\": \"2011-03-12T00:00:00\", \"number of commits\": 99}, {\"date\": \"2012-05-13T00:00:00\", \"number of commits\": 99}, {\"date\": \"2014-08-15T00:00:00\", \"number of commits\": 99}, {\"date\": \"2010-07-19T00:00:00\", \"number of commits\": 99}, {\"date\": \"2009-11-27T00:00:00\", \"number of commits\": 99}, {\"date\": \"2009-08-18T00:00:00\", \"number of commits\": 99}, {\"date\": \"2008-11-30T00:00:00\", \"number of commits\": 99}, {\"date\": \"2014-05-17T00:00:00\", \"number of commits\": 99}, {\"date\": \"2009-06-14T00:00:00\", \"number of commits\": 99}, {\"date\": \"2008-10-03T00:00:00\", \"number of commits\": 99}, {\"date\": \"2014-04-13T00:00:00\", \"number of commits\": 99}, {\"date\": \"2014-10-25T00:00:00\", \"number of commits\": 99}, {\"date\": \"2011-04-27T00:00:00\", \"number of commits\": 99}, {\"date\": \"2008-05-15T00:00:00\", \"number of commits\": 99}, {\"date\": \"2007-04-29T00:00:00\", \"number of commits\": 99}, {\"date\": \"2013-12-22T00:00:00\", \"number of commits\": 98}, {\"date\": \"2009-11-13T00:00:00\", \"number of commits\": 98}, {\"date\": \"2009-08-24T00:00:00\", \"number of commits\": 98}, {\"date\": \"2011-11-10T00:00:00\", \"number of commits\": 98}, {\"date\": \"2015-02-01T00:00:00\", \"number of commits\": 98}, {\"date\": \"2011-06-03T00:00:00\", \"number of commits\": 98}, {\"date\": \"2009-04-23T00:00:00\", \"number of commits\": 98}, {\"date\": \"2009-08-09T00:00:00\", \"number of commits\": 98}, {\"date\": \"2009-01-26T00:00:00\", \"number of commits\": 98}, {\"date\": \"2009-12-18T00:00:00\", \"number of commits\": 98}, {\"date\": \"2008-02-11T00:00:00\", \"number of commits\": 98}, {\"date\": \"2013-06-09T00:00:00\", \"number of commits\": 98}, {\"date\": \"2010-08-27T00:00:00\", \"number of commits\": 98}, {\"date\": \"2007-06-28T00:00:00\", \"number of commits\": 98}, {\"date\": \"2016-04-03T00:00:00\", \"number of commits\": 98}, {\"date\": \"2013-12-29T00:00:00\", \"number of commits\": 98}, {\"date\": \"2015-07-25T00:00:00\", \"number of commits\": 97}, {\"date\": \"2010-07-09T00:00:00\", \"number of commits\": 97}, {\"date\": \"2006-01-05T00:00:00\", \"number of commits\": 97}, {\"date\": \"2009-01-20T00:00:00\", \"number of commits\": 97}, {\"date\": \"2010-01-07T00:00:00\", \"number of commits\": 97}, {\"date\": \"2014-01-25T00:00:00\", \"number of commits\": 97}, {\"date\": \"2009-05-21T00:00:00\", \"number of commits\": 97}, {\"date\": \"2013-01-05T00:00:00\", \"number of commits\": 97}, {\"date\": \"2014-12-24T00:00:00\", \"number of commits\": 97}, {\"date\": \"2010-01-16T00:00:00\", \"number of commits\": 97}, {\"date\": \"2008-09-11T00:00:00\", \"number of commits\": 97}, {\"date\": \"2009-12-30T00:00:00\", \"number of commits\": 96}, {\"date\": \"2009-05-14T00:00:00\", \"number of commits\": 96}, {\"date\": \"2009-07-29T00:00:00\", \"number of commits\": 96}, {\"date\": \"2008-07-17T00:00:00\", \"number of commits\": 96}, {\"date\": \"2006-10-18T00:00:00\", \"number of commits\": 96}, {\"date\": \"2007-11-05T00:00:00\", \"number of commits\": 96}, {\"date\": \"2006-01-13T00:00:00\", \"number of commits\": 96}, {\"date\": \"2009-09-03T00:00:00\", \"number of commits\": 96}, {\"date\": \"2011-07-02T00:00:00\", \"number of commits\": 96}, {\"date\": \"2013-06-01T00:00:00\", \"number of commits\": 96}, {\"date\": \"2016-02-13T00:00:00\", \"number of commits\": 96}, {\"date\": \"2010-07-16T00:00:00\", \"number of commits\": 96}, {\"date\": \"2007-02-06T00:00:00\", \"number of commits\": 96}, {\"date\": \"2009-10-08T00:00:00\", \"number of commits\": 96}, {\"date\": \"2010-11-23T00:00:00\", \"number of commits\": 95}, {\"date\": \"2011-02-10T00:00:00\", \"number of commits\": 95}, {\"date\": \"2009-01-13T00:00:00\", \"number of commits\": 95}, {\"date\": \"2009-05-25T00:00:00\", \"number of commits\": 95}, {\"date\": \"2008-10-11T00:00:00\", \"number of commits\": 95}, {\"date\": \"2006-01-18T00:00:00\", \"number of commits\": 95}, {\"date\": \"2014-03-08T00:00:00\", \"number of commits\": 95}, {\"date\": \"2015-12-26T00:00:00\", \"number of commits\": 95}, {\"date\": \"2013-01-19T00:00:00\", \"number of commits\": 95}, {\"date\": \"2014-09-14T00:00:00\", \"number of commits\": 95}, {\"date\": \"2006-02-27T00:00:00\", \"number of commits\": 95}, {\"date\": \"2010-11-19T00:00:00\", \"number of commits\": 95}, {\"date\": \"2006-07-15T00:00:00\", \"number of commits\": 95}, {\"date\": \"2012-07-04T00:00:00\", \"number of commits\": 94}, {\"date\": \"2008-10-29T00:00:00\", \"number of commits\": 94}, {\"date\": \"2011-05-22T00:00:00\", \"number of commits\": 94}, {\"date\": \"2009-06-29T00:00:00\", \"number of commits\": 94}, {\"date\": \"2008-11-24T00:00:00\", \"number of commits\": 94}, {\"date\": \"2009-07-06T00:00:00\", \"number of commits\": 94}, {\"date\": \"2007-06-08T00:00:00\", \"number of commits\": 94}, {\"date\": \"2009-07-12T00:00:00\", \"number of commits\": 94}, {\"date\": \"2010-06-16T00:00:00\", \"number of commits\": 94}, {\"date\": \"2005-10-04T00:00:00\", \"number of commits\": 94}, {\"date\": \"2008-04-01T00:00:00\", \"number of commits\": 94}, {\"date\": \"2008-03-13T00:00:00\", \"number of commits\": 94}, {\"date\": \"2007-10-20T00:00:00\", \"number of commits\": 94}, {\"date\": \"2009-08-02T00:00:00\", \"number of commits\": 93}, {\"date\": \"2015-06-30T00:00:00\", \"number of commits\": 93}, {\"date\": \"2011-08-30T00:00:00\", \"number of commits\": 93}, {\"date\": \"2009-11-26T00:00:00\", \"number of commits\": 93}, {\"date\": \"2008-05-05T00:00:00\", \"number of commits\": 93}, {\"date\": \"2008-03-28T00:00:00\", \"number of commits\": 93}, {\"date\": \"2014-08-12T00:00:00\", \"number of commits\": 93}, {\"date\": \"2013-01-27T00:00:00\", \"number of commits\": 93}, {\"date\": \"2013-02-27T00:00:00\", \"number of commits\": 93}, {\"date\": \"2016-03-20T00:00:00\", \"number of commits\": 92}, {\"date\": \"2013-11-29T00:00:00\", \"number of commits\": 92}, {\"date\": \"2010-03-17T00:00:00\", \"number of commits\": 92}, {\"date\": \"2009-07-22T00:00:00\", \"number of commits\": 92}, {\"date\": \"2009-11-10T00:00:00\", \"number of commits\": 92}, {\"date\": \"2013-08-17T00:00:00\", \"number of commits\": 92}, {\"date\": \"2011-02-07T00:00:00\", \"number of commits\": 92}, {\"date\": \"2007-08-23T00:00:00\", \"number of commits\": 92}, {\"date\": \"2010-08-23T00:00:00\", \"number of commits\": 92}, {\"date\": \"2009-11-09T00:00:00\", \"number of commits\": 92}, {\"date\": \"2009-08-05T00:00:00\", \"number of commits\": 92}, {\"date\": \"2011-06-17T00:00:00\", \"number of commits\": 92}, {\"date\": \"2007-12-20T00:00:00\", \"number of commits\": 92}, {\"date\": \"2016-02-14T00:00:00\", \"number of commits\": 92}, {\"date\": \"2010-03-25T00:00:00\", \"number of commits\": 92}, {\"date\": \"2006-10-21T00:00:00\", \"number of commits\": 92}, {\"date\": \"2011-03-26T00:00:00\", \"number of commits\": 92}, {\"date\": \"2009-02-26T00:00:00\", \"number of commits\": 91}, {\"date\": \"2008-08-12T00:00:00\", \"number of commits\": 91}, {\"date\": \"2012-04-07T00:00:00\", \"number of commits\": 91}, {\"date\": \"2006-04-14T00:00:00\", \"number of commits\": 91}, {\"date\": \"2007-09-11T00:00:00\", \"number of commits\": 91}, {\"date\": \"2012-06-30T00:00:00\", \"number of commits\": 91}, {\"date\": \"2011-06-22T00:00:00\", \"number of commits\": 91}, {\"date\": \"2008-06-16T00:00:00\", \"number of commits\": 91}, {\"date\": \"2010-11-25T00:00:00\", \"number of commits\": 91}, {\"date\": \"2007-03-26T00:00:00\", \"number of commits\": 91}, {\"date\": \"2007-04-30T00:00:00\", \"number of commits\": 91}, {\"date\": \"2008-08-04T00:00:00\", \"number of commits\": 91}, {\"date\": \"2006-06-24T00:00:00\", \"number of commits\": 91}, {\"date\": \"2009-06-26T00:00:00\", \"number of commits\": 90}, {\"date\": \"2009-10-02T00:00:00\", \"number of commits\": 90}, {\"date\": \"2009-10-05T00:00:00\", \"number of commits\": 90}, {\"date\": \"2013-02-07T00:00:00\", \"number of commits\": 90}, {\"date\": \"2009-09-28T00:00:00\", \"number of commits\": 90}, {\"date\": \"2010-12-15T00:00:00\", \"number of commits\": 90}, {\"date\": \"2007-12-23T00:00:00\", \"number of commits\": 90}, {\"date\": \"2009-06-04T00:00:00\", \"number of commits\": 90}, {\"date\": \"2008-08-19T00:00:00\", \"number of commits\": 90}, {\"date\": \"2008-08-20T00:00:00\", \"number of commits\": 90}, {\"date\": \"2009-04-30T00:00:00\", \"number of commits\": 90}, {\"date\": \"2015-06-06T00:00:00\", \"number of commits\": 90}, {\"date\": \"2015-11-21T00:00:00\", \"number of commits\": 90}, {\"date\": \"2012-01-07T00:00:00\", \"number of commits\": 90}, {\"date\": \"2015-01-24T00:00:00\", \"number of commits\": 90}, {\"date\": \"2007-10-03T00:00:00\", \"number of commits\": 90}, {\"date\": \"2013-06-15T00:00:00\", \"number of commits\": 90}, {\"date\": \"2014-11-02T00:00:00\", \"number of commits\": 90}, {\"date\": \"2015-02-08T00:00:00\", \"number of commits\": 90}, {\"date\": \"2005-05-20T00:00:00\", \"number of commits\": 90}, {\"date\": \"2010-04-08T00:00:00\", \"number of commits\": 89}, {\"date\": \"2009-09-05T00:00:00\", \"number of commits\": 89}, {\"date\": \"2013-04-21T00:00:00\", \"number of commits\": 89}, {\"date\": \"2011-12-10T00:00:00\", \"number of commits\": 89}, {\"date\": \"2009-08-29T00:00:00\", \"number of commits\": 89}, {\"date\": \"2007-10-24T00:00:00\", \"number of commits\": 89}, {\"date\": \"2009-05-05T00:00:00\", \"number of commits\": 89}, {\"date\": \"2008-03-07T00:00:00\", \"number of commits\": 89}, {\"date\": \"2010-09-01T00:00:00\", \"number of commits\": 89}, {\"date\": \"2013-05-03T00:00:00\", \"number of commits\": 89}, {\"date\": \"2006-01-31T00:00:00\", \"number of commits\": 89}, {\"date\": \"2007-05-17T00:00:00\", \"number of commits\": 89}, {\"date\": \"2015-01-31T00:00:00\", \"number of commits\": 89}, {\"date\": \"2010-04-19T00:00:00\", \"number of commits\": 89}, {\"date\": \"2006-03-12T00:00:00\", \"number of commits\": 89}, {\"date\": \"2010-02-22T00:00:00\", \"number of commits\": 88}, {\"date\": \"2010-05-16T00:00:00\", \"number of commits\": 88}, {\"date\": \"2008-12-11T00:00:00\", \"number of commits\": 88}, {\"date\": \"2009-07-15T00:00:00\", \"number of commits\": 88}, {\"date\": \"2015-05-23T00:00:00\", \"number of commits\": 88}, {\"date\": \"2010-07-06T00:00:00\", \"number of commits\": 88}, {\"date\": \"2011-08-13T00:00:00\", \"number of commits\": 88}, {\"date\": \"2007-11-07T00:00:00\", \"number of commits\": 88}, {\"date\": \"2008-03-20T00:00:00\", \"number of commits\": 88}, {\"date\": \"2016-01-03T00:00:00\", \"number of commits\": 88}, {\"date\": \"2010-03-18T00:00:00\", \"number of commits\": 88}, {\"date\": \"2013-02-16T00:00:00\", \"number of commits\": 88}, {\"date\": \"2008-11-22T00:00:00\", \"number of commits\": 88}, {\"date\": \"2008-01-24T00:00:00\", \"number of commits\": 88}, {\"date\": \"2012-04-08T00:00:00\", \"number of commits\": 88}, {\"date\": \"2010-07-12T00:00:00\", \"number of commits\": 88}, {\"date\": \"2014-10-13T00:00:00\", \"number of commits\": 87}, {\"date\": \"2016-06-04T00:00:00\", \"number of commits\": 87}, {\"date\": \"2014-10-16T00:00:00\", \"number of commits\": 87}, {\"date\": \"2009-08-19T00:00:00\", \"number of commits\": 87}, {\"date\": \"2010-07-29T00:00:00\", \"number of commits\": 87}, {\"date\": \"2009-02-03T00:00:00\", \"number of commits\": 87}, {\"date\": \"2011-05-28T00:00:00\", \"number of commits\": 87}, {\"date\": \"2008-05-08T00:00:00\", \"number of commits\": 87}, {\"date\": \"2005-09-06T00:00:00\", \"number of commits\": 87}, {\"date\": \"2007-01-24T00:00:00\", \"number of commits\": 87}, {\"date\": \"2013-07-28T00:00:00\", \"number of commits\": 87}, {\"date\": \"2014-09-20T00:00:00\", \"number of commits\": 87}, {\"date\": \"2013-07-14T00:00:00\", \"number of commits\": 86}, {\"date\": \"2010-03-22T00:00:00\", \"number of commits\": 86}, {\"date\": \"2006-04-27T00:00:00\", \"number of commits\": 86}, {\"date\": \"2007-03-06T00:00:00\", \"number of commits\": 86}, {\"date\": \"2009-04-10T00:00:00\", \"number of commits\": 86}, {\"date\": \"2008-12-09T00:00:00\", \"number of commits\": 86}, {\"date\": \"2010-09-15T00:00:00\", \"number of commits\": 86}, {\"date\": \"2014-05-11T00:00:00\", \"number of commits\": 86}, {\"date\": \"2011-05-29T00:00:00\", \"number of commits\": 86}, {\"date\": \"2008-06-14T00:00:00\", \"number of commits\": 86}, {\"date\": \"2007-11-29T00:00:00\", \"number of commits\": 85}, {\"date\": \"2010-05-05T00:00:00\", \"number of commits\": 85}, {\"date\": \"2013-08-10T00:00:00\", \"number of commits\": 85}, {\"date\": \"2009-06-25T00:00:00\", \"number of commits\": 85}, {\"date\": \"2009-07-21T00:00:00\", \"number of commits\": 85}, {\"date\": \"2013-08-04T00:00:00\", \"number of commits\": 85}, {\"date\": \"2005-12-12T00:00:00\", \"number of commits\": 85}, {\"date\": \"2007-11-20T00:00:00\", \"number of commits\": 85}, {\"date\": \"2011-10-28T00:00:00\", \"number of commits\": 85}, {\"date\": \"2005-09-13T00:00:00\", \"number of commits\": 85}, {\"date\": \"2011-06-10T00:00:00\", \"number of commits\": 84}, {\"date\": \"2009-12-24T00:00:00\", \"number of commits\": 84}, {\"date\": \"2011-05-01T00:00:00\", \"number of commits\": 84}, {\"date\": \"2010-08-30T00:00:00\", \"number of commits\": 84}, {\"date\": \"2007-08-09T00:00:00\", \"number of commits\": 84}, {\"date\": \"2009-11-22T00:00:00\", \"number of commits\": 84}, {\"date\": \"2014-12-29T00:00:00\", \"number of commits\": 84}, {\"date\": \"2006-03-17T00:00:00\", \"number of commits\": 84}, {\"date\": \"2005-11-15T00:00:00\", \"number of commits\": 84}, {\"date\": \"2007-04-24T00:00:00\", \"number of commits\": 84}, {\"date\": \"2006-10-25T00:00:00\", \"number of commits\": 84}, {\"date\": \"2007-03-08T00:00:00\", \"number of commits\": 84}, {\"date\": \"2012-08-02T00:00:00\", \"number of commits\": 84}, {\"date\": \"2014-09-06T00:00:00\", \"number of commits\": 84}, {\"date\": \"2012-12-22T00:00:00\", \"number of commits\": 84}, {\"date\": \"2008-03-11T00:00:00\", \"number of commits\": 84}, {\"date\": \"2010-06-07T00:00:00\", \"number of commits\": 84}, {\"date\": \"2011-09-25T00:00:00\", \"number of commits\": 84}, {\"date\": \"2006-02-05T00:00:00\", \"number of commits\": 84}, {\"date\": \"2008-09-17T00:00:00\", \"number of commits\": 84}, {\"date\": \"2009-07-20T00:00:00\", \"number of commits\": 83}, {\"date\": \"2008-05-30T00:00:00\", \"number of commits\": 83}, {\"date\": \"2008-11-05T00:00:00\", \"number of commits\": 83}, {\"date\": \"2008-05-20T00:00:00\", \"number of commits\": 83}, {\"date\": \"2011-06-14T00:00:00\", \"number of commits\": 83}, {\"date\": \"2009-08-17T00:00:00\", \"number of commits\": 83}, {\"date\": \"2013-02-10T00:00:00\", \"number of commits\": 83}, {\"date\": \"2009-05-01T00:00:00\", \"number of commits\": 83}, {\"date\": \"2009-11-17T00:00:00\", \"number of commits\": 83}, {\"date\": \"2008-06-02T00:00:00\", \"number of commits\": 83}, {\"date\": \"2010-03-16T00:00:00\", \"number of commits\": 83}, {\"date\": \"2011-10-16T00:00:00\", \"number of commits\": 83}, {\"date\": \"2011-11-25T00:00:00\", \"number of commits\": 83}, {\"date\": \"2015-04-05T00:00:00\", \"number of commits\": 83}, {\"date\": \"2014-02-08T00:00:00\", \"number of commits\": 83}, {\"date\": \"2013-11-02T00:00:00\", \"number of commits\": 83}, {\"date\": \"2010-01-06T00:00:00\", \"number of commits\": 83}, {\"date\": \"2010-05-22T00:00:00\", \"number of commits\": 83}, {\"date\": \"2015-03-21T00:00:00\", \"number of commits\": 83}, {\"date\": \"2007-01-30T00:00:00\", \"number of commits\": 83}, {\"date\": \"2010-04-25T00:00:00\", \"number of commits\": 83}, {\"date\": \"2008-11-17T00:00:00\", \"number of commits\": 82}, {\"date\": \"2010-05-02T00:00:00\", \"number of commits\": 82}, {\"date\": \"2009-02-23T00:00:00\", \"number of commits\": 82}, {\"date\": \"2010-06-24T00:00:00\", \"number of commits\": 82}, {\"date\": \"2006-02-28T00:00:00\", \"number of commits\": 82}, {\"date\": \"2012-07-15T00:00:00\", \"number of commits\": 82}, {\"date\": \"2016-02-21T00:00:00\", \"number of commits\": 82}, {\"date\": \"2007-12-18T00:00:00\", \"number of commits\": 82}, {\"date\": \"2008-06-24T00:00:00\", \"number of commits\": 82}, {\"date\": \"2010-12-30T00:00:00\", \"number of commits\": 82}, {\"date\": \"2009-03-03T00:00:00\", \"number of commits\": 82}, {\"date\": \"2008-08-18T00:00:00\", \"number of commits\": 82}, {\"date\": \"2010-06-09T00:00:00\", \"number of commits\": 82}, {\"date\": \"2008-03-03T00:00:00\", \"number of commits\": 82}, {\"date\": \"2008-07-07T00:00:00\", \"number of commits\": 82}, {\"date\": \"2011-10-29T00:00:00\", \"number of commits\": 82}, {\"date\": \"2008-06-18T00:00:00\", \"number of commits\": 82}, {\"date\": \"2006-10-10T00:00:00\", \"number of commits\": 82}, {\"date\": \"2010-07-07T00:00:00\", \"number of commits\": 82}, {\"date\": \"2013-09-07T00:00:00\", \"number of commits\": 81}, {\"date\": \"2010-11-08T00:00:00\", \"number of commits\": 81}, {\"date\": \"2013-02-02T00:00:00\", \"number of commits\": 81}, {\"date\": \"2011-07-29T00:00:00\", \"number of commits\": 81}, {\"date\": \"2009-11-14T00:00:00\", \"number of commits\": 81}, {\"date\": \"2010-06-08T00:00:00\", \"number of commits\": 81}, {\"date\": \"2008-04-20T00:00:00\", \"number of commits\": 81}, {\"date\": \"2013-04-27T00:00:00\", \"number of commits\": 81}, {\"date\": \"2008-06-19T00:00:00\", \"number of commits\": 81}, {\"date\": \"2011-08-14T00:00:00\", \"number of commits\": 81}, {\"date\": \"2009-09-20T00:00:00\", \"number of commits\": 81}, {\"date\": \"2006-03-14T00:00:00\", \"number of commits\": 81}, {\"date\": \"2015-11-08T00:00:00\", \"number of commits\": 81}, {\"date\": \"2005-08-24T00:00:00\", \"number of commits\": 81}, {\"date\": \"2015-02-21T00:00:00\", \"number of commits\": 81}, {\"date\": \"2010-04-21T00:00:00\", \"number of commits\": 81}, {\"date\": \"2013-06-16T00:00:00\", \"number of commits\": 81}, {\"date\": \"2011-01-17T00:00:00\", \"number of commits\": 81}, {\"date\": \"2007-03-05T00:00:00\", \"number of commits\": 81}, {\"date\": \"2006-05-31T00:00:00\", \"number of commits\": 81}, {\"date\": \"2016-04-17T00:00:00\", \"number of commits\": 81}, {\"date\": \"2012-08-07T00:00:00\", \"number of commits\": 80}, {\"date\": \"2008-02-21T00:00:00\", \"number of commits\": 80}, {\"date\": \"2016-03-26T00:00:00\", \"number of commits\": 80}, {\"date\": \"2006-03-03T00:00:00\", \"number of commits\": 80}, {\"date\": \"2007-03-07T00:00:00\", \"number of commits\": 80}, {\"date\": \"2013-05-25T00:00:00\", \"number of commits\": 80}, {\"date\": \"2014-06-08T00:00:00\", \"number of commits\": 80}, {\"date\": \"2013-07-20T00:00:00\", \"number of commits\": 80}, {\"date\": \"2012-02-25T00:00:00\", \"number of commits\": 80}, {\"date\": \"2007-10-30T00:00:00\", \"number of commits\": 80}, {\"date\": \"2006-06-05T00:00:00\", \"number of commits\": 80}, {\"date\": \"2006-08-06T00:00:00\", \"number of commits\": 80}, {\"date\": \"2014-09-27T00:00:00\", \"number of commits\": 79}, {\"date\": \"2010-06-11T00:00:00\", \"number of commits\": 79}, {\"date\": \"2012-03-03T00:00:00\", \"number of commits\": 79}, {\"date\": \"2010-08-17T00:00:00\", \"number of commits\": 79}, {\"date\": \"2014-12-06T00:00:00\", \"number of commits\": 79}, {\"date\": \"2012-12-01T00:00:00\", \"number of commits\": 79}, {\"date\": \"2013-09-28T00:00:00\", \"number of commits\": 79}, {\"date\": \"2005-04-25T00:00:00\", \"number of commits\": 79}, {\"date\": \"2009-03-19T00:00:00\", \"number of commits\": 78}, {\"date\": \"2007-01-09T00:00:00\", \"number of commits\": 78}, {\"date\": \"2015-11-01T00:00:00\", \"number of commits\": 78}, {\"date\": \"2015-10-10T00:00:00\", \"number of commits\": 78}, {\"date\": \"2016-03-06T00:00:00\", \"number of commits\": 78}, {\"date\": \"2005-11-05T00:00:00\", \"number of commits\": 78}, {\"date\": \"2007-07-03T00:00:00\", \"number of commits\": 78}, {\"date\": \"2015-03-08T00:00:00\", \"number of commits\": 78}, {\"date\": \"2011-08-10T00:00:00\", \"number of commits\": 78}, {\"date\": \"2016-04-02T00:00:00\", \"number of commits\": 78}, {\"date\": \"2011-06-02T00:00:00\", \"number of commits\": 78}, {\"date\": \"2008-11-28T00:00:00\", \"number of commits\": 77}, {\"date\": \"2008-11-19T00:00:00\", \"number of commits\": 77}, {\"date\": \"2009-02-22T00:00:00\", \"number of commits\": 77}, {\"date\": \"2008-09-06T00:00:00\", \"number of commits\": 77}, {\"date\": \"2008-03-17T00:00:00\", \"number of commits\": 77}, {\"date\": \"2014-10-26T00:00:00\", \"number of commits\": 77}, {\"date\": \"2007-02-10T00:00:00\", \"number of commits\": 77}, {\"date\": \"2012-01-02T00:00:00\", \"number of commits\": 77}, {\"date\": \"2015-10-24T00:00:00\", \"number of commits\": 77}, {\"date\": \"2011-10-08T00:00:00\", \"number of commits\": 77}, {\"date\": \"2015-04-06T00:00:00\", \"number of commits\": 77}, {\"date\": \"2010-04-01T00:00:00\", \"number of commits\": 77}, {\"date\": \"2007-05-21T00:00:00\", \"number of commits\": 77}, {\"date\": \"2005-05-03T00:00:00\", \"number of commits\": 77}, {\"date\": \"2006-09-20T00:00:00\", \"number of commits\": 77}, {\"date\": \"2007-07-25T00:00:00\", \"number of commits\": 77}, {\"date\": \"2008-10-01T00:00:00\", \"number of commits\": 76}, {\"date\": \"2007-07-15T00:00:00\", \"number of commits\": 76}, {\"date\": \"2010-07-30T00:00:00\", \"number of commits\": 76}, {\"date\": \"2010-06-17T00:00:00\", \"number of commits\": 76}, {\"date\": \"2006-11-03T00:00:00\", \"number of commits\": 76}, {\"date\": \"2009-06-20T00:00:00\", \"number of commits\": 76}, {\"date\": \"2013-12-28T00:00:00\", \"number of commits\": 76}, {\"date\": \"2012-07-21T00:00:00\", \"number of commits\": 76}, {\"date\": \"2011-01-16T00:00:00\", \"number of commits\": 76}, {\"date\": \"2012-06-17T00:00:00\", \"number of commits\": 76}, {\"date\": \"2014-08-23T00:00:00\", \"number of commits\": 76}, {\"date\": \"2006-07-02T00:00:00\", \"number of commits\": 76}, {\"date\": \"2007-01-26T00:00:00\", \"number of commits\": 76}, {\"date\": \"2015-07-03T00:00:00\", \"number of commits\": 75}, {\"date\": \"2013-11-17T00:00:00\", \"number of commits\": 75}, {\"date\": \"2011-08-17T00:00:00\", \"number of commits\": 75}, {\"date\": \"2015-08-09T00:00:00\", \"number of commits\": 75}, {\"date\": \"2015-03-28T00:00:00\", \"number of commits\": 75}, {\"date\": \"2011-04-21T00:00:00\", \"number of commits\": 75}, {\"date\": \"2008-01-27T00:00:00\", \"number of commits\": 75}, {\"date\": \"2011-01-23T00:00:00\", \"number of commits\": 75}, {\"date\": \"2010-10-09T00:00:00\", \"number of commits\": 75}, {\"date\": \"2006-10-06T00:00:00\", \"number of commits\": 75}, {\"date\": \"2008-02-26T00:00:00\", \"number of commits\": 75}, {\"date\": \"2009-07-05T00:00:00\", \"number of commits\": 75}, {\"date\": \"2010-03-26T00:00:00\", \"number of commits\": 75}, {\"date\": \"2014-11-08T00:00:00\", \"number of commits\": 75}, {\"date\": \"2011-01-08T00:00:00\", \"number of commits\": 75}, {\"date\": \"2009-02-02T00:00:00\", \"number of commits\": 75}, {\"date\": \"2005-05-28T00:00:00\", \"number of commits\": 75}, {\"date\": \"2005-10-10T00:00:00\", \"number of commits\": 75}, {\"date\": \"2015-07-12T00:00:00\", \"number of commits\": 75}, {\"date\": \"2015-03-22T00:00:00\", \"number of commits\": 75}, {\"date\": \"2012-01-21T00:00:00\", \"number of commits\": 75}, {\"date\": \"2009-11-07T00:00:00\", \"number of commits\": 74}, {\"date\": \"2016-02-28T00:00:00\", \"number of commits\": 74}, {\"date\": \"2006-08-02T00:00:00\", \"number of commits\": 74}, {\"date\": \"2008-10-06T00:00:00\", \"number of commits\": 74}, {\"date\": \"2008-02-10T00:00:00\", \"number of commits\": 74}, {\"date\": \"2008-08-26T00:00:00\", \"number of commits\": 74}, {\"date\": \"2009-06-21T00:00:00\", \"number of commits\": 74}, {\"date\": \"2010-01-05T00:00:00\", \"number of commits\": 74}, {\"date\": \"2010-01-26T00:00:00\", \"number of commits\": 74}, {\"date\": \"2007-11-08T00:00:00\", \"number of commits\": 74}, {\"date\": \"2014-02-01T00:00:00\", \"number of commits\": 74}, {\"date\": \"2007-08-03T00:00:00\", \"number of commits\": 74}, {\"date\": \"2005-12-14T00:00:00\", \"number of commits\": 74}, {\"date\": \"2010-08-14T00:00:00\", \"number of commits\": 73}, {\"date\": \"2008-04-02T00:00:00\", \"number of commits\": 73}, {\"date\": \"2015-11-15T00:00:00\", \"number of commits\": 73}, {\"date\": \"2005-10-18T00:00:00\", \"number of commits\": 73}, {\"date\": \"2005-10-22T00:00:00\", \"number of commits\": 73}, {\"date\": \"2007-09-19T00:00:00\", \"number of commits\": 73}, {\"date\": \"2014-01-19T00:00:00\", \"number of commits\": 73}, {\"date\": \"2008-05-06T00:00:00\", \"number of commits\": 73}, {\"date\": \"2006-03-01T00:00:00\", \"number of commits\": 73}, {\"date\": \"2007-08-31T00:00:00\", \"number of commits\": 73}, {\"date\": \"2013-05-18T00:00:00\", \"number of commits\": 73}, {\"date\": \"2012-05-06T00:00:00\", \"number of commits\": 72}, {\"date\": \"2010-11-26T00:00:00\", \"number of commits\": 72}, {\"date\": \"2009-07-17T00:00:00\", \"number of commits\": 72}, {\"date\": \"2009-11-08T00:00:00\", \"number of commits\": 72}, {\"date\": \"2011-08-15T00:00:00\", \"number of commits\": 72}, {\"date\": \"2011-09-07T00:00:00\", \"number of commits\": 72}, {\"date\": \"2008-09-22T00:00:00\", \"number of commits\": 72}, {\"date\": \"2007-12-05T00:00:00\", \"number of commits\": 72}, {\"date\": \"2006-04-10T00:00:00\", \"number of commits\": 72}, {\"date\": \"2007-03-01T00:00:00\", \"number of commits\": 72}, {\"date\": \"2013-12-27T00:00:00\", \"number of commits\": 72}, {\"date\": \"2010-01-10T00:00:00\", \"number of commits\": 72}, {\"date\": \"2009-11-28T00:00:00\", \"number of commits\": 72}, {\"date\": \"2010-10-30T00:00:00\", \"number of commits\": 72}, {\"date\": \"2011-09-18T00:00:00\", \"number of commits\": 71}, {\"date\": \"2011-10-27T00:00:00\", \"number of commits\": 71}, {\"date\": \"2008-06-25T00:00:00\", \"number of commits\": 71}, {\"date\": \"2009-02-01T00:00:00\", \"number of commits\": 71}, {\"date\": \"2005-09-30T00:00:00\", \"number of commits\": 71}, {\"date\": \"2012-12-24T00:00:00\", \"number of commits\": 71}, {\"date\": \"2006-02-24T00:00:00\", \"number of commits\": 71}, {\"date\": \"2006-09-13T00:00:00\", \"number of commits\": 71}, {\"date\": \"2008-06-09T00:00:00\", \"number of commits\": 71}, {\"date\": \"2014-03-02T00:00:00\", \"number of commits\": 71}, {\"date\": \"2014-02-16T00:00:00\", \"number of commits\": 71}, {\"date\": \"2016-05-08T00:00:00\", \"number of commits\": 71}, {\"date\": \"2009-05-23T00:00:00\", \"number of commits\": 71}, {\"date\": \"2010-12-11T00:00:00\", \"number of commits\": 71}, {\"date\": \"2006-04-20T00:00:00\", \"number of commits\": 71}, {\"date\": \"2006-09-24T00:00:00\", \"number of commits\": 71}, {\"date\": \"2011-01-09T00:00:00\", \"number of commits\": 71}, {\"date\": \"2006-02-15T00:00:00\", \"number of commits\": 71}, {\"date\": \"2006-01-23T00:00:00\", \"number of commits\": 71}, {\"date\": \"2014-01-26T00:00:00\", \"number of commits\": 70}, {\"date\": \"2016-05-22T00:00:00\", \"number of commits\": 70}, {\"date\": \"2012-10-27T00:00:00\", \"number of commits\": 70}, {\"date\": \"2015-07-18T00:00:00\", \"number of commits\": 70}, {\"date\": \"2011-04-15T00:00:00\", \"number of commits\": 70}, {\"date\": \"2011-08-18T00:00:00\", \"number of commits\": 70}, {\"date\": \"2009-07-07T00:00:00\", \"number of commits\": 70}, {\"date\": \"2008-11-03T00:00:00\", \"number of commits\": 70}, {\"date\": \"2005-04-19T00:00:00\", \"number of commits\": 70}, {\"date\": \"2009-07-02T00:00:00\", \"number of commits\": 70}, {\"date\": \"2008-07-31T00:00:00\", \"number of commits\": 70}, {\"date\": \"2012-01-29T00:00:00\", \"number of commits\": 70}, {\"date\": \"2015-04-04T00:00:00\", \"number of commits\": 70}, {\"date\": \"2011-03-05T00:00:00\", \"number of commits\": 70}, {\"date\": \"2008-03-31T00:00:00\", \"number of commits\": 70}, {\"date\": \"2014-06-28T00:00:00\", \"number of commits\": 70}, {\"date\": \"2007-02-20T00:00:00\", \"number of commits\": 70}, {\"date\": \"2007-06-01T00:00:00\", \"number of commits\": 70}, {\"date\": \"2008-12-13T00:00:00\", \"number of commits\": 70}, {\"date\": \"2010-07-02T00:00:00\", \"number of commits\": 69}, {\"date\": \"2008-12-08T00:00:00\", \"number of commits\": 69}, {\"date\": \"2008-11-07T00:00:00\", \"number of commits\": 69}, {\"date\": \"2008-06-17T00:00:00\", \"number of commits\": 69}, {\"date\": \"2010-08-13T00:00:00\", \"number of commits\": 69}, {\"date\": \"2009-03-09T00:00:00\", \"number of commits\": 69}, {\"date\": \"2011-04-30T00:00:00\", \"number of commits\": 69}, {\"date\": \"2014-08-31T00:00:00\", \"number of commits\": 69}, {\"date\": \"2009-10-26T00:00:00\", \"number of commits\": 69}, {\"date\": \"2009-06-01T00:00:00\", \"number of commits\": 69}, {\"date\": \"2012-01-19T00:00:00\", \"number of commits\": 69}, {\"date\": \"2011-06-11T00:00:00\", \"number of commits\": 69}, {\"date\": \"2005-09-14T00:00:00\", \"number of commits\": 69}, {\"date\": \"2015-07-19T00:00:00\", \"number of commits\": 69}, {\"date\": \"2013-09-29T00:00:00\", \"number of commits\": 69}, {\"date\": \"2015-10-31T00:00:00\", \"number of commits\": 69}, {\"date\": \"2011-05-05T00:00:00\", \"number of commits\": 69}, {\"date\": \"2006-05-23T00:00:00\", \"number of commits\": 69}, {\"date\": \"2007-05-14T00:00:00\", \"number of commits\": 69}, {\"date\": \"2007-11-27T00:00:00\", \"number of commits\": 69}, {\"date\": \"2009-09-08T00:00:00\", \"number of commits\": 69}, {\"date\": \"2012-04-14T00:00:00\", \"number of commits\": 69}, {\"date\": \"2006-05-20T00:00:00\", \"number of commits\": 69}, {\"date\": \"2006-08-19T00:00:00\", \"number of commits\": 69}, {\"date\": \"2007-02-27T00:00:00\", \"number of commits\": 69}, {\"date\": \"2006-12-22T00:00:00\", \"number of commits\": 69}, {\"date\": \"2015-11-22T00:00:00\", \"number of commits\": 68}, {\"date\": \"2011-10-02T00:00:00\", \"number of commits\": 68}, {\"date\": \"2009-02-10T00:00:00\", \"number of commits\": 68}, {\"date\": \"2006-05-12T00:00:00\", \"number of commits\": 68}, {\"date\": \"2005-06-30T00:00:00\", \"number of commits\": 68}, {\"date\": \"2008-03-27T00:00:00\", \"number of commits\": 68}, {\"date\": \"2010-03-13T00:00:00\", \"number of commits\": 68}, {\"date\": \"2015-11-14T00:00:00\", \"number of commits\": 68}, {\"date\": \"2006-02-17T00:00:00\", \"number of commits\": 68}, {\"date\": \"2008-09-15T00:00:00\", \"number of commits\": 68}, {\"date\": \"2005-09-21T00:00:00\", \"number of commits\": 68}, {\"date\": \"2008-04-15T00:00:00\", \"number of commits\": 68}, {\"date\": \"2005-12-15T00:00:00\", \"number of commits\": 68}, {\"date\": \"2015-05-02T00:00:00\", \"number of commits\": 68}, {\"date\": \"2015-04-18T00:00:00\", \"number of commits\": 68}, {\"date\": \"2014-07-05T00:00:00\", \"number of commits\": 68}, {\"date\": \"2006-07-05T00:00:00\", \"number of commits\": 68}, {\"date\": \"2006-07-29T00:00:00\", \"number of commits\": 68}, {\"date\": \"2005-06-29T00:00:00\", \"number of commits\": 68}, {\"date\": \"2009-07-23T00:00:00\", \"number of commits\": 67}, {\"date\": \"2007-05-23T00:00:00\", \"number of commits\": 67}, {\"date\": \"2009-02-07T00:00:00\", \"number of commits\": 67}, {\"date\": \"2007-12-07T00:00:00\", \"number of commits\": 67}, {\"date\": \"2015-07-26T00:00:00\", \"number of commits\": 67}, {\"date\": \"2006-01-27T00:00:00\", \"number of commits\": 67}, {\"date\": \"2007-06-14T00:00:00\", \"number of commits\": 67}, {\"date\": \"2007-03-17T00:00:00\", \"number of commits\": 67}, {\"date\": \"2016-01-02T00:00:00\", \"number of commits\": 67}, {\"date\": \"2013-05-05T00:00:00\", \"number of commits\": 67}, {\"date\": \"2013-02-17T00:00:00\", \"number of commits\": 67}, {\"date\": \"2015-05-17T00:00:00\", \"number of commits\": 67}, {\"date\": \"2008-04-08T00:00:00\", \"number of commits\": 67}, {\"date\": \"2012-02-04T00:00:00\", \"number of commits\": 67}, {\"date\": \"2014-06-29T00:00:00\", \"number of commits\": 67}, {\"date\": \"2009-10-16T00:00:00\", \"number of commits\": 66}, {\"date\": \"2009-08-25T00:00:00\", \"number of commits\": 66}, {\"date\": \"2009-09-30T00:00:00\", \"number of commits\": 66}, {\"date\": \"2008-11-23T00:00:00\", \"number of commits\": 66}, {\"date\": \"2008-09-19T00:00:00\", \"number of commits\": 66}, {\"date\": \"2009-08-21T00:00:00\", \"number of commits\": 66}, {\"date\": \"2012-09-09T00:00:00\", \"number of commits\": 66}, {\"date\": \"2014-12-31T00:00:00\", \"number of commits\": 66}, {\"date\": \"2011-04-08T00:00:00\", \"number of commits\": 66}, {\"date\": \"2014-04-12T00:00:00\", \"number of commits\": 66}, {\"date\": \"2014-04-06T00:00:00\", \"number of commits\": 66}, {\"date\": \"2009-05-13T00:00:00\", \"number of commits\": 66}, {\"date\": \"2007-07-13T00:00:00\", \"number of commits\": 66}, {\"date\": \"2015-01-11T00:00:00\", \"number of commits\": 65}, {\"date\": \"2009-10-11T00:00:00\", \"number of commits\": 65}, {\"date\": \"2007-03-10T00:00:00\", \"number of commits\": 65}, {\"date\": \"2009-02-12T00:00:00\", \"number of commits\": 65}, {\"date\": \"2008-09-10T00:00:00\", \"number of commits\": 65}, {\"date\": \"2009-06-07T00:00:00\", \"number of commits\": 65}, {\"date\": \"2005-11-01T00:00:00\", \"number of commits\": 65}, {\"date\": \"2011-09-02T00:00:00\", \"number of commits\": 65}, {\"date\": \"2007-08-17T00:00:00\", \"number of commits\": 65}, {\"date\": \"2008-07-01T00:00:00\", \"number of commits\": 65}, {\"date\": \"2013-05-26T00:00:00\", \"number of commits\": 65}, {\"date\": \"2015-08-01T00:00:00\", \"number of commits\": 65}, {\"date\": \"2007-03-20T00:00:00\", \"number of commits\": 65}, {\"date\": \"2012-02-18T00:00:00\", \"number of commits\": 65}, {\"date\": \"2009-07-14T00:00:00\", \"number of commits\": 64}, {\"date\": \"2009-06-30T00:00:00\", \"number of commits\": 64}, {\"date\": \"2008-06-11T00:00:00\", \"number of commits\": 64}, {\"date\": \"2009-03-14T00:00:00\", \"number of commits\": 64}, {\"date\": \"2005-11-03T00:00:00\", \"number of commits\": 64}, {\"date\": \"2012-02-05T00:00:00\", \"number of commits\": 64}, {\"date\": \"2012-06-16T00:00:00\", \"number of commits\": 64}, {\"date\": \"2015-12-27T00:00:00\", \"number of commits\": 64}, {\"date\": \"2008-05-16T00:00:00\", \"number of commits\": 64}, {\"date\": \"2012-02-26T00:00:00\", \"number of commits\": 64}, {\"date\": \"2006-10-31T00:00:00\", \"number of commits\": 64}, {\"date\": \"2010-08-26T00:00:00\", \"number of commits\": 64}, {\"date\": \"2012-03-31T00:00:00\", \"number of commits\": 64}, {\"date\": \"2007-08-11T00:00:00\", \"number of commits\": 64}, {\"date\": \"2013-02-09T00:00:00\", \"number of commits\": 63}, {\"date\": \"2005-11-30T00:00:00\", \"number of commits\": 63}, {\"date\": \"2010-10-16T00:00:00\", \"number of commits\": 63}, {\"date\": \"2007-11-26T00:00:00\", \"number of commits\": 63}, {\"date\": \"2008-02-13T00:00:00\", \"number of commits\": 63}, {\"date\": \"2009-07-04T00:00:00\", \"number of commits\": 63}, {\"date\": \"2012-04-22T00:00:00\", \"number of commits\": 63}, {\"date\": \"2013-12-08T00:00:00\", \"number of commits\": 63}, {\"date\": \"2015-02-22T00:00:00\", \"number of commits\": 63}, {\"date\": \"2012-11-24T00:00:00\", \"number of commits\": 63}, {\"date\": \"2008-09-21T00:00:00\", \"number of commits\": 63}, {\"date\": \"2007-08-14T00:00:00\", \"number of commits\": 63}, {\"date\": \"2006-06-12T00:00:00\", \"number of commits\": 63}, {\"date\": \"2009-09-07T00:00:00\", \"number of commits\": 63}, {\"date\": \"2015-07-04T00:00:00\", \"number of commits\": 62}, {\"date\": \"2012-11-10T00:00:00\", \"number of commits\": 62}, {\"date\": \"2011-12-03T00:00:00\", \"number of commits\": 62}, {\"date\": \"2013-06-30T00:00:00\", \"number of commits\": 62}, {\"date\": \"2011-05-07T00:00:00\", \"number of commits\": 62}, {\"date\": \"2009-02-28T00:00:00\", \"number of commits\": 62}, {\"date\": \"2011-06-25T00:00:00\", \"number of commits\": 62}, {\"date\": \"2008-06-23T00:00:00\", \"number of commits\": 62}, {\"date\": \"2009-11-21T00:00:00\", \"number of commits\": 62}, {\"date\": \"2005-09-02T00:00:00\", \"number of commits\": 62}, {\"date\": \"2010-11-28T00:00:00\", \"number of commits\": 62}, {\"date\": \"2006-02-10T00:00:00\", \"number of commits\": 62}, {\"date\": \"2010-09-19T00:00:00\", \"number of commits\": 62}, {\"date\": \"2014-07-20T00:00:00\", \"number of commits\": 62}, {\"date\": \"2009-09-06T00:00:00\", \"number of commits\": 62}, {\"date\": \"2011-04-17T00:00:00\", \"number of commits\": 62}, {\"date\": \"2015-08-29T00:00:00\", \"number of commits\": 62}, {\"date\": \"2009-10-20T00:00:00\", \"number of commits\": 62}, {\"date\": \"2006-05-21T00:00:00\", \"number of commits\": 62}, {\"date\": \"2007-03-27T00:00:00\", \"number of commits\": 62}, {\"date\": \"2008-04-03T00:00:00\", \"number of commits\": 62}, {\"date\": \"2014-05-31T00:00:00\", \"number of commits\": 61}, {\"date\": \"2013-01-13T00:00:00\", \"number of commits\": 61}, {\"date\": \"2006-08-03T00:00:00\", \"number of commits\": 61}, {\"date\": \"2009-03-08T00:00:00\", \"number of commits\": 61}, {\"date\": \"2011-04-01T00:00:00\", \"number of commits\": 61}, {\"date\": \"2011-12-28T00:00:00\", \"number of commits\": 61}, {\"date\": \"2005-05-13T00:00:00\", \"number of commits\": 61}, {\"date\": \"2005-06-01T00:00:00\", \"number of commits\": 61}, {\"date\": \"2005-12-13T00:00:00\", \"number of commits\": 61}, {\"date\": \"2005-09-28T00:00:00\", \"number of commits\": 61}, {\"date\": \"2006-08-30T00:00:00\", \"number of commits\": 61}, {\"date\": \"2009-08-30T00:00:00\", \"number of commits\": 61}, {\"date\": \"2012-12-28T00:00:00\", \"number of commits\": 61}, {\"date\": \"2008-08-28T00:00:00\", \"number of commits\": 61}, {\"date\": \"2013-04-13T00:00:00\", \"number of commits\": 61}, {\"date\": \"2006-11-29T00:00:00\", \"number of commits\": 61}, {\"date\": \"2007-09-20T00:00:00\", \"number of commits\": 61}, {\"date\": \"2009-05-02T00:00:00\", \"number of commits\": 61}, {\"date\": \"2006-05-02T00:00:00\", \"number of commits\": 61}, {\"date\": \"2008-04-10T00:00:00\", \"number of commits\": 61}, {\"date\": \"2011-09-01T00:00:00\", \"number of commits\": 60}, {\"date\": \"2014-05-10T00:00:00\", \"number of commits\": 60}, {\"date\": \"2009-01-23T00:00:00\", \"number of commits\": 60}, {\"date\": \"2007-11-28T00:00:00\", \"number of commits\": 60}, {\"date\": \"2008-11-16T00:00:00\", \"number of commits\": 60}, {\"date\": \"2007-04-19T00:00:00\", \"number of commits\": 60}, {\"date\": \"2016-01-17T00:00:00\", \"number of commits\": 60}, {\"date\": \"2012-03-25T00:00:00\", \"number of commits\": 60}, {\"date\": \"2008-03-12T00:00:00\", \"number of commits\": 60}, {\"date\": \"2013-12-01T00:00:00\", \"number of commits\": 60}, {\"date\": \"2015-02-15T00:00:00\", \"number of commits\": 60}, {\"date\": \"2010-07-14T00:00:00\", \"number of commits\": 60}, {\"date\": \"2008-08-08T00:00:00\", \"number of commits\": 60}, {\"date\": \"2007-09-23T00:00:00\", \"number of commits\": 60}, {\"date\": \"2006-10-14T00:00:00\", \"number of commits\": 60}, {\"date\": \"2006-10-12T00:00:00\", \"number of commits\": 60}, {\"date\": \"2006-11-22T00:00:00\", \"number of commits\": 60}, {\"date\": \"2014-05-24T00:00:00\", \"number of commits\": 60}, {\"date\": \"2007-05-06T00:00:00\", \"number of commits\": 60}, {\"date\": \"2008-01-09T00:00:00\", \"number of commits\": 60}, {\"date\": \"2007-05-29T00:00:00\", \"number of commits\": 60}, {\"date\": \"2015-09-19T00:00:00\", \"number of commits\": 59}, {\"date\": \"2012-07-29T00:00:00\", \"number of commits\": 59}, {\"date\": \"2007-10-04T00:00:00\", \"number of commits\": 59}, {\"date\": \"2010-01-28T00:00:00\", \"number of commits\": 59}, {\"date\": \"2010-09-13T00:00:00\", \"number of commits\": 59}, {\"date\": \"2015-09-26T00:00:00\", \"number of commits\": 59}, {\"date\": \"2012-11-18T00:00:00\", \"number of commits\": 59}, {\"date\": \"2005-06-26T00:00:00\", \"number of commits\": 59}, {\"date\": \"2005-10-20T00:00:00\", \"number of commits\": 59}, {\"date\": \"2007-11-13T00:00:00\", \"number of commits\": 59}, {\"date\": \"2007-06-20T00:00:00\", \"number of commits\": 59}, {\"date\": \"2014-11-01T00:00:00\", \"number of commits\": 59}, {\"date\": \"2006-04-24T00:00:00\", \"number of commits\": 59}, {\"date\": \"2012-12-26T00:00:00\", \"number of commits\": 59}, {\"date\": \"2007-01-23T00:00:00\", \"number of commits\": 59}, {\"date\": \"2005-09-17T00:00:00\", \"number of commits\": 59}, {\"date\": \"2005-07-06T00:00:00\", \"number of commits\": 59}, {\"date\": \"2006-10-19T00:00:00\", \"number of commits\": 59}, {\"date\": \"2012-10-13T00:00:00\", \"number of commits\": 59}, {\"date\": \"2006-12-30T00:00:00\", \"number of commits\": 59}, {\"date\": \"2014-10-17T00:00:00\", \"number of commits\": 58}, {\"date\": \"2008-11-27T00:00:00\", \"number of commits\": 58}, {\"date\": \"2005-05-04T00:00:00\", \"number of commits\": 58}, {\"date\": \"2010-04-03T00:00:00\", \"number of commits\": 58}, {\"date\": \"2009-07-11T00:00:00\", \"number of commits\": 58}, {\"date\": \"2005-07-30T00:00:00\", \"number of commits\": 58}, {\"date\": \"2007-08-25T00:00:00\", \"number of commits\": 58}, {\"date\": \"2006-04-01T00:00:00\", \"number of commits\": 58}, {\"date\": \"2016-06-19T00:00:00\", \"number of commits\": 58}, {\"date\": \"2008-09-02T00:00:00\", \"number of commits\": 58}, {\"date\": \"2010-07-01T00:00:00\", \"number of commits\": 58}, {\"date\": \"2015-05-16T00:00:00\", \"number of commits\": 58}, {\"date\": \"2012-08-18T00:00:00\", \"number of commits\": 58}, {\"date\": \"2014-03-16T00:00:00\", \"number of commits\": 58}, {\"date\": \"2009-04-09T00:00:00\", \"number of commits\": 58}, {\"date\": \"2014-11-30T00:00:00\", \"number of commits\": 58}, {\"date\": \"2011-09-03T00:00:00\", \"number of commits\": 58}, {\"date\": \"2011-11-26T00:00:00\", \"number of commits\": 58}, {\"date\": \"2007-03-23T00:00:00\", \"number of commits\": 58}, {\"date\": \"2006-08-27T00:00:00\", \"number of commits\": 58}, {\"date\": \"2005-11-12T00:00:00\", \"number of commits\": 58}, {\"date\": \"2007-08-01T00:00:00\", \"number of commits\": 57}, {\"date\": \"2006-11-16T00:00:00\", \"number of commits\": 57}, {\"date\": \"2009-08-06T00:00:00\", \"number of commits\": 57}, {\"date\": \"2011-11-05T00:00:00\", \"number of commits\": 57}, {\"date\": \"2015-09-07T00:00:00\", \"number of commits\": 57}, {\"date\": \"2005-10-26T00:00:00\", \"number of commits\": 57}, {\"date\": \"2012-03-17T00:00:00\", \"number of commits\": 57}, {\"date\": \"2010-07-31T00:00:00\", \"number of commits\": 57}, {\"date\": \"2013-09-14T00:00:00\", \"number of commits\": 57}, {\"date\": \"2008-03-24T00:00:00\", \"number of commits\": 57}, {\"date\": \"2010-05-01T00:00:00\", \"number of commits\": 56}, {\"date\": \"2009-05-30T00:00:00\", \"number of commits\": 56}, {\"date\": \"2013-07-21T00:00:00\", \"number of commits\": 56}, {\"date\": \"2007-06-07T00:00:00\", \"number of commits\": 56}, {\"date\": \"2009-04-18T00:00:00\", \"number of commits\": 56}, {\"date\": \"2006-10-30T00:00:00\", \"number of commits\": 56}, {\"date\": \"2007-12-14T00:00:00\", \"number of commits\": 56}, {\"date\": \"2012-11-25T00:00:00\", \"number of commits\": 56}, {\"date\": \"2008-03-19T00:00:00\", \"number of commits\": 56}, {\"date\": \"2006-05-24T00:00:00\", \"number of commits\": 56}, {\"date\": \"2007-03-02T00:00:00\", \"number of commits\": 56}, {\"date\": \"2005-07-26T00:00:00\", \"number of commits\": 56}, {\"date\": \"2005-07-14T00:00:00\", \"number of commits\": 56}, {\"date\": \"2005-04-29T00:00:00\", \"number of commits\": 56}, {\"date\": \"2014-10-18T00:00:00\", \"number of commits\": 55}, {\"date\": \"2009-08-11T00:00:00\", \"number of commits\": 55}, {\"date\": \"2007-03-14T00:00:00\", \"number of commits\": 55}, {\"date\": \"2013-03-03T00:00:00\", \"number of commits\": 55}, {\"date\": \"2006-11-13T00:00:00\", \"number of commits\": 55}, {\"date\": \"2006-04-13T00:00:00\", \"number of commits\": 55}, {\"date\": \"2016-04-10T00:00:00\", \"number of commits\": 55}, {\"date\": \"2011-03-13T00:00:00\", \"number of commits\": 55}, {\"date\": \"2009-04-05T00:00:00\", \"number of commits\": 55}, {\"date\": \"2010-06-10T00:00:00\", \"number of commits\": 55}, {\"date\": \"2007-03-04T00:00:00\", \"number of commits\": 55}, {\"date\": \"2007-04-17T00:00:00\", \"number of commits\": 55}, {\"date\": \"2014-02-02T00:00:00\", \"number of commits\": 54}, {\"date\": \"2010-03-30T00:00:00\", \"number of commits\": 54}, {\"date\": \"2008-11-14T00:00:00\", \"number of commits\": 54}, {\"date\": \"2014-12-14T00:00:00\", \"number of commits\": 54}, {\"date\": \"2015-07-05T00:00:00\", \"number of commits\": 54}, {\"date\": \"2007-05-16T00:00:00\", \"number of commits\": 54}, {\"date\": \"2008-11-08T00:00:00\", \"number of commits\": 54}, {\"date\": \"2009-10-24T00:00:00\", \"number of commits\": 54}, {\"date\": \"2005-06-21T00:00:00\", \"number of commits\": 54}, {\"date\": \"2014-01-01T00:00:00\", \"number of commits\": 54}, {\"date\": \"2007-12-06T00:00:00\", \"number of commits\": 54}, {\"date\": \"2016-06-11T00:00:00\", \"number of commits\": 54}, {\"date\": \"2008-05-31T00:00:00\", \"number of commits\": 54}, {\"date\": \"2013-08-31T00:00:00\", \"number of commits\": 54}, {\"date\": \"2006-08-29T00:00:00\", \"number of commits\": 54}, {\"date\": \"2007-12-17T00:00:00\", \"number of commits\": 54}, {\"date\": \"2006-02-21T00:00:00\", \"number of commits\": 54}, {\"date\": \"2007-07-14T00:00:00\", \"number of commits\": 54}, {\"date\": \"2009-05-17T00:00:00\", \"number of commits\": 53}, {\"date\": \"2007-08-02T00:00:00\", \"number of commits\": 53}, {\"date\": \"2011-08-16T00:00:00\", \"number of commits\": 53}, {\"date\": \"2011-11-06T00:00:00\", \"number of commits\": 53}, {\"date\": \"2008-05-09T00:00:00\", \"number of commits\": 53}, {\"date\": \"2006-08-31T00:00:00\", \"number of commits\": 53}, {\"date\": \"2006-10-16T00:00:00\", \"number of commits\": 53}, {\"date\": \"2005-11-16T00:00:00\", \"number of commits\": 53}, {\"date\": \"2008-04-04T00:00:00\", \"number of commits\": 53}, {\"date\": \"2011-09-17T00:00:00\", \"number of commits\": 53}, {\"date\": \"2008-05-26T00:00:00\", \"number of commits\": 53}, {\"date\": \"2006-03-30T00:00:00\", \"number of commits\": 53}, {\"date\": \"2012-08-11T00:00:00\", \"number of commits\": 53}, {\"date\": \"2005-08-17T00:00:00\", \"number of commits\": 53}, {\"date\": \"2007-09-14T00:00:00\", \"number of commits\": 53}, {\"date\": \"2013-11-23T00:00:00\", \"number of commits\": 52}, {\"date\": \"2010-11-05T00:00:00\", \"number of commits\": 52}, {\"date\": \"2009-01-19T00:00:00\", \"number of commits\": 52}, {\"date\": \"2010-09-03T00:00:00\", \"number of commits\": 52}, {\"date\": \"2005-07-11T00:00:00\", \"number of commits\": 52}, {\"date\": \"2006-04-12T00:00:00\", \"number of commits\": 52}, {\"date\": \"2008-05-29T00:00:00\", \"number of commits\": 52}, {\"date\": \"2011-04-22T00:00:00\", \"number of commits\": 52}, {\"date\": \"2008-05-18T00:00:00\", \"number of commits\": 52}, {\"date\": \"2012-09-01T00:00:00\", \"number of commits\": 52}, {\"date\": \"2011-06-18T00:00:00\", \"number of commits\": 52}, {\"date\": \"2008-01-11T00:00:00\", \"number of commits\": 52}, {\"date\": \"2007-05-12T00:00:00\", \"number of commits\": 52}, {\"date\": \"2007-10-26T00:00:00\", \"number of commits\": 52}, {\"date\": \"2014-11-15T00:00:00\", \"number of commits\": 52}, {\"date\": \"2005-09-29T00:00:00\", \"number of commits\": 52}, {\"date\": \"2009-07-16T00:00:00\", \"number of commits\": 52}, {\"date\": \"2005-06-19T00:00:00\", \"number of commits\": 52}, {\"date\": \"2007-03-29T00:00:00\", \"number of commits\": 52}, {\"date\": \"2014-06-22T00:00:00\", \"number of commits\": 51}, {\"date\": \"2010-04-15T00:00:00\", \"number of commits\": 51}, {\"date\": \"2007-10-31T00:00:00\", \"number of commits\": 51}, {\"date\": \"2009-02-21T00:00:00\", \"number of commits\": 51}, {\"date\": \"2008-05-04T00:00:00\", \"number of commits\": 51}, {\"date\": \"2008-08-16T00:00:00\", \"number of commits\": 51}, {\"date\": \"2007-04-11T00:00:00\", \"number of commits\": 51}, {\"date\": \"2005-08-05T00:00:00\", \"number of commits\": 51}, {\"date\": \"2010-01-22T00:00:00\", \"number of commits\": 51}, {\"date\": \"2005-10-11T00:00:00\", \"number of commits\": 51}, {\"date\": \"2012-12-15T00:00:00\", \"number of commits\": 51}, {\"date\": \"2013-11-16T00:00:00\", \"number of commits\": 51}, {\"date\": \"2013-03-09T00:00:00\", \"number of commits\": 51}, {\"date\": \"2007-11-10T00:00:00\", \"number of commits\": 51}, {\"date\": \"2007-05-22T00:00:00\", \"number of commits\": 51}, {\"date\": \"2008-02-22T00:00:00\", \"number of commits\": 51}, {\"date\": \"2015-06-27T00:00:00\", \"number of commits\": 50}, {\"date\": \"2011-10-23T00:00:00\", \"number of commits\": 50}, {\"date\": \"2011-07-16T00:00:00\", \"number of commits\": 50}, {\"date\": \"2007-09-13T00:00:00\", \"number of commits\": 50}, {\"date\": \"2008-03-10T00:00:00\", \"number of commits\": 50}, {\"date\": \"2009-08-12T00:00:00\", \"number of commits\": 50}, {\"date\": \"2007-11-09T00:00:00\", \"number of commits\": 50}, {\"date\": \"2015-09-06T00:00:00\", \"number of commits\": 50}, {\"date\": \"2009-07-09T00:00:00\", \"number of commits\": 50}, {\"date\": \"2006-02-12T00:00:00\", \"number of commits\": 50}, {\"date\": \"2008-01-17T00:00:00\", \"number of commits\": 50}, {\"date\": \"2007-09-26T00:00:00\", \"number of commits\": 50}, {\"date\": \"2008-12-21T00:00:00\", \"number of commits\": 50}, {\"date\": \"2014-12-20T00:00:00\", \"number of commits\": 50}, {\"date\": \"2014-03-30T00:00:00\", \"number of commits\": 50}, {\"date\": \"2012-08-25T00:00:00\", \"number of commits\": 50}, {\"date\": \"2007-11-19T00:00:00\", \"number of commits\": 50}, {\"date\": \"2009-04-11T00:00:00\", \"number of commits\": 50}, {\"date\": \"2011-05-14T00:00:00\", \"number of commits\": 50}, {\"date\": \"2005-11-22T00:00:00\", \"number of commits\": 50}, {\"date\": \"2005-09-27T00:00:00\", \"number of commits\": 50}, {\"date\": \"2011-02-05T00:00:00\", \"number of commits\": 49}, {\"date\": \"2010-08-08T00:00:00\", \"number of commits\": 49}, {\"date\": \"2010-06-21T00:00:00\", \"number of commits\": 49}, {\"date\": \"2011-01-22T00:00:00\", \"number of commits\": 49}, {\"date\": \"2011-05-31T00:00:00\", \"number of commits\": 49}, {\"date\": \"2014-04-19T00:00:00\", \"number of commits\": 49}, {\"date\": \"2008-10-05T00:00:00\", \"number of commits\": 49}, {\"date\": \"2006-01-07T00:00:00\", \"number of commits\": 49}, {\"date\": \"2007-11-17T00:00:00\", \"number of commits\": 49}, {\"date\": \"2012-01-22T00:00:00\", \"number of commits\": 49}, {\"date\": \"2006-11-06T00:00:00\", \"number of commits\": 49}, {\"date\": \"2011-11-20T00:00:00\", \"number of commits\": 49}, {\"date\": \"2010-04-05T00:00:00\", \"number of commits\": 49}, {\"date\": \"2006-09-11T00:00:00\", \"number of commits\": 49}, {\"date\": \"2006-10-28T00:00:00\", \"number of commits\": 49}, {\"date\": \"2007-11-02T00:00:00\", \"number of commits\": 49}, {\"date\": \"2008-05-21T00:00:00\", \"number of commits\": 49}, {\"date\": \"2015-11-29T00:00:00\", \"number of commits\": 48}, {\"date\": \"2012-01-14T00:00:00\", \"number of commits\": 48}, {\"date\": \"2009-04-19T00:00:00\", \"number of commits\": 48}, {\"date\": \"2009-01-18T00:00:00\", \"number of commits\": 48}, {\"date\": \"2009-02-15T00:00:00\", \"number of commits\": 48}, {\"date\": \"2012-02-11T00:00:00\", \"number of commits\": 48}, {\"date\": \"2010-11-03T00:00:00\", \"number of commits\": 48}, {\"date\": \"2010-06-28T00:00:00\", \"number of commits\": 48}, {\"date\": \"2011-03-20T00:00:00\", \"number of commits\": 48}, {\"date\": \"2005-11-29T00:00:00\", \"number of commits\": 48}, {\"date\": \"2006-04-28T00:00:00\", \"number of commits\": 48}, {\"date\": \"2005-10-17T00:00:00\", \"number of commits\": 48}, {\"date\": \"2011-07-30T00:00:00\", \"number of commits\": 48}, {\"date\": \"2012-01-15T00:00:00\", \"number of commits\": 48}, {\"date\": \"2007-04-25T00:00:00\", \"number of commits\": 48}, {\"date\": \"2005-08-27T00:00:00\", \"number of commits\": 48}, {\"date\": \"2006-04-26T00:00:00\", \"number of commits\": 48}, {\"date\": \"2007-05-30T00:00:00\", \"number of commits\": 48}, {\"date\": \"2007-06-09T00:00:00\", \"number of commits\": 48}, {\"date\": \"2005-07-13T00:00:00\", \"number of commits\": 48}, {\"date\": \"2005-11-28T00:00:00\", \"number of commits\": 48}, {\"date\": \"2007-04-21T00:00:00\", \"number of commits\": 48}, {\"date\": \"2009-07-13T00:00:00\", \"number of commits\": 47}, {\"date\": \"2007-08-24T00:00:00\", \"number of commits\": 47}, {\"date\": \"2007-12-21T00:00:00\", \"number of commits\": 47}, {\"date\": \"2006-05-04T00:00:00\", \"number of commits\": 47}, {\"date\": \"2011-11-13T00:00:00\", \"number of commits\": 47}, {\"date\": \"2011-07-17T00:00:00\", \"number of commits\": 47}, {\"date\": \"2005-07-31T00:00:00\", \"number of commits\": 47}, {\"date\": \"2012-12-23T00:00:00\", \"number of commits\": 47}, {\"date\": \"2007-03-22T00:00:00\", \"number of commits\": 47}, {\"date\": \"2015-08-23T00:00:00\", \"number of commits\": 47}, {\"date\": \"2014-12-28T00:00:00\", \"number of commits\": 47}, {\"date\": \"2012-07-07T00:00:00\", \"number of commits\": 47}, {\"date\": \"2013-02-23T00:00:00\", \"number of commits\": 47}, {\"date\": \"2007-02-18T00:00:00\", \"number of commits\": 47}, {\"date\": \"2013-05-04T00:00:00\", \"number of commits\": 47}, {\"date\": \"2006-04-25T00:00:00\", \"number of commits\": 47}, {\"date\": \"2005-08-02T00:00:00\", \"number of commits\": 47}, {\"date\": \"2006-03-08T00:00:00\", \"number of commits\": 47}, {\"date\": \"2005-08-04T00:00:00\", \"number of commits\": 47}, {\"date\": \"2008-06-22T00:00:00\", \"number of commits\": 47}, {\"date\": \"2008-09-12T00:00:00\", \"number of commits\": 47}, {\"date\": \"2009-03-29T00:00:00\", \"number of commits\": 47}, {\"date\": \"2010-12-31T00:00:00\", \"number of commits\": 46}, {\"date\": \"2014-12-26T00:00:00\", \"number of commits\": 46}, {\"date\": \"2006-08-24T00:00:00\", \"number of commits\": 46}, {\"date\": \"2010-10-02T00:00:00\", \"number of commits\": 46}, {\"date\": \"2006-05-16T00:00:00\", \"number of commits\": 46}, {\"date\": \"2012-08-19T00:00:00\", \"number of commits\": 46}, {\"date\": \"2009-02-14T00:00:00\", \"number of commits\": 46}, {\"date\": \"2010-07-17T00:00:00\", \"number of commits\": 46}, {\"date\": \"2010-04-29T00:00:00\", \"number of commits\": 46}, {\"date\": \"2012-08-12T00:00:00\", \"number of commits\": 46}, {\"date\": \"2005-10-19T00:00:00\", \"number of commits\": 46}, {\"date\": \"2006-04-21T00:00:00\", \"number of commits\": 46}, {\"date\": \"2007-01-27T00:00:00\", \"number of commits\": 46}, {\"date\": \"2016-05-29T00:00:00\", \"number of commits\": 46}, {\"date\": \"2014-03-22T00:00:00\", \"number of commits\": 46}, {\"date\": \"2014-10-04T00:00:00\", \"number of commits\": 46}, {\"date\": \"2007-11-21T00:00:00\", \"number of commits\": 46}, {\"date\": \"2007-02-04T00:00:00\", \"number of commits\": 46}, {\"date\": \"2008-02-20T00:00:00\", \"number of commits\": 46}, {\"date\": \"2005-08-18T00:00:00\", \"number of commits\": 46}, {\"date\": \"2008-05-28T00:00:00\", \"number of commits\": 46}, {\"date\": \"2006-11-01T00:00:00\", \"number of commits\": 46}, {\"date\": \"2013-03-10T00:00:00\", \"number of commits\": 46}, {\"date\": \"2007-06-29T00:00:00\", \"number of commits\": 46}, {\"date\": \"2007-09-12T00:00:00\", \"number of commits\": 46}, {\"date\": \"2016-06-05T00:00:00\", \"number of commits\": 45}, {\"date\": \"2010-03-27T00:00:00\", \"number of commits\": 45}, {\"date\": \"2006-08-14T00:00:00\", \"number of commits\": 45}, {\"date\": \"2010-06-25T00:00:00\", \"number of commits\": 45}, {\"date\": \"2008-07-06T00:00:00\", \"number of commits\": 45}, {\"date\": \"2011-06-04T00:00:00\", \"number of commits\": 45}, {\"date\": \"2006-04-18T00:00:00\", \"number of commits\": 45}, {\"date\": \"2005-09-01T00:00:00\", \"number of commits\": 45}, {\"date\": \"2006-04-22T00:00:00\", \"number of commits\": 45}, {\"date\": \"2006-12-05T00:00:00\", \"number of commits\": 45}, {\"date\": \"2007-07-23T00:00:00\", \"number of commits\": 45}, {\"date\": \"2008-07-19T00:00:00\", \"number of commits\": 45}, {\"date\": \"2010-08-15T00:00:00\", \"number of commits\": 45}, {\"date\": \"2010-05-15T00:00:00\", \"number of commits\": 45}, {\"date\": \"2007-03-28T00:00:00\", \"number of commits\": 45}, {\"date\": \"2006-09-17T00:00:00\", \"number of commits\": 45}, {\"date\": \"2006-07-04T00:00:00\", \"number of commits\": 45}, {\"date\": \"2006-02-14T00:00:00\", \"number of commits\": 45}, {\"date\": \"2011-05-30T00:00:00\", \"number of commits\": 45}, {\"date\": \"2015-06-14T00:00:00\", \"number of commits\": 45}, {\"date\": \"2008-02-28T00:00:00\", \"number of commits\": 45}, {\"date\": \"2011-09-05T00:00:00\", \"number of commits\": 44}, {\"date\": \"2009-09-13T00:00:00\", \"number of commits\": 44}, {\"date\": \"2009-12-31T00:00:00\", \"number of commits\": 44}, {\"date\": \"2008-03-21T00:00:00\", \"number of commits\": 44}, {\"date\": \"2009-03-21T00:00:00\", \"number of commits\": 44}, {\"date\": \"2010-02-20T00:00:00\", \"number of commits\": 44}, {\"date\": \"2005-09-16T00:00:00\", \"number of commits\": 44}, {\"date\": \"2007-08-15T00:00:00\", \"number of commits\": 44}, {\"date\": \"2012-06-09T00:00:00\", \"number of commits\": 44}, {\"date\": \"2006-07-21T00:00:00\", \"number of commits\": 44}, {\"date\": \"2010-08-28T00:00:00\", \"number of commits\": 44}, {\"date\": \"2007-04-23T00:00:00\", \"number of commits\": 44}, {\"date\": \"2010-11-04T00:00:00\", \"number of commits\": 44}, {\"date\": \"2005-07-05T00:00:00\", \"number of commits\": 44}, {\"date\": \"2008-09-01T00:00:00\", \"number of commits\": 44}, {\"date\": \"2011-07-09T00:00:00\", \"number of commits\": 43}, {\"date\": \"2007-02-23T00:00:00\", \"number of commits\": 43}, {\"date\": \"2011-02-26T00:00:00\", \"number of commits\": 43}, {\"date\": \"2009-01-31T00:00:00\", \"number of commits\": 43}, {\"date\": \"2008-02-25T00:00:00\", \"number of commits\": 43}, {\"date\": \"2007-12-19T00:00:00\", \"number of commits\": 43}, {\"date\": \"2015-09-20T00:00:00\", \"number of commits\": 43}, {\"date\": \"2016-05-15T00:00:00\", \"number of commits\": 43}, {\"date\": \"2008-04-09T00:00:00\", \"number of commits\": 43}, {\"date\": \"2005-11-20T00:00:00\", \"number of commits\": 43}, {\"date\": \"2005-08-11T00:00:00\", \"number of commits\": 43}, {\"date\": \"2016-06-18T00:00:00\", \"number of commits\": 43}, {\"date\": \"2006-12-09T00:00:00\", \"number of commits\": 43}, {\"date\": \"2014-06-14T00:00:00\", \"number of commits\": 43}, {\"date\": \"2008-07-05T00:00:00\", \"number of commits\": 43}, {\"date\": \"2007-05-15T00:00:00\", \"number of commits\": 43}, {\"date\": \"2016-01-31T00:00:00\", \"number of commits\": 43}, {\"date\": \"2011-05-15T00:00:00\", \"number of commits\": 43}, {\"date\": \"2015-12-25T00:00:00\", \"number of commits\": 43}, {\"date\": \"2007-05-19T00:00:00\", \"number of commits\": 43}, {\"date\": \"2007-12-01T00:00:00\", \"number of commits\": 43}, {\"date\": \"2006-10-08T00:00:00\", \"number of commits\": 43}, {\"date\": \"2007-12-03T00:00:00\", \"number of commits\": 43}, {\"date\": \"2007-07-06T00:00:00\", \"number of commits\": 43}, {\"date\": \"2007-01-22T00:00:00\", \"number of commits\": 42}, {\"date\": \"2008-09-13T00:00:00\", \"number of commits\": 42}, {\"date\": \"2006-05-08T00:00:00\", \"number of commits\": 42}, {\"date\": \"2006-02-09T00:00:00\", \"number of commits\": 42}, {\"date\": \"2006-05-19T00:00:00\", \"number of commits\": 42}, {\"date\": \"2007-12-12T00:00:00\", \"number of commits\": 42}, {\"date\": \"2010-09-25T00:00:00\", \"number of commits\": 42}, {\"date\": \"2010-07-18T00:00:00\", \"number of commits\": 42}, {\"date\": \"2013-08-11T00:00:00\", \"number of commits\": 42}, {\"date\": \"2013-10-26T00:00:00\", \"number of commits\": 42}, {\"date\": \"2006-10-05T00:00:00\", \"number of commits\": 42}, {\"date\": \"2007-02-02T00:00:00\", \"number of commits\": 42}, {\"date\": \"2007-11-11T00:00:00\", \"number of commits\": 42}, {\"date\": \"2007-12-04T00:00:00\", \"number of commits\": 41}, {\"date\": \"2015-05-03T00:00:00\", \"number of commits\": 41}, {\"date\": \"2012-08-29T00:00:00\", \"number of commits\": 41}, {\"date\": \"2012-05-26T00:00:00\", \"number of commits\": 41}, {\"date\": \"2011-04-24T00:00:00\", \"number of commits\": 41}, {\"date\": \"2005-04-22T00:00:00\", \"number of commits\": 41}, {\"date\": \"2007-03-11T00:00:00\", \"number of commits\": 41}, {\"date\": \"2013-09-08T00:00:00\", \"number of commits\": 41}, {\"date\": \"2010-09-11T00:00:00\", \"number of commits\": 41}, {\"date\": \"2007-06-26T00:00:00\", \"number of commits\": 41}, {\"date\": \"2007-12-26T00:00:00\", \"number of commits\": 41}, {\"date\": \"2008-03-29T00:00:00\", \"number of commits\": 41}, {\"date\": \"2014-10-05T00:00:00\", \"number of commits\": 41}, {\"date\": \"2005-09-11T00:00:00\", \"number of commits\": 41}, {\"date\": \"2013-10-05T00:00:00\", \"number of commits\": 41}, {\"date\": \"2013-11-03T00:00:00\", \"number of commits\": 41}, {\"date\": \"2015-08-02T00:00:00\", \"number of commits\": 41}, {\"date\": \"2009-05-03T00:00:00\", \"number of commits\": 41}, {\"date\": \"2013-06-23T00:00:00\", \"number of commits\": 41}, {\"date\": \"2011-05-21T00:00:00\", \"number of commits\": 41}, {\"date\": \"2007-11-03T00:00:00\", \"number of commits\": 41}, {\"date\": \"2006-12-26T00:00:00\", \"number of commits\": 41}, {\"date\": \"2008-03-18T00:00:00\", \"number of commits\": 41}, {\"date\": \"2007-05-27T00:00:00\", \"number of commits\": 41}, {\"date\": \"2011-09-24T00:00:00\", \"number of commits\": 40}, {\"date\": \"2011-08-20T00:00:00\", \"number of commits\": 40}, {\"date\": \"2008-09-14T00:00:00\", \"number of commits\": 40}, {\"date\": \"2009-10-03T00:00:00\", \"number of commits\": 40}, {\"date\": \"2006-05-01T00:00:00\", \"number of commits\": 40}, {\"date\": \"2005-05-26T00:00:00\", \"number of commits\": 40}, {\"date\": \"2011-03-06T00:00:00\", \"number of commits\": 40}, {\"date\": \"2014-06-15T00:00:00\", \"number of commits\": 40}, {\"date\": \"2008-01-21T00:00:00\", \"number of commits\": 40}, {\"date\": \"2008-11-02T00:00:00\", \"number of commits\": 40}, {\"date\": \"2009-10-04T00:00:00\", \"number of commits\": 40}, {\"date\": \"2010-07-15T00:00:00\", \"number of commits\": 40}, {\"date\": \"2008-05-17T00:00:00\", \"number of commits\": 40}, {\"date\": \"2006-01-30T00:00:00\", \"number of commits\": 40}, {\"date\": \"2006-05-27T00:00:00\", \"number of commits\": 40}, {\"date\": \"2006-03-07T00:00:00\", \"number of commits\": 40}, {\"date\": \"2010-06-26T00:00:00\", \"number of commits\": 40}, {\"date\": \"2005-06-08T00:00:00\", \"number of commits\": 40}, {\"date\": \"2012-07-28T00:00:00\", \"number of commits\": 39}, {\"date\": \"2011-02-13T00:00:00\", \"number of commits\": 39}, {\"date\": \"2009-07-31T00:00:00\", \"number of commits\": 39}, {\"date\": \"2005-04-18T00:00:00\", \"number of commits\": 39}, {\"date\": \"2009-08-23T00:00:00\", \"number of commits\": 39}, {\"date\": \"2006-07-28T00:00:00\", \"number of commits\": 39}, {\"date\": \"2006-07-06T00:00:00\", \"number of commits\": 39}, {\"date\": \"2005-07-10T00:00:00\", \"number of commits\": 39}, {\"date\": \"2005-11-13T00:00:00\", \"number of commits\": 39}, {\"date\": \"2007-10-02T00:00:00\", \"number of commits\": 39}, {\"date\": \"2006-06-15T00:00:00\", \"number of commits\": 39}, {\"date\": \"2005-09-26T00:00:00\", \"number of commits\": 39}, {\"date\": \"2007-08-10T00:00:00\", \"number of commits\": 39}, {\"date\": \"2015-01-01T00:00:00\", \"number of commits\": 39}, {\"date\": \"2008-09-16T00:00:00\", \"number of commits\": 39}, {\"date\": \"2010-02-13T00:00:00\", \"number of commits\": 39}, {\"date\": \"2011-09-08T00:00:00\", \"number of commits\": 39}, {\"date\": \"2006-10-09T00:00:00\", \"number of commits\": 39}, {\"date\": \"2006-03-11T00:00:00\", \"number of commits\": 39}, {\"date\": \"2005-11-24T00:00:00\", \"number of commits\": 39}, {\"date\": \"2006-07-09T00:00:00\", \"number of commits\": 39}, {\"date\": \"2007-10-21T00:00:00\", \"number of commits\": 39}, {\"date\": \"2005-06-06T00:00:00\", \"number of commits\": 39}, {\"date\": \"2006-01-16T00:00:00\", \"number of commits\": 38}, {\"date\": \"2009-05-04T00:00:00\", \"number of commits\": 38}, {\"date\": \"2008-12-20T00:00:00\", \"number of commits\": 38}, {\"date\": \"2009-06-06T00:00:00\", \"number of commits\": 38}, {\"date\": \"2012-03-18T00:00:00\", \"number of commits\": 38}, {\"date\": \"2005-08-23T00:00:00\", \"number of commits\": 38}, {\"date\": \"2007-03-16T00:00:00\", \"number of commits\": 38}, {\"date\": \"2007-12-24T00:00:00\", \"number of commits\": 38}, {\"date\": \"2008-01-18T00:00:00\", \"number of commits\": 38}, {\"date\": \"2005-09-19T00:00:00\", \"number of commits\": 38}, {\"date\": \"2007-08-07T00:00:00\", \"number of commits\": 38}, {\"date\": \"2010-03-14T00:00:00\", \"number of commits\": 38}, {\"date\": \"2013-07-07T00:00:00\", \"number of commits\": 38}, {\"date\": \"2006-05-30T00:00:00\", \"number of commits\": 38}, {\"date\": \"2007-11-01T00:00:00\", \"number of commits\": 38}, {\"date\": \"2007-06-24T00:00:00\", \"number of commits\": 38}, {\"date\": \"2007-04-02T00:00:00\", \"number of commits\": 38}, {\"date\": \"2011-09-10T00:00:00\", \"number of commits\": 37}, {\"date\": \"2009-09-29T00:00:00\", \"number of commits\": 37}, {\"date\": \"2010-09-04T00:00:00\", \"number of commits\": 37}, {\"date\": \"2006-09-01T00:00:00\", \"number of commits\": 37}, {\"date\": \"2012-04-29T00:00:00\", \"number of commits\": 37}, {\"date\": \"2005-10-07T00:00:00\", \"number of commits\": 37}, {\"date\": \"2008-04-11T00:00:00\", \"number of commits\": 37}, {\"date\": \"2005-08-26T00:00:00\", \"number of commits\": 37}, {\"date\": \"2009-09-27T00:00:00\", \"number of commits\": 37}, {\"date\": \"2006-12-16T00:00:00\", \"number of commits\": 37}, {\"date\": \"2010-12-28T00:00:00\", \"number of commits\": 37}, {\"date\": \"2010-08-22T00:00:00\", \"number of commits\": 37}, {\"date\": \"2010-04-24T00:00:00\", \"number of commits\": 37}, {\"date\": \"2010-06-05T00:00:00\", \"number of commits\": 37}, {\"date\": \"2007-05-18T00:00:00\", \"number of commits\": 37}, {\"date\": \"2006-04-09T00:00:00\", \"number of commits\": 37}, {\"date\": \"2006-11-09T00:00:00\", \"number of commits\": 37}, {\"date\": \"2006-08-08T00:00:00\", \"number of commits\": 37}, {\"date\": \"2007-04-01T00:00:00\", \"number of commits\": 37}, {\"date\": \"2010-10-17T00:00:00\", \"number of commits\": 36}, {\"date\": \"2008-08-23T00:00:00\", \"number of commits\": 36}, {\"date\": \"2008-12-28T00:00:00\", \"number of commits\": 36}, {\"date\": \"2009-08-16T00:00:00\", \"number of commits\": 36}, {\"date\": \"2005-12-24T00:00:00\", \"number of commits\": 36}, {\"date\": \"2013-07-13T00:00:00\", \"number of commits\": 36}, {\"date\": \"2014-10-11T00:00:00\", \"number of commits\": 36}, {\"date\": \"2006-12-18T00:00:00\", \"number of commits\": 36}, {\"date\": \"2007-06-04T00:00:00\", \"number of commits\": 36}, {\"date\": \"2009-05-16T00:00:00\", \"number of commits\": 36}, {\"date\": \"2012-12-30T00:00:00\", \"number of commits\": 36}, {\"date\": \"2013-05-11T00:00:00\", \"number of commits\": 36}, {\"date\": \"2013-03-16T00:00:00\", \"number of commits\": 36}, {\"date\": \"2006-05-17T00:00:00\", \"number of commits\": 36}, {\"date\": \"2006-10-26T00:00:00\", \"number of commits\": 36}, {\"date\": \"2014-08-24T00:00:00\", \"number of commits\": 36}, {\"date\": \"2009-12-27T00:00:00\", \"number of commits\": 36}, {\"date\": \"2012-02-12T00:00:00\", \"number of commits\": 35}, {\"date\": \"2010-11-02T00:00:00\", \"number of commits\": 35}, {\"date\": \"2014-11-29T00:00:00\", \"number of commits\": 35}, {\"date\": \"2012-10-20T00:00:00\", \"number of commits\": 35}, {\"date\": \"2010-11-20T00:00:00\", \"number of commits\": 35}, {\"date\": \"2011-12-29T00:00:00\", \"number of commits\": 35}, {\"date\": \"2010-12-18T00:00:00\", \"number of commits\": 35}, {\"date\": \"2008-10-26T00:00:00\", \"number of commits\": 35}, {\"date\": \"2006-01-22T00:00:00\", \"number of commits\": 35}, {\"date\": \"2007-08-12T00:00:00\", \"number of commits\": 35}, {\"date\": \"2011-04-10T00:00:00\", \"number of commits\": 35}, {\"date\": \"2007-09-25T00:00:00\", \"number of commits\": 35}, {\"date\": \"2005-08-28T00:00:00\", \"number of commits\": 35}, {\"date\": \"2007-06-02T00:00:00\", \"number of commits\": 35}, {\"date\": \"2006-05-26T00:00:00\", \"number of commits\": 35}, {\"date\": \"2007-03-03T00:00:00\", \"number of commits\": 35}, {\"date\": \"2008-06-21T00:00:00\", \"number of commits\": 35}, {\"date\": \"2012-06-02T00:00:00\", \"number of commits\": 35}, {\"date\": \"2006-06-08T00:00:00\", \"number of commits\": 35}, {\"date\": \"2007-07-27T00:00:00\", \"number of commits\": 35}, {\"date\": \"2005-08-10T00:00:00\", \"number of commits\": 35}, {\"date\": \"2015-04-19T00:00:00\", \"number of commits\": 35}, {\"date\": \"2006-09-19T00:00:00\", \"number of commits\": 35}, {\"date\": \"2009-07-25T00:00:00\", \"number of commits\": 35}, {\"date\": \"2010-01-23T00:00:00\", \"number of commits\": 35}, {\"date\": \"2010-03-20T00:00:00\", \"number of commits\": 35}, {\"date\": \"2008-12-06T00:00:00\", \"number of commits\": 35}, {\"date\": \"2005-04-26T00:00:00\", \"number of commits\": 35}, {\"date\": \"2012-04-28T00:00:00\", \"number of commits\": 35}, {\"date\": \"2014-10-12T00:00:00\", \"number of commits\": 34}, {\"date\": \"2010-09-06T00:00:00\", \"number of commits\": 34}, {\"date\": \"2011-10-22T00:00:00\", \"number of commits\": 34}, {\"date\": \"2008-07-13T00:00:00\", \"number of commits\": 34}, {\"date\": \"2010-05-29T00:00:00\", \"number of commits\": 34}, {\"date\": \"2009-07-18T00:00:00\", \"number of commits\": 34}, {\"date\": \"2005-10-05T00:00:00\", \"number of commits\": 34}, {\"date\": \"2005-08-15T00:00:00\", \"number of commits\": 34}, {\"date\": \"2006-02-02T00:00:00\", \"number of commits\": 34}, {\"date\": \"2005-10-27T00:00:00\", \"number of commits\": 34}, {\"date\": \"2011-01-15T00:00:00\", \"number of commits\": 34}, {\"date\": \"2007-06-17T00:00:00\", \"number of commits\": 34}, {\"date\": \"2007-08-30T00:00:00\", \"number of commits\": 34}, {\"date\": \"2011-12-24T00:00:00\", \"number of commits\": 34}, {\"date\": \"2012-12-08T00:00:00\", \"number of commits\": 34}, {\"date\": \"2006-05-05T00:00:00\", \"number of commits\": 34}, {\"date\": \"2007-11-12T00:00:00\", \"number of commits\": 34}, {\"date\": \"2006-03-18T00:00:00\", \"number of commits\": 34}, {\"date\": \"2005-09-20T00:00:00\", \"number of commits\": 34}, {\"date\": \"2016-06-12T00:00:00\", \"number of commits\": 34}, {\"date\": \"2006-04-30T00:00:00\", \"number of commits\": 34}, {\"date\": \"2008-03-30T00:00:00\", \"number of commits\": 34}, {\"date\": \"2009-10-21T00:00:00\", \"number of commits\": 33}, {\"date\": \"2008-09-26T00:00:00\", \"number of commits\": 33}, {\"date\": \"2006-01-24T00:00:00\", \"number of commits\": 33}, {\"date\": \"2006-11-28T00:00:00\", \"number of commits\": 33}, {\"date\": \"2005-05-15T00:00:00\", \"number of commits\": 33}, {\"date\": \"2005-05-25T00:00:00\", \"number of commits\": 33}, {\"date\": \"2007-03-13T00:00:00\", \"number of commits\": 33}, {\"date\": \"2012-10-14T00:00:00\", \"number of commits\": 33}, {\"date\": \"2012-08-26T00:00:00\", \"number of commits\": 33}, {\"date\": \"2015-06-28T00:00:00\", \"number of commits\": 33}, {\"date\": \"2007-01-04T00:00:00\", \"number of commits\": 33}, {\"date\": \"2012-12-16T00:00:00\", \"number of commits\": 33}, {\"date\": \"2007-06-21T00:00:00\", \"number of commits\": 33}, {\"date\": \"2007-11-06T00:00:00\", \"number of commits\": 33}, {\"date\": \"2008-01-22T00:00:00\", \"number of commits\": 33}, {\"date\": \"2010-08-29T00:00:00\", \"number of commits\": 33}, {\"date\": \"2012-06-10T00:00:00\", \"number of commits\": 33}, {\"date\": \"2007-07-21T00:00:00\", \"number of commits\": 33}, {\"date\": \"2011-02-06T00:00:00\", \"number of commits\": 33}, {\"date\": \"2010-12-05T00:00:00\", \"number of commits\": 33}, {\"date\": \"2007-01-13T00:00:00\", \"number of commits\": 33}, {\"date\": \"2010-11-27T00:00:00\", \"number of commits\": 33}, {\"date\": \"2006-08-16T00:00:00\", \"number of commits\": 32}, {\"date\": \"2007-01-08T00:00:00\", \"number of commits\": 32}, {\"date\": \"2013-04-20T00:00:00\", \"number of commits\": 32}, {\"date\": \"2008-01-15T00:00:00\", \"number of commits\": 32}, {\"date\": \"2005-12-20T00:00:00\", \"number of commits\": 32}, {\"date\": \"2007-08-20T00:00:00\", \"number of commits\": 32}, {\"date\": \"2013-12-25T00:00:00\", \"number of commits\": 32}, {\"date\": \"2013-09-15T00:00:00\", \"number of commits\": 32}, {\"date\": \"2008-02-27T00:00:00\", \"number of commits\": 32}, {\"date\": \"2008-02-16T00:00:00\", \"number of commits\": 32}, {\"date\": \"2010-06-06T00:00:00\", \"number of commits\": 32}, {\"date\": \"2005-04-28T00:00:00\", \"number of commits\": 32}, {\"date\": \"2006-08-09T00:00:00\", \"number of commits\": 32}, {\"date\": \"2008-05-11T00:00:00\", \"number of commits\": 32}, {\"date\": \"2013-04-06T00:00:00\", \"number of commits\": 32}, {\"date\": \"2007-11-04T00:00:00\", \"number of commits\": 32}, {\"date\": \"2011-11-12T00:00:00\", \"number of commits\": 32}, {\"date\": \"2008-10-02T00:00:00\", \"number of commits\": 32}, {\"date\": \"2010-12-19T00:00:00\", \"number of commits\": 31}, {\"date\": \"2009-10-22T00:00:00\", \"number of commits\": 31}, {\"date\": \"2007-06-12T00:00:00\", \"number of commits\": 31}, {\"date\": \"2009-10-23T00:00:00\", \"number of commits\": 31}, {\"date\": \"2007-05-25T00:00:00\", \"number of commits\": 31}, {\"date\": \"2005-10-12T00:00:00\", \"number of commits\": 31}, {\"date\": \"2012-06-24T00:00:00\", \"number of commits\": 31}, {\"date\": \"2013-06-02T00:00:00\", \"number of commits\": 31}, {\"date\": \"2005-12-05T00:00:00\", \"number of commits\": 31}, {\"date\": \"2007-05-04T00:00:00\", \"number of commits\": 31}, {\"date\": \"2006-09-18T00:00:00\", \"number of commits\": 31}, {\"date\": \"2006-09-06T00:00:00\", \"number of commits\": 31}, {\"date\": \"2007-07-02T00:00:00\", \"number of commits\": 31}, {\"date\": \"2007-10-01T00:00:00\", \"number of commits\": 31}, {\"date\": \"2010-07-24T00:00:00\", \"number of commits\": 31}, {\"date\": \"2006-02-19T00:00:00\", \"number of commits\": 31}, {\"date\": \"2007-10-08T00:00:00\", \"number of commits\": 31}, {\"date\": \"2006-11-25T00:00:00\", \"number of commits\": 31}, {\"date\": \"2007-09-28T00:00:00\", \"number of commits\": 31}, {\"date\": \"2007-01-31T00:00:00\", \"number of commits\": 31}, {\"date\": \"2009-11-15T00:00:00\", \"number of commits\": 30}, {\"date\": \"2011-02-20T00:00:00\", \"number of commits\": 30}, {\"date\": \"2010-06-19T00:00:00\", \"number of commits\": 30}, {\"date\": \"2005-05-31T00:00:00\", \"number of commits\": 30}, {\"date\": \"2009-04-12T00:00:00\", \"number of commits\": 30}, {\"date\": \"2005-09-04T00:00:00\", \"number of commits\": 30}, {\"date\": \"2010-05-23T00:00:00\", \"number of commits\": 30}, {\"date\": \"2007-09-10T00:00:00\", \"number of commits\": 30}, {\"date\": \"2015-09-12T00:00:00\", \"number of commits\": 30}, {\"date\": \"2015-04-25T00:00:00\", \"number of commits\": 30}, {\"date\": \"2006-06-11T00:00:00\", \"number of commits\": 30}, {\"date\": \"2005-12-16T00:00:00\", \"number of commits\": 30}, {\"date\": \"2006-02-13T00:00:00\", \"number of commits\": 30}, {\"date\": \"2006-07-27T00:00:00\", \"number of commits\": 30}, {\"date\": \"2006-03-05T00:00:00\", \"number of commits\": 30}, {\"date\": \"2006-11-14T00:00:00\", \"number of commits\": 30}, {\"date\": \"2006-02-06T00:00:00\", \"number of commits\": 30}, {\"date\": \"2006-12-27T00:00:00\", \"number of commits\": 30}, {\"date\": \"2008-06-28T00:00:00\", \"number of commits\": 30}, {\"date\": \"2006-02-04T00:00:00\", \"number of commits\": 30}, {\"date\": \"2007-06-16T00:00:00\", \"number of commits\": 30}, {\"date\": \"2009-07-26T00:00:00\", \"number of commits\": 29}, {\"date\": \"2010-04-04T00:00:00\", \"number of commits\": 29}, {\"date\": \"2005-06-03T00:00:00\", \"number of commits\": 29}, {\"date\": \"2006-05-09T00:00:00\", \"number of commits\": 29}, {\"date\": \"2007-03-19T00:00:00\", \"number of commits\": 29}, {\"date\": \"2011-06-05T00:00:00\", \"number of commits\": 29}, {\"date\": \"2009-01-10T00:00:00\", \"number of commits\": 29}, {\"date\": \"2009-11-29T00:00:00\", \"number of commits\": 29}, {\"date\": \"2006-09-07T00:00:00\", \"number of commits\": 29}, {\"date\": \"2005-10-21T00:00:00\", \"number of commits\": 29}, {\"date\": \"2006-07-25T00:00:00\", \"number of commits\": 29}, {\"date\": \"2014-10-19T00:00:00\", \"number of commits\": 29}, {\"date\": \"2009-12-29T00:00:00\", \"number of commits\": 29}, {\"date\": \"2010-07-25T00:00:00\", \"number of commits\": 29}, {\"date\": \"2007-10-27T00:00:00\", \"number of commits\": 29}, {\"date\": \"2010-06-12T00:00:00\", \"number of commits\": 29}, {\"date\": \"2007-09-27T00:00:00\", \"number of commits\": 29}, {\"date\": \"2005-08-03T00:00:00\", \"number of commits\": 29}, {\"date\": \"2011-08-28T00:00:00\", \"number of commits\": 29}, {\"date\": \"2010-06-27T00:00:00\", \"number of commits\": 29}, {\"date\": \"2010-11-13T00:00:00\", \"number of commits\": 29}, {\"date\": \"2006-02-22T00:00:00\", \"number of commits\": 29}, {\"date\": \"2007-02-15T00:00:00\", \"number of commits\": 29}, {\"date\": \"2009-12-19T00:00:00\", \"number of commits\": 29}, {\"date\": \"2005-07-25T00:00:00\", \"number of commits\": 29}, {\"date\": \"2005-10-03T00:00:00\", \"number of commits\": 29}, {\"date\": \"2014-12-07T00:00:00\", \"number of commits\": 29}, {\"date\": \"2006-05-22T00:00:00\", \"number of commits\": 29}, {\"date\": \"2011-08-06T00:00:00\", \"number of commits\": 28}, {\"date\": \"2015-06-20T00:00:00\", \"number of commits\": 28}, {\"date\": \"2006-08-11T00:00:00\", \"number of commits\": 28}, {\"date\": \"2011-12-25T00:00:00\", \"number of commits\": 28}, {\"date\": \"2011-10-01T00:00:00\", \"number of commits\": 28}, {\"date\": \"2006-02-20T00:00:00\", \"number of commits\": 28}, {\"date\": \"2015-11-28T00:00:00\", \"number of commits\": 28}, {\"date\": \"2011-03-27T00:00:00\", \"number of commits\": 28}, {\"date\": \"2006-01-26T00:00:00\", \"number of commits\": 28}, {\"date\": \"2006-08-10T00:00:00\", \"number of commits\": 28}, {\"date\": \"2014-06-07T00:00:00\", \"number of commits\": 28}, {\"date\": \"2007-01-18T00:00:00\", \"number of commits\": 28}, {\"date\": \"2010-07-11T00:00:00\", \"number of commits\": 28}, {\"date\": \"2006-07-19T00:00:00\", \"number of commits\": 28}, {\"date\": \"2006-06-10T00:00:00\", \"number of commits\": 28}, {\"date\": \"2008-08-09T00:00:00\", \"number of commits\": 28}, {\"date\": \"2009-10-18T00:00:00\", \"number of commits\": 28}, {\"date\": \"2010-09-12T00:00:00\", \"number of commits\": 28}, {\"date\": \"2005-08-12T00:00:00\", \"number of commits\": 28}, {\"date\": \"2006-12-19T00:00:00\", \"number of commits\": 28}, {\"date\": \"2008-01-14T00:00:00\", \"number of commits\": 28}, {\"date\": \"2005-11-19T00:00:00\", \"number of commits\": 28}, {\"date\": \"2009-05-10T00:00:00\", \"number of commits\": 27}, {\"date\": \"2008-08-17T00:00:00\", \"number of commits\": 27}, {\"date\": \"2007-03-12T00:00:00\", \"number of commits\": 27}, {\"date\": \"2006-10-24T00:00:00\", \"number of commits\": 27}, {\"date\": \"2011-12-26T00:00:00\", \"number of commits\": 27}, {\"date\": \"2007-09-05T00:00:00\", \"number of commits\": 27}, {\"date\": \"2007-01-11T00:00:00\", \"number of commits\": 27}, {\"date\": \"2005-12-21T00:00:00\", \"number of commits\": 27}, {\"date\": \"2006-04-15T00:00:00\", \"number of commits\": 27}, {\"date\": \"2005-11-21T00:00:00\", \"number of commits\": 27}, {\"date\": \"2013-05-19T00:00:00\", \"number of commits\": 27}, {\"date\": \"2011-12-04T00:00:00\", \"number of commits\": 27}, {\"date\": \"2006-08-07T00:00:00\", \"number of commits\": 27}, {\"date\": \"2010-12-12T00:00:00\", \"number of commits\": 27}, {\"date\": \"2008-01-03T00:00:00\", \"number of commits\": 27}, {\"date\": \"2011-06-19T00:00:00\", \"number of commits\": 27}, {\"date\": \"2007-11-24T00:00:00\", \"number of commits\": 27}, {\"date\": \"2007-03-15T00:00:00\", \"number of commits\": 27}, {\"date\": \"2005-10-24T00:00:00\", \"number of commits\": 27}, {\"date\": \"2006-09-16T00:00:00\", \"number of commits\": 27}, {\"date\": \"2011-08-07T00:00:00\", \"number of commits\": 27}, {\"date\": \"2008-08-10T00:00:00\", \"number of commits\": 27}, {\"date\": \"2005-07-03T00:00:00\", \"number of commits\": 27}, {\"date\": \"2008-12-14T00:00:00\", \"number of commits\": 27}, {\"date\": \"2006-12-17T00:00:00\", \"number of commits\": 27}, {\"date\": \"2005-09-15T00:00:00\", \"number of commits\": 27}, {\"date\": \"2010-05-30T00:00:00\", \"number of commits\": 27}, {\"date\": \"2011-12-17T00:00:00\", \"number of commits\": 26}, {\"date\": \"2005-07-01T00:00:00\", \"number of commits\": 26}, {\"date\": \"2008-09-27T00:00:00\", \"number of commits\": 26}, {\"date\": \"2009-08-08T00:00:00\", \"number of commits\": 26}, {\"date\": \"2007-06-25T00:00:00\", \"number of commits\": 26}, {\"date\": \"2007-04-10T00:00:00\", \"number of commits\": 26}, {\"date\": \"2007-04-22T00:00:00\", \"number of commits\": 26}, {\"date\": \"2010-05-09T00:00:00\", \"number of commits\": 26}, {\"date\": \"2006-11-02T00:00:00\", \"number of commits\": 26}, {\"date\": \"2007-04-04T00:00:00\", \"number of commits\": 26}, {\"date\": \"2011-01-01T00:00:00\", \"number of commits\": 26}, {\"date\": \"2006-12-21T00:00:00\", \"number of commits\": 26}, {\"date\": \"2006-05-25T00:00:00\", \"number of commits\": 26}, {\"date\": \"2007-11-14T00:00:00\", \"number of commits\": 26}, {\"date\": \"2005-05-19T00:00:00\", \"number of commits\": 26}, {\"date\": \"2006-03-09T00:00:00\", \"number of commits\": 26}, {\"date\": \"2009-10-17T00:00:00\", \"number of commits\": 26}, {\"date\": \"2007-06-19T00:00:00\", \"number of commits\": 25}, {\"date\": \"2011-02-27T00:00:00\", \"number of commits\": 25}, {\"date\": \"2011-04-23T00:00:00\", \"number of commits\": 25}, {\"date\": \"2006-10-22T00:00:00\", \"number of commits\": 25}, {\"date\": \"2010-02-14T00:00:00\", \"number of commits\": 25}, {\"date\": \"2013-07-06T00:00:00\", \"number of commits\": 25}, {\"date\": \"2005-08-31T00:00:00\", \"number of commits\": 25}, {\"date\": \"2006-04-29T00:00:00\", \"number of commits\": 25}, {\"date\": \"2006-10-23T00:00:00\", \"number of commits\": 25}, {\"date\": \"2006-08-23T00:00:00\", \"number of commits\": 25}, {\"date\": \"2008-03-14T00:00:00\", \"number of commits\": 25}, {\"date\": \"2006-07-24T00:00:00\", \"number of commits\": 25}, {\"date\": \"2010-01-30T00:00:00\", \"number of commits\": 25}, {\"date\": \"2006-07-26T00:00:00\", \"number of commits\": 25}, {\"date\": \"2008-10-19T00:00:00\", \"number of commits\": 25}, {\"date\": \"2005-08-08T00:00:00\", \"number of commits\": 25}, {\"date\": \"2005-05-27T00:00:00\", \"number of commits\": 25}, {\"date\": \"2005-06-13T00:00:00\", \"number of commits\": 25}, {\"date\": \"2008-09-18T00:00:00\", \"number of commits\": 25}, {\"date\": \"2008-11-15T00:00:00\", \"number of commits\": 25}, {\"date\": \"2008-09-20T00:00:00\", \"number of commits\": 25}, {\"date\": \"2005-06-14T00:00:00\", \"number of commits\": 25}, {\"date\": \"2007-06-18T00:00:00\", \"number of commits\": 25}, {\"date\": \"2006-09-02T00:00:00\", \"number of commits\": 25}, {\"date\": \"2007-08-18T00:00:00\", \"number of commits\": 25}, {\"date\": \"2007-02-19T00:00:00\", \"number of commits\": 25}, {\"date\": \"2008-10-24T00:00:00\", \"number of commits\": 24}, {\"date\": \"2010-01-24T00:00:00\", \"number of commits\": 24}, {\"date\": \"2010-10-10T00:00:00\", \"number of commits\": 24}, {\"date\": \"2006-10-27T00:00:00\", \"number of commits\": 24}, {\"date\": \"2009-06-27T00:00:00\", \"number of commits\": 24}, {\"date\": \"2009-04-26T00:00:00\", \"number of commits\": 24}, {\"date\": \"2005-06-02T00:00:00\", \"number of commits\": 24}, {\"date\": \"2005-06-04T00:00:00\", \"number of commits\": 24}, {\"date\": \"2006-08-17T00:00:00\", \"number of commits\": 24}, {\"date\": \"2009-09-26T00:00:00\", \"number of commits\": 24}, {\"date\": \"2013-09-22T00:00:00\", \"number of commits\": 24}, {\"date\": \"2006-11-15T00:00:00\", \"number of commits\": 24}, {\"date\": \"2008-04-12T00:00:00\", \"number of commits\": 24}, {\"date\": \"2015-01-03T00:00:00\", \"number of commits\": 24}, {\"date\": \"2006-08-05T00:00:00\", \"number of commits\": 24}, {\"date\": \"2007-09-16T00:00:00\", \"number of commits\": 24}, {\"date\": \"2007-06-15T00:00:00\", \"number of commits\": 24}, {\"date\": \"2012-09-30T00:00:00\", \"number of commits\": 24}, {\"date\": \"2008-08-30T00:00:00\", \"number of commits\": 24}, {\"date\": \"2007-01-12T00:00:00\", \"number of commits\": 24}, {\"date\": \"2008-09-07T00:00:00\", \"number of commits\": 24}, {\"date\": \"2005-09-03T00:00:00\", \"number of commits\": 24}, {\"date\": \"2007-05-26T00:00:00\", \"number of commits\": 24}, {\"date\": \"2010-11-07T00:00:00\", \"number of commits\": 23}, {\"date\": \"2010-05-08T00:00:00\", \"number of commits\": 23}, {\"date\": \"2015-01-04T00:00:00\", \"number of commits\": 23}, {\"date\": \"2009-03-15T00:00:00\", \"number of commits\": 23}, {\"date\": \"2008-08-02T00:00:00\", \"number of commits\": 23}, {\"date\": \"2012-05-27T00:00:00\", \"number of commits\": 23}, {\"date\": \"2008-10-04T00:00:00\", \"number of commits\": 23}, {\"date\": \"2008-11-29T00:00:00\", \"number of commits\": 23}, {\"date\": \"2007-09-22T00:00:00\", \"number of commits\": 23}, {\"date\": \"2005-10-06T00:00:00\", \"number of commits\": 23}, {\"date\": \"2006-01-20T00:00:00\", \"number of commits\": 23}, {\"date\": \"2010-12-04T00:00:00\", \"number of commits\": 23}, {\"date\": \"2006-10-15T00:00:00\", \"number of commits\": 23}, {\"date\": \"2007-06-03T00:00:00\", \"number of commits\": 23}, {\"date\": \"2010-07-03T00:00:00\", \"number of commits\": 23}, {\"date\": \"2011-09-04T00:00:00\", \"number of commits\": 23}, {\"date\": \"2007-09-01T00:00:00\", \"number of commits\": 23}, {\"date\": \"2012-10-21T00:00:00\", \"number of commits\": 23}, {\"date\": \"2006-09-12T00:00:00\", \"number of commits\": 23}, {\"date\": \"2007-06-13T00:00:00\", \"number of commits\": 23}, {\"date\": \"2006-03-10T00:00:00\", \"number of commits\": 23}, {\"date\": \"2005-12-19T00:00:00\", \"number of commits\": 23}, {\"date\": \"2010-10-31T00:00:00\", \"number of commits\": 23}, {\"date\": \"2011-04-02T00:00:00\", \"number of commits\": 23}, {\"date\": \"2006-02-23T00:00:00\", \"number of commits\": 23}, {\"date\": \"2008-03-23T00:00:00\", \"number of commits\": 23}, {\"date\": \"2007-01-10T00:00:00\", \"number of commits\": 23}, {\"date\": \"2005-04-21T00:00:00\", \"number of commits\": 23}, {\"date\": \"2007-04-05T00:00:00\", \"number of commits\": 23}, {\"date\": \"2008-11-09T00:00:00\", \"number of commits\": 22}, {\"date\": \"2009-06-28T00:00:00\", \"number of commits\": 22}, {\"date\": \"2011-03-19T00:00:00\", \"number of commits\": 22}, {\"date\": \"2005-11-25T00:00:00\", \"number of commits\": 22}, {\"date\": \"2011-06-12T00:00:00\", \"number of commits\": 22}, {\"date\": \"2006-04-03T00:00:00\", \"number of commits\": 22}, {\"date\": \"2005-09-24T00:00:00\", \"number of commits\": 22}, {\"date\": \"2006-10-07T00:00:00\", \"number of commits\": 22}, {\"date\": \"2006-11-17T00:00:00\", \"number of commits\": 22}, {\"date\": \"2010-01-02T00:00:00\", \"number of commits\": 22}, {\"date\": \"2007-06-06T00:00:00\", \"number of commits\": 22}, {\"date\": \"2007-01-03T00:00:00\", \"number of commits\": 22}, {\"date\": \"2007-06-10T00:00:00\", \"number of commits\": 22}, {\"date\": \"2005-08-09T00:00:00\", \"number of commits\": 22}, {\"date\": \"2005-08-07T00:00:00\", \"number of commits\": 22}, {\"date\": \"2007-11-30T00:00:00\", \"number of commits\": 22}, {\"date\": \"2005-05-06T00:00:00\", \"number of commits\": 22}, {\"date\": \"2005-09-18T00:00:00\", \"number of commits\": 22}, {\"date\": \"2010-09-26T00:00:00\", \"number of commits\": 22}, {\"date\": \"2010-12-27T00:00:00\", \"number of commits\": 21}, {\"date\": \"2005-06-09T00:00:00\", \"number of commits\": 21}, {\"date\": \"2005-04-17T00:00:00\", \"number of commits\": 21}, {\"date\": \"2008-06-29T00:00:00\", \"number of commits\": 21}, {\"date\": \"2006-05-10T00:00:00\", \"number of commits\": 21}, {\"date\": \"2012-08-05T00:00:00\", \"number of commits\": 21}, {\"date\": \"2010-12-26T00:00:00\", \"number of commits\": 21}, {\"date\": \"2005-08-19T00:00:00\", \"number of commits\": 21}, {\"date\": \"2005-08-16T00:00:00\", \"number of commits\": 21}, {\"date\": \"2006-08-25T00:00:00\", \"number of commits\": 21}, {\"date\": \"2006-07-07T00:00:00\", \"number of commits\": 21}, {\"date\": \"2008-06-15T00:00:00\", \"number of commits\": 21}, {\"date\": \"2008-10-18T00:00:00\", \"number of commits\": 21}, {\"date\": \"2006-08-04T00:00:00\", \"number of commits\": 21}, {\"date\": \"2010-04-10T00:00:00\", \"number of commits\": 21}, {\"date\": \"2005-10-13T00:00:00\", \"number of commits\": 21}, {\"date\": \"2007-06-05T00:00:00\", \"number of commits\": 21}, {\"date\": \"2005-10-15T00:00:00\", \"number of commits\": 21}, {\"date\": \"2005-07-15T00:00:00\", \"number of commits\": 21}, {\"date\": \"2005-08-06T00:00:00\", \"number of commits\": 21}, {\"date\": \"2007-09-24T00:00:00\", \"number of commits\": 21}, {\"date\": \"2007-06-27T00:00:00\", \"number of commits\": 21}, {\"date\": \"2009-01-24T00:00:00\", \"number of commits\": 21}, {\"date\": \"2008-03-16T00:00:00\", \"number of commits\": 21}, {\"date\": \"2006-04-04T00:00:00\", \"number of commits\": 21}, {\"date\": \"2014-08-10T00:00:00\", \"number of commits\": 20}, {\"date\": \"2005-05-12T00:00:00\", \"number of commits\": 20}, {\"date\": \"2005-08-25T00:00:00\", \"number of commits\": 20}, {\"date\": \"2008-08-31T00:00:00\", \"number of commits\": 20}, {\"date\": \"2009-01-25T00:00:00\", \"number of commits\": 20}, {\"date\": \"2011-01-30T00:00:00\", \"number of commits\": 20}, {\"date\": \"2007-07-29T00:00:00\", \"number of commits\": 20}, {\"date\": \"2010-12-25T00:00:00\", \"number of commits\": 20}, {\"date\": \"2006-03-04T00:00:00\", \"number of commits\": 20}, {\"date\": \"2005-12-06T00:00:00\", \"number of commits\": 20}, {\"date\": \"2007-03-30T00:00:00\", \"number of commits\": 20}, {\"date\": \"2006-02-16T00:00:00\", \"number of commits\": 20}, {\"date\": \"2006-09-05T00:00:00\", \"number of commits\": 20}, {\"date\": \"2006-05-13T00:00:00\", \"number of commits\": 20}, {\"date\": \"2010-07-04T00:00:00\", \"number of commits\": 20}, {\"date\": \"2006-12-14T00:00:00\", \"number of commits\": 20}, {\"date\": \"2007-03-18T00:00:00\", \"number of commits\": 20}, {\"date\": \"2011-04-09T00:00:00\", \"number of commits\": 19}, {\"date\": \"2007-03-24T00:00:00\", \"number of commits\": 19}, {\"date\": \"2005-09-25T00:00:00\", \"number of commits\": 19}, {\"date\": \"2012-09-16T00:00:00\", \"number of commits\": 19}, {\"date\": \"2008-08-03T00:00:00\", \"number of commits\": 19}, {\"date\": \"2007-08-05T00:00:00\", \"number of commits\": 19}, {\"date\": \"2010-11-06T00:00:00\", \"number of commits\": 19}, {\"date\": \"2006-11-07T00:00:00\", \"number of commits\": 19}, {\"date\": \"2006-03-15T00:00:00\", \"number of commits\": 19}, {\"date\": \"2005-10-25T00:00:00\", \"number of commits\": 19}, {\"date\": \"2009-10-10T00:00:00\", \"number of commits\": 19}, {\"date\": \"2005-07-19T00:00:00\", \"number of commits\": 19}, {\"date\": \"2011-11-19T00:00:00\", \"number of commits\": 19}, {\"date\": \"2007-02-28T00:00:00\", \"number of commits\": 19}, {\"date\": \"2008-11-01T00:00:00\", \"number of commits\": 19}, {\"date\": \"2009-12-25T00:00:00\", \"number of commits\": 18}, {\"date\": \"2009-05-24T00:00:00\", \"number of commits\": 18}, {\"date\": \"2012-12-25T00:00:00\", \"number of commits\": 18}, {\"date\": \"2005-08-20T00:00:00\", \"number of commits\": 18}, {\"date\": \"2014-12-27T00:00:00\", \"number of commits\": 18}, {\"date\": \"2011-01-29T00:00:00\", \"number of commits\": 18}, {\"date\": \"2007-08-04T00:00:00\", \"number of commits\": 18}, {\"date\": \"2008-02-12T00:00:00\", \"number of commits\": 18}, {\"date\": \"2005-07-02T00:00:00\", \"number of commits\": 18}, {\"date\": \"2006-05-29T00:00:00\", \"number of commits\": 18}, {\"date\": \"2008-04-13T00:00:00\", \"number of commits\": 18}, {\"date\": \"2009-03-01T00:00:00\", \"number of commits\": 18}, {\"date\": \"2005-05-07T00:00:00\", \"number of commits\": 18}, {\"date\": \"2005-10-14T00:00:00\", \"number of commits\": 18}, {\"date\": \"2006-02-26T00:00:00\", \"number of commits\": 18}, {\"date\": \"2010-08-21T00:00:00\", \"number of commits\": 18}, {\"date\": \"2008-04-06T00:00:00\", \"number of commits\": 18}, {\"date\": \"2010-11-21T00:00:00\", \"number of commits\": 18}, {\"date\": \"2008-02-17T00:00:00\", \"number of commits\": 18}, {\"date\": \"2010-10-03T00:00:00\", \"number of commits\": 17}, {\"date\": \"2006-08-18T00:00:00\", \"number of commits\": 17}, {\"date\": \"2007-01-05T00:00:00\", \"number of commits\": 17}, {\"date\": \"2007-08-28T00:00:00\", \"number of commits\": 17}, {\"date\": \"2007-01-25T00:00:00\", \"number of commits\": 17}, {\"date\": \"2012-09-02T00:00:00\", \"number of commits\": 17}, {\"date\": \"2006-01-02T00:00:00\", \"number of commits\": 17}, {\"date\": \"2005-10-23T00:00:00\", \"number of commits\": 17}, {\"date\": \"2006-09-14T00:00:00\", \"number of commits\": 17}, {\"date\": \"2007-10-28T00:00:00\", \"number of commits\": 17}, {\"date\": \"2009-08-01T00:00:00\", \"number of commits\": 17}, {\"date\": \"2006-09-04T00:00:00\", \"number of commits\": 17}, {\"date\": \"2006-08-22T00:00:00\", \"number of commits\": 17}, {\"date\": \"2006-05-14T00:00:00\", \"number of commits\": 17}, {\"date\": \"2006-12-15T00:00:00\", \"number of commits\": 17}, {\"date\": \"2010-02-21T00:00:00\", \"number of commits\": 17}, {\"date\": \"2007-09-17T00:00:00\", \"number of commits\": 17}, {\"date\": \"2006-11-10T00:00:00\", \"number of commits\": 17}, {\"date\": \"2006-05-28T00:00:00\", \"number of commits\": 17}, {\"date\": \"2006-05-03T00:00:00\", \"number of commits\": 17}, {\"date\": \"2008-05-03T00:00:00\", \"number of commits\": 17}, {\"date\": \"2010-06-20T00:00:00\", \"number of commits\": 16}, {\"date\": \"2008-12-24T00:00:00\", \"number of commits\": 16}, {\"date\": \"2009-07-19T00:00:00\", \"number of commits\": 16}, {\"date\": \"2009-12-20T00:00:00\", \"number of commits\": 16}, {\"date\": \"2011-01-02T00:00:00\", \"number of commits\": 16}, {\"date\": \"2006-03-19T00:00:00\", \"number of commits\": 16}, {\"date\": \"2005-05-16T00:00:00\", \"number of commits\": 16}, {\"date\": \"2005-10-09T00:00:00\", \"number of commits\": 16}, {\"date\": \"2006-06-01T00:00:00\", \"number of commits\": 16}, {\"date\": \"2008-03-22T00:00:00\", \"number of commits\": 16}, {\"date\": \"2006-10-13T00:00:00\", \"number of commits\": 16}, {\"date\": \"2007-02-22T00:00:00\", \"number of commits\": 16}, {\"date\": \"2007-06-23T00:00:00\", \"number of commits\": 16}, {\"date\": \"2006-06-14T00:00:00\", \"number of commits\": 16}, {\"date\": \"2007-12-08T00:00:00\", \"number of commits\": 16}, {\"date\": \"2006-05-18T00:00:00\", \"number of commits\": 16}, {\"date\": \"2006-09-08T00:00:00\", \"number of commits\": 16}, {\"date\": \"2006-03-06T00:00:00\", \"number of commits\": 16}, {\"date\": \"2005-12-03T00:00:00\", \"number of commits\": 16}, {\"date\": \"2005-06-18T00:00:00\", \"number of commits\": 16}, {\"date\": \"2007-07-28T00:00:00\", \"number of commits\": 16}, {\"date\": \"2006-08-26T00:00:00\", \"number of commits\": 16}, {\"date\": \"2007-12-10T00:00:00\", \"number of commits\": 16}, {\"date\": \"2009-10-25T00:00:00\", \"number of commits\": 16}, {\"date\": \"2005-12-29T00:00:00\", \"number of commits\": 16}, {\"date\": \"2008-12-07T00:00:00\", \"number of commits\": 16}, {\"date\": \"2008-12-27T00:00:00\", \"number of commits\": 15}, {\"date\": \"2005-05-30T00:00:00\", \"number of commits\": 15}, {\"date\": \"2005-06-16T00:00:00\", \"number of commits\": 15}, {\"date\": \"2010-03-21T00:00:00\", \"number of commits\": 15}, {\"date\": \"2006-03-02T00:00:00\", \"number of commits\": 15}, {\"date\": \"2006-11-08T00:00:00\", \"number of commits\": 15}, {\"date\": \"2010-09-18T00:00:00\", \"number of commits\": 15}, {\"date\": \"2005-12-22T00:00:00\", \"number of commits\": 15}, {\"date\": \"2008-01-04T00:00:00\", \"number of commits\": 15}, {\"date\": \"2007-03-21T00:00:00\", \"number of commits\": 15}, {\"date\": \"2005-12-28T00:00:00\", \"number of commits\": 15}, {\"date\": \"2009-01-17T00:00:00\", \"number of commits\": 14}, {\"date\": \"2005-07-09T00:00:00\", \"number of commits\": 14}, {\"date\": \"2005-07-07T00:00:00\", \"number of commits\": 14}, {\"date\": \"2006-06-16T00:00:00\", \"number of commits\": 14}, {\"date\": \"2008-02-23T00:00:00\", \"number of commits\": 14}, {\"date\": \"2007-05-13T00:00:00\", \"number of commits\": 14}, {\"date\": \"2007-02-25T00:00:00\", \"number of commits\": 14}, {\"date\": \"2005-10-01T00:00:00\", \"number of commits\": 14}, {\"date\": \"2007-08-06T00:00:00\", \"number of commits\": 14}, {\"date\": \"2007-08-29T00:00:00\", \"number of commits\": 14}, {\"date\": \"2005-07-22T00:00:00\", \"number of commits\": 14}, {\"date\": \"2005-05-21T00:00:00\", \"number of commits\": 14}, {\"date\": \"2005-04-30T00:00:00\", \"number of commits\": 14}, {\"date\": \"2006-03-16T00:00:00\", \"number of commits\": 14}, {\"date\": \"2006-01-29T00:00:00\", \"number of commits\": 14}, {\"date\": \"2010-02-07T00:00:00\", \"number of commits\": 14}, {\"date\": \"2006-11-05T00:00:00\", \"number of commits\": 14}, {\"date\": \"2007-08-21T00:00:00\", \"number of commits\": 14}, {\"date\": \"2006-08-28T00:00:00\", \"number of commits\": 14}, {\"date\": \"2008-06-07T00:00:00\", \"number of commits\": 14}, {\"date\": \"2005-12-07T00:00:00\", \"number of commits\": 14}, {\"date\": \"2006-08-01T00:00:00\", \"number of commits\": 13}, {\"date\": \"2007-12-28T00:00:00\", \"number of commits\": 13}, {\"date\": \"2007-04-20T00:00:00\", \"number of commits\": 13}, {\"date\": \"2008-01-16T00:00:00\", \"number of commits\": 13}, {\"date\": \"2006-07-14T00:00:00\", \"number of commits\": 13}, {\"date\": \"2008-01-08T00:00:00\", \"number of commits\": 13}, {\"date\": \"2006-06-02T00:00:00\", \"number of commits\": 13}, {\"date\": \"2006-01-08T00:00:00\", \"number of commits\": 13}, {\"date\": \"2007-01-02T00:00:00\", \"number of commits\": 13}, {\"date\": \"2007-08-13T00:00:00\", \"number of commits\": 13}, {\"date\": \"2005-12-02T00:00:00\", \"number of commits\": 13}, {\"date\": \"2006-12-29T00:00:00\", \"number of commits\": 13}, {\"date\": \"2007-11-16T00:00:00\", \"number of commits\": 13}, {\"date\": \"2005-06-07T00:00:00\", \"number of commits\": 13}, {\"date\": \"2005-10-08T00:00:00\", \"number of commits\": 13}, {\"date\": \"2007-07-05T00:00:00\", \"number of commits\": 13}, {\"date\": \"2008-01-07T00:00:00\", \"number of commits\": 13}, {\"date\": \"2005-04-24T00:00:00\", \"number of commits\": 13}, {\"date\": \"2006-07-11T00:00:00\", \"number of commits\": 13}, {\"date\": \"2007-05-20T00:00:00\", \"number of commits\": 13}, {\"date\": \"2011-04-16T00:00:00\", \"number of commits\": 13}, {\"date\": \"2007-09-07T00:00:00\", \"number of commits\": 13}, {\"date\": \"2007-10-07T00:00:00\", \"number of commits\": 13}, {\"date\": \"2006-04-17T00:00:00\", \"number of commits\": 12}, {\"date\": \"2010-01-01T00:00:00\", \"number of commits\": 12}, {\"date\": \"2005-06-17T00:00:00\", \"number of commits\": 12}, {\"date\": \"2005-12-04T00:00:00\", \"number of commits\": 12}, {\"date\": \"2010-04-17T00:00:00\", \"number of commits\": 12}, {\"date\": \"2007-01-29T00:00:00\", \"number of commits\": 12}, {\"date\": \"2007-12-13T00:00:00\", \"number of commits\": 12}, {\"date\": \"2006-07-17T00:00:00\", \"number of commits\": 12}, {\"date\": \"2007-09-15T00:00:00\", \"number of commits\": 12}, {\"date\": \"2006-10-29T00:00:00\", \"number of commits\": 12}, {\"date\": \"2005-07-16T00:00:00\", \"number of commits\": 12}, {\"date\": \"2006-05-07T00:00:00\", \"number of commits\": 12}, {\"date\": \"2008-08-24T00:00:00\", \"number of commits\": 12}, {\"date\": \"2010-06-13T00:00:00\", \"number of commits\": 12}, {\"date\": \"2006-05-06T00:00:00\", \"number of commits\": 12}, {\"date\": \"2005-07-04T00:00:00\", \"number of commits\": 12}, {\"date\": \"2005-07-18T00:00:00\", \"number of commits\": 12}, {\"date\": \"2006-11-20T00:00:00\", \"number of commits\": 12}, {\"date\": \"2007-04-09T00:00:00\", \"number of commits\": 12}, {\"date\": \"2009-10-31T00:00:00\", \"number of commits\": 12}, {\"date\": \"2007-07-04T00:00:00\", \"number of commits\": 12}, {\"date\": \"2011-04-03T00:00:00\", \"number of commits\": 12}, {\"date\": \"2007-08-16T00:00:00\", \"number of commits\": 12}, {\"date\": \"2009-05-31T00:00:00\", \"number of commits\": 11}, {\"date\": \"2008-03-15T00:00:00\", \"number of commits\": 11}, {\"date\": \"2006-02-18T00:00:00\", \"number of commits\": 11}, {\"date\": \"2006-01-28T00:00:00\", \"number of commits\": 11}, {\"date\": \"2007-10-06T00:00:00\", \"number of commits\": 11}, {\"date\": \"2005-12-23T00:00:00\", \"number of commits\": 11}, {\"date\": \"2006-12-23T00:00:00\", \"number of commits\": 11}, {\"date\": \"2008-03-09T00:00:00\", \"number of commits\": 11}, {\"date\": \"2007-06-22T00:00:00\", \"number of commits\": 11}, {\"date\": \"2005-04-20T00:00:00\", \"number of commits\": 11}, {\"date\": \"2007-09-03T00:00:00\", \"number of commits\": 11}, {\"date\": \"2006-01-21T00:00:00\", \"number of commits\": 11}, {\"date\": \"2006-03-13T00:00:00\", \"number of commits\": 11}, {\"date\": \"2007-07-01T00:00:00\", \"number of commits\": 11}, {\"date\": \"2008-01-02T00:00:00\", \"number of commits\": 11}, {\"date\": \"2011-10-09T00:00:00\", \"number of commits\": 11}, {\"date\": \"2007-01-21T00:00:00\", \"number of commits\": 11}, {\"date\": \"2006-02-11T00:00:00\", \"number of commits\": 11}, {\"date\": \"2007-01-15T00:00:00\", \"number of commits\": 11}, {\"date\": \"2007-12-27T00:00:00\", \"number of commits\": 11}, {\"date\": \"2007-08-08T00:00:00\", \"number of commits\": 11}, {\"date\": \"2005-11-23T00:00:00\", \"number of commits\": 10}, {\"date\": \"2007-04-16T00:00:00\", \"number of commits\": 10}, {\"date\": \"2006-04-08T00:00:00\", \"number of commits\": 10}, {\"date\": \"2006-07-30T00:00:00\", \"number of commits\": 10}, {\"date\": \"2006-04-23T00:00:00\", \"number of commits\": 10}, {\"date\": \"2006-05-11T00:00:00\", \"number of commits\": 10}, {\"date\": \"2005-10-02T00:00:00\", \"number of commits\": 10}, {\"date\": \"2014-12-25T00:00:00\", \"number of commits\": 10}, {\"date\": \"2007-11-23T00:00:00\", \"number of commits\": 10}, {\"date\": \"2007-09-09T00:00:00\", \"number of commits\": 10}, {\"date\": \"2010-07-10T00:00:00\", \"number of commits\": 10}, {\"date\": \"2010-03-28T00:00:00\", \"number of commits\": 10}, {\"date\": \"2005-06-11T00:00:00\", \"number of commits\": 10}, {\"date\": \"2006-09-09T00:00:00\", \"number of commits\": 10}, {\"date\": \"2005-05-10T00:00:00\", \"number of commits\": 10}, {\"date\": \"2010-01-31T00:00:00\", \"number of commits\": 10}, {\"date\": \"2008-01-13T00:00:00\", \"number of commits\": 10}, {\"date\": \"2006-07-08T00:00:00\", \"number of commits\": 10}, {\"date\": \"2006-11-26T00:00:00\", \"number of commits\": 10}, {\"date\": \"2005-08-01T00:00:00\", \"number of commits\": 10}, {\"date\": \"2007-12-16T00:00:00\", \"number of commits\": 10}, {\"date\": \"2006-06-13T00:00:00\", \"number of commits\": 9}, {\"date\": \"2006-01-25T00:00:00\", \"number of commits\": 9}, {\"date\": \"2005-12-10T00:00:00\", \"number of commits\": 9}, {\"date\": \"2006-04-07T00:00:00\", \"number of commits\": 9}, {\"date\": \"2007-12-31T00:00:00\", \"number of commits\": 9}, {\"date\": \"2006-06-04T00:00:00\", \"number of commits\": 9}, {\"date\": \"2010-02-06T00:00:00\", \"number of commits\": 9}, {\"date\": \"2006-06-17T00:00:00\", \"number of commits\": 9}, {\"date\": \"2006-12-31T00:00:00\", \"number of commits\": 9}, {\"date\": \"2008-01-01T00:00:00\", \"number of commits\": 9}, {\"date\": \"2011-06-26T00:00:00\", \"number of commits\": 9}, {\"date\": \"2006-04-05T00:00:00\", \"number of commits\": 9}, {\"date\": \"2008-04-05T00:00:00\", \"number of commits\": 9}, {\"date\": \"2009-12-26T00:00:00\", \"number of commits\": 9}, {\"date\": \"2007-04-15T00:00:00\", \"number of commits\": 9}, {\"date\": \"2011-10-15T00:00:00\", \"number of commits\": 8}, {\"date\": \"2006-08-21T00:00:00\", \"number of commits\": 8}, {\"date\": \"2005-12-09T00:00:00\", \"number of commits\": 8}, {\"date\": \"2005-12-30T00:00:00\", \"number of commits\": 8}, {\"date\": \"2013-01-01T00:00:00\", \"number of commits\": 8}, {\"date\": \"2007-04-06T00:00:00\", \"number of commits\": 8}, {\"date\": \"2008-05-10T00:00:00\", \"number of commits\": 8}, {\"date\": \"2007-12-09T00:00:00\", \"number of commits\": 8}, {\"date\": \"2008-03-08T00:00:00\", \"number of commits\": 8}, {\"date\": \"2005-07-17T00:00:00\", \"number of commits\": 8}, {\"date\": \"2006-11-11T00:00:00\", \"number of commits\": 8}, {\"date\": \"2007-12-02T00:00:00\", \"number of commits\": 7}, {\"date\": \"2005-12-08T00:00:00\", \"number of commits\": 7}, {\"date\": \"2006-08-15T00:00:00\", \"number of commits\": 7}, {\"date\": \"2008-10-25T00:00:00\", \"number of commits\": 7}, {\"date\": \"2007-10-05T00:00:00\", \"number of commits\": 7}, {\"date\": \"2005-08-14T00:00:00\", \"number of commits\": 7}, {\"date\": \"2009-03-07T00:00:00\", \"number of commits\": 7}, {\"date\": \"2006-11-21T00:00:00\", \"number of commits\": 7}, {\"date\": \"2007-03-25T00:00:00\", \"number of commits\": 7}, {\"date\": \"2008-03-01T00:00:00\", \"number of commits\": 7}, {\"date\": \"2007-07-08T00:00:00\", \"number of commits\": 7}, {\"date\": \"2006-01-01T00:00:00\", \"number of commits\": 7}, {\"date\": \"2006-09-10T00:00:00\", \"number of commits\": 7}, {\"date\": \"2007-04-13T00:00:00\", \"number of commits\": 7}, {\"date\": \"2005-05-11T00:00:00\", \"number of commits\": 7}, {\"date\": \"2008-01-20T00:00:00\", \"number of commits\": 7}, {\"date\": \"2005-12-18T00:00:00\", \"number of commits\": 7}, {\"date\": \"2008-01-06T00:00:00\", \"number of commits\": 7}, {\"date\": \"2007-12-30T00:00:00\", \"number of commits\": 6}, {\"date\": \"2007-11-22T00:00:00\", \"number of commits\": 6}, {\"date\": \"2005-12-26T00:00:00\", \"number of commits\": 6}, {\"date\": \"2010-04-18T00:00:00\", \"number of commits\": 6}, {\"date\": \"2005-08-21T00:00:00\", \"number of commits\": 6}, {\"date\": \"2005-06-05T00:00:00\", \"number of commits\": 6}, {\"date\": \"2005-05-02T00:00:00\", \"number of commits\": 6}, {\"date\": \"2006-06-06T00:00:00\", \"number of commits\": 6}, {\"date\": \"2007-03-31T00:00:00\", \"number of commits\": 6}, {\"date\": \"2009-01-01T00:00:00\", \"number of commits\": 6}, {\"date\": \"2006-07-16T00:00:00\", \"number of commits\": 6}, {\"date\": \"2005-05-18T00:00:00\", \"number of commits\": 6}, {\"date\": \"2005-12-27T00:00:00\", \"number of commits\": 6}, {\"date\": \"2007-04-07T00:00:00\", \"number of commits\": 6}, {\"date\": \"2006-02-25T00:00:00\", \"number of commits\": 6}, {\"date\": \"2007-09-04T00:00:00\", \"number of commits\": 6}, {\"date\": \"2007-09-18T00:00:00\", \"number of commits\": 6}, {\"date\": \"2007-02-01T00:00:00\", \"number of commits\": 6}, {\"date\": \"2009-04-25T00:00:00\", \"number of commits\": 5}, {\"date\": \"2006-04-06T00:00:00\", \"number of commits\": 5}, {\"date\": \"2010-11-14T00:00:00\", \"number of commits\": 5}, {\"date\": \"2005-12-31T00:00:00\", \"number of commits\": 5}, {\"date\": \"2006-11-04T00:00:00\", \"number of commits\": 5}, {\"date\": \"2005-07-21T00:00:00\", \"number of commits\": 5}, {\"date\": \"2012-12-29T00:00:00\", \"number of commits\": 5}, {\"date\": \"2006-11-23T00:00:00\", \"number of commits\": 5}, {\"date\": \"2005-10-16T00:00:00\", \"number of commits\": 5}, {\"date\": \"2007-04-18T00:00:00\", \"number of commits\": 5}, {\"date\": \"2006-07-23T00:00:00\", \"number of commits\": 5}, {\"date\": \"2005-05-09T00:00:00\", \"number of commits\": 5}, {\"date\": \"2007-04-14T00:00:00\", \"number of commits\": 5}, {\"date\": \"2007-07-07T00:00:00\", \"number of commits\": 5}, {\"date\": \"2007-01-20T00:00:00\", \"number of commits\": 5}, {\"date\": \"2006-11-24T00:00:00\", \"number of commits\": 5}, {\"date\": \"2007-09-06T00:00:00\", \"number of commits\": 5}, {\"date\": \"2009-11-01T00:00:00\", \"number of commits\": 5}, {\"date\": \"2007-01-28T00:00:00\", \"number of commits\": 5}, {\"date\": \"2007-06-30T00:00:00\", \"number of commits\": 5}, {\"date\": \"2008-03-02T00:00:00\", \"number of commits\": 5}, {\"date\": \"2007-05-28T00:00:00\", \"number of commits\": 5}, {\"date\": \"2007-09-29T00:00:00\", \"number of commits\": 5}, {\"date\": \"2005-07-23T00:00:00\", \"number of commits\": 4}, {\"date\": \"2005-08-13T00:00:00\", \"number of commits\": 4}, {\"date\": \"2005-07-24T00:00:00\", \"number of commits\": 4}, {\"date\": \"2007-02-24T00:00:00\", \"number of commits\": 4}, {\"date\": \"2005-05-24T00:00:00\", \"number of commits\": 4}, {\"date\": \"2007-08-19T00:00:00\", \"number of commits\": 4}, {\"date\": \"2006-11-27T00:00:00\", \"number of commits\": 4}, {\"date\": \"2012-12-31T00:00:00\", \"number of commits\": 4}, {\"date\": \"2005-12-25T00:00:00\", \"number of commits\": 4}, {\"date\": \"2007-01-07T00:00:00\", \"number of commits\": 4}, {\"date\": \"2005-12-11T00:00:00\", \"number of commits\": 4}, {\"date\": \"2005-04-27T00:00:00\", \"number of commits\": 4}, {\"date\": \"2005-06-10T00:00:00\", \"number of commits\": 4}, {\"date\": \"2006-06-07T00:00:00\", \"number of commits\": 3}, {\"date\": \"2007-11-25T00:00:00\", \"number of commits\": 3}, {\"date\": \"2007-01-19T00:00:00\", \"number of commits\": 3}, {\"date\": \"2007-01-01T00:00:00\", \"number of commits\": 3}, {\"date\": \"2005-12-17T00:00:00\", \"number of commits\": 3}, {\"date\": \"2008-06-01T00:00:00\", \"number of commits\": 3}, {\"date\": \"2005-05-08T00:00:00\", \"number of commits\": 3}, {\"date\": \"2008-01-19T00:00:00\", \"number of commits\": 3}, {\"date\": \"2006-11-18T00:00:00\", \"number of commits\": 3}, {\"date\": \"2005-06-15T00:00:00\", \"number of commits\": 3}, {\"date\": \"2006-07-20T00:00:00\", \"number of commits\": 3}, {\"date\": \"2007-04-03T00:00:00\", \"number of commits\": 3}, {\"date\": \"2008-09-28T00:00:00\", \"number of commits\": 2}, {\"date\": \"2006-07-18T00:00:00\", \"number of commits\": 2}, {\"date\": \"2007-01-17T00:00:00\", \"number of commits\": 2}, {\"date\": \"2007-09-02T00:00:00\", \"number of commits\": 2}, {\"date\": \"2006-06-03T00:00:00\", \"number of commits\": 2}, {\"date\": \"2007-12-25T00:00:00\", \"number of commits\": 2}, {\"date\": \"2012-01-01T00:00:00\", \"number of commits\": 2}, {\"date\": \"2005-08-22T00:00:00\", \"number of commits\": 2}, {\"date\": \"2006-12-24T00:00:00\", \"number of commits\": 2}, {\"date\": \"2005-07-20T00:00:00\", \"number of commits\": 2}, {\"date\": \"2007-09-30T00:00:00\", \"number of commits\": 2}, {\"date\": \"2005-11-26T00:00:00\", \"number of commits\": 1}, {\"date\": \"2006-08-13T00:00:00\", \"number of commits\": 1}, {\"date\": \"2007-11-18T00:00:00\", \"number of commits\": 1}, {\"date\": \"2010-01-03T00:00:00\", \"number of commits\": 1}, {\"date\": \"2005-06-12T00:00:00\", \"number of commits\": 1}, {\"date\": \"2006-04-16T00:00:00\", \"number of commits\": 1}, {\"date\": \"2006-11-19T00:00:00\", \"number of commits\": 1}, {\"date\": \"2005-04-23T00:00:00\", \"number of commits\": 1}, {\"date\": \"2006-11-12T00:00:00\", \"number of commits\": 1}, {\"date\": \"2008-06-08T00:00:00\", \"number of commits\": 1}, {\"date\": \"2007-01-16T00:00:00\", \"number of commits\": 1}, {\"date\": \"2007-12-29T00:00:00\", \"number of commits\": 1}, {\"date\": \"2010-01-09T00:00:00\", \"number of commits\": 1}]}}, {\"mode\": \"vega-lite\"});\n",
       "</script>"
      ],
      "text/plain": [
       "alt.Chart(...)"
      ]
     },
     "execution_count": 541,
     "metadata": {},
     "output_type": "execute_result"
    }
   ],
   "source": [
    "alt.Chart(df5, width = 1200).mark_point().encode(x='date',y='number of commits')"
   ]
  },
  {
   "cell_type": "markdown",
   "id": "a3e0eb01-0297-4eb6-91ea-8217a2c9bcf2",
   "metadata": {},
   "source": [
    "The alternative chart types are line and bar"
   ]
  },
  {
   "cell_type": "markdown",
   "id": "dc219f43-5cd4-47d3-be1a-3516b8c3dfd8",
   "metadata": {},
   "source": [
    "---"
   ]
  },
  {
   "cell_type": "markdown",
   "id": "66e1f5f8-6c74-4671-b1b9-f0fb5ad8164c",
   "metadata": {},
   "source": [
    "### Question 6"
   ]
  },
  {
   "cell_type": "markdown",
   "id": "e617a3d5-6ff1-4930-a3a4-1652bc929bae",
   "metadata": {},
   "source": [
    "Number of commits per weekday"
   ]
  },
  {
   "cell_type": "markdown",
   "id": "8d1340c6-2ba8-4e2a-89af-313bd1d9a6b3",
   "metadata": {},
   "source": [
    "---"
   ]
  },
  {
   "cell_type": "markdown",
   "id": "f8721f0c-66d4-4f31-b411-187af1a47709",
   "metadata": {},
   "source": [
    "#### SQL Part"
   ]
  },
  {
   "cell_type": "markdown",
   "id": "eb4fc019-2d4d-4f8b-9390-e141fc999871",
   "metadata": {},
   "source": [
    "FORMAT_DATE using:"
   ]
  },
  {
   "cell_type": "code",
   "execution_count": null,
   "id": "f821393c-bbf6-4e9e-9418-b5a5f2ee6c82",
   "metadata": {},
   "outputs": [],
   "source": [
    "committer.date\n",
    "\"\"\"   \n",
    "    Row\t       date\n",
    "\n",
    "     1          2013-06-11 11:50:00 UTC\n",
    "     2          2014-07-21 16:11:40 UTC\n",
    "     3          2015-06-26 04:34:20 UTC\n",
    "     4          2015-06-26 04:39:59 UTC\n",
    "     5          2006-03-22 04:31:14 UTC\n",
    "\"\"\"\n",
    "    FORMAT_DATE('%A', committer.date)"
   ]
  },
  {
   "cell_type": "markdown",
   "id": "1ed72d0a-249c-43fd-8f7c-91d549d14fca",
   "metadata": {},
   "source": [
    " -> give us weekdays as day names"
   ]
  },
  {
   "cell_type": "code",
   "execution_count": null,
   "id": "c718740b-21e1-4280-9706-0b91dad28160",
   "metadata": {},
   "outputs": [],
   "source": [
    "\"\"\"\n",
    "    Row\t       date\n",
    "\n",
    "     1          Friday\n",
    "     2          Wednesday\n",
    "     3          Sunday\n",
    "    ...\n",
    "\"\"\""
   ]
  },
  {
   "cell_type": "markdown",
   "id": "f062ead7-89ec-4e22-a23b-9d540fb4be54",
   "metadata": {},
   "source": [
    "---"
   ]
  },
  {
   "cell_type": "code",
   "execution_count": null,
   "id": "259455c6-8b6d-4617-a86d-2fbf55ade4ca",
   "metadata": {},
   "outputs": [],
   "source": [
    "FORMAT_DATE('%d', committer.date) "
   ]
  },
  {
   "cell_type": "markdown",
   "id": "4f6345c1-20b4-440e-9e9c-159db0eaaa4e",
   "metadata": {},
   "source": [
    "-> give us days as numbers"
   ]
  },
  {
   "cell_type": "code",
   "execution_count": null,
   "id": "d3b8c8da-44da-4122-a853-d057a3d642c2",
   "metadata": {
    "tags": []
   },
   "outputs": [],
   "source": [
    "\"\"\"\n",
    "    Row\t       date\n",
    "\n",
    "     1          01\n",
    "     2          11\n",
    "     3          31\n",
    "    ...\n",
    "\"\"\"                    "
   ]
  },
  {
   "cell_type": "markdown",
   "id": "5595ce82-fb70-4215-a6ca-ce5f852792ab",
   "metadata": {},
   "source": [
    "---"
   ]
  },
  {
   "cell_type": "code",
   "execution_count": null,
   "id": "067b6ea6-e42e-471e-9996-9bbfd40ba1b4",
   "metadata": {},
   "outputs": [],
   "source": [
    "FORMAT_DATE('%B',committer.date) -> give us months as month names\n",
    "FORMAT_DATE('%m',committer.date) -> give us months as numbers\n",
    "\n",
    "FORMAT_DATE('%C') -> century??\n",
    "FORMAT_DATE('%y') -> give us years as numbers "
   ]
  },
  {
   "cell_type": "markdown",
   "id": "a5f9b0f3-1641-4ddb-b6a7-b829fccb8783",
   "metadata": {},
   "source": [
    "ex.\n",
    "'02' means '2002'\n",
    "\n",
    "to visualize it as full year: \n",
    "\n",
    "FORMAT_DATE('20%y') -> output is '2002'"
   ]
  },
  {
   "cell_type": "markdown",
   "id": "9053d3de-51b8-4bad-b02b-b79cdc4bff66",
   "metadata": {},
   "source": [
    "----"
   ]
  },
  {
   "cell_type": "markdown",
   "id": "ef4f9b82-82d0-4f96-96a7-58262dfd8619",
   "metadata": {},
   "source": [
    "#### Altair Part"
   ]
  },
  {
   "cell_type": "code",
   "execution_count": 505,
   "id": "36427308-9feb-4ad7-9cc5-9aba7dbafe8e",
   "metadata": {
    "tags": []
   },
   "outputs": [
    {
     "name": "stdout",
     "output_type": "stream",
     "text": [
      "RESULTS:\n",
      "_______\n",
      "\n",
      "Sunday -> 43072\n",
      "Saturday -> 44814\n",
      "Friday -> 112297\n",
      "Thursday -> 114669\n",
      "Monday -> 115061\n",
      "Wednesday -> 120722\n",
      "Tuesday -> 121674\n"
     ]
    }
   ],
   "source": [
    "query = \"\"\"\n",
    "SELECT\n",
    "    *\n",
    "FROM\n",
    "    bruin-hiring.cdt_selcukemreozer.q6\n",
    "\"\"\"\n",
    "\n",
    "query_job = client.query(query)\n",
    "results = query_job.result()\n",
    "\n",
    "x6 = list()\n",
    "y6 = list()\n",
    "\n",
    "print(\"RESULTS:\\n_______\\n\")\n",
    "\n",
    "for row in results:\n",
    "    x6.append(row[0])\n",
    "    y6.append(row[1])\n",
    "    print(row[0],'->',row[1])"
   ]
  },
  {
   "cell_type": "code",
   "execution_count": 512,
   "id": "d1f574e7-1203-4678-8e05-52ebdb4f5418",
   "metadata": {
    "tags": []
   },
   "outputs": [
    {
     "data": {
      "text/html": [
       "<div>\n",
       "<style scoped>\n",
       "    .dataframe tbody tr th:only-of-type {\n",
       "        vertical-align: middle;\n",
       "    }\n",
       "\n",
       "    .dataframe tbody tr th {\n",
       "        vertical-align: top;\n",
       "    }\n",
       "\n",
       "    .dataframe thead th {\n",
       "        text-align: right;\n",
       "    }\n",
       "</style>\n",
       "<table border=\"1\" class=\"dataframe\">\n",
       "  <thead>\n",
       "    <tr style=\"text-align: right;\">\n",
       "      <th></th>\n",
       "      <th>days</th>\n",
       "      <th>count</th>\n",
       "    </tr>\n",
       "  </thead>\n",
       "  <tbody>\n",
       "    <tr>\n",
       "      <th>0</th>\n",
       "      <td>Sunday</td>\n",
       "      <td>43072</td>\n",
       "    </tr>\n",
       "    <tr>\n",
       "      <th>1</th>\n",
       "      <td>Saturday</td>\n",
       "      <td>44814</td>\n",
       "    </tr>\n",
       "    <tr>\n",
       "      <th>2</th>\n",
       "      <td>Friday</td>\n",
       "      <td>112297</td>\n",
       "    </tr>\n",
       "    <tr>\n",
       "      <th>3</th>\n",
       "      <td>Thursday</td>\n",
       "      <td>114669</td>\n",
       "    </tr>\n",
       "    <tr>\n",
       "      <th>4</th>\n",
       "      <td>Monday</td>\n",
       "      <td>115061</td>\n",
       "    </tr>\n",
       "    <tr>\n",
       "      <th>5</th>\n",
       "      <td>Wednesday</td>\n",
       "      <td>120722</td>\n",
       "    </tr>\n",
       "    <tr>\n",
       "      <th>6</th>\n",
       "      <td>Tuesday</td>\n",
       "      <td>121674</td>\n",
       "    </tr>\n",
       "  </tbody>\n",
       "</table>\n",
       "</div>"
      ],
      "text/plain": [
       "        days   count\n",
       "0     Sunday   43072\n",
       "1   Saturday   44814\n",
       "2     Friday  112297\n",
       "3   Thursday  114669\n",
       "4     Monday  115061\n",
       "5  Wednesday  120722\n",
       "6    Tuesday  121674"
      ]
     },
     "execution_count": 512,
     "metadata": {},
     "output_type": "execute_result"
    }
   ],
   "source": [
    "\n",
    "df6 = pd.DataFrame({'days':x6,'count':y6})\n",
    "df6\n"
   ]
  },
  {
   "cell_type": "markdown",
   "id": "2fda9447-8e66-4461-a7d4-7629d9cc9925",
   "metadata": {},
   "source": [
    "In this dataset days are not ordered as weekdays. We should fix it in pandas."
   ]
  },
  {
   "cell_type": "code",
   "execution_count": 524,
   "id": "2db6614a-addc-413e-a4a3-6f40bc152d08",
   "metadata": {
    "tags": []
   },
   "outputs": [],
   "source": [
    "df6.index = df6['days']\n",
    "df6 = df6.loc[['Monday','Tuesday','Wednesday','Thursday','Friday','Saturday','Sunday']]"
   ]
  },
  {
   "cell_type": "markdown",
   "id": "ff337888-1676-4fa0-8297-5a3fd215088a",
   "metadata": {
    "tags": []
   },
   "source": [
    "To order days as weekdays\n",
    "df6 = df6.loc[['Monday','Tuesday',..."
   ]
  },
  {
   "cell_type": "code",
   "execution_count": 572,
   "id": "f3325457-eaac-4b01-ba0d-4eb2478da1a1",
   "metadata": {
    "tags": []
   },
   "outputs": [
    {
     "name": "stderr",
     "output_type": "stream",
     "text": [
      "/Users/selcu/opt/anaconda3/lib/python3.10/site-packages/altair/utils/core.py:395: FutureWarning: the convert_dtype parameter is deprecated and will be removed in a future version.  Do ``ser.astype(object).apply()`` instead if you want ``convert_dtype=False``.\n",
      "  col = df[col_name].apply(to_list_if_array, convert_dtype=False)\n"
     ]
    },
    {
     "data": {
      "text/html": [
       "\n",
       "<style>\n",
       "  #altair-viz-2f1dda39dce047cb80c1a12de6bd7bbf.vega-embed {\n",
       "    width: 100%;\n",
       "    display: flex;\n",
       "  }\n",
       "\n",
       "  #altair-viz-2f1dda39dce047cb80c1a12de6bd7bbf.vega-embed details,\n",
       "  #altair-viz-2f1dda39dce047cb80c1a12de6bd7bbf.vega-embed details summary {\n",
       "    position: relative;\n",
       "  }\n",
       "</style>\n",
       "<div id=\"altair-viz-2f1dda39dce047cb80c1a12de6bd7bbf\"></div>\n",
       "<script type=\"text/javascript\">\n",
       "  var VEGA_DEBUG = (typeof VEGA_DEBUG == \"undefined\") ? {} : VEGA_DEBUG;\n",
       "  (function(spec, embedOpt){\n",
       "    let outputDiv = document.currentScript.previousElementSibling;\n",
       "    if (outputDiv.id !== \"altair-viz-2f1dda39dce047cb80c1a12de6bd7bbf\") {\n",
       "      outputDiv = document.getElementById(\"altair-viz-2f1dda39dce047cb80c1a12de6bd7bbf\");\n",
       "    }\n",
       "    const paths = {\n",
       "      \"vega\": \"https://cdn.jsdelivr.net/npm/vega@5?noext\",\n",
       "      \"vega-lib\": \"https://cdn.jsdelivr.net/npm/vega-lib?noext\",\n",
       "      \"vega-lite\": \"https://cdn.jsdelivr.net/npm/vega-lite@5.8.0?noext\",\n",
       "      \"vega-embed\": \"https://cdn.jsdelivr.net/npm/vega-embed@6?noext\",\n",
       "    };\n",
       "\n",
       "    function maybeLoadScript(lib, version) {\n",
       "      var key = `${lib.replace(\"-\", \"\")}_version`;\n",
       "      return (VEGA_DEBUG[key] == version) ?\n",
       "        Promise.resolve(paths[lib]) :\n",
       "        new Promise(function(resolve, reject) {\n",
       "          var s = document.createElement('script');\n",
       "          document.getElementsByTagName(\"head\")[0].appendChild(s);\n",
       "          s.async = true;\n",
       "          s.onload = () => {\n",
       "            VEGA_DEBUG[key] = version;\n",
       "            return resolve(paths[lib]);\n",
       "          };\n",
       "          s.onerror = () => reject(`Error loading script: ${paths[lib]}`);\n",
       "          s.src = paths[lib];\n",
       "        });\n",
       "    }\n",
       "\n",
       "    function showError(err) {\n",
       "      outputDiv.innerHTML = `<div class=\"error\" style=\"color:red;\">${err}</div>`;\n",
       "      throw err;\n",
       "    }\n",
       "\n",
       "    function displayChart(vegaEmbed) {\n",
       "      vegaEmbed(outputDiv, spec, embedOpt)\n",
       "        .catch(err => showError(`Javascript Error: ${err.message}<br>This usually means there's a typo in your chart specification. See the javascript console for the full traceback.`));\n",
       "    }\n",
       "\n",
       "    if(typeof define === \"function\" && define.amd) {\n",
       "      requirejs.config({paths});\n",
       "      require([\"vega-embed\"], displayChart, err => showError(`Error loading script: ${err.message}`));\n",
       "    } else {\n",
       "      maybeLoadScript(\"vega\", \"5\")\n",
       "        .then(() => maybeLoadScript(\"vega-lite\", \"5.8.0\"))\n",
       "        .then(() => maybeLoadScript(\"vega-embed\", \"6\"))\n",
       "        .catch(showError)\n",
       "        .then(() => displayChart(vegaEmbed));\n",
       "    }\n",
       "  })({\"config\": {\"view\": {\"continuousWidth\": 300, \"continuousHeight\": 300}}, \"data\": {\"name\": \"data-fbb7f70218b4c9da263e90c4493418d7\"}, \"mark\": {\"type\": \"bar\"}, \"encoding\": {\"x\": {\"field\": \"days\", \"type\": \"nominal\"}, \"y\": {\"field\": \"count\", \"type\": \"quantitative\"}}, \"$schema\": \"https://vega.github.io/schema/vega-lite/v5.8.0.json\", \"datasets\": {\"data-fbb7f70218b4c9da263e90c4493418d7\": [{\"days\": \"Monday\", \"count\": 115061}, {\"days\": \"Tuesday\", \"count\": 121674}, {\"days\": \"Wednesday\", \"count\": 120722}, {\"days\": \"Thursday\", \"count\": 114669}, {\"days\": \"Friday\", \"count\": 112297}, {\"days\": \"Saturday\", \"count\": 44814}, {\"days\": \"Sunday\", \"count\": 43072}]}}, {\"mode\": \"vega-lite\"});\n",
       "</script>"
      ],
      "text/plain": [
       "alt.Chart(...)"
      ]
     },
     "execution_count": 572,
     "metadata": {},
     "output_type": "execute_result"
    }
   ],
   "source": [
    "alt.Chart(df6).mark_bar().encode(x=alt.X('days'),y=alt.Y('count'))"
   ]
  },
  {
   "cell_type": "markdown",
   "id": "077e0f55-743e-436c-accd-65183060c62e",
   "metadata": {},
   "source": [
    "To prevent, default alphabetical sort in Altair lib, You should use alt.X(x, sort = None)"
   ]
  },
  {
   "cell_type": "code",
   "execution_count": 532,
   "id": "e0827590-3d9e-4522-99c3-f84f149a78a2",
   "metadata": {
    "tags": []
   },
   "outputs": [
    {
     "name": "stderr",
     "output_type": "stream",
     "text": [
      "/Users/selcu/opt/anaconda3/lib/python3.10/site-packages/altair/utils/core.py:395: FutureWarning: the convert_dtype parameter is deprecated and will be removed in a future version.  Do ``ser.astype(object).apply()`` instead if you want ``convert_dtype=False``.\n",
      "  col = df[col_name].apply(to_list_if_array, convert_dtype=False)\n"
     ]
    },
    {
     "data": {
      "text/html": [
       "\n",
       "<style>\n",
       "  #altair-viz-71614cdd5b77455eb8ac7a9f3047444f.vega-embed {\n",
       "    width: 100%;\n",
       "    display: flex;\n",
       "  }\n",
       "\n",
       "  #altair-viz-71614cdd5b77455eb8ac7a9f3047444f.vega-embed details,\n",
       "  #altair-viz-71614cdd5b77455eb8ac7a9f3047444f.vega-embed details summary {\n",
       "    position: relative;\n",
       "  }\n",
       "</style>\n",
       "<div id=\"altair-viz-71614cdd5b77455eb8ac7a9f3047444f\"></div>\n",
       "<script type=\"text/javascript\">\n",
       "  var VEGA_DEBUG = (typeof VEGA_DEBUG == \"undefined\") ? {} : VEGA_DEBUG;\n",
       "  (function(spec, embedOpt){\n",
       "    let outputDiv = document.currentScript.previousElementSibling;\n",
       "    if (outputDiv.id !== \"altair-viz-71614cdd5b77455eb8ac7a9f3047444f\") {\n",
       "      outputDiv = document.getElementById(\"altair-viz-71614cdd5b77455eb8ac7a9f3047444f\");\n",
       "    }\n",
       "    const paths = {\n",
       "      \"vega\": \"https://cdn.jsdelivr.net/npm/vega@5?noext\",\n",
       "      \"vega-lib\": \"https://cdn.jsdelivr.net/npm/vega-lib?noext\",\n",
       "      \"vega-lite\": \"https://cdn.jsdelivr.net/npm/vega-lite@5.8.0?noext\",\n",
       "      \"vega-embed\": \"https://cdn.jsdelivr.net/npm/vega-embed@6?noext\",\n",
       "    };\n",
       "\n",
       "    function maybeLoadScript(lib, version) {\n",
       "      var key = `${lib.replace(\"-\", \"\")}_version`;\n",
       "      return (VEGA_DEBUG[key] == version) ?\n",
       "        Promise.resolve(paths[lib]) :\n",
       "        new Promise(function(resolve, reject) {\n",
       "          var s = document.createElement('script');\n",
       "          document.getElementsByTagName(\"head\")[0].appendChild(s);\n",
       "          s.async = true;\n",
       "          s.onload = () => {\n",
       "            VEGA_DEBUG[key] = version;\n",
       "            return resolve(paths[lib]);\n",
       "          };\n",
       "          s.onerror = () => reject(`Error loading script: ${paths[lib]}`);\n",
       "          s.src = paths[lib];\n",
       "        });\n",
       "    }\n",
       "\n",
       "    function showError(err) {\n",
       "      outputDiv.innerHTML = `<div class=\"error\" style=\"color:red;\">${err}</div>`;\n",
       "      throw err;\n",
       "    }\n",
       "\n",
       "    function displayChart(vegaEmbed) {\n",
       "      vegaEmbed(outputDiv, spec, embedOpt)\n",
       "        .catch(err => showError(`Javascript Error: ${err.message}<br>This usually means there's a typo in your chart specification. See the javascript console for the full traceback.`));\n",
       "    }\n",
       "\n",
       "    if(typeof define === \"function\" && define.amd) {\n",
       "      requirejs.config({paths});\n",
       "      require([\"vega-embed\"], displayChart, err => showError(`Error loading script: ${err.message}`));\n",
       "    } else {\n",
       "      maybeLoadScript(\"vega\", \"5\")\n",
       "        .then(() => maybeLoadScript(\"vega-lite\", \"5.8.0\"))\n",
       "        .then(() => maybeLoadScript(\"vega-embed\", \"6\"))\n",
       "        .catch(showError)\n",
       "        .then(() => displayChart(vegaEmbed));\n",
       "    }\n",
       "  })({\"config\": {\"view\": {\"continuousWidth\": 300, \"continuousHeight\": 300}}, \"data\": {\"name\": \"data-fbb7f70218b4c9da263e90c4493418d7\"}, \"mark\": {\"type\": \"bar\"}, \"encoding\": {\"x\": {\"field\": \"days\", \"sort\": null, \"type\": \"nominal\"}, \"y\": {\"field\": \"count\", \"type\": \"quantitative\"}}, \"$schema\": \"https://vega.github.io/schema/vega-lite/v5.8.0.json\", \"datasets\": {\"data-fbb7f70218b4c9da263e90c4493418d7\": [{\"days\": \"Monday\", \"count\": 115061}, {\"days\": \"Tuesday\", \"count\": 121674}, {\"days\": \"Wednesday\", \"count\": 120722}, {\"days\": \"Thursday\", \"count\": 114669}, {\"days\": \"Friday\", \"count\": 112297}, {\"days\": \"Saturday\", \"count\": 44814}, {\"days\": \"Sunday\", \"count\": 43072}]}}, {\"mode\": \"vega-lite\"});\n",
       "</script>"
      ],
      "text/plain": [
       "alt.Chart(...)"
      ]
     },
     "execution_count": 532,
     "metadata": {},
     "output_type": "execute_result"
    }
   ],
   "source": [
    "alt.Chart(df6).mark_bar().encode(x=alt.X('days',sort=None),y=alt.Y('count'))"
   ]
  },
  {
   "cell_type": "code",
   "execution_count": null,
   "id": "7ef055a4-09a4-4f39-80ab-b943410b05f7",
   "metadata": {},
   "outputs": [],
   "source": []
  }
 ],
 "metadata": {
  "kernelspec": {
   "display_name": "Python 3 (ipykernel)",
   "language": "python",
   "name": "python3"
  },
  "language_info": {
   "codemirror_mode": {
    "name": "ipython",
    "version": 3
   },
   "file_extension": ".py",
   "mimetype": "text/x-python",
   "name": "python",
   "nbconvert_exporter": "python",
   "pygments_lexer": "ipython3",
   "version": "3.10.13"
  }
 },
 "nbformat": 4,
 "nbformat_minor": 5
}
